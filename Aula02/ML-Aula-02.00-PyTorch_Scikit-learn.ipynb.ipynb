{
 "cells": [
  {
   "cell_type": "markdown",
   "id": "93de126e-f536-4cca-aa11-6a5ef8eb45aa",
   "metadata": {},
   "source": [
    "# PyTorch vs Scikit-learn"
   ]
  },
  {
   "cell_type": "markdown",
   "id": "b0bee05e-c141-45db-be77-633d6de72587",
   "metadata": {},
   "source": [
    "## 🟦 **Scikit-learn**\n",
    "\n",
    "O **Scikit-learn** é uma das bibliotecas mais populares para aprendizado de máquina (**machine learning**) em Python. Ela oferece uma ampla variedade de algoritmos supervisionados e não supervisionados, como regressão linear e árvores de decisão. \n",
    "\n",
    "Sua principal vantagem é a simplicidade e facilidade de uso, com uma **API** padronizada que permite **treinar modelos com poucas linhas de código**. Além disso, é ideal para trabalhar com **dados estruturados** e tarefas de **classificação**, **regressão** e **agrupamento**. \n",
    "\n",
    "O Scikit-learn é amplamente utilizado em projetos de análise de dados, ciência de dados e aplicações empresariais onde modelos simples e eficientes são suficientes."
   ]
  },
  {
   "cell_type": "markdown",
   "id": "e92123e6-deb5-4193-b3e7-dabbba696901",
   "metadata": {},
   "source": [
    "## 🟨 **PyTorch**"
   ]
  },
  {
   "cell_type": "markdown",
   "id": "b91442bc-5980-46fc-9288-4eaf4f03c878",
   "metadata": {},
   "source": [
    "O **PyTorch** é um framework de **deep learning** desenvolvido pelo Facebook (**Meta**), amplamente utilizado na indústria e academia para **construir e treinar redes neurais**. Ele se destaca por sua abordagem de execução dinâmica (**define-by-run**), o que permite maior flexibilidade e controle sobre o processo de modelagem, facilitando a depuração e experimentação. \n",
    "\n",
    "Com suporte nativo à **aceleração em GPU**, o PyTorch é ideal para lidar com **grandes volumes** de dados e modelos complexos. É a escolha preferida de pesquisadores e engenheiros que precisam implementar soluções avançadas de visão computacional, **processamento de linguagem natural (NLP)** e aprendizado profundo personalizado."
   ]
  },
  {
   "cell_type": "markdown",
   "id": "bf21e870-5de0-4fec-be5a-f483cc7cea25",
   "metadata": {},
   "source": [
    "# Comparativo "
   ]
  },
  {
   "cell_type": "markdown",
   "id": "51f14398-6e25-4225-ae57-cb2e32980d96",
   "metadata": {},
   "source": [
    "| Aspecto | **Scikit-learn** | **PyTorch** |\n",
    "|--------|------------------|-------------|\n",
    "| Tipo de aprendizado | Aprendizado supervisionado e não supervisionado (Machine Learning) | Deep Learning e computação tensorial |\n",
    "| Estrutura | APIs prontas e fixas | Arquiteturas flexíveis e customizáveis |\n",
    "| Gráficos de computação | Não há | Gráfico dinâmico (`define-by-run`) |\n",
    "| Autodiferação | Não suporta | Sim (via `autograd`) |\n",
    "| Execução em GPU | Não | Sim |\n",
    "| Complexidade | Baixa (ideal para iniciantes) | Média-alta (requer conhecimento de DL) |\n",
    "| Frameworks associados | Pandas, Matplotlib, Seaborn | TorchVision, TorchText, Fastai |\n",
    "| Desempenho em grandes dados | Adequado para datasets médios | Ideal para datasets grandes e modelos complexos |"
   ]
  },
  {
   "cell_type": "markdown",
   "id": "de5a5d9e-c606-46d5-b1d7-44bb4754f5dc",
   "metadata": {
    "jp-MarkdownHeadingCollapsed": true
   },
   "source": [
    "## 1. **Tipo de Aprendizado**"
   ]
  },
  {
   "cell_type": "markdown",
   "id": "940636c4-c877-47d8-a2f9-9f3a7a56dc2e",
   "metadata": {
    "jp-MarkdownHeadingCollapsed": true
   },
   "source": [
    "### 🔹 Scikit-learn\n",
    "\n",
    "- Foca em **machine learning clássico**\n",
    "- É ideal para problemas mais simples ou bem estruturados com poucas características e conjuntos de dados moderados.\n",
    "- Oferece um conjunto padronizado de métodos prontos para uso."
   ]
  },
  {
   "cell_type": "markdown",
   "id": "c522fed0-b898-435b-a9f1-50086b409513",
   "metadata": {},
   "source": [
    "### 🔹 PyTorch\n",
    "- Foca em **deep learning**\n",
    "- Permite criar e treinar modelos altamente personalizados.\n",
    "- Usado principalmente para tarefas complexas como reconhecimento de imagem, processamento de linguagem natural (NLP), geração de texto, etc.\n",
    "\n"
   ]
  },
  {
   "cell_type": "markdown",
   "id": "66b8667e-7468-4994-85dd-0c4077bbbf97",
   "metadata": {},
   "source": [
    "> ✅ **Conclusão:** Use **Scikit-learn** para ML tradicional; use **PyTorch** para deep learning avançado."
   ]
  },
  {
   "cell_type": "markdown",
   "id": "9e75d8cc-6466-41bf-b870-4f081f33bbc7",
   "metadata": {
    "jp-MarkdownHeadingCollapsed": true
   },
   "source": [
    "## 2. **Estrutura e Flexibilidade**"
   ]
  },
  {
   "cell_type": "markdown",
   "id": "59287c65-8b91-4853-a85d-614efd729c6f",
   "metadata": {},
   "source": [
    "### 🔹 Scikit-learn\n",
    "- Tem uma API padronizada e muito intuitiva.\n",
    "- Métodos como `.fit()`, `.predict()` e `.score()` são comuns a todos os modelos.\n",
    "- Pouca liberdade para modificar internamente os algoritmos."
   ]
  },
  {
   "cell_type": "markdown",
   "id": "8d931d44-1973-45d7-b375-d7fd6d7f5cc8",
   "metadata": {},
   "source": [
    "### 🔹 PyTorch\n",
    "- Totalmente **flexível**: você define as camadas, funções de ativação, otimizadores e até o loop de treinamento.\n",
    "- Permite implementar qualquer tipo de rede neural, incluindo arquiteturas personalizadas.\n",
    "- Ideal para pesquisas e projetos que exigem inovação na arquitetura do modelo."
   ]
  },
  {
   "cell_type": "markdown",
   "id": "d2479a3f-c2f3-49f5-bb4d-837d9a1334a5",
   "metadata": {},
   "source": [
    "> ✅ **Conclusão:** Enquanto o **Scikit-learn** oferece ferramentas prontas, o **PyTorch** permite construir modelos sob medida."
   ]
  },
  {
   "cell_type": "markdown",
   "id": "e617f2ce-b101-40e2-bea2-d43d266f659f",
   "metadata": {},
   "source": [
    "## 3. **Autodiferação (Cálculo de Gradientes)**"
   ]
  },
  {
   "cell_type": "markdown",
   "id": "d12cd05b-51a1-46e3-b116-f1b756d328f2",
   "metadata": {},
   "source": [
    "- Gradientes são vetores que indicam a direção e a taxa de maior crescimento de uma função.\n",
    "- Em machine learning e deep learning, os gradientes medem como pequenas mudanças nos parâmetros de um modelo afetam o valor da função de perda (erro).\n",
    "- Em outras palavras, eles mostram quanto e em qual direção devemos ajustar os pesos do modelo para minimizar esse erro.\n",
    "- Durante o treinamento de uma rede neural, o algoritmo usa o cálculo dos gradientes via **backpropagation** para atualizar automaticamente os pesos com base no erro cometido nas previsões.\n",
    "- Essa informação é essencial para que o modelo aprenda gradualmente a partir dos dados.\n",
    "- O conceito está profundamente ligado ao **cálculo diferencial**, já que os gradientes são basicamente derivadas parciais da função de perda em relação a cada peso do modelo ."
   ]
  },
  {
   "cell_type": "markdown",
   "id": "a88fbb93-0424-407f-9264-f6504dcd3519",
   "metadata": {},
   "source": [
    "### 🔹 Scikit-learn\n",
    "- Não possui mecanismos automáticos para calcular gradientes.\n",
    "- Os algoritmos já vêm com otimização embutida."
   ]
  },
  {
   "cell_type": "markdown",
   "id": "ab07c995-8e17-4239-8cbc-2f522a9ff7c7",
   "metadata": {},
   "source": [
    "### 🔹 PyTorch\n",
    "- Possui o módulo **`autograd`**, que rastreia operações feitas sobre tensores e calcula automaticamente os gradientes.\n",
    "- Essencial para o treinamento de redes neurais usando backpropagation."
   ]
  },
  {
   "cell_type": "markdown",
   "id": "4a4ba045-3920-447a-a3d6-0584b04360f2",
   "metadata": {},
   "source": [
    "#### Exemplo:"
   ]
  },
  {
   "cell_type": "code",
   "execution_count": 3,
   "id": "ef5efeda-fd46-4418-90d6-cb668d21d1fb",
   "metadata": {},
   "outputs": [
    {
     "name": "stdout",
     "output_type": "stream",
     "text": [
      "Gradiente de y = x² em x=2: 4.0\n"
     ]
    }
   ],
   "source": [
    "import torch\n",
    "\n",
    "# Definindo o tensor com requires_grad=True para calcular gradientes\n",
    "x = torch.tensor(2.0, requires_grad=True)\n",
    "\n",
    "# Definindo uma função simples: y = x^2\n",
    "y = x ** 2\n",
    "\n",
    "# Calculando gradientes usando backpropagation\n",
    "y.backward()\n",
    "\n",
    "# Imprimindo o gradiente de y em relação a x\n",
    "print(\"Gradiente de y = x² em x=2:\", x.grad.item())  # Resultado esperado: 4.0"
   ]
  },
  {
   "cell_type": "markdown",
   "id": "e28f5958-7eeb-420c-95a1-92a27c1976c4",
   "metadata": {},
   "source": [
    "#### Explicação"
   ]
  },
  {
   "cell_type": "markdown",
   "id": "cff02744-611e-4166-994a-6aeb968fd29e",
   "metadata": {},
   "source": [
    "✅ **Explicação:** Aqui, o PyTorch calcula automaticamente a derivada de `y = x²` em relação a `x`.\n",
    "\n",
    "✅ **Conclusão:** O **PyTorch** automatiza o cálculo de gradientes — algo fundamental para deep learning."
   ]
  },
  {
   "cell_type": "markdown",
   "id": "28e7ee71-b8a7-4b3e-b55e-a249b5da56a8",
   "metadata": {},
   "source": [
    "## 4. **Execução em GPU**"
   ]
  },
  {
   "cell_type": "markdown",
   "id": "243730c8-1bd4-41de-8ba1-561aa2370c80",
   "metadata": {},
   "source": [
    "### 🔹 Scikit-learn\n",
    "- **Não suporta** aceleração por GPU.\n",
    "- Todo o processamento é feito na CPU."
   ]
  },
  {
   "cell_type": "markdown",
   "id": "ea4b7798-e79c-43c4-b2ff-bae5c7555ff4",
   "metadata": {},
   "source": [
    "### 🔹 PyTorch\n",
    "- Suporte nativo à **execução em GPU (CUDA)**.\n",
    "- Permite mover modelos e dados entre CPU e GPU com facilidade.\n",
    "- Muito útil para lidar com grandes volumes de dados e modelos complexos."
   ]
  },
  {
   "cell_type": "markdown",
   "id": "79b17b45-b4e8-40a2-a973-d6109331c339",
   "metadata": {},
   "source": [
    "#### Exemplo: "
   ]
  },
  {
   "cell_type": "code",
   "execution_count": 8,
   "id": "26255d48-307c-4314-8e24-d547b127d506",
   "metadata": {},
   "outputs": [
    {
     "name": "stdout",
     "output_type": "stream",
     "text": [
      "Entrada:\n",
      "\t tensor([[ 0.0119, -0.1329,  1.0880, -0.8266, -1.2257, -0.4763,  0.6652, -0.2682,\n",
      "          0.5577,  1.1459]])\n",
      "Saída:\n",
      "\t tensor([[-0.0318]], grad_fn=<AddmmBackward0>)\n"
     ]
    }
   ],
   "source": [
    "import torch\n",
    "import torch.nn as nn\n",
    "\n",
    "# Definição de um modelo simples\n",
    "class SimpleModel(nn.Module):\n",
    "    def __init__(self):\n",
    "        super(SimpleModel, self).__init__()\n",
    "        self.linear = nn.Linear(10, 1)\n",
    "\n",
    "    def forward(self, x):\n",
    "        return self.linear(x)\n",
    "\n",
    "# Instanciando o modelo e criando dados aleatórios\n",
    "model = SimpleModel()\n",
    "data = torch.randn(1, 10)  # Um batch com 10 features\n",
    "\n",
    "# Escolher dispositivo\n",
    "device = torch.device(\"cuda\" if torch.cuda.is_available() else \"cpu\")\n",
    "\n",
    "# Mover modelo e dados para GPU (se disponível)\n",
    "model.to(device)\n",
    "data = data.to(device)\n",
    "\n",
    "# Fazer uma previsão\n",
    "output = model(data)\n",
    "\n",
    "\n",
    "print(\"Entrada:\\n\\t\", data)\n",
    "print(\"Saída:\\n\\t\", output)\n"
   ]
  },
  {
   "cell_type": "markdown",
   "id": "03668b34-71da-4f25-ace2-f8c8b5b7d79d",
   "metadata": {},
   "source": [
    "#### Explicação"
   ]
  },
  {
   "cell_type": "markdown",
   "id": "7397485e-8856-4d64-9b4f-4f0e14d7f5f2",
   "metadata": {},
   "source": [
    "- **super(...)** garante que o construtor da classe pai (nn.Module) também seja executado.\n",
    "\n",
    "-  **self.linear = nn.Linear(10, 1):**  \n",
    "    - Define uma camada linear (também chamada de fully connected).\n",
    "    - Recebe 10 valores como entrada e produz 1 valor como saída.\n",
    "    - Esta é uma rede neural extremamente simples: apenas uma camada.      \n",
    "      \n",
    "- O método **forward()** define como os dados fluem através do modelo.  \n",
    "    - Neste caso, os dados entram em x e passam diretamente pela camada linear.\n",
    "    - Este é o forward pass , ou seja, o processo de calcular uma saída com base na entrada.\n",
    "\n",
    "- **torch.randn(...)** gera números aleatórios com distribuição normal (média 0, desvio padrão 1).\n",
    "\n",
    "- Verifica se há suporte para **GPU** (CUDA) no sistema.\n",
    "    - Se houver GPU compatível, device será \"cuda\".\n",
    "    - Se não houver, ele usa \"cpu\" como fallback.\n",
    "\n",
    "- Os dados e o modelo devem estar no mesmo lugar (CPU ou GPU), senão ocorre erro.\n",
    "\n",
    "- A saída é um tensor com o resultado da operação realizada pelo modelo.\n",
    "\n",
    "- A entrada tinha 10 elementos e foi transformada em 1 valor. Os pesos são inicializados aleatoriamente.\n",
    "\n",
    "- nn.Linear(10, 1) é uma camada que transforma vetores de entrada com 10 características em 1 valor de saída , aplicando uma combinação linear dos valores de entrada com pesos aprendíveis durante o treinamento. "
   ]
  },
  {
   "cell_type": "markdown",
   "id": "8157aa32-6c2c-4faf-bace-98dbe0245f93",
   "metadata": {},
   "source": [
    "## 5. **Desempenho com Grandes Dados**"
   ]
  },
  {
   "cell_type": "markdown",
   "id": "3952ada5-dfa0-4adc-92bd-ae26bd4368a3",
   "metadata": {},
   "source": [
    "### 🔹 Scikit-learn\n",
    "- Bom desempenho com conjuntos de dados pequenos e médios.\n",
    "- Começa a ficar lento com datasets muito grandes ou modelos complexos."
   ]
  },
  {
   "cell_type": "markdown",
   "id": "bc6c71c8-ac13-4b93-90e6-9343d874c838",
   "metadata": {},
   "source": [
    "### 🔹 PyTorch\n",
    "- Excelente desempenho com grandes volumes de dados.\n",
    "- Pode escalar para datasets com milhões de amostras.\n",
    "- Aceleração via GPU melhora drasticamente o tempo de treinamento."
   ]
  },
  {
   "cell_type": "markdown",
   "id": "0ef91ad8-56e5-4c64-a9cd-86583da56910",
   "metadata": {},
   "source": [
    "## 6. **Exemplos de Aplicações Práticas**"
   ]
  },
  {
   "cell_type": "markdown",
   "id": "b1408f02-3894-43b1-bbd3-9ec0dc480a7b",
   "metadata": {},
   "source": [
    "| Aplicação | Biblioteca Recomendada |\n",
    "|----------|-------------------------|\n",
    "| Classificação de emails (spam/não-spam) | Scikit-learn |\n",
    "| Previsão de vendas com base em histórico | Scikit-learn |\n",
    "| Detecção de objetos em imagens | PyTorch |\n",
    "| Tradução automática de textos (NLP) | PyTorch |\n",
    "| Geração de texto (ex: chatbots) | PyTorch |\n",
    "| Análise de sentimentos em redes sociais | PyTorch |\n",
    "| Diagnóstico médico com imagens (raio-X, MRI) | PyTorch |"
   ]
  },
  {
   "cell_type": "markdown",
   "id": "9541e62a-8142-424e-8a87-80ff0a2398fd",
   "metadata": {},
   "source": [
    "## 7. Resumo "
   ]
  },
  {
   "cell_type": "markdown",
   "id": "1d722742-ddb7-49ba-88c9-0cbbca4c86d3",
   "metadata": {},
   "source": [
    "| Característica | Scikit-learn | PyTorch |\n",
    "|---------------|--------------|---------|\n",
    "| Tipo de modelagem | Machine Learning tradicional | Deep Learning |\n",
    "| Flexibilidade | Baixa | Alta |\n",
    "| Gráfico de computação | Estático/Sequencial | Dinâmico (define-by-run) |\n",
    "| Autograd | Não | Sim |\n",
    "| Suporte a GPU | Não | Sim |\n",
    "| Complexidade | Baixa | Alta |\n",
    "| Performance com grandes dados | Moderada | Alta |\n",
    "| Ideal para | Iniciantes, ML clássico | Pesquisa, deep learning avançado |"
   ]
  },
  {
   "cell_type": "markdown",
   "id": "5091e8db-6894-4d1a-8a79-e69162b77bf2",
   "metadata": {},
   "source": [
    "## 🚀 Conclusão"
   ]
  },
  {
   "cell_type": "markdown",
   "id": "8f5f5f0f-037d-4c92-b654-dcb4c1ecc726",
   "metadata": {},
   "source": [
    "- **Use Scikit-learn** quando:\n",
    "  - Você está começando no mundo do machine learning.\n",
    "  - Precisa resolver problemas clássicos de classificação, regressão ou agrupamento.\n",
    "  - Trabalhar com dados estruturados e de tamanho moderado.\n",
    "\n",
    "- **Use PyTorch** quando:\n",
    "  - Quiser explorar deep learning e redes neurais.\n",
    "  - Tiver acesso a GPU e desejar melhor desempenho.\n",
    "  - Precisar de flexibilidade para criar modelos personalizados.\n",
    "  - Estiver envolvido em pesquisa ou aplicações complexas (como visão computacional, NLP, geração de conteúdo)."
   ]
  }
 ],
 "metadata": {
  "kernelspec": {
   "display_name": "Python ML (venv)",
   "language": "python",
   "name": "machine_learning"
  },
  "language_info": {
   "codemirror_mode": {
    "name": "ipython",
    "version": 3
   },
   "file_extension": ".py",
   "mimetype": "text/x-python",
   "name": "python",
   "nbconvert_exporter": "python",
   "pygments_lexer": "ipython3",
   "version": "3.13.2"
  }
 },
 "nbformat": 4,
 "nbformat_minor": 5
}
