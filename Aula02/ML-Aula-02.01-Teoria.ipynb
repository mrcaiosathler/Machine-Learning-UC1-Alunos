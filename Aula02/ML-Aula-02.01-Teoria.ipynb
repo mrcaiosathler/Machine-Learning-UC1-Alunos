{
 "cells": [
  {
   "cell_type": "markdown",
   "id": "dc4ae5df-de5c-4348-aaf2-92803116dd53",
   "metadata": {},
   "source": [
    "# Aula 02 - Introdução ao PyTorch – Um Exemplo Prático"
   ]
  },
  {
   "cell_type": "markdown",
   "id": "a8e3372f-f967-40bc-ae18-94e8c5286ee3",
   "metadata": {},
   "source": [
    "## Objetivo da Aula"
   ]
  },
  {
   "cell_type": "markdown",
   "id": "467c6bd0-6af6-4b47-b1a7-c56ce2ac5c9b",
   "metadata": {},
   "source": [
    "Apresentar de forma simples e didática os conceitos utilizados na implementação de um modelo de **aprendizado de máquina** para prever se o feedback de um cliente foi \"Bom\" ou não.\n",
    "\n",
    "Nosso objetivo é criar um modelo que diga:  \n",
    "➡️ Dado o perfil do cliente, ele dará um feedback **bom** ou **não**?"
   ]
  },
  {
   "cell_type": "markdown",
   "id": "b414e24e-816f-490c-84b2-5db8c5c421a9",
   "metadata": {
    "jp-MarkdownHeadingCollapsed": true
   },
   "source": [
    "## 1. O Que É Machine Learning (Aprendizado de Máquina)?"
   ]
  },
  {
   "cell_type": "markdown",
   "id": "dcdfb0d5-c498-4d7e-8233-ecc57c98036f",
   "metadata": {},
   "source": [
    "**Machine Learning** é uma área da Inteligência Artificial que permite que computadores aprendam com dados. Em vez de programar regras explícitas, damos ao computador exemplos e ele descobre padrões sozinho.\n",
    "\n",
    "No nosso caso, queremos **prever** se o **feedback** de um cliente foi bom com base em algumas informações como idade, renda e nota do produto."
   ]
  },
  {
   "cell_type": "markdown",
   "id": "7f2a85b9-4356-429b-b638-eb5f08c39a14",
   "metadata": {
    "jp-MarkdownHeadingCollapsed": true
   },
   "source": [
    "## 2. Entendendo o Dataset"
   ]
  },
  {
   "cell_type": "markdown",
   "id": "5d637c35-1b54-413b-8aae-b330777eb72a",
   "metadata": {},
   "source": [
    "O arquivo `exemplo_dataset2.csv` contém dados sobre clientes. Cada linha representa um cliente, e as colunas podem incluir:\n",
    "\n",
    "- `idade`: Quantos anos o cliente tem.\n",
    "- `renda`: Quanto dinheiro o cliente ganha por mês.\n",
    "- `nota`: Nota dada pelo cliente ao produto.\n",
    "- `feedback`: Comentário do cliente (\"Bom\", \"Ruim\", etc.)"
   ]
  },
  {
   "cell_type": "markdown",
   "id": "feff51b4-0494-47fd-9b3f-4a74840f7744",
   "metadata": {
    "jp-MarkdownHeadingCollapsed": true
   },
   "source": [
    "## 3. Tratamento dos Dados"
   ]
  },
  {
   "cell_type": "markdown",
   "id": "94cb7406-c2b8-4016-932b-41004d447da2",
   "metadata": {},
   "source": [
    "### 3.1 Valores Ausentes"
   ]
  },
  {
   "cell_type": "markdown",
   "id": "a8934edd-d501-4bbe-8924-6baf825975f3",
   "metadata": {},
   "source": [
    "Às vezes, alguns dados estão faltando (`NaN`). Para resolver isso:\n",
    "\n",
    "- Preenchemos valores ausentes nas colunas numéricas (`idade`, `renda`, `nota`) com estatísticas (mediana ou média).\n",
    "- Na coluna `feedback`, colocamos `\"Desconhecido\"` quando falta informação."
   ]
  },
  {
   "cell_type": "markdown",
   "id": "8d91f169-65cd-423e-8e9d-92bec80100e4",
   "metadata": {},
   "source": [
    "### 3.2 Transformação do Alvo (Target)"
   ]
  },
  {
   "cell_type": "markdown",
   "id": "772bb954-c15f-47c0-ab6f-5e8ff08b986d",
   "metadata": {},
   "source": [
    "Como o nosso objetivo é  prever se o feedback foi \"Bom\", então criamos uma nova coluna chamada `feedback_Bom` que será preenchida da seguinte forma:\n",
    "\n",
    "- Se for \"Bom\", colocamos **1**\n",
    "- Se for outro valor, colocamos **0**\n",
    "\n",
    "Isso é chamado de **transformação binária**, ou seja, transformamos texto em números (0 e 1), que o computador entende melhor."
   ]
  },
  {
   "cell_type": "markdown",
   "id": "5d009beb-ba1c-433e-8bb9-bc3cff242296",
   "metadata": {
    "jp-MarkdownHeadingCollapsed": true
   },
   "source": [
    "## 4. Dividindo os Dados: Treino e Teste"
   ]
  },
  {
   "cell_type": "markdown",
   "id": "b8515ed3-b112-4887-8c7d-33f443060586",
   "metadata": {},
   "source": [
    "Para treinar e testar o modelo, dividimos os dados em duas partes:\n",
    "\n",
    "- **Treino (70%)**: usado para ensinar o modelo.\n",
    "- **Teste (30%)**: usado para verificar se o modelo está aprendendo bem.\n",
    "\n",
    "Essa divisão evita que o modelo \"chute\" respostas certas apenas porque viu os mesmos dados antes."
   ]
  },
  {
   "cell_type": "markdown",
   "id": "7b9be1f6-852f-44cb-b776-889051074a15",
   "metadata": {
    "jp-MarkdownHeadingCollapsed": true
   },
   "source": [
    "## 5. O Que É Deep Learning?"
   ]
  },
  {
   "cell_type": "markdown",
   "id": "3e9b8f46-d28b-4183-a8f8-14f1d76a6852",
   "metadata": {},
   "source": [
    "**Deep Learning** é uma técnica avançada de **Machine Learning** que usa **redes neurais artificiais**. Elas são inspiradas no cérebro humano e conseguem aprender relações complexas entre os dados.\n",
    "\n",
    "No exemplo prático, usamos uma rede neural simples com:\n",
    "- Uma **camada oculta** com 8 neurônios\n",
    "- Função de ativação **ReLU**\n",
    "- Uma saída final (**logit**) para prever se o feedback será bom ou não"
   ]
  },
  {
   "cell_type": "markdown",
   "id": "975900ca-7906-4ca4-84ff-5be78b2751c3",
   "metadata": {
    "jp-MarkdownHeadingCollapsed": true
   },
   "source": [
    "## 6. Como Funciona uma Rede Neural?"
   ]
  },
  {
   "cell_type": "markdown",
   "id": "f6bf682a-256f-4fcd-85b0-69d8d563b336",
   "metadata": {},
   "source": [
    "Uma rede neural processa os dados passo a passo:\n",
    "\n",
    "1. **Camada de entrada**: Recebe os dados (idade, renda, nota)\n",
    "2. **Camada oculta**: Faz cálculos internos com os dados\n",
    "3. **Ativação (ReLU)**: Decide quais informações seguir adiante\n",
    "4. **Camada de saída**: Gera um número (**logit**) que indica se o feedback provavelmente será bom ou não\n",
    "\n",
    "Depois, aplicamos a função **sigmoid** para transformar esse número em uma probabilidade (entre 0 e 1).  \n",
    "Se for maior que 0.5 → prevemos que o feedback será **bom**\n"
   ]
  },
  {
   "cell_type": "markdown",
   "id": "8e1137ca-1340-4dec-bd8a-4e9b82c09f50",
   "metadata": {
    "jp-MarkdownHeadingCollapsed": true
   },
   "source": [
    "## 7. Treinamento do Modelo"
   ]
  },
  {
   "cell_type": "markdown",
   "id": "117356c0-0d24-42dc-9777-f51625d696e4",
   "metadata": {},
   "source": [
    "### Etapas do Treinamento:\n",
    "1. **Forward Pass**: O modelo faz uma previsão com os dados de entrada.\n",
    "2. **Cálculo do Erro**: Medimos o quanto ele errou usando a **função de perda** (loss).\n",
    "   - Neste caso, usamos `BCEWithLogitsLoss` (Boa para classificação binária)\n",
    "3. **Backward Pass**: Corrigimos os pesos da rede para diminuir o erro.\n",
    "   - Usamos o otimizador **Adam**, que ajusta automaticamente esses pesos\n",
    "\n",
    "Repetimos esse processo várias vezes (**épocas**) até que o modelo aprenda bem."
   ]
  },
  {
   "cell_type": "markdown",
   "id": "e18620be-298b-4fe6-9c64-f00f2a4cec7d",
   "metadata": {
    "jp-MarkdownHeadingCollapsed": true
   },
   "source": [
    "## 8. Avaliação do Modelo"
   ]
  },
  {
   "cell_type": "markdown",
   "id": "4ca80d88-74de-4997-9ff8-1f43601aa7f3",
   "metadata": {},
   "source": [
    "Depois de treinar, testamos o modelo com os dados que ele **nunca viu antes** (conjunto de teste).\n",
    "\n",
    "Calculamos a **acurácia**, ou seja, quantas previsões foram corretas em relação ao total.\n",
    "\n",
    "Exemplo:\n",
    "- Se acertou 28 em 30 previsões → Acurácia = 93.33%"
   ]
  },
  {
   "cell_type": "markdown",
   "id": "c86d3f90-3c62-437d-83a4-7aa4757613dc",
   "metadata": {
    "jp-MarkdownHeadingCollapsed": true
   },
   "source": [
    "## 9. Resumo das Etapas do Projeto"
   ]
  },
  {
   "cell_type": "markdown",
   "id": "ebe0f2ad-5c81-4a52-b5fe-72dca5d79337",
   "metadata": {},
   "source": [
    "| Etapa | Descrição |\n",
    "|-------|-----------|\n",
    "| 1. Carregar dados | Ler o dataset CSV |\n",
    "| 2. Limpar dados | Preencher valores faltantes |\n",
    "| 3. Preparar alvo | Criar coluna binária `feedback_Bom` |\n",
    "| 4. Separar treino/teste | Dividir dados para validação |\n",
    "| 5. Criar rede neural | Definir arquitetura simples |\n",
    "| 6. Treinar modelo | Usar dados de treino para aprendizado |\n",
    "| 7. Testar modelo | Verificar desempenho nos dados de teste |"
   ]
  },
  {
   "cell_type": "markdown",
   "id": "7e1812b0-eece-4411-b67a-547076197437",
   "metadata": {
    "jp-MarkdownHeadingCollapsed": true
   },
   "source": [
    "## 10. Ferramentas Utilizadas"
   ]
  },
  {
   "cell_type": "markdown",
   "id": "58ccde5d-9e70-4844-a8cb-8d6a5ca16e4a",
   "metadata": {},
   "source": [
    "- **Pandas**: Manipulação de dados (ler CSV, limpar, criar novas colunas)\n",
    "- **NumPy**: Suporte matemático para operações com vetores\n",
    "- **Scikit-learn**: Divisão dos dados em treino e teste\n",
    "- **PyTorch**: Criação e treinamento da rede neural"
   ]
  },
  {
   "cell_type": "markdown",
   "id": "f3a709f2-e124-4f19-9a1d-956c9c2501c7",
   "metadata": {
    "jp-MarkdownHeadingCollapsed": true
   },
   "source": [
    "## 11. Glossário Simples"
   ]
  },
  {
   "cell_type": "markdown",
   "id": "d2e7539f-e14d-414a-853d-6975ad34587a",
   "metadata": {},
   "source": [
    "| Termo | Significado |\n",
    "|-------|-------------|\n",
    "| Feature | Informações de entrada (idade, renda, nota) |\n",
    "| Target | Resultado que queremos prever (feedback Bom ou Não) |\n",
    "| Tensor | Estrutura de dados usada no PyTorch (similar a listas ou arrays) |\n",
    "| Logit | Valor bruto da saída da rede antes da ativação final |\n",
    "| Epoch | Uma passagem completa pelos dados de treino |\n",
    "| Loss | Medida de erro do modelo |\n",
    "| Accuracy | Percentual de previsões corretas |"
   ]
  },
  {
   "cell_type": "markdown",
   "id": "acb9215b-10ea-4d1d-ae4e-7ebe38a07a9a",
   "metadata": {
    "jp-MarkdownHeadingCollapsed": true
   },
   "source": [
    "## 12. Conclusão"
   ]
  },
  {
   "cell_type": "markdown",
   "id": "eb8983c0-efba-4681-abb6-bc176228c2a7",
   "metadata": {},
   "source": [
    "Este projeto mostra como podemos usar técnicas de Deep Learning para fazer previsões com dados reais. Mesmo sendo um exemplo simples, ele cobre todas as etapas importantes de um projeto de Machine Learning:\n",
    "\n",
    "1. Limpeza e preparação dos dados  \n",
    "2. Escolha do modelo  \n",
    "3. Treinamento e ajuste  \n",
    "4. Avaliação do desempenho  \n"
   ]
  },
  {
   "cell_type": "code",
   "execution_count": null,
   "id": "d65d4be1-7ed4-4188-80cc-ad7077d0b219",
   "metadata": {},
   "outputs": [],
   "source": []
  }
 ],
 "metadata": {
  "kernelspec": {
   "display_name": "Python ML (venv)",
   "language": "python",
   "name": "machine_learning"
  },
  "language_info": {
   "codemirror_mode": {
    "name": "ipython",
    "version": 3
   },
   "file_extension": ".py",
   "mimetype": "text/x-python",
   "name": "python",
   "nbconvert_exporter": "python",
   "pygments_lexer": "ipython3",
   "version": "3.10.5"
  }
 },
 "nbformat": 4,
 "nbformat_minor": 5
}
