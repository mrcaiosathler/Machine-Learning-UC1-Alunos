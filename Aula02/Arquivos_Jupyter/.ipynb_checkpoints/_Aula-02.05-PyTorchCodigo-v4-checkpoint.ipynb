{
 "cells": [
  {
   "cell_type": "markdown",
   "id": "6c8a758c-3446-47f3-8da5-49ca0952a83e",
   "metadata": {},
   "source": [
    "# Aula 02 - Introdução ao PyTorch – Código"
   ]
  },
  {
   "cell_type": "markdown",
   "id": "9a8be615-b594-4a77-972d-d140c308c8c5",
   "metadata": {},
   "source": [
    "## ⭐️ Objetivo:\n",
    "- Introduzir um código pode ser usado como base para aprendizado de máquina, abordando desde o pré-processamento de dados até a construção e avaliação de um modelo de rede neural simples usando PyTorch.\n",
    "\n",
    "- Será apresentado o passo a passo de como carregar, preparar, treinar e avaliar um modelo de rede neural simples em Python utilizando as bibliotecas Pandas, NumPy, Scikit-learn e PyTorch."
   ]
  },
  {
   "cell_type": "markdown",
   "id": "bf42245e-af6e-4bbc-88f1-2c64f1105f29",
   "metadata": {},
   "source": [
    "## 🧰 Bibliotecas Utilizadas"
   ]
  },
  {
   "cell_type": "code",
   "execution_count": 1,
   "id": "934d1e30-b22f-4564-a7d4-838b80b6f27c",
   "metadata": {},
   "outputs": [],
   "source": [
    "import pandas as pd\n",
    "import numpy as np\n",
    "import torch\n",
    "import torch.nn as nn\n",
    "import torch.optim as optim\n",
    "from sklearn.model_selection import train_test_split\n",
    "import matplotlib.pyplot as plt\n",
    "import seaborn as sns"
   ]
  },
  {
   "cell_type": "markdown",
   "id": "7be34f02-b63c-47c0-8ad1-e589f38786dc",
   "metadata": {},
   "source": [
    "### 🔖 Explicação"
   ]
  },
  {
   "cell_type": "markdown",
   "id": "9e5ca5cf-b233-42af-aba5-426a7473e0ef",
   "metadata": {},
   "source": [
    "| Biblioteca | Finalidade |\n",
    "|-----------|------------|\n",
    "| `pandas` | Manipulação e análise de dados (carregar CSVs, tratar dados) |\n",
    "| `numpy` | Trabalho com arrays numéricos |\n",
    "| `torch` | Construção e treinamento de redes neurais |\n",
    "| `sklearn` | Divisão de conjuntos de treino/teste |"
   ]
  },
  {
   "cell_type": "markdown",
   "id": "e1aedef5-fdb9-454e-b32f-1b4a76bc1b89",
   "metadata": {},
   "source": [
    "## 1️⃣ Carregamento do Dataset"
   ]
  },
  {
   "cell_type": "code",
   "execution_count": 2,
   "id": "1991e448-ea77-458a-9c0f-7ace5dad9af1",
   "metadata": {},
   "outputs": [
    {
     "name": "stdout",
     "output_type": "stream",
     "text": [
      "<class 'pandas.core.frame.DataFrame'>\n",
      "RangeIndex: 1000 entries, 0 to 999\n",
      "Data columns (total 7 columns):\n",
      " #   Column     Non-Null Count  Dtype  \n",
      "---  ------     --------------  -----  \n",
      " 0   id         1000 non-null   int64  \n",
      " 1   idade      981 non-null    float64\n",
      " 2   renda      986 non-null    float64\n",
      " 3   cidade     993 non-null    object \n",
      " 4   categoria  990 non-null    object \n",
      " 5   nota       990 non-null    float64\n",
      " 6   feedback   985 non-null    object \n",
      "dtypes: float64(3), int64(1), object(3)\n",
      "memory usage: 54.8+ KB\n"
     ]
    }
   ],
   "source": [
    "df = pd.read_csv(\"dataset/dataset_sudeste_simples_realista_outliers-1k.csv\")\n",
    "\n",
    "df.info ()\n"
   ]
  },
  {
   "cell_type": "markdown",
   "id": "fcd8f75c-e198-4fbc-9257-c5bc51e5a732",
   "metadata": {},
   "source": [
    "### Explicação:"
   ]
  },
  {
   "cell_type": "markdown",
   "id": "703561e6-776a-4aed-8ed5-9289043d7ff2",
   "metadata": {},
   "source": [
    "- Carrega os dados de um arquivo `.csv` para dentro de um DataFrame (`df`) usando `pandas`.\n",
    "- O caminho `\"dataset/dataset_sudeste_simples_realista_outliers-1k.csv\"` deve apontar corretamente para o local onde o dataset está salvo."
   ]
  },
  {
   "cell_type": "markdown",
   "id": "d91b5490-9c89-4cd7-9353-af1b303ad135",
   "metadata": {},
   "source": [
    "### Dica:"
   ]
  },
  {
   "cell_type": "markdown",
   "id": "ec8bfbc7-26f0-486d-aa62-8c3ecb30ab3d",
   "metadata": {},
   "source": [
    "\n",
    "\n",
    "\n",
    "Use `df.head()` para visualizar as primeiras linhas do dataset."
   ]
  },
  {
   "cell_type": "markdown",
   "id": "b968e696-e04c-46ce-9ae4-26979ea8fb96",
   "metadata": {},
   "source": [
    "## 2️⃣ Criação da Coluna Alvo (`feedback_Bom`)"
   ]
  },
  {
   "cell_type": "markdown",
   "id": "a49689ea-e76f-4b87-8652-d90fa35f9535",
   "metadata": {},
   "source": [
    "##### 🐍 Código - Preenchendo os campos vazios"
   ]
  },
  {
   "cell_type": "code",
   "execution_count": 3,
   "id": "cc350e48-1c3d-4610-abe1-80c0de042f2e",
   "metadata": {},
   "outputs": [],
   "source": [
    "df['feedback'] = df['feedback'].fillna(\"Desconhecido\")"
   ]
  },
  {
   "cell_type": "markdown",
   "id": "c894d0a3",
   "metadata": {},
   "source": [
    "##### 🐍 Código - Criando a nova coluna\n",
    "\n",
    "- Contem o valor 1 quando o feebback for bom\n",
    "- Contem o valor 0 quando o feedback não for bom"
   ]
  },
  {
   "cell_type": "code",
   "execution_count": 5,
   "id": "2f2e15dd-50d8-4267-8cab-0a14619d8128",
   "metadata": {},
   "outputs": [],
   "source": [
    "df['feedback_Bom'] = (df['feedback'] == 'Bom').astype(int)"
   ]
  },
  {
   "cell_type": "markdown",
   "id": "1bbf642c",
   "metadata": {},
   "source": [
    "##### 🐍 Código - Exibindo as primeiras linhas"
   ]
  },
  {
   "cell_type": "code",
   "execution_count": 6,
   "id": "14d28d05-11e7-438e-8852-4aa81e5d970b",
   "metadata": {},
   "outputs": [
    {
     "data": {
      "text/html": [
       "<div>\n",
       "<style scoped>\n",
       "    .dataframe tbody tr th:only-of-type {\n",
       "        vertical-align: middle;\n",
       "    }\n",
       "\n",
       "    .dataframe tbody tr th {\n",
       "        vertical-align: top;\n",
       "    }\n",
       "\n",
       "    .dataframe thead th {\n",
       "        text-align: right;\n",
       "    }\n",
       "</style>\n",
       "<table border=\"1\" class=\"dataframe\">\n",
       "  <thead>\n",
       "    <tr style=\"text-align: right;\">\n",
       "      <th></th>\n",
       "      <th>id</th>\n",
       "      <th>idade</th>\n",
       "      <th>renda</th>\n",
       "      <th>cidade</th>\n",
       "      <th>categoria</th>\n",
       "      <th>nota</th>\n",
       "      <th>feedback</th>\n",
       "      <th>feedback_Bom</th>\n",
       "    </tr>\n",
       "  </thead>\n",
       "  <tbody>\n",
       "    <tr>\n",
       "      <th>0</th>\n",
       "      <td>1</td>\n",
       "      <td>36.0</td>\n",
       "      <td>7038.01</td>\n",
       "      <td>Rio de Janeiro</td>\n",
       "      <td>A</td>\n",
       "      <td>2.9</td>\n",
       "      <td>Bom</td>\n",
       "      <td>1</td>\n",
       "    </tr>\n",
       "    <tr>\n",
       "      <th>1</th>\n",
       "      <td>2</td>\n",
       "      <td>NaN</td>\n",
       "      <td>9306.04</td>\n",
       "      <td>Belo Horizonte</td>\n",
       "      <td>B</td>\n",
       "      <td>5.1</td>\n",
       "      <td>Regular</td>\n",
       "      <td>0</td>\n",
       "    </tr>\n",
       "    <tr>\n",
       "      <th>2</th>\n",
       "      <td>3</td>\n",
       "      <td>35.0</td>\n",
       "      <td>5148.47</td>\n",
       "      <td>Vitória</td>\n",
       "      <td>B</td>\n",
       "      <td>9.4</td>\n",
       "      <td>Ruim</td>\n",
       "      <td>0</td>\n",
       "    </tr>\n",
       "    <tr>\n",
       "      <th>3</th>\n",
       "      <td>4</td>\n",
       "      <td>16.0</td>\n",
       "      <td>12597.91</td>\n",
       "      <td>Belo Horizonte</td>\n",
       "      <td>B</td>\n",
       "      <td>1.8</td>\n",
       "      <td>Regular</td>\n",
       "      <td>0</td>\n",
       "    </tr>\n",
       "    <tr>\n",
       "      <th>4</th>\n",
       "      <td>5</td>\n",
       "      <td>41.0</td>\n",
       "      <td>11057.24</td>\n",
       "      <td>Vitória</td>\n",
       "      <td>B</td>\n",
       "      <td>0.3</td>\n",
       "      <td>Desconhecido</td>\n",
       "      <td>0</td>\n",
       "    </tr>\n",
       "  </tbody>\n",
       "</table>\n",
       "</div>"
      ],
      "text/plain": [
       "   id  idade     renda          cidade categoria  nota      feedback  \\\n",
       "0   1   36.0   7038.01  Rio de Janeiro         A   2.9           Bom   \n",
       "1   2    NaN   9306.04  Belo Horizonte         B   5.1       Regular   \n",
       "2   3   35.0   5148.47         Vitória         B   9.4          Ruim   \n",
       "3   4   16.0  12597.91  Belo Horizonte         B   1.8       Regular   \n",
       "4   5   41.0  11057.24         Vitória         B   0.3  Desconhecido   \n",
       "\n",
       "   feedback_Bom  \n",
       "0             1  \n",
       "1             0  \n",
       "2             0  \n",
       "3             0  \n",
       "4             0  "
      ]
     },
     "execution_count": 6,
     "metadata": {},
     "output_type": "execute_result"
    }
   ],
   "source": [
    "df.head(5)"
   ]
  },
  {
   "cell_type": "markdown",
   "id": "9e4ec07d-e6b9-42b8-a0be-a9decb03bb38",
   "metadata": {},
   "source": [
    "##### 🔖 Explicações"
   ]
  },
  {
   "cell_type": "markdown",
   "id": "f3853cb9-9b20-4b73-a89a-419f01bc92d5",
   "metadata": {},
   "source": [
    "- Cria uma nova coluna chamada `feedback_Bom`.\n",
    "- Transforma a variável categórica `'feedback'` (valores como `'Bom'`, `'Ruim'`, etc.) em uma variável binária:\n",
    "  - `1` se for `'Bom'`\n",
    "  - `0` caso contrário- Cria uma nova coluna chamada `feedback_Bom`. "
   ]
  },
  {
   "cell_type": "markdown",
   "id": "b933b07c-25eb-4744-aa44-404af49055b7",
   "metadata": {},
   "source": [
    "##### 🚨 Por que isso é necessário?"
   ]
  },
  {
   "cell_type": "markdown",
   "id": "9dcfe353-63db-4320-964f-f055229f473e",
   "metadata": {},
   "source": [
    "- Modelos de classificação binária trabalham com saídas numéricas (geralmente 0 ou 1). \n",
    "- Essa transformação prepara o target para o modelo."
   ]
  },
  {
   "cell_type": "markdown",
   "id": "e80e22fa-0e7b-4f11-ae7b-0b5ed9e92415",
   "metadata": {},
   "source": [
    "## 3️⃣ Tratamento de Valores Ausentes"
   ]
  },
  {
   "cell_type": "markdown",
   "id": "230eb862-0462-417e-94d8-9572f0ae0680",
   "metadata": {},
   "source": [
    "##### 🐍 Código - Preparando o dataset\n",
    "\n",
    "-  Imputando valores no campos vazios (NaN)"
   ]
  },
  {
   "cell_type": "code",
   "execution_count": 7,
   "id": "3ae100fa-d8b4-4495-9ac4-996a429204c7",
   "metadata": {},
   "outputs": [],
   "source": [
    "df['cidade'] = df['cidade'].fillna(\"Desconhecido\")\n",
    "df['categoria'] = df['categoria'].fillna(\"Desconhecido\")\n",
    "df['idade'] = df['idade'].fillna(df['idade'].median())\n",
    "df['renda'] = df['renda'].fillna(df['renda'].mean())\n",
    "df['nota']  = df['nota'].fillna(df['nota'].median())"
   ]
  },
  {
   "cell_type": "markdown",
   "id": "74d0463e",
   "metadata": {},
   "source": [
    "##### 🐍 Código - Imprimindo as informações do dataset\n"
   ]
  },
  {
   "cell_type": "code",
   "execution_count": 8,
   "id": "27783703-40b0-4b42-abeb-c3fbf5cb71f1",
   "metadata": {},
   "outputs": [
    {
     "name": "stdout",
     "output_type": "stream",
     "text": [
      "<class 'pandas.core.frame.DataFrame'>\n",
      "RangeIndex: 1000 entries, 0 to 999\n",
      "Data columns (total 8 columns):\n",
      " #   Column        Non-Null Count  Dtype  \n",
      "---  ------        --------------  -----  \n",
      " 0   id            1000 non-null   int64  \n",
      " 1   idade         1000 non-null   float64\n",
      " 2   renda         1000 non-null   float64\n",
      " 3   cidade        1000 non-null   object \n",
      " 4   categoria     1000 non-null   object \n",
      " 5   nota          1000 non-null   float64\n",
      " 6   feedback      1000 non-null   object \n",
      " 7   feedback_Bom  1000 non-null   int64  \n",
      "dtypes: float64(3), int64(2), object(3)\n",
      "memory usage: 62.6+ KB\n"
     ]
    }
   ],
   "source": [
    "df.info()"
   ]
  },
  {
   "cell_type": "code",
   "execution_count": 9,
   "id": "e4f7cbad-88b6-46bc-88fb-87aa4468c3d6",
   "metadata": {},
   "outputs": [
    {
     "data": {
      "text/plain": [
       "id              0\n",
       "idade           0\n",
       "renda           0\n",
       "cidade          0\n",
       "categoria       0\n",
       "nota            0\n",
       "feedback        0\n",
       "feedback_Bom    0\n",
       "dtype: int64"
      ]
     },
     "execution_count": 9,
     "metadata": {},
     "output_type": "execute_result"
    }
   ],
   "source": [
    "df.isnull().sum()"
   ]
  },
  {
   "cell_type": "markdown",
   "id": "9b7ee2fb-23b4-49e4-ac3e-6031e2d7d4b8",
   "metadata": {},
   "source": [
    "##### 🔖 Explicações"
   ]
  },
  {
   "cell_type": "markdown",
   "id": "2c43d453-6ca5-40df-b9d3-59482fe902d8",
   "metadata": {},
   "source": [
    "- Preenche valores ausentes (`NaN`) com estratégias diferentes por tipo:\n",
    "  - Para texto preenche com `\"Desconhecido\"`\n",
    "    - Cidade \n",
    "    - Categoria\n",
    "  - Para números:\n",
    "    - `idade`: mediana\n",
    "    - `renda`: média\n",
    "    - `nota`: mediana"
   ]
  },
  {
   "cell_type": "markdown",
   "id": "0a498888-4dfb-427e-a038-1439dd4ba9fd",
   "metadata": {},
   "source": [
    "##### 🚨 Por que tratar valores faltantes?"
   ]
  },
  {
   "cell_type": "markdown",
   "id": "07cbc676-46ca-4969-94c1-90a6edb69698",
   "metadata": {},
   "source": [
    "- Algoritmos de machine learning geralmente não lidam bem com dados faltantes. \n",
    "- É necessário tratá-los antes do treinamento."
   ]
  },
  {
   "cell_type": "markdown",
   "id": "dc93ed40-4ab5-4eab-9414-6ca628c06d8f",
   "metadata": {},
   "source": [
    "### 3.1 Salvando o dataset"
   ]
  },
  {
   "cell_type": "code",
   "execution_count": 10,
   "id": "918348c8-dca1-4311-a7f1-dcc6cb83ecd5",
   "metadata": {},
   "outputs": [],
   "source": [
    "df.to_csv(\"dataset-fase1/dataset_sudeste_simples_realista_outliers-1k-pytorch.csv\", index=False)"
   ]
  },
  {
   "cell_type": "markdown",
   "id": "ed5c20d8-b1b0-4706-8aa0-3ef78c296380",
   "metadata": {},
   "source": [
    "## 4️⃣ Separação entre Features e Target + Divisão Treino/Teste"
   ]
  },
  {
   "cell_type": "markdown",
   "id": "07bd18df-b70c-4328-86d4-73ebe2f2e348",
   "metadata": {},
   "source": [
    "##### 🐍 Código"
   ]
  },
  {
   "cell_type": "code",
   "execution_count": 11,
   "id": "97179384-bfa6-4bc0-a2eb-635e8491c022",
   "metadata": {},
   "outputs": [],
   "source": [
    "features = df[['idade', 'renda', 'nota']]\n",
    "target   = df['feedback_Bom']\n",
    "\n",
    "X_train, X_test, y_train, y_test = train_test_split(features, target, \n",
    "                                                    test_size=0.3, random_state=42)"
   ]
  },
  {
   "cell_type": "code",
   "execution_count": 12,
   "id": "b33bccfe-e9b4-49ba-a6ce-3dbd3ee8a05a",
   "metadata": {},
   "outputs": [
    {
     "data": {
      "text/html": [
       "<div>\n",
       "<style scoped>\n",
       "    .dataframe tbody tr th:only-of-type {\n",
       "        vertical-align: middle;\n",
       "    }\n",
       "\n",
       "    .dataframe tbody tr th {\n",
       "        vertical-align: top;\n",
       "    }\n",
       "\n",
       "    .dataframe thead th {\n",
       "        text-align: right;\n",
       "    }\n",
       "</style>\n",
       "<table border=\"1\" class=\"dataframe\">\n",
       "  <thead>\n",
       "    <tr style=\"text-align: right;\">\n",
       "      <th></th>\n",
       "      <th>idade</th>\n",
       "      <th>renda</th>\n",
       "      <th>nota</th>\n",
       "    </tr>\n",
       "  </thead>\n",
       "  <tbody>\n",
       "    <tr>\n",
       "      <th>0</th>\n",
       "      <td>36.0</td>\n",
       "      <td>7038.01</td>\n",
       "      <td>2.9</td>\n",
       "    </tr>\n",
       "    <tr>\n",
       "      <th>1</th>\n",
       "      <td>42.0</td>\n",
       "      <td>9306.04</td>\n",
       "      <td>5.1</td>\n",
       "    </tr>\n",
       "    <tr>\n",
       "      <th>2</th>\n",
       "      <td>35.0</td>\n",
       "      <td>5148.47</td>\n",
       "      <td>9.4</td>\n",
       "    </tr>\n",
       "    <tr>\n",
       "      <th>3</th>\n",
       "      <td>16.0</td>\n",
       "      <td>12597.91</td>\n",
       "      <td>1.8</td>\n",
       "    </tr>\n",
       "    <tr>\n",
       "      <th>4</th>\n",
       "      <td>41.0</td>\n",
       "      <td>11057.24</td>\n",
       "      <td>0.3</td>\n",
       "    </tr>\n",
       "  </tbody>\n",
       "</table>\n",
       "</div>"
      ],
      "text/plain": [
       "   idade     renda  nota\n",
       "0   36.0   7038.01   2.9\n",
       "1   42.0   9306.04   5.1\n",
       "2   35.0   5148.47   9.4\n",
       "3   16.0  12597.91   1.8\n",
       "4   41.0  11057.24   0.3"
      ]
     },
     "execution_count": 12,
     "metadata": {},
     "output_type": "execute_result"
    }
   ],
   "source": [
    "features.head(5)"
   ]
  },
  {
   "cell_type": "code",
   "execution_count": 13,
   "id": "d577d948-b312-407f-9313-0cc36251dce7",
   "metadata": {},
   "outputs": [
    {
     "data": {
      "text/plain": [
       "0    1\n",
       "1    0\n",
       "2    0\n",
       "3    0\n",
       "4    0\n",
       "Name: feedback_Bom, dtype: int64"
      ]
     },
     "execution_count": 13,
     "metadata": {},
     "output_type": "execute_result"
    }
   ],
   "source": [
    "target.head(5)"
   ]
  },
  {
   "cell_type": "code",
   "execution_count": 14,
   "id": "79696a1b-1353-42ec-ae43-f214bbae3c87",
   "metadata": {},
   "outputs": [
    {
     "data": {
      "text/html": [
       "<div>\n",
       "<style scoped>\n",
       "    .dataframe tbody tr th:only-of-type {\n",
       "        vertical-align: middle;\n",
       "    }\n",
       "\n",
       "    .dataframe tbody tr th {\n",
       "        vertical-align: top;\n",
       "    }\n",
       "\n",
       "    .dataframe thead th {\n",
       "        text-align: right;\n",
       "    }\n",
       "</style>\n",
       "<table border=\"1\" class=\"dataframe\">\n",
       "  <thead>\n",
       "    <tr style=\"text-align: right;\">\n",
       "      <th></th>\n",
       "      <th>idade</th>\n",
       "      <th>renda</th>\n",
       "      <th>nota</th>\n",
       "    </tr>\n",
       "  </thead>\n",
       "  <tbody>\n",
       "    <tr>\n",
       "      <th>541</th>\n",
       "      <td>38.0</td>\n",
       "      <td>4455.31</td>\n",
       "      <td>4.8</td>\n",
       "    </tr>\n",
       "    <tr>\n",
       "      <th>440</th>\n",
       "      <td>70.0</td>\n",
       "      <td>8794.35</td>\n",
       "      <td>2.9</td>\n",
       "    </tr>\n",
       "    <tr>\n",
       "      <th>482</th>\n",
       "      <td>59.0</td>\n",
       "      <td>11120.76</td>\n",
       "      <td>2.4</td>\n",
       "    </tr>\n",
       "    <tr>\n",
       "      <th>422</th>\n",
       "      <td>67.0</td>\n",
       "      <td>6359.18</td>\n",
       "      <td>1.5</td>\n",
       "    </tr>\n",
       "    <tr>\n",
       "      <th>778</th>\n",
       "      <td>36.0</td>\n",
       "      <td>9667.07</td>\n",
       "      <td>2.0</td>\n",
       "    </tr>\n",
       "  </tbody>\n",
       "</table>\n",
       "</div>"
      ],
      "text/plain": [
       "     idade     renda  nota\n",
       "541   38.0   4455.31   4.8\n",
       "440   70.0   8794.35   2.9\n",
       "482   59.0  11120.76   2.4\n",
       "422   67.0   6359.18   1.5\n",
       "778   36.0   9667.07   2.0"
      ]
     },
     "execution_count": 14,
     "metadata": {},
     "output_type": "execute_result"
    }
   ],
   "source": [
    "X_train.head(5)"
   ]
  },
  {
   "cell_type": "code",
   "execution_count": 18,
   "id": "0b9fb1f2-927d-46fa-9e0d-183ac68fd934",
   "metadata": {},
   "outputs": [
    {
     "data": {
      "text/plain": [
       "541    0\n",
       "440    0\n",
       "482    0\n",
       "422    0\n",
       "778    0\n",
       "Name: feedback_Bom, dtype: int64"
      ]
     },
     "execution_count": 18,
     "metadata": {},
     "output_type": "execute_result"
    }
   ],
   "source": [
    "y_train.head(5)"
   ]
  },
  {
   "cell_type": "code",
   "execution_count": 19,
   "id": "84fd321f-cc65-4e27-9da3-271cb41a3083",
   "metadata": {},
   "outputs": [
    {
     "data": {
      "text/html": [
       "<div>\n",
       "<style scoped>\n",
       "    .dataframe tbody tr th:only-of-type {\n",
       "        vertical-align: middle;\n",
       "    }\n",
       "\n",
       "    .dataframe tbody tr th {\n",
       "        vertical-align: top;\n",
       "    }\n",
       "\n",
       "    .dataframe thead th {\n",
       "        text-align: right;\n",
       "    }\n",
       "</style>\n",
       "<table border=\"1\" class=\"dataframe\">\n",
       "  <thead>\n",
       "    <tr style=\"text-align: right;\">\n",
       "      <th></th>\n",
       "      <th>idade</th>\n",
       "      <th>renda</th>\n",
       "      <th>nota</th>\n",
       "    </tr>\n",
       "  </thead>\n",
       "  <tbody>\n",
       "    <tr>\n",
       "      <th>521</th>\n",
       "      <td>50.0</td>\n",
       "      <td>7679.77</td>\n",
       "      <td>6.8</td>\n",
       "    </tr>\n",
       "    <tr>\n",
       "      <th>737</th>\n",
       "      <td>34.0</td>\n",
       "      <td>6719.04</td>\n",
       "      <td>9.6</td>\n",
       "    </tr>\n",
       "    <tr>\n",
       "      <th>740</th>\n",
       "      <td>16.0</td>\n",
       "      <td>2870.48</td>\n",
       "      <td>7.5</td>\n",
       "    </tr>\n",
       "    <tr>\n",
       "      <th>660</th>\n",
       "      <td>52.0</td>\n",
       "      <td>10804.37</td>\n",
       "      <td>4.6</td>\n",
       "    </tr>\n",
       "    <tr>\n",
       "      <th>411</th>\n",
       "      <td>68.0</td>\n",
       "      <td>3645.57</td>\n",
       "      <td>4.7</td>\n",
       "    </tr>\n",
       "  </tbody>\n",
       "</table>\n",
       "</div>"
      ],
      "text/plain": [
       "     idade     renda  nota\n",
       "521   50.0   7679.77   6.8\n",
       "737   34.0   6719.04   9.6\n",
       "740   16.0   2870.48   7.5\n",
       "660   52.0  10804.37   4.6\n",
       "411   68.0   3645.57   4.7"
      ]
     },
     "execution_count": 19,
     "metadata": {},
     "output_type": "execute_result"
    }
   ],
   "source": [
    "X_test.head(5)"
   ]
  },
  {
   "cell_type": "code",
   "execution_count": 20,
   "id": "2933e63c-4f00-4044-9a1a-ea383a5f1ed5",
   "metadata": {},
   "outputs": [
    {
     "data": {
      "text/plain": [
       "521    0\n",
       "737    0\n",
       "740    0\n",
       "660    0\n",
       "411    0\n",
       "Name: feedback_Bom, dtype: int64"
      ]
     },
     "execution_count": 20,
     "metadata": {},
     "output_type": "execute_result"
    }
   ],
   "source": [
    "y_test.head(5)"
   ]
  },
  {
   "cell_type": "markdown",
   "id": "bd961c3f-eb17-4e92-bb57-8ac6d502bd9e",
   "metadata": {},
   "source": [
    "##### 🔖 Explicações"
   ]
  },
  {
   "cell_type": "markdown",
   "id": "ef2ea214-bf44-47a4-8313-3995789c076a",
   "metadata": {},
   "source": [
    "- Usar apenas as colunas numéricas \"idade\", \"renda\", \"nota\" como features\n",
    "- `features`: são as variáveis explicativas (entradas do modelo)\n",
    "- `target`: é o valor a ser previsto (saída do modelo)\n",
    "- `test_size=0.3`: define proporção de dados para teste.\n",
    "- Usa-se `train_test_split` para dividir os dados em:\n",
    "  - **70% para treino**\n",
    "  - **30% para teste**\n",
    "  - Um para treinamento do modelo (X_train, y_train)\n",
    "  - Outro para teste do modelo (X_test, y_test)\n",
    "- Essa divisão é feita aleatoriamente , mas usando `random_state=42`, garantimos que sempre que executarmos o código, a divisão será a mesma.\n",
    "\n",
    "\n",
    "**Dica**\n",
    "- Se você omitir o parâmetro `test_size`, o padrão será **0.25**.\n",
    "- Mas é recomendado definir explicitamente para manter controle sobre a proporção.\n",
    "\n",
    "**Depois da divisão**\n",
    "- `X_train`: [70% das linhas, colunas: idade, renda, nota]\n",
    "- `y_train`: [70% das linhas, coluna: feedback_Bom]\n",
    "\n",
    "- `X_test`:  [30% das linhas, colunas: idade, renda, nota]\n",
    "- `y_test`:  [30% das linhas, coluna: feedback_Bom]"
   ]
  },
  {
   "cell_type": "markdown",
   "id": "6c546213-27c6-4d65-a353-43b407ed5a57",
   "metadata": {},
   "source": [
    "## 5️⃣ Conversão para Tensores PyTorch"
   ]
  },
  {
   "cell_type": "markdown",
   "id": "6d69bf84-acf6-45a1-bb09-c6646c7c7581",
   "metadata": {},
   "source": [
    "##### 🐍 Código"
   ]
  },
  {
   "cell_type": "code",
   "execution_count": 15,
   "id": "ac78bfff-e230-40d1-a17f-67fdc853369a",
   "metadata": {},
   "outputs": [],
   "source": [
    "X_train_t = torch.tensor(X_train.values, dtype=torch.float32)\n",
    "y_train_t = torch.tensor(y_train.values, dtype=torch.float32).view(-1, 1)\n",
    "\n",
    "X_test_t = torch.tensor(X_test.values, dtype=torch.float32)\n",
    "y_test_t = torch.tensor(y_test.values, dtype=torch.float32).view(-1, 1)"
   ]
  },
  {
   "cell_type": "markdown",
   "id": "afdaf70b-a5e1-465d-a1d0-e85f746ce460",
   "metadata": {},
   "source": [
    "##### 🔖 Explicações"
   ]
  },
  {
   "cell_type": "markdown",
   "id": "ae8d775c-304a-4eac-aedf-f041113ad931",
   "metadata": {},
   "source": [
    "Esse bloco de código converte os dados em formato NumPy (ou arrays) para tensores do PyTorch , que são necessários para trabalhar com modelos criados no PyTorch.\n",
    "\n",
    "**Parte 1: X_train.values**\n",
    "- X_train é um DataFrame do Pandas com as features (ex: idade, renda, nota).\n",
    "- .values extrai apenas os valores numéricos como um array NumPy.\n",
    "\n",
    "**Parte 2: torch.tensor(...)**\n",
    "- Cria um tensor do PyTorch a partir do array NumPy.\n",
    "- Um tensor é a estrutura básica usada no PyTorch para representar dados e realizar operações matemáticas.\n",
    "\n",
    "**Parte 3: dtype=torch.float32**\n",
    "- Define o tipo de dado do tensor como float32 .\n",
    "- Por padrão, o PyTorch usa float32, mas é bom especificar para garantir compatibilidade com modelos e operações.\n",
    "\n",
    "  \n",
    "**Parte 4: .view(-1, 1)**\n",
    "- Apenas usado em y_train e y_test.\n",
    "- Transforma um vetor 1D (ex: [1, 0, 1]) em uma matriz coluna 2D (ex: [[1], [0], [1]]).\n",
    "- Isso é necessário porque o modelo do PyTorch espera saídas no formato (batch_size, 1) , ou seja, uma coluna por amostra.\n",
    "\n",
    "**Explicação do .view(-1, 1):**\n",
    "- -1 significa \"inferir automaticamente o tamanho dessa dimensão\"\n",
    "- 1 significa que queremos 1 coluna\n",
    "\n",
    "- Converte os dados em tensores do PyTorch (formato exigido pelo framework).\n",
    "- `dtype=torch.float32`: mantém os números em precisão simples (recomendado para deep learning).\n",
    "- `.view(-1, 1)`: ajusta dimensão para formato compatível com funções de perda."
   ]
  },
  {
   "cell_type": "markdown",
   "id": "30b98d01",
   "metadata": {},
   "source": [
    "##### 🐍 Código - Verifica os dados de Treino e de Teste"
   ]
  },
  {
   "cell_type": "code",
   "execution_count": 16,
   "id": "82319d61-7746-4a1d-a834-ecb2510b75f4",
   "metadata": {},
   "outputs": [
    {
     "name": "stdout",
     "output_type": "stream",
     "text": [
      "torch.Size([700, 3])\n",
      "torch.Size([700, 1])\n"
     ]
    }
   ],
   "source": [
    "print(X_train_t.shape) \n",
    "print(y_train_t.shape) "
   ]
  },
  {
   "cell_type": "code",
   "execution_count": 20,
   "id": "6cc1abc4-b87c-47df-a97a-6e9667572589",
   "metadata": {},
   "outputs": [
    {
     "data": {
      "text/plain": [
       "tensor([[3.8000e+01, 4.4553e+03, 4.8000e+00],\n",
       "        [7.0000e+01, 8.7943e+03, 2.9000e+00],\n",
       "        [5.9000e+01, 1.1121e+04, 2.4000e+00],\n",
       "        [6.7000e+01, 6.3592e+03, 1.5000e+00],\n",
       "        [3.6000e+01, 9.6671e+03, 2.0000e+00]])"
      ]
     },
     "execution_count": 20,
     "metadata": {},
     "output_type": "execute_result"
    }
   ],
   "source": [
    "X_train_t[0:5]"
   ]
  },
  {
   "cell_type": "code",
   "execution_count": 19,
   "id": "edcca657-e0ac-4152-97a1-bb6db777d92d",
   "metadata": {},
   "outputs": [
    {
     "data": {
      "text/plain": [
       "tensor([[0.],\n",
       "        [0.],\n",
       "        [0.],\n",
       "        [0.],\n",
       "        [0.]])"
      ]
     },
     "execution_count": 19,
     "metadata": {},
     "output_type": "execute_result"
    }
   ],
   "source": [
    "y_train_t[0:5]"
   ]
  },
  {
   "cell_type": "code",
   "execution_count": 33,
   "id": "01719bfd-ffc9-44dd-b950-53e7f12e1b6c",
   "metadata": {},
   "outputs": [
    {
     "data": {
      "text/plain": [
       "tensor([[5.0000e+01, 7.6798e+03, 6.8000e+00],\n",
       "        [3.4000e+01, 6.7190e+03, 9.6000e+00],\n",
       "        [1.6000e+01, 2.8705e+03, 7.5000e+00],\n",
       "        [5.2000e+01, 1.0804e+04, 4.6000e+00],\n",
       "        [6.8000e+01, 3.6456e+03, 4.7000e+00]])"
      ]
     },
     "execution_count": 33,
     "metadata": {},
     "output_type": "execute_result"
    }
   ],
   "source": [
    "X_test_t[0:5]"
   ]
  },
  {
   "cell_type": "code",
   "execution_count": 34,
   "id": "208f2830-ab35-4444-851d-06fb9016761b",
   "metadata": {},
   "outputs": [
    {
     "data": {
      "text/plain": [
       "tensor([[0.],\n",
       "        [0.],\n",
       "        [0.],\n",
       "        [0.],\n",
       "        [0.]])"
      ]
     },
     "execution_count": 34,
     "metadata": {},
     "output_type": "execute_result"
    }
   ],
   "source": [
    "y_test_t[0:5]"
   ]
  },
  {
   "cell_type": "markdown",
   "id": "f4fca4bd-d5fa-4d1f-a855-69ec06f29b1f",
   "metadata": {},
   "source": [
    "## 6️⃣ Definição da Rede Neural Simples"
   ]
  },
  {
   "cell_type": "markdown",
   "id": "217b9b01-ed7e-4d0e-8a2c-819269763ba7",
   "metadata": {},
   "source": [
    "##### 🐍 Código\n"
   ]
  },
  {
   "cell_type": "code",
   "execution_count": 23,
   "id": "d1fa9c56-8ac8-4898-842b-d5acb1f8373f",
   "metadata": {},
   "outputs": [],
   "source": [
    "class SimpleNet(nn.Module):\n",
    "    \n",
    "    def __init__(self, input_dim):\n",
    "        super(SimpleNet, self).__init__()\n",
    "        self.linear1 = nn.Linear(input_dim, 8)\n",
    "        self.relu    = nn.ReLU()\n",
    "        self.linear2 = nn.Linear(8, 1)\n",
    "\n",
    "    def forward(self, x):\n",
    "        x = self.linear1(x)\n",
    "        x = self.relu(x)\n",
    "        x = self.linear2(x)\n",
    "        return x"
   ]
  },
  {
   "cell_type": "markdown",
   "id": "9fa32b01-f153-4749-b5a7-3f626d402494",
   "metadata": {},
   "source": [
    "##### 🔖 Explicações"
   ]
  },
  {
   "cell_type": "markdown",
   "id": "6a9d0528-c17c-4259-9b8c-ff67b1b3e2bb",
   "metadata": {},
   "source": [
    "Este é um exemplo de **definição de uma rede neural simples para classificação binária** no PyTorch. \n",
    "Ele herda da classe `nn.Module`, que é a base para todos os modelos em PyTorch.\n",
    "\n",
    "A rede ( __init__) tem:\n",
    "- Uma camada oculta com **8 neurônios**\n",
    "- Função de ativação **ReLU** (Rectified Linear Unit)\n",
    "- Uma saída com **1 neurônio** (para prever 0 ou 1)\n",
    "\n",
    "- **forward(self, x)**\n",
    "    - Este método define como os dados fluem pela rede durante o **forward pass** (propagação direta).\n",
    "\n",
    "- Ordem das operações:\n",
    "  1. Passa os dados pela primeira camada linear\n",
    "  2. Aplica a função ReLU\n",
    "  3. Passa pela segunda camada linear\n",
    "  4. Retorna o resultado final (**logits**)"
   ]
  },
  {
   "cell_type": "markdown",
   "id": "1debb23b-c06c-43fb-aac3-93f3ebfc91fa",
   "metadata": {},
   "source": [
    "### 📊 Exemplo Visual do Fluxo"
   ]
  },
  {
   "cell_type": "markdown",
   "id": "27b74a82-ed00-4c06-9ee1-d23a476ad88e",
   "metadata": {},
   "source": [
    "Suponha que sua entrada tenha 3 features: `[idade, renda, nota]`.\n",
    "\n",
    "```\n",
    "Entrada (x) → [25, 3000, 8.5]\n",
    "\n",
    "       ┌──────────────┐\n",
    "       │ Linear1(3,8) │ → 8 valores\n",
    "       └──────────────┘\n",
    "              ↓\n",
    "       ┌──────────────┐\n",
    "       │     ReLU     │ → mantém só os positivos\n",
    "       └──────────────┘\n",
    "              ↓\n",
    "       ┌──────────────┐\n",
    "       │ Linear2(8,1) │ → 1 valor (logit)\n",
    "       └──────────────┘\n",
    "```\n",
    "\n",
    "Esse valor final é usado para decidir se a predição é `0` ou `1`."
   ]
  },
  {
   "cell_type": "markdown",
   "id": "560a4d4d-98c5-4f37-8f00-2b8defccadce",
   "metadata": {},
   "source": [
    "##### 🐍 Código - Verificando a estrutura dos dados"
   ]
  },
  {
   "cell_type": "code",
   "execution_count": 26,
   "id": "2c159479-e894-4972-ac5b-0b955329b3a7",
   "metadata": {},
   "outputs": [
    {
     "data": {
      "text/plain": [
       "3"
      ]
     },
     "execution_count": 26,
     "metadata": {},
     "output_type": "execute_result"
    }
   ],
   "source": [
    "# Quantidade de colunas em X\n",
    "X_train_t.shape[1] "
   ]
  },
  {
   "cell_type": "markdown",
   "id": "09bf2dd3",
   "metadata": {},
   "source": [
    "##### 🐍 Código - Cria um novo modelo\n",
    "- Passa os dados de treinamento para o modelo\n",
    "- Imprime as informações sobre o modelo"
   ]
  },
  {
   "cell_type": "code",
   "execution_count": 24,
   "id": "0da1e2e1-b7c4-4de9-b776-1474e14696d5",
   "metadata": {},
   "outputs": [],
   "source": [
    "# Cria um modelo que aceita uma matriz de 3 colunas\n",
    "input_dim = X_train_t.shape[1]  \n",
    "model = SimpleNet(input_dim)"
   ]
  },
  {
   "cell_type": "code",
   "execution_count": 25,
   "id": "0ff9fa52-651c-400e-8245-b86cbcafd30a",
   "metadata": {},
   "outputs": [
    {
     "name": "stdout",
     "output_type": "stream",
     "text": [
      "SimpleNet(\n",
      "  (linear1): Linear(in_features=3, out_features=8, bias=True)\n",
      "  (relu): ReLU()\n",
      "  (linear2): Linear(in_features=8, out_features=1, bias=True)\n",
      ")\n"
     ]
    }
   ],
   "source": [
    "# Imprime a estrutura do modelo\n",
    "print(model)"
   ]
  },
  {
   "cell_type": "markdown",
   "id": "702270cf-a559-44c2-80b3-01586d890959",
   "metadata": {},
   "source": [
    "### 📊 Arquitetura da Rede:\n"
   ]
  },
  {
   "cell_type": "markdown",
   "id": "bd3e12a9-f662-4644-b4ad-0f1ea15b0692",
   "metadata": {},
   "source": [
    "- **Entrada**: `input_dim` (número de features)\n",
    "- **Camada Oculta**: 8 neurônios com ativação ReLU\n",
    "- **Saída**: 1 neurônio (para classificação binária)"
   ]
  },
  {
   "cell_type": "markdown",
   "id": "b51f62f1-fca5-4af1-a388-7fbe7b0fcf14",
   "metadata": {},
   "source": [
    "#### 🎫 Funções Importantes:\n"
   ]
  },
  {
   "cell_type": "markdown",
   "id": "aebf36d0-9225-4091-88ec-9d03441c7e28",
   "metadata": {},
   "source": [
    "- `nn.Linear`: faz a combinação linear (pesos + bias)\n",
    "- `nn.ReLU`: função de ativação não-linear\n"
   ]
  },
  {
   "cell_type": "markdown",
   "id": "986721dd-16c2-47ad-ab74-ec1a5d600190",
   "metadata": {},
   "source": [
    "#### 🎫 Linha a Linha"
   ]
  },
  {
   "cell_type": "markdown",
   "id": "8bf935ee-99e5-48d0-a6e6-6714d4b148f3",
   "metadata": {},
   "source": [
    "`input_dim = X_train_t.shape`\n",
    "\n",
    "**Explicação:**\n",
    "\n",
    "- `X_train_t` é um tensor do PyTorch contendo os dados de treino (apenas as features, ou seja, variáveis de entrada).\n",
    "- `.shape` retorna as dimensões do tensor no formato: (número_de_amostras, úmero_de_características)\n",
    "- `[1]` acessa a segunda posição , ou seja, o número de colunas (ou características/variáveis de entrada)\n",
    "  \n",
    "**Exemplo:**\n",
    "Se X_train_t tem forma (700, 3), isso significa que:\n",
    "\n",
    "- Há 700 amostras\n",
    "- Cada amostra tem 3 características (por exemplo: idade, renda, nota)\n",
    "-  Então input_dim = 3\n",
    "  \n",
    "**Por que isso é importante?**\n",
    "A rede neural precisa saber quantas entradas ela vai receber para configurar corretamente a primeira camada.\n"
   ]
  },
  {
   "cell_type": "markdown",
   "id": "97b04d79-480b-400c-a4ab-d62a1fd64154",
   "metadata": {},
   "source": [
    "## 7️⃣ Configuração do Treinamento\n"
   ]
  },
  {
   "cell_type": "markdown",
   "id": "70aef57c-049f-4709-a65e-d33580770eb1",
   "metadata": {},
   "source": [
    "##### 🐍 Código"
   ]
  },
  {
   "cell_type": "code",
   "execution_count": 26,
   "id": "91d01813-fe45-49e0-bea2-f6feddac747b",
   "metadata": {},
   "outputs": [],
   "source": [
    "criterion = nn.BCEWithLogitsLoss()\n",
    "optimizer = optim.Adam(model.parameters(), lr=0.01)"
   ]
  },
  {
   "cell_type": "markdown",
   "id": "c9446319-fec4-4edd-9813-fc9010d0aa86",
   "metadata": {},
   "source": [
    "##### 🔖 Explicações"
   ]
  },
  {
   "cell_type": "markdown",
   "id": "391ef1e4-e793-4a02-8af1-2099f05719af",
   "metadata": {},
   "source": [
    "Esses são dois componentes essenciais para treinar um modelo de aprendizado de máquina ou deep learning no PyTorch.\n",
    "\n",
    "- **Função de Perda**:\n",
    "  - `BCEWithLogitsLoss`: Essa função é usada para problemas de classificação binária (duas classes: 0 e 1).\n",
    "  - Se o modelo retorna logits = [2.5, -1.0] e os verdadeiros rótulos são [1, 0], essa função calcula o quanto o modelo errou.\n",
    "- **Otimizador**:\n",
    "  - Define o otimizador Adam , que será usado para atualizar os pesos do modelo durante o treinamento\n",
    "  - Ajusta automaticamente a taxa de aprendizado para cada parâmetro durante o treino\n",
    "  - `model.parameters()`: todos os parâmetros (pesos e biases) do modelo que podem ser aprendidos\n",
    "\n",
    "- **Taxa de Aprendizado**\n",
    "  - `lr=0.01`: taxa de aprendizado (ajusta quão rápido o modelo aprende)\n",
    "  - Controla o tamanho dos passos que o otimizador dá para ajustar os pesos\n",
    "  - Um valor muito alto pode fazer o modelo não convergir\n",
    "  - Um valor muito baixo pode deixar o treinamento muito lento"
   ]
  },
  {
   "cell_type": "markdown",
   "id": "79e4a0fb-983b-4814-b530-f1558edcc2a3",
   "metadata": {},
   "source": [
    "## 8️⃣ Loop de Treinamento"
   ]
  },
  {
   "cell_type": "markdown",
   "id": "827de70f",
   "metadata": {},
   "source": [
    "##### 🐍 Código - Realiza o treinamento do modelo"
   ]
  },
  {
   "cell_type": "code",
   "execution_count": 45,
   "id": "89c2e37b-f3f3-4985-9baf-f21e94bcaeb3",
   "metadata": {},
   "outputs": [
    {
     "name": "stdout",
     "output_type": "stream",
     "text": [
      "Época [2/80], Perda Treino: 0.6156\n",
      "Época [4/80], Perda Treino: 0.6156\n",
      "Época [6/80], Perda Treino: 0.6156\n",
      "Época [8/80], Perda Treino: 0.6156\n",
      "Época [10/80], Perda Treino: 0.6156\n",
      "Época [12/80], Perda Treino: 0.6156\n",
      "Época [14/80], Perda Treino: 0.6156\n",
      "Época [16/80], Perda Treino: 0.6156\n",
      "Época [18/80], Perda Treino: 0.6156\n",
      "Época [20/80], Perda Treino: 0.6156\n",
      "Época [22/80], Perda Treino: 0.6156\n",
      "Época [24/80], Perda Treino: 0.6156\n",
      "Época [26/80], Perda Treino: 0.6156\n",
      "Época [28/80], Perda Treino: 0.6156\n",
      "Época [30/80], Perda Treino: 0.6156\n",
      "Época [32/80], Perda Treino: 0.6156\n",
      "Época [34/80], Perda Treino: 0.6156\n",
      "Época [36/80], Perda Treino: 0.6156\n",
      "Época [38/80], Perda Treino: 0.6156\n",
      "Época [40/80], Perda Treino: 0.6156\n",
      "Época [42/80], Perda Treino: 0.6156\n",
      "Época [44/80], Perda Treino: 0.6156\n",
      "Época [46/80], Perda Treino: 0.6156\n",
      "Época [48/80], Perda Treino: 0.6156\n",
      "Época [50/80], Perda Treino: 0.6156\n",
      "Época [52/80], Perda Treino: 0.6156\n",
      "Época [54/80], Perda Treino: 0.6156\n",
      "Época [56/80], Perda Treino: 0.6156\n",
      "Época [58/80], Perda Treino: 0.6156\n",
      "Época [60/80], Perda Treino: 0.6156\n",
      "Época [62/80], Perda Treino: 0.6156\n",
      "Época [64/80], Perda Treino: 0.6156\n",
      "Época [66/80], Perda Treino: 0.6156\n",
      "Época [68/80], Perda Treino: 0.6156\n",
      "Época [70/80], Perda Treino: 0.6156\n",
      "Época [72/80], Perda Treino: 0.6156\n",
      "Época [74/80], Perda Treino: 0.6156\n",
      "Época [76/80], Perda Treino: 0.6156\n",
      "Época [78/80], Perda Treino: 0.6156\n",
      "Época [80/80], Perda Treino: 0.6156\n"
     ]
    }
   ],
   "source": [
    "# Qt de fases de treinamenro\n",
    "epochs = 80\n",
    "# Lista para guardar o valor da loss em cada época\n",
    "losses = []  \n",
    "\n",
    "for epoch in range(epochs):\n",
    "    # forward\n",
    "    ## faz a predição com base nos dados de entrada\n",
    "    outputs = model(X_train_t)\n",
    "    \n",
    "    ## compara essas previsões com os verdadeiros rótulos (y_train_t) e calcula o erro (loss)\n",
    "    loss = criterion(outputs, y_train_t)\n",
    "\n",
    "    # backward\n",
    "    ## Zera os gradientes acumulados nas etapas anteriores\n",
    "    ## Se não zerar, os gradientes vão se somar e causar atualizações erradas nos pesos\n",
    "    optimizer.zero_grad()\n",
    "\n",
    "    ## Faz o cálculo dos gradientes de erro em relação aos pesos do modelo\n",
    "    ## É o coração do backpropagation    \n",
    "    loss.backward()\n",
    "\n",
    "    ## Usa os gradientes calculados para atualizar os pesos do modelo\n",
    "    ## O otimizador (Adam, neste caso) decide como ajustar os pesos\n",
    "    optimizer.step()\n",
    "\n",
    "    # Armazenar loss\n",
    "    losses.append(loss.item())\n",
    "\n",
    "    # imprimir estatísticas\n",
    "    if (epoch+1) % 2 == 0:\n",
    "        print(f\"Época [{epoch+1}/{epochs}], Perda Treino: {loss.item():.4f}\")"
   ]
  },
  {
   "cell_type": "markdown",
   "id": "2ec60c7e-8f79-474c-8608-823ce12acb94",
   "metadata": {},
   "source": [
    "### 🚨 Passos do Treinamento:"
   ]
  },
  {
   "cell_type": "markdown",
   "id": "14d226e3-5445-44cd-9742-b8fdd992e0d6",
   "metadata": {},
   "source": [
    "Este é o loop principal de treinamento do modelo de rede neural.\n",
    "Ele executa o treinamento por um número fixo de épocas (neste caso, 10) . Em cada época:\n",
    "- O modelo faz uma predição (forward) \n",
    "- Calcula o erro (loss) entre a predição e os valores reais \n",
    "- Atualiza os pesos da rede usando backpropagation\n",
    "- Mostra o progresso a cada 2 épocas\n",
    "  \n",
    "**Fases:**\n",
    "1. **Forward Pass**: modelo faz predição\n",
    "2. **Cálculo da Perda**: compara previsão com valor real\n",
    "3. **Backward Pass**: calcula gradientes\n",
    "4. **Atualização dos Pesos**: otimizador atualiza parâmetros\n",
    "5. **Exibição de Progresso**: mostra a perda a cada 2 épocas\n",
    "\n",
    "**O que é uma época?**\n",
    "- Uma época corresponde a uma passagem completa pelos dados de treino."
   ]
  },
  {
   "cell_type": "markdown",
   "id": "95e86c22-f57e-4532-97e5-9034b8e33cfa",
   "metadata": {},
   "source": [
    "### 📉 Gráfico da perda ao longo das épocas"
   ]
  },
  {
   "cell_type": "code",
   "execution_count": 46,
   "id": "448cfb1e-11d4-4e27-a151-952116c81ad3",
   "metadata": {},
   "outputs": [
    {
     "data": {
      "image/png": "[encoded data removed]",
      "text/plain": [
       "<Figure size 640x480 with 1 Axes>"
      ]
     },
     "metadata": {},
     "output_type": "display_data"
    }
   ],
   "source": [
    "# ----------------------------------------------------------\n",
    "# 8) GERAR GRÁFICO DA PERDA AO LONGO DAS ÉPOCAS\n",
    "# ----------------------------------------------------------\n",
    "plt.plot(losses)\n",
    "plt.title(\"Perda durante o treinamento\")\n",
    "plt.xlabel(\"Época\")\n",
    "plt.ylabel(\"Loss (Erro)\")\n",
    "plt.grid(True)\n",
    "plt.show()"
   ]
  },
  {
   "cell_type": "markdown",
   "id": "ee3e5ee7-6eeb-42e9-b848-ce1e8066a469",
   "metadata": {},
   "source": [
    "## 9️⃣ Avaliação do Modelo no Conjunto de Teste"
   ]
  },
  {
   "cell_type": "code",
   "execution_count": 48,
   "id": "a3ffb855-b5be-41bb-910e-ea8f8c383a6c",
   "metadata": {},
   "outputs": [
    {
     "name": "stdout",
     "output_type": "stream",
     "text": [
      "Qtd de Elementos  : 300.00\n",
      "Qtd de Acertos    : 213.00\n",
      "Acurácia no teste :  71.00%\n"
     ]
    }
   ],
   "source": [
    "with torch.no_grad():\n",
    "\n",
    "    # Submete os dados de teste ao modelo\n",
    "    logits_test = model(X_test_t)\n",
    "    #print (logits_test)\n",
    "    \n",
    "    # Transformar logits em probabilidades [0..1]\n",
    "    probs_test = torch.sigmoid(logits_test)\n",
    "    #print (probs_test)\n",
    "\n",
    "    # prob > 0.5 => classe = 1 (Bom)\n",
    "    #print ((probs_test > 0.5).float())\n",
    "\n",
    "    # Verifica a probabilidade é maior que 0.5\n",
    "    # se for atribui 1, senão 0 \n",
    "    preds_test = (probs_test > 0.5).float()\n",
    "\n",
    "    # Verifica o total de acertos\n",
    "    acertos = (preds_test == y_test_t).sum().item()\n",
    "\n",
    "    # Verifica a quantidade de elementos do grupo de teste\n",
    "    total = y_test_t.shape[0]\n",
    "\n",
    "    # calcula a taxa de acerto\n",
    "    acuracia_test = acertos / total * 100.0\n",
    "\n",
    "print(f\"Qtd de Elementos  : {total:-6.2f}\")\n",
    "print(f\"Qtd de Acertos    : {acertos:-6.2f}\")\n",
    "print(f\"Acurácia no teste : {acuracia_test:-6.2f}%\")"
   ]
  },
  {
   "cell_type": "markdown",
   "id": "16809e36-7847-4f76-bd7b-4a720a2f1726",
   "metadata": {},
   "source": [
    "### 🚨 Etapas da Avaliação:\n"
   ]
  },
  {
   "cell_type": "markdown",
   "id": "068473c7-28e0-4a93-9b47-99a5fd3cfb12",
   "metadata": {},
   "source": [
    "1. **Previsões no conjunto de teste**\n",
    "2. **Conversão de logits para probabilidades** com `sigmoid`\n",
    "3. **Classificação final** usando limiar de 0.5\n",
    "4. **Cálculo da acurácia**: percentual de previsões corretas\n"
   ]
  },
  {
   "cell_type": "markdown",
   "id": "d9d958c5-f670-4de4-8bf2-320e3114e4de",
   "metadata": {},
   "source": [
    "### 🎯 Resultado:"
   ]
  },
  {
   "cell_type": "markdown",
   "id": "347a056c-07e6-4faa-a93c-154ef7a5a5dc",
   "metadata": {},
   "source": [
    "- Mostra a **porcentagem de acerto** do modelo nos dados de teste."
   ]
  },
  {
   "cell_type": "markdown",
   "id": "7e94403f-c782-4074-b883-0f2367ce89f0",
   "metadata": {},
   "source": [
    "# 📝 Resumo Final"
   ]
  },
  {
   "cell_type": "markdown",
   "id": "aba31966-735f-48d0-a316-972814dd6c2d",
   "metadata": {},
   "source": [
    "| Etapa | Descrição |\n",
    "|-------|-----------|\n",
    "| Carregar dados | Usamos `pd.read_csv()` |\n",
    "| Limpeza de dados | Substituímos valores ausentes |\n",
    "| Preparação do target | Criamos uma variável binária |\n",
    "| Divisão de dados | Usamos `train_test_split` |\n",
    "| Conversão para tensores | Compatibilizamos com PyTorch |\n",
    "| Definição do modelo | Rede neural simples com duas camadas |\n",
    "| Treinamento | Usamos loop com forward/backward propagation |\n",
    "| Avaliação | Calculamos a acurácia no conjunto de teste |"
   ]
  },
  {
   "cell_type": "markdown",
   "id": "a867d00e-ae98-4cc3-a06c-73fac1434dc9",
   "metadata": {},
   "source": [
    "\n",
    "\n",
    "\n",
    "\n",
    "---\n",
    "\n",
    "\n",
    "\n"
   ]
  },
  {
   "cell_type": "markdown",
   "id": "716225d2-4f4a-4e9f-8f49-d29bf79ede16",
   "metadata": {},
   "source": [
    "\n",
    "\n",
    "\n",
    "\n",
    "\n",
    "\n",
    "\n",
    "\n",
    "\n",
    "\n",
    "\n",
    "\n"
   ]
  }
 ],
 "metadata": {
  "kernelspec": {
   "display_name": "Python ML (venv)",
   "language": "python",
   "name": "machine_learning"
  },
  "language_info": {
   "codemirror_mode": {
    "name": "ipython",
    "version": 3
   },
   "file_extension": ".py",
   "mimetype": "text/x-python",
   "name": "python",
   "nbconvert_exporter": "python",
   "pygments_lexer": "ipython3",
   "version": "3.10.5"
  }
 },
 "nbformat": 4,
 "nbformat_minor": 5
}
