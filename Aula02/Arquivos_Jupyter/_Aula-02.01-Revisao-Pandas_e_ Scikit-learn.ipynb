{
 "cells": [
  {
   "cell_type": "markdown",
   "id": "a59f175f-2e01-4307-b51d-ac6e761b9a54",
   "metadata": {},
   "source": [
    "# 📦 Bibliotecas Pandas e Scikit-learn"
   ]
  },
  {
   "cell_type": "markdown",
   "id": "fee94a18-e16d-4d7a-b79b-aa448db971cb",
   "metadata": {},
   "source": [
    "## 🔖 Objetivo Geral"
   ]
  },
  {
   "cell_type": "markdown",
   "id": "933450b9-f5f4-408a-9fe0-6a30f620991a",
   "metadata": {},
   "source": [
    "Realizar uma revisão abrangente das Bibliotecas Pandas e Scikit-learn\n",
    "\n",
    "Nesta aula, vamos revisar o processo de:\n",
    "\n",
    "1. Carregar e explorar um dataset usando o **Pandas**\n",
    "2. Identificar e tratar valores ausentes\n",
    "3. Detectar e lidar com **outliers**\n",
    "4. Trabalhar com variáveis **categóricas**\n",
    "5. Preparar os dados para uso em algoritmos de **machine learning** com o **Scikit-learn**"
   ]
  },
  {
   "cell_type": "markdown",
   "id": "573a1354-1c2d-4683-8cf4-e185a30a835d",
   "metadata": {},
   "source": [
    "# 1. Carregar e explorar um dataset usando o Pandas"
   ]
  },
  {
   "cell_type": "markdown",
   "id": "c082c1bf-9350-4b3f-8989-3a0e28d20009",
   "metadata": {},
   "source": [
    "### 🐍 Código"
   ]
  },
  {
   "cell_type": "markdown",
   "id": "35e28709-2897-4739-9b30-15aa6e119d1c",
   "metadata": {},
   "source": [
    "..."
   ]
  },
  {
   "cell_type": "code",
   "execution_count": 2,
   "id": "8ae92842-3180-42b6-aa87-26a1a300d05d",
   "metadata": {},
   "outputs": [],
   "source": [
    "import pandas as pd\n",
    "import numpy as np\n",
    "from sklearn.preprocessing import StandardScaler, OneHotEncoder\n",
    "from sklearn.impute import SimpleImputer"
   ]
  },
  {
   "cell_type": "markdown",
   "id": "1e989f31-2f85-4d5a-9d37-37a9143c80bc",
   "metadata": {},
   "source": [
    "### 🔖 Explicações"
   ]
  },
  {
   "cell_type": "markdown",
   "id": "35d96a2f-da21-424f-bd99-1d309efc06f8",
   "metadata": {},
   "source": [
    "**Carga das Bibliotecas**\n",
    "\n",
    "- **pandas** \n",
    "    - O Pandas é uma biblioteca essencial para **manipulação e análise** de dados em Python. Ele permite trabalhar com estruturas de dados como o DataFrame , que é semelhante a uma tabela do Excel ou um banco de dados relacional.\n",
    "    \n",
    "- **numpy**\n",
    "    - O NumPy é uma biblioteca fundamental para **computação científica** em Python. Ela fornece suporte para **arrays multidimensionais** e **funções matemáticas** avançadas.\n",
    "\n",
    "- **StandardScaler**\n",
    "    -  **Padronizar** (ou normalizar) as variáveis numéricas, ou seja, transformar os valores para que tenham **média zero e desvio padrão igual a 1** .\n",
    "    - Muitos algoritmos de machine learning (como KNN, Regressão Logística e SVM) funcionam melhor quando os dados estão na mesma escala."
   ]
  },
  {
   "cell_type": "markdown",
   "id": "b71ea445-fda3-4db4-a180-471748ade781",
   "metadata": {},
   "source": [
    "### 🐍 Código"
   ]
  },
  {
   "cell_type": "code",
   "execution_count": 4,
   "id": "9a6adc1a-2ebd-49f4-a936-f94806b0ceff",
   "metadata": {},
   "outputs": [
    {
     "name": "stdout",
     "output_type": "stream",
     "text": [
      "   id  idade     renda          cidade categoria  nota feedback\n",
      "0   1   65.0  18557.03  Belo Horizonte         A   6.4      Bom\n",
      "1   2   21.0  10111.54  Belo Horizonte         A   6.3      Bom\n",
      "2   3   18.0  24588.69         Vitória         B   6.1      Bom\n",
      "3   4   31.0  45412.01  Belo Horizonte         A   5.5      Bom\n",
      "4   5   33.0  37340.94       São Paulo         A   7.2      Bom\n",
      "5   6   29.0  19550.52       São Paulo         B   6.3      Bom\n",
      "6   7   24.0  31021.45         Vitória         B   7.8      Bom\n",
      "7   8   40.0   2203.13         Vitória         A   8.5      NaN\n",
      "8   9   40.0  34743.23         Vitória         A   6.9      Bom\n",
      "9  10   31.0  26474.40             NaN         B   9.7      Bom\n"
     ]
    }
   ],
   "source": [
    "df = pd.read_csv('dataset/dataset_sudeste_realista_outliers-20250618_112119.csv')\n",
    "print(df.head(10))"
   ]
  },
  {
   "cell_type": "markdown",
   "id": "1238f960-123b-4230-9216-a17f0d4f7214",
   "metadata": {},
   "source": [
    "### 🔖 Explicações"
   ]
  },
  {
   "cell_type": "markdown",
   "id": "e6374b1d-ddb7-4e31-a045-42babca6b15a",
   "metadata": {},
   "source": [
    "- Estamos lendo o arquivo CSV e armazenando seus dados em um DataFrame chamado `df`.\n",
    "- O método `.head()` mostra as primeiras linhas do dataset."
   ]
  },
  {
   "cell_type": "markdown",
   "id": "e8e2c242-6149-480b-85c2-0082a305638a",
   "metadata": {},
   "source": [
    "### 🐍 Código"
   ]
  },
  {
   "cell_type": "code",
   "execution_count": 5,
   "id": "ae245527-7bc2-4b95-a39b-3081d9370d50",
   "metadata": {},
   "outputs": [
    {
     "name": "stdout",
     "output_type": "stream",
     "text": [
      "<class 'pandas.core.frame.DataFrame'>\n",
      "RangeIndex: 1000 entries, 0 to 999\n",
      "Data columns (total 7 columns):\n",
      " #   Column     Non-Null Count  Dtype  \n",
      "---  ------     --------------  -----  \n",
      " 0   id         1000 non-null   int64  \n",
      " 1   idade      995 non-null    float64\n",
      " 2   renda      992 non-null    float64\n",
      " 3   cidade     984 non-null    object \n",
      " 4   categoria  994 non-null    object \n",
      " 5   nota       992 non-null    float64\n",
      " 6   feedback   966 non-null    object \n",
      "dtypes: float64(3), int64(1), object(3)\n",
      "memory usage: 54.8+ KB\n",
      "None\n"
     ]
    }
   ],
   "source": [
    "print(df.info())"
   ]
  },
  {
   "cell_type": "markdown",
   "id": "946546ce-5986-4381-8be1-c1570927324a",
   "metadata": {},
   "source": [
    "### 🔖 Explicações"
   ]
  },
  {
   "cell_type": "markdown",
   "id": "364e7cec-c4e8-4e20-861a-f5a7f8757695",
   "metadata": {},
   "source": [
    "Isso mostrará:\n",
    "\n",
    "- Quantidade de linhas e colunas\n",
    "- Tipo de cada coluna\n",
    "- Número de valores não nulos"
   ]
  },
  {
   "cell_type": "markdown",
   "id": "e39188c4-89f1-42f1-8345-b142ed2f1916",
   "metadata": {},
   "source": [
    "### 🐍 Código"
   ]
  },
  {
   "cell_type": "code",
   "execution_count": 6,
   "id": "4ac185e0-4462-48ae-a5f0-b7e7f2b5d9e2",
   "metadata": {},
   "outputs": [
    {
     "name": "stdout",
     "output_type": "stream",
     "text": [
      "                id       idade         renda        nota\n",
      "count  1000.000000  995.000000    992.000000  992.000000\n",
      "mean    500.500000   47.945729  24215.989728    7.369153\n",
      "std     288.819436   19.523372  13136.001391    1.518017\n",
      "min       1.000000    8.000000    613.070000    0.200000\n",
      "25%     250.750000   31.000000  12860.012500    6.100000\n",
      "50%     500.500000   48.000000  24138.835000    7.300000\n",
      "75%     750.250000   64.000000  35346.562500    8.600000\n",
      "max    1000.000000  107.000000  84221.190000   10.000000\n"
     ]
    }
   ],
   "source": [
    "print(df.describe())"
   ]
  },
  {
   "cell_type": "markdown",
   "id": "22802b0f-b421-421d-b393-d38e749e45d9",
   "metadata": {},
   "source": [
    "### 🔖 Explicações"
   ]
  },
  {
   "cell_type": "markdown",
   "id": "29b09fa1-1a11-4195-a5fc-c687243e0b35",
   "metadata": {},
   "source": [
    "- Isso ajuda a entender melhor a distribuição dos dados numéricos, como média, desvio padrão, valores mínimos e máximos."
   ]
  },
  {
   "cell_type": "markdown",
   "id": "67fe9246-c204-4f56-ba4e-9b326b64750b",
   "metadata": {},
   "source": [
    "# 2. Identificar e tratar valores ausentes"
   ]
  },
  {
   "cell_type": "markdown",
   "id": "5e17218b-de52-4834-b8d7-1d1615a3c117",
   "metadata": {},
   "source": [
    "### 🐍 Código"
   ]
  },
  {
   "cell_type": "code",
   "execution_count": 8,
   "id": "709b795e-0c66-4fab-a899-46565b7cdb87",
   "metadata": {},
   "outputs": [
    {
     "name": "stdout",
     "output_type": "stream",
     "text": [
      "id            0\n",
      "idade         5\n",
      "renda         8\n",
      "cidade       16\n",
      "categoria     6\n",
      "nota          8\n",
      "feedback     34\n",
      "dtype: int64\n"
     ]
    }
   ],
   "source": [
    "print(df.isnull().sum())"
   ]
  },
  {
   "cell_type": "markdown",
   "id": "62e73c6a-d70f-4249-b4f3-7a5b41a6b876",
   "metadata": {},
   "source": [
    "### 🔖 Explicações"
   ]
  },
  {
   "cell_type": "markdown",
   "id": "b5be9ca0-b980-456d-b20a-8d57aa498f1c",
   "metadata": {},
   "source": [
    "O método `.isnull()` retorna True onde há valores ausentes. Usando `.sum()`, contamos quantos valores faltantes existem por coluna."
   ]
  },
  {
   "cell_type": "markdown",
   "id": "94b328c0-7c57-47cc-8ced-3312ef50ca51",
   "metadata": {},
   "source": [
    "### 🐍 Código"
   ]
  },
  {
   "cell_type": "code",
   "execution_count": 9,
   "id": "0ca79227-230f-45f1-b08e-c2940a9cd745",
   "metadata": {},
   "outputs": [],
   "source": [
    "imputer_media = SimpleImputer(strategy='mean')\n",
    "df[['idade', 'nota']] = imputer_media.fit_transform(df[['idade', 'nota']])"
   ]
  },
  {
   "cell_type": "markdown",
   "id": "0dc0a745-be48-4aa9-8f2d-1999ba9f4f95",
   "metadata": {},
   "source": [
    "### 🔖 Explicações"
   ]
  },
  {
   "cell_type": "markdown",
   "id": "f5ba3d9d-bad8-43bd-a8ed-5c98b9659bb4",
   "metadata": {},
   "source": [
    "- Vamos preencher os valores ausentes nas colunas **numéricas**: `idade` e `nota`.\n",
    "- Usaremos a **média** para preencher esses campos"
   ]
  },
  {
   "cell_type": "markdown",
   "id": "6fed1858-a8ce-46af-bbe7-cc2e10f3c5b8",
   "metadata": {},
   "source": [
    "### 🐍 Código"
   ]
  },
  {
   "cell_type": "code",
   "execution_count": 10,
   "id": "19dbdf99-f991-4042-b4dd-d23c5ad605e6",
   "metadata": {},
   "outputs": [],
   "source": [
    "imputer_mediana = SimpleImputer(strategy='median')\n",
    "df[['renda']] = imputer_mediana.fit_transform(df[['renda']])"
   ]
  },
  {
   "cell_type": "markdown",
   "id": "a044441e-734c-4963-8290-432094399f83",
   "metadata": {},
   "source": [
    "### 🔖 Explicações"
   ]
  },
  {
   "cell_type": "markdown",
   "id": "cb1be399-f81b-476e-a801-e62403200ff4",
   "metadata": {},
   "source": [
    "- Para a coluna renda, poderíamos usar a mediana se houver muitos outliers"
   ]
  },
  {
   "cell_type": "markdown",
   "id": "6073fa34-0baa-4d23-9e2c-e4861738781d",
   "metadata": {},
   "source": [
    "# 3. Detectar e lidar com outliers"
   ]
  },
  {
   "cell_type": "markdown",
   "id": "5904be33-3c92-48fc-8b3d-95657e874621",
   "metadata": {},
   "source": [
    "### 🐍 Código - Gerando e analisando o gráfico Boxplot"
   ]
  },
  {
   "cell_type": "code",
   "execution_count": 12,
   "id": "51ef0114-b429-4970-88dd-cebf1ad02760",
   "metadata": {},
   "outputs": [
    {
     "data": {
      "image/png": "[encoded data removed]",
      "text/plain": [
       "<Figure size 640x480 with 1 Axes>"
      ]
     },
     "metadata": {},
     "output_type": "display_data"
    }
   ],
   "source": [
    "# carga da biblioteca\n",
    "import matplotlib.pyplot as plt\n",
    "\n",
    "# Geração do Gráfico\n",
    "plt.boxplot(df['idade'])\n",
    "plt.title(\"Boxplot - Idade\")\n",
    "plt.show()"
   ]
  },
  {
   "cell_type": "markdown",
   "id": "6a199103-178f-4a59-897d-bd76a0dddc9c",
   "metadata": {},
   "source": [
    "### 🔖 Explicações"
   ]
  },
  {
   "cell_type": "markdown",
   "id": "70cbf449-6781-430d-99a0-916380cf0e44",
   "metadata": {},
   "source": [
    "Este código é usado para criar e exibir um gráfico de caixa (`boxplot`) da coluna **idade** de um DataFrame chamado df.\n",
    "\n",
    "- A biblioteca **Matplotlib** , mais especificamente o módulo `pyplot`,  é usado para criar gráficos em 2D no Python. Usamos este módulo para visualizar dados graficamente, como histogramas, gráficos de linhas, dispersão e boxplots .\n",
    "\n",
    "- **Boxplot** é um tipo de gráfico que mostra a distribuição dos dados com base nos quartis . Ele ajuda a identificar:\n",
    "    - A mediana (valor central)\n",
    "    - Os quartis (25%, 50%, 75%)\n",
    "    - Valores extremos (outliers )\n",
    "    - A caixa representa os valores entre o 1º quartil (**Q1**) e o 3º quartil (**Q3**).\n",
    "    - A linha dentro da caixa é a **mediana** .\n",
    "    - As \"extremidades\" das linhas (\"**bigodes**\") indicam os valores **mínimos** e **máximos** que não são outliers .\n",
    "    - Pontos fora dessas extremidades são considerados outliers .\n",
    "      \n",
    "- Matplotlib constrói o gráfico em memória primeiro, e plt.show() é o comando que realmente mostra o gráfico."
   ]
  },
  {
   "cell_type": "markdown",
   "id": "2f9f6ccd-e04f-404e-b348-9bd714a664a3",
   "metadata": {},
   "source": [
    "### 🐍 Código - Tratando os Outliers"
   ]
  },
  {
   "cell_type": "code",
   "execution_count": 13,
   "id": "99aeac11-19de-4cec-b7e4-d7e7e69fea21",
   "metadata": {},
   "outputs": [],
   "source": [
    "Q1 = df['idade'].quantile(0.25)\n",
    "Q3 = df['idade'].quantile(0.75)\n",
    "IQR = Q3 - Q1\n",
    "\n",
    "limite_inferior = Q1 - 1.5 * IQR\n",
    "limite_superior = Q3 + 1.5 * IQR\n",
    "\n",
    "df = df[(df['idade'] >= limite_inferior) & (df['idade'] <= limite_superior)]"
   ]
  },
  {
   "cell_type": "markdown",
   "id": "d7c5f5a7-2c78-40a2-8383-76427f3191f5",
   "metadata": {},
   "source": [
    "### 🔖 Explicações"
   ]
  },
  {
   "cell_type": "markdown",
   "id": "786a6cf0-b17f-491e-91e6-88dc837af797",
   "metadata": {},
   "source": [
    "Acima, calculamos os quartis e removemos registros fora do intervalo considerado normal."
   ]
  },
  {
   "cell_type": "markdown",
   "id": "43b24d93-6e33-4610-8123-c04a048d7bf6",
   "metadata": {},
   "source": [
    "### 🐍 Código - Reverificando com boxplot"
   ]
  },
  {
   "cell_type": "code",
   "execution_count": 14,
   "id": "0c81dded-5d7e-4e56-9fec-c9596715e98a",
   "metadata": {},
   "outputs": [
    {
     "data": {
      "image/png": "[encoded data removed]",
      "text/plain": [
       "<Figure size 640x480 with 1 Axes>"
      ]
     },
     "metadata": {},
     "output_type": "display_data"
    }
   ],
   "source": [
    "plt.boxplot(df['idade'])\n",
    "plt.title(\"Boxplot - Idade\")\n",
    "plt.show()"
   ]
  },
  {
   "cell_type": "markdown",
   "id": "60d1f93e-b2de-468a-873f-40bc798fcbfb",
   "metadata": {},
   "source": [
    "### 🔖 Explicações"
   ]
  },
  {
   "cell_type": "markdown",
   "id": "a6ed1c09-1db8-4256-bb41-0874bf5f6a43",
   "metadata": {},
   "source": [
    "..."
   ]
  },
  {
   "cell_type": "markdown",
   "id": "e4709712-61a2-424c-9825-d199d7689f17",
   "metadata": {},
   "source": [
    "# 4. Trabalhar com variáveis categóricas"
   ]
  },
  {
   "cell_type": "markdown",
   "id": "8771190b-286a-4372-a9c1-a283c6c35530",
   "metadata": {},
   "source": [
    "As variáveis categóricas precisam ser convertidas em números para os algoritmos de ML entenderem."
   ]
  },
  {
   "cell_type": "markdown",
   "id": "dabe921d-bfaf-4cea-9d22-851c43ce6462",
   "metadata": {},
   "source": [
    "### 🐍 Código"
   ]
  },
  {
   "cell_type": "code",
   "execution_count": 17,
   "id": "b54df780-7fa1-4285-8d5d-f2d6539d8683",
   "metadata": {},
   "outputs": [],
   "source": [
    "# Realiza a códificação das coluas\n",
    "encoder = OneHotEncoder(sparse_output=False, drop='first')  \n",
    "categorias_codificadas = encoder.fit_transform(df[['cidade', 'categoria', 'feedback']])\n",
    "\n",
    "# Converter os resultados do encoding para um DataFrame\n",
    "df_categorias = pd.DataFrame(categorias_codificadas, columns=encoder.get_feature_names_out(['cidade', 'categoria', 'feedback']))\n",
    "\n",
    "# Resetar o índice do df original e concatenar com as novas colunas\n",
    "df_final = pd.concat([df.reset_index(drop=True), df_categorias], axis=1)\n",
    "\n",
    "# Remover as colunas categóricas originais (sem usar inplace)\n",
    "df_final = df_final.drop(['cidade', 'categoria', 'feedback'], axis=1)"
   ]
  },
  {
   "cell_type": "markdown",
   "id": "79e2f0df-5abd-4f27-b24b-a6aefb430329",
   "metadata": {},
   "source": [
    "### 🔖 Explicações"
   ]
  },
  {
   "cell_type": "markdown",
   "id": "0e415d25-f821-4a9b-a950-a6b062071cce",
   "metadata": {},
   "source": [
    "O `OneHotEncoding` cria uma nova coluna binária para cada categoria. Por exemplo, \"São Paulo\", \"Rio de Janeiro\" viram novas colunas com 0 ou 1.\n",
    "\n",
    "O primeiro comando cria uma instância do **OneHotEncoder**, que será usada para transformar variáveis categóricas em colunas binárias (0 ou 1).\n",
    "\n",
    "- **sparse_output=False**: retorna um **array NumPy** normal (não esparsa), mais fácil de trabalhar.\n",
    "\n",
    "- **drop='first'**: remove a primeira categoria de cada variável para evitar multicolinearidade (muito útil em modelos como Regressão Linear).\n",
    "\n",
    "O `fit_transform` ajusta o encoder às colunas categóricas (fit) e depois aplica a transformação (transform), gerando um array com as categorias convertidas em números. Ao final temos um array NumPy chamado **categorias_codificadas** com as novas colunas criadas pelo One-Hot Encoding.\n",
    "\n",
    "O comando `pd.DataFrame` converte o array **categorias_codificadas** em um novo DataFrame chamado **df_categorias**.\n",
    "\n",
    "Já o método `get_feature_names_out()` gera nomes descritivos para as novas colunas, como: **cidade_Sao Paulo**, **categoria_B**, **feedback_Ruim**.\n",
    "\n",
    "O `pd.concat(..)` concatenando o novo DataFrame com o original\n",
    "\n",
    "- **reset_index(drop=True)** : Reinicia os índices do DataFrame original (df) para garantir que ele combine corretamente com o novo (df_categorias).\n",
    "\n",
    "- **pd.concat(..., axis=1)** : Une os dois DataFrames lado a lado (colunas do original + colunas codificadas).\n",
    "\n",
    "Finalmente `df_final.drop(...)`, remove as colunas categóricas originais (`cidade`, `categoria`, `feedback`) do DataFrame final."
   ]
  },
  {
   "cell_type": "markdown",
   "id": "1af715e4-bdc1-4905-9cf3-e48919928787",
   "metadata": {},
   "source": [
    "### 🐍 Código"
   ]
  },
  {
   "cell_type": "code",
   "execution_count": 18,
   "id": "c5dc86cb-dc2c-48da-a56f-f6690d51a09c",
   "metadata": {},
   "outputs": [
    {
     "name": "stdout",
     "output_type": "stream",
     "text": [
      "   id  idade     renda  nota  cidade_Rio de Janeiro  cidade_São Paulo  \\\n",
      "0   1   65.0  18557.03   6.4                    0.0               0.0   \n",
      "1   2   21.0  10111.54   6.3                    0.0               0.0   \n",
      "2   3   18.0  24588.69   6.1                    0.0               0.0   \n",
      "3   4   31.0  45412.01   5.5                    0.0               0.0   \n",
      "4   5   33.0  37340.94   7.2                    0.0               1.0   \n",
      "\n",
      "   cidade_Vitória  cidade_nan  categoria_B  categoria_nan  feedback_nan  \n",
      "0             0.0         0.0          0.0            0.0           0.0  \n",
      "1             0.0         0.0          0.0            0.0           0.0  \n",
      "2             1.0         0.0          1.0            0.0           0.0  \n",
      "3             0.0         0.0          0.0            0.0           0.0  \n",
      "4             0.0         0.0          0.0            0.0           0.0  \n"
     ]
    }
   ],
   "source": [
    "print(df_final.head())"
   ]
  },
  {
   "cell_type": "markdown",
   "id": "a1bfa6b5-8d6a-4545-97a3-7d75d4a0e90f",
   "metadata": {},
   "source": [
    "### 🔖 Explicações"
   ]
  },
  {
   "cell_type": "markdown",
   "id": "6d27e8ca-8242-416a-be5d-4716f57465ad",
   "metadata": {
    "jupyter": {
     "source_hidden": true
    }
   },
   "source": [
    "..."
   ]
  },
  {
   "cell_type": "markdown",
   "id": "470875e2-f46c-4299-9ada-b673f45d32a3",
   "metadata": {
    "jupyter": {
     "source_hidden": true
    }
   },
   "source": [
    "# 5. Preparar os dados para uso em algoritmos de machine learning com o Scikit-learn\n",
    "- Alguns algoritmos de ML funcionam melhor com dados padronizados (média zero e desvio padrão 1)."
   ]
  },
  {
   "cell_type": "markdown",
   "id": "993f9c1d-189d-4f14-845c-1eaf32906eca",
   "metadata": {},
   "source": [
    "### 🐍 Código"
   ]
  },
  {
   "cell_type": "code",
   "execution_count": 19,
   "id": "8d1c7840-7d6e-407b-b31f-d3b91957b5b2",
   "metadata": {},
   "outputs": [],
   "source": [
    "scaler = StandardScaler()\n",
    "df_final[['idade', 'renda', 'nota']] = scaler.fit_transform(df_final[['idade', 'renda', 'nota']])"
   ]
  },
  {
   "cell_type": "markdown",
   "id": "3b795a21-d5c1-4e46-a9c1-cacccf671190",
   "metadata": {},
   "source": [
    "### 🔖 Explicações"
   ]
  },
  {
   "cell_type": "markdown",
   "id": "ac4feb72-fb7d-47b4-857e-2cfca6d46d59",
   "metadata": {},
   "source": [
    "Este código é usado para **padronizar (normalizar)** as colunas numéricas de um DataFrame (`df_final`) usando a técnica de **StandardScaler**, que faz parte da biblioteca **Scikit-learn**.\n",
    "\n",
    "Cria-se  uma instância do objeto `StandardScaler`, chamado aqui de `scaler`. A padronização ajusta os dados para que tenham escala semelhante, o que pode melhorar o desempenho dos modelos Machine Learning.\n",
    "\n",
    "O método `.fit_transform()` realiza duas etapas em uma só:\n",
    "  1. **`.fit()`**: calcula a média e o desvio padrão das colunas `'idade'`, `'renda'` e `'nota'`.\n",
    "  2. **`.transform()`**: aplica a padronização nos dados com base nos valores calculados.\n",
    "\n",
    "Assim, todos os valores são reescalados para terem média zero e desvio padrão 1.\n",
    "\n",
    "Finalmente substitui-se as colunas originais (`'idade'`, `'renda'`, `'nota'`) no DataFrame `df_final` pelos novos valores padronizados. Ou seja, após essa linha:\n",
    "\n",
    "- As colunas continuam existindo com os mesmos nomes.\n",
    "- Mas agora contêm **valores padronizados** em vez dos originais."
   ]
  },
  {
   "cell_type": "markdown",
   "id": "b7fd34a6-8ccf-474c-92f9-0d6263f24cd2",
   "metadata": {},
   "source": [
    "### 🐍 Código"
   ]
  },
  {
   "cell_type": "code",
   "execution_count": 30,
   "id": "062799be-a806-4549-901e-fe9cf1d28115",
   "metadata": {},
   "outputs": [
    {
     "name": "stdout",
     "output_type": "stream",
     "text": [
      "   idade     renda  nota\n",
      "0   65.0  18557.03   6.4\n",
      "1   21.0  10111.54   6.3\n",
      "2   18.0  24588.69   6.1\n",
      "3   31.0  45412.01   5.5\n",
      "4   33.0  37340.94   7.2\n",
      "5   29.0  19550.52   6.3\n",
      "6   24.0  31021.45   7.8\n",
      "7   40.0   2203.13   8.5\n",
      "8   40.0  34743.23   6.9\n",
      "9   31.0  26474.40   9.7\n"
     ]
    }
   ],
   "source": [
    "print(df[['idade', 'renda', 'nota']].head(10))"
   ]
  },
  {
   "cell_type": "markdown",
   "id": "d4fde0ce-4597-4e1a-9e89-258e5a5ca8d4",
   "metadata": {},
   "source": [
    "### 🔖 Explicações"
   ]
  },
  {
   "cell_type": "markdown",
   "id": "4ef778ba-c9f0-4b67-af7f-317d54fbfdea",
   "metadata": {},
   "source": [
    "..."
   ]
  },
  {
   "cell_type": "markdown",
   "id": "f2ac8c3a-cea1-4066-90a6-7d8a10a9885d",
   "metadata": {},
   "source": [
    "### 🐍 Código"
   ]
  },
  {
   "cell_type": "code",
   "execution_count": 29,
   "id": "7996bb9e-5f4c-46be-b06b-f291e281b333",
   "metadata": {},
   "outputs": [
    {
     "name": "stdout",
     "output_type": "stream",
     "text": [
      "      idade     renda      nota\n",
      "0  0.876163 -0.432702 -0.641326\n",
      "1 -1.384337 -1.078542 -0.707500\n",
      "2 -1.538462  0.028548 -0.839848\n",
      "3 -0.870587  1.620940 -1.236891\n",
      "4 -0.767837  1.003733 -0.111935\n",
      "5 -0.973337 -0.356729 -0.707500\n",
      "6 -1.230212  0.520471  0.285108\n",
      "7 -0.408212 -1.683310  0.748325\n",
      "8 -0.408212  0.805082 -0.310457\n",
      "9 -0.870587  0.172751  1.542412\n"
     ]
    }
   ],
   "source": [
    "print(df_final[['idade', 'renda', 'nota']].head(10))"
   ]
  },
  {
   "cell_type": "markdown",
   "id": "4ae8bb76-d6e0-4b3d-a3d0-c9d3de6317de",
   "metadata": {},
   "source": [
    "### 🔖 Explicações"
   ]
  },
  {
   "cell_type": "markdown",
   "id": "8ebb604d-0a87-401a-bc50-bab8df1370f6",
   "metadata": {},
   "source": [
    "..."
   ]
  },
  {
   "cell_type": "markdown",
   "id": "5dd76cfc-5beb-4cb9-bb1a-c354c5d9fbad",
   "metadata": {},
   "source": [
    "### 🐍 Código"
   ]
  },
  {
   "cell_type": "code",
   "execution_count": 26,
   "id": "d281e486-e4ca-4d97-b4bd-773235b4b6c7",
   "metadata": {},
   "outputs": [
    {
     "data": {
      "text/html": [
       "<div>\n",
       "<style scoped>\n",
       "    .dataframe tbody tr th:only-of-type {\n",
       "        vertical-align: middle;\n",
       "    }\n",
       "\n",
       "    .dataframe tbody tr th {\n",
       "        vertical-align: top;\n",
       "    }\n",
       "\n",
       "    .dataframe thead th {\n",
       "        text-align: right;\n",
       "    }\n",
       "</style>\n",
       "<table border=\"1\" class=\"dataframe\">\n",
       "  <thead>\n",
       "    <tr style=\"text-align: right;\">\n",
       "      <th></th>\n",
       "      <th>idade</th>\n",
       "      <th>renda</th>\n",
       "      <th>nota</th>\n",
       "    </tr>\n",
       "  </thead>\n",
       "  <tbody>\n",
       "    <tr>\n",
       "      <th>count</th>\n",
       "      <td>1.000000e+03</td>\n",
       "      <td>1.000000e+03</td>\n",
       "      <td>1.000000e+03</td>\n",
       "    </tr>\n",
       "    <tr>\n",
       "      <th>mean</th>\n",
       "      <td>9.237056e-17</td>\n",
       "      <td>-1.243450e-16</td>\n",
       "      <td>-9.769963e-18</td>\n",
       "    </tr>\n",
       "    <tr>\n",
       "      <th>std</th>\n",
       "      <td>1.000500e+00</td>\n",
       "      <td>1.000500e+00</td>\n",
       "      <td>1.000500e+00</td>\n",
       "    </tr>\n",
       "    <tr>\n",
       "      <th>min</th>\n",
       "      <td>-2.052213e+00</td>\n",
       "      <td>-1.804905e+00</td>\n",
       "      <td>-4.744106e+00</td>\n",
       "    </tr>\n",
       "    <tr>\n",
       "      <th>25%</th>\n",
       "      <td>-8.705871e-01</td>\n",
       "      <td>-8.667407e-01</td>\n",
       "      <td>-8.398478e-01</td>\n",
       "    </tr>\n",
       "    <tr>\n",
       "      <th>50%</th>\n",
       "      <td>2.788192e-03</td>\n",
       "      <td>-5.852941e-03</td>\n",
       "      <td>-4.576137e-02</td>\n",
       "    </tr>\n",
       "    <tr>\n",
       "      <th>75%</th>\n",
       "      <td>8.247885e-01</td>\n",
       "      <td>8.473194e-01</td>\n",
       "      <td>8.144990e-01</td>\n",
       "    </tr>\n",
       "    <tr>\n",
       "      <th>max</th>\n",
       "      <td>3.033914e+00</td>\n",
       "      <td>4.588738e+00</td>\n",
       "      <td>1.740933e+00</td>\n",
       "    </tr>\n",
       "  </tbody>\n",
       "</table>\n",
       "</div>"
      ],
      "text/plain": [
       "              idade         renda          nota\n",
       "count  1.000000e+03  1.000000e+03  1.000000e+03\n",
       "mean   9.237056e-17 -1.243450e-16 -9.769963e-18\n",
       "std    1.000500e+00  1.000500e+00  1.000500e+00\n",
       "min   -2.052213e+00 -1.804905e+00 -4.744106e+00\n",
       "25%   -8.705871e-01 -8.667407e-01 -8.398478e-01\n",
       "50%    2.788192e-03 -5.852941e-03 -4.576137e-02\n",
       "75%    8.247885e-01  8.473194e-01  8.144990e-01\n",
       "max    3.033914e+00  4.588738e+00  1.740933e+00"
      ]
     },
     "execution_count": 26,
     "metadata": {},
     "output_type": "execute_result"
    }
   ],
   "source": [
    "df_final[['idade', 'renda', 'nota']].describe()"
   ]
  },
  {
   "cell_type": "markdown",
   "id": "e6eae82d-efca-481f-9a73-58d40386dbc3",
   "metadata": {},
   "source": [
    "### 🔖 Explicações"
   ]
  },
  {
   "cell_type": "markdown",
   "id": "d684d0dd-a989-4a49-bb5b-b4d1dcca7c9f",
   "metadata": {},
   "source": [
    "..."
   ]
  }
 ],
 "metadata": {
  "kernelspec": {
   "display_name": "Python (venv)",
   "language": "python",
   "name": "machine_learning"
  },
  "language_info": {
   "codemirror_mode": {
    "name": "ipython",
    "version": 3
   },
   "file_extension": ".py",
   "mimetype": "text/x-python",
   "name": "python",
   "nbconvert_exporter": "python",
   "pygments_lexer": "ipython3",
   "version": "3.12.8"
  }
 },
 "nbformat": 4,
 "nbformat_minor": 5
}
