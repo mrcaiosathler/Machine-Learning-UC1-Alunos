{
 "cells": [
  {
   "cell_type": "markdown",
   "id": "f80bfee1-f3ef-4efe-bd42-8a45ac1d775d",
   "metadata": {},
   "source": [
    "#  Scikit-Learn - Utilizando um modelo treinado"
   ]
  },
  {
   "cell_type": "markdown",
   "id": "41ba8ebc-14c2-40bb-ac35-7d82e1ee3d21",
   "metadata": {},
   "source": [
    "### Objetivo"
   ]
  },
  {
   "cell_type": "markdown",
   "id": "6b59c221-62ad-48f2-ac6e-850394b1d189",
   "metadata": {},
   "source": [
    "> O objetivo principal é a elaboração de um código para **usar um modelo de Machine Learning já treinado para preencher dados faltantes em um novo dataset**. \n",
    ">\n",
    "> Vamos supor que temos um conjunto de dados com informações de alunos (como idade, renda, cidade, nota etc.) e queremos **prever uma categoria** (por exemplo: se o aluno foi aprovado ou reprovado, ou qual tipo de bolsa ele pode receber) com base nas outras informações.\n",
    ">\n",
    "\n",
    "## 📌 Estrutura Geral do Código\n",
    "\n",
    "1. **Carregar o modelo salvo**\n",
    "2. **Ler o novo dataset**\n",
    "3. **Separar colunas por tipo (numéricas e categóricas)**\n",
    "4. **Preencher valores faltantes (imputação)**\n",
    "5. **Transformar variáveis categóricas em números (One-Hot Encoding)**\n",
    "6. **Padronizar os dados numéricos**\n",
    "7. **Usar o modelo para fazer previsões**\n",
    "8. **Adicionar as previsões no dataset original**\n",
    "9. **Mostrar o resultado final**\n"
   ]
  },
  {
   "cell_type": "markdown",
   "id": "8e98e1ce-42f6-4a6b-ad71-29dda32cdb3c",
   "metadata": {},
   "source": [
    "### 🐍 Código - Carregando as bibliotecas"
   ]
  },
  {
   "cell_type": "code",
   "execution_count": 34,
   "id": "1091fdeb-9a49-42a5-b1e4-53dbfa2d2f2f",
   "metadata": {},
   "outputs": [],
   "source": [
    "import pandas as pd\n",
    "import numpy as np\n",
    "from sklearn.preprocessing import OneHotEncoder, StandardScaler\n",
    "from sklearn.impute import SimpleImputer\n",
    "from sklearn.compose import ColumnTransformer\n",
    "from sklearn.metrics import accuracy_score\n",
    "from joblib import load"
   ]
  },
  {
   "cell_type": "markdown",
   "id": "7228030a-7674-4128-8d7f-86a25717f126",
   "metadata": {},
   "source": [
    "### 🔖 Explicações"
   ]
  },
  {
   "cell_type": "markdown",
   "id": "ee1c13f5-f8b4-4ddb-94d5-e7acbe2cf122",
   "metadata": {},
   "source": [
    "| Módulo | O que faz |\n",
    "|-------|-----------|\n",
    "| `OneHotEncoder` | Transforma texto em números. Converte `\"cidade\"` em colunas como `\"cidade_Sao_Paulo\"`, `\"cidade_Rio\"` etc. |\n",
    "| `StandardScaler` | Deixa números na mesma escala. Alguns modelos aprendem melhor quando os números estão equilibrados. |\n",
    "| `SimpleImputer` | Preenche campos vazios. Substitui por média, mediana ou outro valor fixo. |\n",
    "| `ColumnTransformer` | Aplica transformações específicas por tipo de coluna. Permite aplicar `StandardScaler` nas colunas numéricas e `OneHotEncoder` nas categóricas |\n",
    "| `joblib.load` | Carrega um modelo já treinado |"
   ]
  },
  {
   "cell_type": "markdown",
   "id": "a67fe4fd-c8ba-4d57-9cf6-9ff1559e7497",
   "metadata": {},
   "source": [
    "### 🐍 Código - Carregar o modelo salvo"
   ]
  },
  {
   "cell_type": "code",
   "execution_count": 28,
   "id": "ae92db57-0e50-4c92-8029-1dcdcf11a7d5",
   "metadata": {},
   "outputs": [],
   "source": [
    "modelo = load('modelo-treinado/modelo_regressao_logistica.joblib')"
   ]
  },
  {
   "cell_type": "markdown",
   "id": "85da62cc-ab15-41c6-8b86-120cc8746996",
   "metadata": {},
   "source": [
    "### 🔖 Explicações"
   ]
  },
  {
   "cell_type": "markdown",
   "id": "95d7707b-a906-4cce-a14e-143a9e50b734",
   "metadata": {},
   "source": [
    "- Aqui estamos carregando um **modelo de Machine Learning já treinado**, que foi salvo anteriormente com o nome `modelo_regressao_logistica.joblib`.\n",
    "- A função `load()` do módulo `joblib` serve para carregar modelos que foram salvos com `dump()` depois do treinamento.\n",
    "- Esse modelo vai ser usado para **fazer previsões** em novos dados."
   ]
  },
  {
   "cell_type": "markdown",
   "id": "25da5495-f4f3-47bc-a0a1-d99a9ce12802",
   "metadata": {},
   "source": [
    "### 🐍 Código - Ler o novo dataset"
   ]
  },
  {
   "cell_type": "code",
   "execution_count": 8,
   "id": "382a6264-91d8-4972-8e02-088ad9a664fc",
   "metadata": {},
   "outputs": [
    {
     "name": "stdout",
     "output_type": "stream",
     "text": [
      "<class 'pandas.core.frame.DataFrame'>\n",
      "RangeIndex: 1000 entries, 0 to 999\n",
      "Data columns (total 7 columns):\n",
      " #   Column     Non-Null Count  Dtype  \n",
      "---  ------     --------------  -----  \n",
      " 0   id         1000 non-null   int64  \n",
      " 1   idade      981 non-null    float64\n",
      " 2   renda      986 non-null    float64\n",
      " 3   cidade     993 non-null    object \n",
      " 4   categoria  990 non-null    object \n",
      " 5   nota       990 non-null    float64\n",
      " 6   feedback   985 non-null    object \n",
      "dtypes: float64(3), int64(1), object(3)\n",
      "memory usage: 54.8+ KB\n"
     ]
    }
   ],
   "source": [
    "df_novo = pd.read_csv('dataset/dataset_sudeste_simples_realista_outliers-1k.csv')\n",
    "df_novo.info()\n"
   ]
  },
  {
   "cell_type": "markdown",
   "id": "2db3ffd1-151c-49db-a734-b3c296a5b38e",
   "metadata": {},
   "source": [
    "### 🔖 Explicações"
   ]
  },
  {
   "cell_type": "markdown",
   "id": "9a6b5d3e-aff4-441e-a0cb-31ecda7e51db",
   "metadata": {},
   "source": [
    "- Estamos lendo um arquivo `.csv` chamado `dataset_sudeste_simples_realista_outliers-20250618_112332.csv` usando o Pandas (`pd.read_csv`).\n",
    "- Esse é o **conjunto de dados onde falta alguma informação** que queremos prever.\n",
    "- Por exemplo, talvez a coluna `\"categoria\"` esteja vazia ou ausente, e queremos usar o modelo para completá-la."
   ]
  },
  {
   "cell_type": "markdown",
   "id": "4ddd8eaf-c7bb-49c0-9720-601743ca52eb",
   "metadata": {},
   "source": [
    "### 🐍 Código - Separar colunas por tipo"
   ]
  },
  {
   "cell_type": "code",
   "execution_count": 45,
   "id": "8d46b0ac-d4ab-4f63-b81d-35e92e681faa",
   "metadata": {},
   "outputs": [],
   "source": [
    "colunas_numericas = ['idade', 'renda', 'nota']\n",
    "colunas_categoricas = ['cidade', 'feedback']"
   ]
  },
  {
   "cell_type": "markdown",
   "id": "b7fed67c-7db6-4212-b4bf-922e89b41010",
   "metadata": {},
   "source": [
    "### 🔖 Explicações"
   ]
  },
  {
   "cell_type": "markdown",
   "id": "c4a36cf3-6d8f-46fb-bccb-e5cf74175316",
   "metadata": {},
   "source": [
    "- Separamos as colunas do dataset em dois grupos:\n",
    "  - **Numéricas**: que têm valores como números (ex: idade, renda, nota)\n",
    "  - **Categóricas**: que têm valores como textos ou categorias (ex: cidade, feedback)\n",
    "\n",
    "Essa separação é importante porque **precisamos preparar os dados de formas diferentes** dependendo do tipo."
   ]
  },
  {
   "cell_type": "markdown",
   "id": "e19dfbe9-c0f7-4e64-a8ab-1fa7d1c9d65a",
   "metadata": {},
   "source": [
    "### 🐍 Código - Imputação de valores faltantes"
   ]
  },
  {
   "cell_type": "code",
   "execution_count": 46,
   "id": "e8505405-ca49-47fc-b5ec-040dd6197681",
   "metadata": {},
   "outputs": [],
   "source": [
    "imputer = SimpleImputer(strategy='mean')\n",
    "df_novo[colunas_numericas] = imputer.fit_transform(df_novo[colunas_numericas])"
   ]
  },
  {
   "cell_type": "markdown",
   "id": "2d8ca86b-1c45-4894-a5ac-79109b40994a",
   "metadata": {},
   "source": [
    "### 🔖 Explicações"
   ]
  },
  {
   "cell_type": "markdown",
   "id": "662ea879-ef1c-4997-9134-090e06591154",
   "metadata": {},
   "source": [
    "- Valores faltantes são aqueles que estão vazios ou com `NaN` (Not a Number).\n",
    "- Usamos o `SimpleImputer` com estratégia `'mean'` para **substituir esses valores pela média** das colunas numéricas.\n",
    "- Isso é necessário pois modelos de ML **não aceitam valores faltantes**."
   ]
  },
  {
   "cell_type": "markdown",
   "id": "de6f63c8-7d57-420a-8e37-b147a9af4052",
   "metadata": {},
   "source": [
    "### 🐍 Código"
   ]
  },
  {
   "cell_type": "code",
   "execution_count": 47,
   "id": "11d771b4-c89a-40d8-a87f-204ecad103d9",
   "metadata": {},
   "outputs": [
    {
     "name": "stdout",
     "output_type": "stream",
     "text": [
      "<class 'pandas.core.frame.DataFrame'>\n",
      "RangeIndex: 1000 entries, 0 to 999\n",
      "Data columns (total 3 columns):\n",
      " #   Column  Non-Null Count  Dtype  \n",
      "---  ------  --------------  -----  \n",
      " 0   idade   1000 non-null   float64\n",
      " 1   renda   1000 non-null   float64\n",
      " 2   nota    1000 non-null   float64\n",
      "dtypes: float64(3)\n",
      "memory usage: 23.6 KB\n"
     ]
    }
   ],
   "source": [
    "df_novo[['idade','renda','nota']].info()"
   ]
  },
  {
   "cell_type": "markdown",
   "id": "cacce32e-d078-4d50-8e06-e0bde4937770",
   "metadata": {},
   "source": [
    "### 🔖 Explicações"
   ]
  },
  {
   "cell_type": "markdown",
   "id": "89d01d14-db0e-46ac-98c4-02f1fedd62d8",
   "metadata": {},
   "source": [
    "..."
   ]
  },
  {
   "cell_type": "markdown",
   "id": "ce5db709-e512-4d92-8568-864585385409",
   "metadata": {},
   "source": [
    "### 🐍 Código"
   ]
  },
  {
   "cell_type": "code",
   "execution_count": 48,
   "id": "81cd3f44-9d6b-40cb-9ead-853fd834d91c",
   "metadata": {},
   "outputs": [],
   "source": [
    "encoder = OneHotEncoder(handle_unknown='ignore', sparse_output=False)\n",
    "categorias_codificadas = encoder.fit_transform(df_novo[colunas_categoricas])\n",
    "\n",
    "df_categorias = pd.DataFrame(categorias_codificadas, columns=encoder.get_feature_names_out(colunas_categoricas))\n",
    "df_processado = pd.concat([df_novo.reset_index(drop=True), df_categorias], axis=1)\n",
    "df_processado.drop(colunas_categoricas, axis=1, inplace=True)"
   ]
  },
  {
   "cell_type": "markdown",
   "id": "68989df6-63b0-4fbc-ae33-a0c6211cc603",
   "metadata": {},
   "source": [
    "### 🔖 Explicações"
   ]
  },
  {
   "cell_type": "markdown",
   "id": "3aa7f610-162b-4649-a9c6-5a1d744c898d",
   "metadata": {},
   "source": [
    "- Modelos de ML **não entendem texto diretamente**. Então precisamos transformar palavras em números.\n",
    "- O `OneHotEncoder` cria **colunas binárias (0 ou 1)** para representar cada categoria.\n",
    "  - Exemplo: Se a coluna `\"cidade\"` tem os valores `\"São Paulo\"`, `\"Rio\"`, `\"Curitiba\"`, ele cria três colunas: `cidade_São Paulo`, `cidade_Rio`, `cidade_Curitiba`.\n",
    "\n",
    "> ⚠️ Importante: usamos `handle_unknown='ignore'` para evitar erros caso apareça uma nova cidade no novo dataset que não estava nos dados de treino."
   ]
  },
  {
   "cell_type": "markdown",
   "id": "03b017a9-8f82-4b4e-946e-c240a305844f",
   "metadata": {},
   "source": [
    "### 🐍 Código"
   ]
  },
  {
   "cell_type": "code",
   "execution_count": 49,
   "id": "d7d1e18d-5c5d-40aa-a0c3-9afc54f7469c",
   "metadata": {},
   "outputs": [
    {
     "name": "stdout",
     "output_type": "stream",
     "text": [
      "<class 'pandas.core.frame.DataFrame'>\n",
      "RangeIndex: 1000 entries, 0 to 999\n",
      "Data columns (total 9 columns):\n",
      " #   Column                 Non-Null Count  Dtype  \n",
      "---  ------                 --------------  -----  \n",
      " 0   cidade_Belo Horizonte  1000 non-null   float64\n",
      " 1   cidade_Rio de Janeiro  1000 non-null   float64\n",
      " 2   cidade_São Paulo       1000 non-null   float64\n",
      " 3   cidade_Vitória         1000 non-null   float64\n",
      " 4   cidade_nan             1000 non-null   float64\n",
      " 5   feedback_Bom           1000 non-null   float64\n",
      " 6   feedback_Regular       1000 non-null   float64\n",
      " 7   feedback_Ruim          1000 non-null   float64\n",
      " 8   feedback_nan           1000 non-null   float64\n",
      "dtypes: float64(9)\n",
      "memory usage: 70.4 KB\n"
     ]
    },
    {
     "data": {
      "text/html": [
       "<div>\n",
       "<style scoped>\n",
       "    .dataframe tbody tr th:only-of-type {\n",
       "        vertical-align: middle;\n",
       "    }\n",
       "\n",
       "    .dataframe tbody tr th {\n",
       "        vertical-align: top;\n",
       "    }\n",
       "\n",
       "    .dataframe thead th {\n",
       "        text-align: right;\n",
       "    }\n",
       "</style>\n",
       "<table border=\"1\" class=\"dataframe\">\n",
       "  <thead>\n",
       "    <tr style=\"text-align: right;\">\n",
       "      <th></th>\n",
       "      <th>cidade_Belo Horizonte</th>\n",
       "      <th>cidade_Rio de Janeiro</th>\n",
       "      <th>cidade_São Paulo</th>\n",
       "      <th>cidade_Vitória</th>\n",
       "      <th>cidade_nan</th>\n",
       "      <th>feedback_Bom</th>\n",
       "      <th>feedback_Regular</th>\n",
       "      <th>feedback_Ruim</th>\n",
       "      <th>feedback_nan</th>\n",
       "    </tr>\n",
       "  </thead>\n",
       "  <tbody>\n",
       "    <tr>\n",
       "      <th>0</th>\n",
       "      <td>0.0</td>\n",
       "      <td>1.0</td>\n",
       "      <td>0.0</td>\n",
       "      <td>0.0</td>\n",
       "      <td>0.0</td>\n",
       "      <td>1.0</td>\n",
       "      <td>0.0</td>\n",
       "      <td>0.0</td>\n",
       "      <td>0.0</td>\n",
       "    </tr>\n",
       "    <tr>\n",
       "      <th>1</th>\n",
       "      <td>1.0</td>\n",
       "      <td>0.0</td>\n",
       "      <td>0.0</td>\n",
       "      <td>0.0</td>\n",
       "      <td>0.0</td>\n",
       "      <td>0.0</td>\n",
       "      <td>1.0</td>\n",
       "      <td>0.0</td>\n",
       "      <td>0.0</td>\n",
       "    </tr>\n",
       "    <tr>\n",
       "      <th>2</th>\n",
       "      <td>0.0</td>\n",
       "      <td>0.0</td>\n",
       "      <td>0.0</td>\n",
       "      <td>1.0</td>\n",
       "      <td>0.0</td>\n",
       "      <td>0.0</td>\n",
       "      <td>0.0</td>\n",
       "      <td>1.0</td>\n",
       "      <td>0.0</td>\n",
       "    </tr>\n",
       "    <tr>\n",
       "      <th>3</th>\n",
       "      <td>1.0</td>\n",
       "      <td>0.0</td>\n",
       "      <td>0.0</td>\n",
       "      <td>0.0</td>\n",
       "      <td>0.0</td>\n",
       "      <td>0.0</td>\n",
       "      <td>1.0</td>\n",
       "      <td>0.0</td>\n",
       "      <td>0.0</td>\n",
       "    </tr>\n",
       "    <tr>\n",
       "      <th>4</th>\n",
       "      <td>0.0</td>\n",
       "      <td>0.0</td>\n",
       "      <td>0.0</td>\n",
       "      <td>1.0</td>\n",
       "      <td>0.0</td>\n",
       "      <td>0.0</td>\n",
       "      <td>0.0</td>\n",
       "      <td>0.0</td>\n",
       "      <td>1.0</td>\n",
       "    </tr>\n",
       "  </tbody>\n",
       "</table>\n",
       "</div>"
      ],
      "text/plain": [
       "   cidade_Belo Horizonte  cidade_Rio de Janeiro  cidade_São Paulo  \\\n",
       "0                    0.0                    1.0               0.0   \n",
       "1                    1.0                    0.0               0.0   \n",
       "2                    0.0                    0.0               0.0   \n",
       "3                    1.0                    0.0               0.0   \n",
       "4                    0.0                    0.0               0.0   \n",
       "\n",
       "   cidade_Vitória  cidade_nan  feedback_Bom  feedback_Regular  feedback_Ruim  \\\n",
       "0             0.0         0.0           1.0               0.0            0.0   \n",
       "1             0.0         0.0           0.0               1.0            0.0   \n",
       "2             1.0         0.0           0.0               0.0            1.0   \n",
       "3             0.0         0.0           0.0               1.0            0.0   \n",
       "4             1.0         0.0           0.0               0.0            0.0   \n",
       "\n",
       "   feedback_nan  \n",
       "0           0.0  \n",
       "1           0.0  \n",
       "2           0.0  \n",
       "3           0.0  \n",
       "4           1.0  "
      ]
     },
     "execution_count": 49,
     "metadata": {},
     "output_type": "execute_result"
    }
   ],
   "source": [
    "df_categorias.info()\n",
    "df_categorias.head(5)"
   ]
  },
  {
   "cell_type": "markdown",
   "id": "b4dfa890-1cbb-4d36-a56a-206d29e1aac0",
   "metadata": {},
   "source": [
    "### 🔖 Explicações"
   ]
  },
  {
   "cell_type": "markdown",
   "id": "8522921e-0c4e-4288-84b6-848948a57d1a",
   "metadata": {},
   "source": [
    "..."
   ]
  },
  {
   "cell_type": "markdown",
   "id": "c807d0ad-47b9-43b4-bd21-3719053e6da4",
   "metadata": {},
   "source": [
    "### 🐍 Código"
   ]
  },
  {
   "cell_type": "code",
   "execution_count": 50,
   "id": "7ee9e9ff-7670-40db-b5ef-dd0b8a5fb1d0",
   "metadata": {},
   "outputs": [
    {
     "name": "stdout",
     "output_type": "stream",
     "text": [
      "<class 'pandas.core.frame.DataFrame'>\n",
      "RangeIndex: 1000 entries, 0 to 999\n",
      "Data columns (total 14 columns):\n",
      " #   Column                 Non-Null Count  Dtype  \n",
      "---  ------                 --------------  -----  \n",
      " 0   id                     1000 non-null   int64  \n",
      " 1   idade                  1000 non-null   float64\n",
      " 2   renda                  1000 non-null   float64\n",
      " 3   categoria              990 non-null    object \n",
      " 4   nota                   1000 non-null   float64\n",
      " 5   cidade_Belo Horizonte  1000 non-null   float64\n",
      " 6   cidade_Rio de Janeiro  1000 non-null   float64\n",
      " 7   cidade_São Paulo       1000 non-null   float64\n",
      " 8   cidade_Vitória         1000 non-null   float64\n",
      " 9   cidade_nan             1000 non-null   float64\n",
      " 10  feedback_Bom           1000 non-null   float64\n",
      " 11  feedback_Regular       1000 non-null   float64\n",
      " 12  feedback_Ruim          1000 non-null   float64\n",
      " 13  feedback_nan           1000 non-null   float64\n",
      "dtypes: float64(12), int64(1), object(1)\n",
      "memory usage: 109.5+ KB\n"
     ]
    },
    {
     "data": {
      "text/html": [
       "<div>\n",
       "<style scoped>\n",
       "    .dataframe tbody tr th:only-of-type {\n",
       "        vertical-align: middle;\n",
       "    }\n",
       "\n",
       "    .dataframe tbody tr th {\n",
       "        vertical-align: top;\n",
       "    }\n",
       "\n",
       "    .dataframe thead th {\n",
       "        text-align: right;\n",
       "    }\n",
       "</style>\n",
       "<table border=\"1\" class=\"dataframe\">\n",
       "  <thead>\n",
       "    <tr style=\"text-align: right;\">\n",
       "      <th></th>\n",
       "      <th>idade</th>\n",
       "      <th>renda</th>\n",
       "      <th>nota</th>\n",
       "    </tr>\n",
       "  </thead>\n",
       "  <tbody>\n",
       "    <tr>\n",
       "      <th>0</th>\n",
       "      <td>36.000000</td>\n",
       "      <td>7038.010000</td>\n",
       "      <td>2.9</td>\n",
       "    </tr>\n",
       "    <tr>\n",
       "      <th>1</th>\n",
       "      <td>43.054027</td>\n",
       "      <td>9306.040000</td>\n",
       "      <td>5.1</td>\n",
       "    </tr>\n",
       "    <tr>\n",
       "      <th>2</th>\n",
       "      <td>35.000000</td>\n",
       "      <td>5148.470000</td>\n",
       "      <td>9.4</td>\n",
       "    </tr>\n",
       "    <tr>\n",
       "      <th>3</th>\n",
       "      <td>16.000000</td>\n",
       "      <td>12597.910000</td>\n",
       "      <td>1.8</td>\n",
       "    </tr>\n",
       "    <tr>\n",
       "      <th>4</th>\n",
       "      <td>41.000000</td>\n",
       "      <td>11057.240000</td>\n",
       "      <td>0.3</td>\n",
       "    </tr>\n",
       "    <tr>\n",
       "      <th>5</th>\n",
       "      <td>51.000000</td>\n",
       "      <td>6113.010000</td>\n",
       "      <td>1.1</td>\n",
       "    </tr>\n",
       "    <tr>\n",
       "      <th>6</th>\n",
       "      <td>69.000000</td>\n",
       "      <td>7170.179635</td>\n",
       "      <td>6.4</td>\n",
       "    </tr>\n",
       "    <tr>\n",
       "      <th>7</th>\n",
       "      <td>31.000000</td>\n",
       "      <td>4359.390000</td>\n",
       "      <td>1.8</td>\n",
       "    </tr>\n",
       "    <tr>\n",
       "      <th>8</th>\n",
       "      <td>41.000000</td>\n",
       "      <td>10422.770000</td>\n",
       "      <td>2.8</td>\n",
       "    </tr>\n",
       "    <tr>\n",
       "      <th>9</th>\n",
       "      <td>40.000000</td>\n",
       "      <td>9635.700000</td>\n",
       "      <td>9.9</td>\n",
       "    </tr>\n",
       "  </tbody>\n",
       "</table>\n",
       "</div>"
      ],
      "text/plain": [
       "       idade         renda  nota\n",
       "0  36.000000   7038.010000   2.9\n",
       "1  43.054027   9306.040000   5.1\n",
       "2  35.000000   5148.470000   9.4\n",
       "3  16.000000  12597.910000   1.8\n",
       "4  41.000000  11057.240000   0.3\n",
       "5  51.000000   6113.010000   1.1\n",
       "6  69.000000   7170.179635   6.4\n",
       "7  31.000000   4359.390000   1.8\n",
       "8  41.000000  10422.770000   2.8\n",
       "9  40.000000   9635.700000   9.9"
      ]
     },
     "execution_count": 50,
     "metadata": {},
     "output_type": "execute_result"
    }
   ],
   "source": [
    "df_processado.info()\n",
    "df_processado[colunas_numericas].head(10)"
   ]
  },
  {
   "cell_type": "markdown",
   "id": "82f52381-ffe3-403f-ae9f-8371e910de61",
   "metadata": {},
   "source": [
    "### 🐍 Código"
   ]
  },
  {
   "cell_type": "code",
   "execution_count": 53,
   "id": "686bf882-26c3-44f4-9e5b-cbf4192fff93",
   "metadata": {},
   "outputs": [
    {
     "name": "stdout",
     "output_type": "stream",
     "text": [
      "<class 'pandas.core.frame.DataFrame'>\n",
      "Index: 990 entries, 0 to 999\n",
      "Data columns (total 14 columns):\n",
      " #   Column                 Non-Null Count  Dtype  \n",
      "---  ------                 --------------  -----  \n",
      " 0   id                     990 non-null    int64  \n",
      " 1   idade                  990 non-null    float64\n",
      " 2   renda                  990 non-null    float64\n",
      " 3   categoria              990 non-null    object \n",
      " 4   nota                   990 non-null    float64\n",
      " 5   cidade_Belo Horizonte  990 non-null    float64\n",
      " 6   cidade_Rio de Janeiro  990 non-null    float64\n",
      " 7   cidade_São Paulo       990 non-null    float64\n",
      " 8   cidade_Vitória         990 non-null    float64\n",
      " 9   cidade_nan             990 non-null    float64\n",
      " 10  feedback_Bom           990 non-null    float64\n",
      " 11  feedback_Regular       990 non-null    float64\n",
      " 12  feedback_Ruim          990 non-null    float64\n",
      " 13  feedback_nan           990 non-null    float64\n",
      "dtypes: float64(12), int64(1), object(1)\n",
      "memory usage: 116.0+ KB\n"
     ]
    }
   ],
   "source": [
    "df_processado=df_processado.dropna()\n",
    "df_processado.info()"
   ]
  },
  {
   "cell_type": "markdown",
   "id": "6d20bd99-0d54-4e71-910f-e31ad87ae7c2",
   "metadata": {},
   "source": [
    "### 🔖 Explicações"
   ]
  },
  {
   "cell_type": "markdown",
   "id": "2484a689-01a3-475a-9490-d4c5ae1ebad8",
   "metadata": {},
   "source": [
    "..."
   ]
  },
  {
   "cell_type": "markdown",
   "id": "8b8d6c94-d712-4a32-aefb-80a1ec2811b2",
   "metadata": {},
   "source": [
    "### 🐍 Código - Padronização dos dados numéricos"
   ]
  },
  {
   "cell_type": "code",
   "execution_count": 54,
   "id": "acee79a9-8274-427a-b9fb-976aa394f52a",
   "metadata": {},
   "outputs": [],
   "source": [
    "scaler = StandardScaler()\n",
    "df_processado[colunas_numericas] = scaler.fit_transform(df_processado[colunas_numericas])"
   ]
  },
  {
   "cell_type": "markdown",
   "id": "0349d8a4-f1ed-4488-a55a-cbddf28f36b3",
   "metadata": {},
   "source": [
    "### 🔖 Explicações"
   ]
  },
  {
   "cell_type": "markdown",
   "id": "8c6c465a-f35b-4a03-b392-3ffbb814338e",
   "metadata": {},
   "source": [
    "- Muitos modelos de Machine Learning exigem que os dados numéricos estejam na mesma escala.\n",
    "- O `StandardScaler` **padroniza os valores**, ou seja, transforma-os para ter média zero e desvio padrão igual a 1.\n",
    "- Isso evita que colunas com números muito grandes (ex: renda em reais) dominem o modelo."
   ]
  },
  {
   "cell_type": "markdown",
   "id": "7cdd91cf-7d2a-4bcb-a1a2-407502de118b",
   "metadata": {},
   "source": [
    "### 🐍 Código"
   ]
  },
  {
   "cell_type": "code",
   "execution_count": 55,
   "id": "5bf7f268-63f0-4c1c-84f5-ef4ed4b2c008",
   "metadata": {},
   "outputs": [
    {
     "data": {
      "text/html": [
       "<div>\n",
       "<style scoped>\n",
       "    .dataframe tbody tr th:only-of-type {\n",
       "        vertical-align: middle;\n",
       "    }\n",
       "\n",
       "    .dataframe tbody tr th {\n",
       "        vertical-align: top;\n",
       "    }\n",
       "\n",
       "    .dataframe thead th {\n",
       "        text-align: right;\n",
       "    }\n",
       "</style>\n",
       "<table border=\"1\" class=\"dataframe\">\n",
       "  <thead>\n",
       "    <tr style=\"text-align: right;\">\n",
       "      <th></th>\n",
       "      <th>idade</th>\n",
       "      <th>renda</th>\n",
       "      <th>nota</th>\n",
       "    </tr>\n",
       "  </thead>\n",
       "  <tbody>\n",
       "    <tr>\n",
       "      <th>0</th>\n",
       "      <td>-0.433375</td>\n",
       "      <td>-0.037364</td>\n",
       "      <td>-0.779476</td>\n",
       "    </tr>\n",
       "    <tr>\n",
       "      <th>1</th>\n",
       "      <td>0.001024</td>\n",
       "      <td>0.625957</td>\n",
       "      <td>-0.026122</td>\n",
       "    </tr>\n",
       "    <tr>\n",
       "      <th>2</th>\n",
       "      <td>-0.494957</td>\n",
       "      <td>-0.589989</td>\n",
       "      <td>1.446344</td>\n",
       "    </tr>\n",
       "    <tr>\n",
       "      <th>3</th>\n",
       "      <td>-1.665010</td>\n",
       "      <td>1.588715</td>\n",
       "      <td>-1.156153</td>\n",
       "    </tr>\n",
       "    <tr>\n",
       "      <th>4</th>\n",
       "      <td>-0.125467</td>\n",
       "      <td>1.138122</td>\n",
       "      <td>-1.669804</td>\n",
       "    </tr>\n",
       "    <tr>\n",
       "      <th>5</th>\n",
       "      <td>0.490351</td>\n",
       "      <td>-0.307895</td>\n",
       "      <td>-1.395857</td>\n",
       "    </tr>\n",
       "    <tr>\n",
       "      <th>6</th>\n",
       "      <td>1.598822</td>\n",
       "      <td>0.001291</td>\n",
       "      <td>0.419042</td>\n",
       "    </tr>\n",
       "    <tr>\n",
       "      <th>7</th>\n",
       "      <td>-0.741284</td>\n",
       "      <td>-0.820768</td>\n",
       "      <td>-1.156153</td>\n",
       "    </tr>\n",
       "    <tr>\n",
       "      <th>8</th>\n",
       "      <td>-0.125467</td>\n",
       "      <td>0.952562</td>\n",
       "      <td>-0.813719</td>\n",
       "    </tr>\n",
       "    <tr>\n",
       "      <th>9</th>\n",
       "      <td>-0.187048</td>\n",
       "      <td>0.722371</td>\n",
       "      <td>1.617561</td>\n",
       "    </tr>\n",
       "  </tbody>\n",
       "</table>\n",
       "</div>"
      ],
      "text/plain": [
       "      idade     renda      nota\n",
       "0 -0.433375 -0.037364 -0.779476\n",
       "1  0.001024  0.625957 -0.026122\n",
       "2 -0.494957 -0.589989  1.446344\n",
       "3 -1.665010  1.588715 -1.156153\n",
       "4 -0.125467  1.138122 -1.669804\n",
       "5  0.490351 -0.307895 -1.395857\n",
       "6  1.598822  0.001291  0.419042\n",
       "7 -0.741284 -0.820768 -1.156153\n",
       "8 -0.125467  0.952562 -0.813719\n",
       "9 -0.187048  0.722371  1.617561"
      ]
     },
     "execution_count": 55,
     "metadata": {},
     "output_type": "execute_result"
    }
   ],
   "source": [
    "df_processado[colunas_numericas].head(10)"
   ]
  },
  {
   "cell_type": "markdown",
   "id": "6761a07d-e6f1-46f3-91ec-e346aad3e890",
   "metadata": {},
   "source": [
    "### 🔖 Explicações"
   ]
  },
  {
   "cell_type": "markdown",
   "id": "f312f63c-54c3-4987-b0c1-bff431b6cb1f",
   "metadata": {},
   "source": [
    "..."
   ]
  },
  {
   "cell_type": "markdown",
   "id": "28de3719-0571-4556-a265-94a84e248972",
   "metadata": {},
   "source": [
    "### 🐍 Código - Preparando os dados"
   ]
  },
  {
   "cell_type": "code",
   "execution_count": 57,
   "id": "fb6a71bb-4583-4b37-bb24-99525e1e61c1",
   "metadata": {},
   "outputs": [
    {
     "name": "stdout",
     "output_type": "stream",
     "text": [
      "<class 'pandas.core.frame.DataFrame'>\n",
      "Index: 990 entries, 0 to 999\n",
      "Data columns (total 13 columns):\n",
      " #   Column                 Non-Null Count  Dtype  \n",
      "---  ------                 --------------  -----  \n",
      " 0   id                     990 non-null    int64  \n",
      " 1   idade                  990 non-null    float64\n",
      " 2   renda                  990 non-null    float64\n",
      " 3   nota                   990 non-null    float64\n",
      " 4   cidade_Belo Horizonte  990 non-null    float64\n",
      " 5   cidade_Rio de Janeiro  990 non-null    float64\n",
      " 6   cidade_São Paulo       990 non-null    float64\n",
      " 7   cidade_Vitória         990 non-null    float64\n",
      " 8   cidade_nan             990 non-null    float64\n",
      " 9   feedback_Bom           990 non-null    float64\n",
      " 10  feedback_Regular       990 non-null    float64\n",
      " 11  feedback_Ruim          990 non-null    float64\n",
      " 12  feedback_nan           990 non-null    float64\n",
      "dtypes: float64(12), int64(1)\n",
      "memory usage: 108.3 KB\n",
      "\n",
      "\n",
      "\n",
      "<class 'pandas.core.series.Series'>\n",
      "Index: 990 entries, 0 to 999\n",
      "Series name: categoria\n",
      "Non-Null Count  Dtype \n",
      "--------------  ----- \n",
      "990 non-null    object\n",
      "dtypes: object(1)\n",
      "memory usage: 15.5+ KB\n"
     ]
    }
   ],
   "source": [
    "# X = todas as colunas, exceto 'categoria'\n",
    "X = df_processado.drop('categoria', axis=1)\n",
    "X.info()\n",
    "\n",
    "print(f\"\\n\\n\")\n",
    "\n",
    "# y = a coluna que queremos prever\n",
    "y = df_processado['categoria']\n",
    "y.info()"
   ]
  },
  {
   "cell_type": "markdown",
   "id": "ec70cdc6-8dc8-44ee-b1fa-0214ba867e53",
   "metadata": {},
   "source": [
    "### 🔖 Explicações"
   ]
  },
  {
   "cell_type": "markdown",
   "id": "9a12a346-9fb8-4788-ba4a-7a2cbabf5afd",
   "metadata": {},
   "source": [
    "..."
   ]
  },
  {
   "cell_type": "markdown",
   "id": "ba905946-68fd-4af2-96b0-a1ccf0cf07d6",
   "metadata": {},
   "source": [
    "### 🐍 Código - Fazer previsões com o modelo carregado"
   ]
  },
  {
   "cell_type": "code",
   "execution_count": 58,
   "id": "1ff7abea-ff86-468c-961d-bda1f9dccafe",
   "metadata": {},
   "outputs": [],
   "source": [
    "previsoes = modelo.predict(X)"
   ]
  },
  {
   "cell_type": "markdown",
   "id": "f6561471-1511-4b2b-b4e9-c478bb217e65",
   "metadata": {},
   "source": [
    "### 🔖 Explicações"
   ]
  },
  {
   "cell_type": "markdown",
   "id": "f194db19-0b1d-4308-a68a-0e0686346d68",
   "metadata": {},
   "source": [
    "..."
   ]
  },
  {
   "cell_type": "markdown",
   "id": "502c145f-8fd7-4bc5-8802-9da8f1fbbcfa",
   "metadata": {},
   "source": [
    "### 🐍 Código"
   ]
  },
  {
   "cell_type": "code",
   "execution_count": 59,
   "id": "bc33d54c-f548-48ee-855c-ed16b1a4ad4c",
   "metadata": {},
   "outputs": [
    {
     "name": "stdout",
     "output_type": "stream",
     "text": [
      "Acurácia do modelo: 0.46\n"
     ]
    }
   ],
   "source": [
    "acuracia = accuracy_score(y, previsoes)\n",
    "print(f'Acurácia do modelo: {acuracia:.2f}')"
   ]
  },
  {
   "cell_type": "markdown",
   "id": "c8117424-70ff-44af-add1-391412a5a3ed",
   "metadata": {},
   "source": [
    "### 🔖 Explicações"
   ]
  },
  {
   "cell_type": "markdown",
   "id": "806f7814-2e4d-4f6a-8aff-3093a96c8360",
   "metadata": {},
   "source": [
    "- **`accuracy_score()`**: é uma função do Scikit-learn que calcula a **acurácia**, ou seja, a porcentagem de previsões corretas.\n",
    "- **`y`**: são os valores reais (corretos) que o modelo deveria prever.\n",
    "- **`previsoes`**: são as previsões feitas pelo modelo.\n",
    "- **Resultado:** um número entre 0 e 1 (ex: `0.85` = 85% de acerto)\n",
    "\n",
    "Esse é um dos métodos mais simples e comuns para avaliar modelos de classificação."
   ]
  },
  {
   "cell_type": "markdown",
   "id": "b5205afc-a103-4358-9540-0bd7cd8fca6f",
   "metadata": {},
   "source": [
    "### 🐍 Código"
   ]
  },
  {
   "cell_type": "code",
   "execution_count": 1,
   "id": "2e9f7eec-208b-4fe9-a0b2-61174f47c74f",
   "metadata": {},
   "outputs": [],
   "source": [
    "#"
   ]
  },
  {
   "cell_type": "markdown",
   "id": "614ec94b-e190-4b53-8f1d-f9b7280bda65",
   "metadata": {},
   "source": [
    "### 🔖 Explicações"
   ]
  },
  {
   "cell_type": "markdown",
   "id": "bce9de98-d072-48cd-977c-0be908950feb",
   "metadata": {},
   "source": [
    "..."
   ]
  },
  {
   "cell_type": "markdown",
   "id": "0b42d387-6dad-4d36-86b1-1f4194798d3f",
   "metadata": {},
   "source": [
    "### 🐍 Código"
   ]
  },
  {
   "cell_type": "code",
   "execution_count": 1,
   "id": "90454dec-2eef-4016-b3a1-986620bc9d69",
   "metadata": {},
   "outputs": [],
   "source": [
    "#"
   ]
  },
  {
   "cell_type": "markdown",
   "id": "1ecdac21-d2a8-4039-ae84-5657d8b9995d",
   "metadata": {},
   "source": [
    "### 🔖 Explicações"
   ]
  },
  {
   "cell_type": "markdown",
   "id": "69f05019-2a5f-40a6-bfb2-5b1ae306252f",
   "metadata": {},
   "source": [
    "..."
   ]
  },
  {
   "cell_type": "markdown",
   "id": "fe38cfd6-4b03-4285-b652-9c5c806ec688",
   "metadata": {},
   "source": [
    "### 🐍 Código"
   ]
  },
  {
   "cell_type": "code",
   "execution_count": 1,
   "id": "00ef77e7-dd1b-470e-bb67-d3b783e87457",
   "metadata": {},
   "outputs": [],
   "source": [
    "#"
   ]
  },
  {
   "cell_type": "markdown",
   "id": "ddc7c3e2-6e79-493a-b699-655ee31817d0",
   "metadata": {},
   "source": [
    "### 🔖 Explicações"
   ]
  },
  {
   "cell_type": "markdown",
   "id": "beff9cd7-cee8-40f3-baeb-415f63869501",
   "metadata": {},
   "source": [
    "..."
   ]
  },
  {
   "cell_type": "markdown",
   "id": "91b151e3-4a94-41bb-bbba-bfb6e512ff83",
   "metadata": {},
   "source": [
    "### 🐍 Código"
   ]
  },
  {
   "cell_type": "code",
   "execution_count": 1,
   "id": "f41c24e7-a8d6-4a80-a79c-8b386c131f39",
   "metadata": {},
   "outputs": [],
   "source": [
    "#"
   ]
  },
  {
   "cell_type": "markdown",
   "id": "5d1ef79b-754e-4e98-b32c-d3db6b2dff49",
   "metadata": {},
   "source": [
    "### 🔖 Explicações"
   ]
  },
  {
   "cell_type": "markdown",
   "id": "8a1ed557-9a9e-4113-a7d6-ca90cc73e757",
   "metadata": {},
   "source": [
    "..."
   ]
  },
  {
   "cell_type": "markdown",
   "id": "c84b9b9f-5eea-4bb7-834a-60fdc2d948e9",
   "metadata": {},
   "source": [
    "### 🐍 Código"
   ]
  },
  {
   "cell_type": "code",
   "execution_count": 1,
   "id": "ab0b0779-958a-443e-a32d-71d95b088197",
   "metadata": {},
   "outputs": [],
   "source": [
    "#"
   ]
  },
  {
   "cell_type": "markdown",
   "id": "096469d4-1242-45b1-994f-479b474291d5",
   "metadata": {},
   "source": [
    "### 🔖 Explicações"
   ]
  },
  {
   "cell_type": "markdown",
   "id": "7ec71fd8-effc-4511-9333-57181f8b7e70",
   "metadata": {},
   "source": [
    "..."
   ]
  },
  {
   "cell_type": "markdown",
   "id": "0b729f99-6f54-4a47-9842-f6118fe541c0",
   "metadata": {},
   "source": [
    "### 🐍 Código"
   ]
  },
  {
   "cell_type": "code",
   "execution_count": 1,
   "id": "fe17d8f3-d8c1-4032-9614-0042ebe7ca42",
   "metadata": {},
   "outputs": [],
   "source": [
    "#"
   ]
  },
  {
   "cell_type": "markdown",
   "id": "7dc1ad64-db5f-4e38-9d41-a11072b4d970",
   "metadata": {},
   "source": [
    "### 🔖 Explicações"
   ]
  },
  {
   "cell_type": "markdown",
   "id": "d80ee57f-017b-4008-916b-626e6bb5d1b1",
   "metadata": {},
   "source": [
    "..."
   ]
  },
  {
   "cell_type": "markdown",
   "id": "4024abef-6af2-4f06-b572-e13f63a611c7",
   "metadata": {},
   "source": [
    "### 🐍 Código"
   ]
  },
  {
   "cell_type": "code",
   "execution_count": 1,
   "id": "dbe55972-05b6-4893-8958-0b0c3b4964e2",
   "metadata": {},
   "outputs": [],
   "source": [
    "#"
   ]
  },
  {
   "cell_type": "markdown",
   "id": "bb68802a-ed7b-43ca-9d58-3459e47c3cfb",
   "metadata": {},
   "source": [
    "### 🔖 Explicações"
   ]
  },
  {
   "cell_type": "markdown",
   "id": "002dd5d9-b5ba-4c61-a8c2-358ac80fc0dc",
   "metadata": {},
   "source": [
    "..."
   ]
  },
  {
   "cell_type": "markdown",
   "id": "2281eb99-89c1-499c-8f80-9331da8e3fdc",
   "metadata": {},
   "source": [
    "### 🐍 Código"
   ]
  },
  {
   "cell_type": "code",
   "execution_count": 1,
   "id": "61194ef3-cc0e-43c6-a74b-450569a02f2d",
   "metadata": {},
   "outputs": [],
   "source": [
    "#"
   ]
  },
  {
   "cell_type": "markdown",
   "id": "37c9cc90-61b9-45df-87b6-b3bed5913b5b",
   "metadata": {},
   "source": [
    "### 🔖 Explicações"
   ]
  },
  {
   "cell_type": "markdown",
   "id": "f62ed054-e975-4a15-b42c-91df8d0b0dda",
   "metadata": {},
   "source": [
    "..."
   ]
  },
  {
   "cell_type": "markdown",
   "id": "1fb0a3e0-1ab8-433a-a931-a42be8a1492b",
   "metadata": {},
   "source": [
    "### 🐍 Código"
   ]
  },
  {
   "cell_type": "code",
   "execution_count": 1,
   "id": "e58bded5-13c6-4e6a-87c2-c373c1f245fd",
   "metadata": {},
   "outputs": [],
   "source": [
    "#"
   ]
  },
  {
   "cell_type": "markdown",
   "id": "3607757e-0690-4fdb-8e65-a915cc929ee4",
   "metadata": {},
   "source": [
    "### 🔖 Explicações"
   ]
  },
  {
   "cell_type": "markdown",
   "id": "bfa2ddca-4b77-46e4-9552-54b3b75913bf",
   "metadata": {},
   "source": [
    "..."
   ]
  },
  {
   "cell_type": "markdown",
   "id": "9624b243-54b5-4bd1-913f-f8cde5bc7be0",
   "metadata": {},
   "source": [
    "### 🐍 Código"
   ]
  },
  {
   "cell_type": "code",
   "execution_count": 1,
   "id": "388bbfed-b9cd-447c-be22-bf79d1fa9bb5",
   "metadata": {},
   "outputs": [],
   "source": [
    "#"
   ]
  },
  {
   "cell_type": "markdown",
   "id": "74cff6fe-b011-4627-9470-da7f50219d92",
   "metadata": {},
   "source": [
    "### 🔖 Explicações"
   ]
  },
  {
   "cell_type": "markdown",
   "id": "1811372d-41ff-4e60-b22f-6544bf4505c4",
   "metadata": {},
   "source": [
    "..."
   ]
  },
  {
   "cell_type": "markdown",
   "id": "f4f46eab-8957-495a-8ac8-239358f8d074",
   "metadata": {},
   "source": [
    "### 🐍 Código"
   ]
  },
  {
   "cell_type": "code",
   "execution_count": 1,
   "id": "2267c51f-d8b5-4f0d-8f1a-5d3d95292563",
   "metadata": {},
   "outputs": [],
   "source": [
    "#"
   ]
  },
  {
   "cell_type": "markdown",
   "id": "25ef4391-0cb2-4dc9-8f19-49db933639d8",
   "metadata": {},
   "source": [
    "### 🔖 Explicações"
   ]
  },
  {
   "cell_type": "markdown",
   "id": "b7fbdd48-47f8-40e1-bd34-d1981f544661",
   "metadata": {},
   "source": [
    "..."
   ]
  },
  {
   "cell_type": "markdown",
   "id": "915ca7f6-5df1-4937-ae95-234b8e01be07",
   "metadata": {},
   "source": [
    "### 🐍 Código"
   ]
  },
  {
   "cell_type": "code",
   "execution_count": 1,
   "id": "22f817b2-b866-4916-8803-be29b37b91f3",
   "metadata": {},
   "outputs": [],
   "source": [
    "#"
   ]
  },
  {
   "cell_type": "markdown",
   "id": "c18de772-228e-4b0d-9b21-b84cc0576006",
   "metadata": {},
   "source": [
    "### 🔖 Explicações"
   ]
  },
  {
   "cell_type": "markdown",
   "id": "8818d8ad-652a-4a51-855d-c4896b615209",
   "metadata": {},
   "source": [
    "..."
   ]
  },
  {
   "cell_type": "markdown",
   "id": "86fd5a2c-0317-4a83-8d5d-83679449338b",
   "metadata": {},
   "source": [
    "### 🐍 Código"
   ]
  },
  {
   "cell_type": "code",
   "execution_count": 1,
   "id": "d1aa1a76-04ff-4dd9-b68c-8a20c3a9b304",
   "metadata": {},
   "outputs": [],
   "source": [
    "#"
   ]
  },
  {
   "cell_type": "markdown",
   "id": "1726d2b1-0832-49e5-8fe8-831cfd2d012a",
   "metadata": {},
   "source": [
    "### 🔖 Explicações"
   ]
  },
  {
   "cell_type": "markdown",
   "id": "3385aea6-5141-4db2-8693-8630d04421aa",
   "metadata": {},
   "source": [
    "..."
   ]
  },
  {
   "cell_type": "markdown",
   "id": "830a4ded-5931-4985-b18b-8ff2563b1a49",
   "metadata": {},
   "source": [
    "### 🐍 Código"
   ]
  },
  {
   "cell_type": "code",
   "execution_count": 1,
   "id": "aab07b6f-4ba3-476e-a74c-bb8dda069918",
   "metadata": {},
   "outputs": [],
   "source": [
    "#"
   ]
  },
  {
   "cell_type": "markdown",
   "id": "58bcf976-c186-42bb-8765-4f6d12f806cd",
   "metadata": {},
   "source": [
    "### 🔖 Explicações"
   ]
  },
  {
   "cell_type": "markdown",
   "id": "9a6ab952-dce8-455b-bc5b-ec6c9ac1d4ba",
   "metadata": {},
   "source": [
    "..."
   ]
  },
  {
   "cell_type": "markdown",
   "id": "08e4ac2a-ae57-40c0-ad29-d3531dee608a",
   "metadata": {},
   "source": [
    "### 🐍 Código"
   ]
  },
  {
   "cell_type": "code",
   "execution_count": 1,
   "id": "e1932aac-dc4c-4289-8301-3f1abb0582d6",
   "metadata": {},
   "outputs": [],
   "source": [
    "#"
   ]
  },
  {
   "cell_type": "markdown",
   "id": "4e1c1c5d-aac3-4259-8a34-14846336e827",
   "metadata": {},
   "source": [
    "### 🔖 Explicações"
   ]
  },
  {
   "cell_type": "markdown",
   "id": "1f011ec1-424a-4e46-a6d9-545b42974f21",
   "metadata": {},
   "source": [
    "..."
   ]
  },
  {
   "cell_type": "markdown",
   "id": "16ead5f2-96d6-40b9-9379-cc9d764dbb06",
   "metadata": {},
   "source": [
    "### 🐍 Código"
   ]
  },
  {
   "cell_type": "code",
   "execution_count": 1,
   "id": "ba6f0786-5381-42c6-a5bc-30dd2ee71de2",
   "metadata": {},
   "outputs": [],
   "source": [
    "#"
   ]
  },
  {
   "cell_type": "markdown",
   "id": "54ce3242-3129-49ad-89c9-e6236bff93da",
   "metadata": {},
   "source": [
    "### 🔖 Explicações"
   ]
  },
  {
   "cell_type": "markdown",
   "id": "f75cbcbc-524b-4ac2-b21b-7e993322f344",
   "metadata": {},
   "source": [
    "..."
   ]
  },
  {
   "cell_type": "markdown",
   "id": "6ef43d13-199b-487d-8c29-8e712b237ea4",
   "metadata": {},
   "source": [
    "### 🐍 Código"
   ]
  },
  {
   "cell_type": "code",
   "execution_count": 1,
   "id": "4ddc2e68-825a-4978-baf9-56b46b3510af",
   "metadata": {},
   "outputs": [],
   "source": [
    "#"
   ]
  },
  {
   "cell_type": "markdown",
   "id": "2faa94b3-72aa-4116-b890-f31380e24e93",
   "metadata": {},
   "source": [
    "### 🔖 Explicações"
   ]
  },
  {
   "cell_type": "markdown",
   "id": "331bd60e-2f74-4855-b1e9-89343ee4fdf6",
   "metadata": {},
   "source": [
    "..."
   ]
  },
  {
   "cell_type": "markdown",
   "id": "87deb9a0-b18b-432e-9ebb-a8a77ad0b307",
   "metadata": {},
   "source": [
    "### 🐍 Código"
   ]
  },
  {
   "cell_type": "code",
   "execution_count": 1,
   "id": "27b57070-6605-4f7d-96d8-e6272e5d9fe3",
   "metadata": {},
   "outputs": [],
   "source": [
    "#"
   ]
  },
  {
   "cell_type": "markdown",
   "id": "bbcb230c-f874-4f51-a37f-e923659e8d0a",
   "metadata": {},
   "source": [
    "### 🔖 Explicações"
   ]
  },
  {
   "cell_type": "markdown",
   "id": "cd00a1b8-5724-4cad-8deb-aaabe7da33a1",
   "metadata": {},
   "source": [
    "..."
   ]
  },
  {
   "cell_type": "code",
   "execution_count": null,
   "id": "48a2705a-f9f6-4c38-ae9b-e1bd2f0fa09a",
   "metadata": {},
   "outputs": [],
   "source": []
  }
 ],
 "metadata": {
  "kernelspec": {
   "display_name": "Python (venv)",
   "language": "python",
   "name": "machine_learning"
  },
  "language_info": {
   "codemirror_mode": {
    "name": "ipython",
    "version": 3
   },
   "file_extension": ".py",
   "mimetype": "text/x-python",
   "name": "python",
   "nbconvert_exporter": "python",
   "pygments_lexer": "ipython3",
   "version": "3.12.8"
  }
 },
 "nbformat": 4,
 "nbformat_minor": 5
}
