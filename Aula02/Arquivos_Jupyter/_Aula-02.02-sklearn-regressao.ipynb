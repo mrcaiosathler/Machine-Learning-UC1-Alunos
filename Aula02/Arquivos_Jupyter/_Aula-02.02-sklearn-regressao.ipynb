{
 "cells": [
  {
   "cell_type": "markdown",
   "id": "ed134bd4-471b-4e80-a4a8-ef512023b602",
   "metadata": {},
   "source": [
    "# Sklearn - Treinando um modelo de classificação"
   ]
  },
  {
   "cell_type": "markdown",
   "id": "1d3176ee-56cd-4301-bc69-277f3aff8e39",
   "metadata": {},
   "source": [
    "## 🎯 Objetivo"
   ]
  },
  {
   "cell_type": "markdown",
   "id": "4fdc2f5f-8ce1-4468-9ed7-4fbdbde6d4c2",
   "metadata": {},
   "source": [
    "O modelo será treinado para prever a variável `categoria` (que pode ser `\"A\"` ou `\"B\"`) com base nas demais colunas do dataset, após todo o pré-processamento que fizemos.\n",
    "\n",
    "Treinar um modelo de **Regressão Logística** usando:\n",
    "- Dados já pré-processados (`df_final`)\n",
    "- Divisão entre dados de treino e teste\n",
    "- Métricas de avaliação"
   ]
  },
  {
   "cell_type": "markdown",
   "id": "9a0b4d79-5085-4554-9ac6-665aa0a03850",
   "metadata": {},
   "source": [
    "### 🐍 Código - Importar Bibliotecas"
   ]
  },
  {
   "cell_type": "code",
   "execution_count": 1,
   "id": "d4189089-9635-4350-8493-df9b5386495c",
   "metadata": {},
   "outputs": [],
   "source": [
    "import pandas as pd\n",
    "import numpy as np\n",
    "import matplotlib.pyplot as plt\n",
    "from sklearn.preprocessing import StandardScaler, OneHotEncoder\n",
    "from sklearn.impute import SimpleImputer\n",
    "from sklearn.model_selection import train_test_split\n",
    "from sklearn.linear_model import LogisticRegression\n",
    "from sklearn.metrics import accuracy_score, classification_report, confusion_matrix\n",
    "from joblib import dump, load"
   ]
  },
  {
   "cell_type": "markdown",
   "id": "aeb60baa-a2f1-4f99-b3e7-09f393f2b159",
   "metadata": {},
   "source": [
    "### 🔖 Explicações"
   ]
  },
  {
   "cell_type": "markdown",
   "id": "52c03410-794c-48e8-930f-c2cba55b4c08",
   "metadata": {},
   "source": [
    "| Biblioteca / Classe                    | Finalidade Principal                                      |\n",
    "|---------------------------------------|------------------------------------------------------------|\n",
    "| `train_test_split`                    | Dividir dados em conjuntos de treino e teste              |\n",
    "| `LogisticRegression`                  | Treinar um modelo de classificação                        |\n",
    "| `accuracy_score`                      | Medir a porcentagem de acertos do modelo                  |\n",
    "| `classification_report`               | Relatório detalhado com precisão, recall e f1-score       |\n",
    "| `confusion_matrix`                    | Visualizar os tipos de erros do modelo                    |"
   ]
  },
  {
   "cell_type": "markdown",
   "id": "253a700a-0374-41c6-9e3e-b0dad154d876",
   "metadata": {
    "jp-MarkdownHeadingCollapsed": true
   },
   "source": [
    "### 🐍 Código"
   ]
  },
  {
   "cell_type": "code",
   "execution_count": 2,
   "id": "1e400b4a-bbd1-4e49-b96c-bdc7d3cf12f9",
   "metadata": {},
   "outputs": [
    {
     "name": "stdout",
     "output_type": "stream",
     "text": [
      "   id  idade    renda          cidade categoria  nota feedback\n",
      "0   1   39.0  5112.57  Belo Horizonte         A   4.5      Bom\n",
      "1   2   64.0  9510.34  Belo Horizonte         B   5.4     Ruim\n",
      "2   3   61.0  8970.80       São Paulo         B   5.0     Ruim\n",
      "3   4   61.0  8526.52  Rio de Janeiro         A   1.8      Bom\n",
      "4   5   53.0  3531.76         Vitória         B   5.5      Bom\n"
     ]
    }
   ],
   "source": [
    "df = pd.read_csv('dataset/dataset_sudeste_simples_realista_outliers-2k.csv')\n",
    "print(df.head())"
   ]
  },
  {
   "cell_type": "markdown",
   "id": "2f7b7bef-f691-486f-8bf2-f42f0392e986",
   "metadata": {},
   "source": [
    "### 🔖 Explicações"
   ]
  },
  {
   "cell_type": "markdown",
   "id": "f221d8ab-ff6b-4705-b62b-283040a9f885",
   "metadata": {},
   "source": [
    "..."
   ]
  },
  {
   "cell_type": "markdown",
   "id": "b8e2fc9b-680e-486b-a8af-98708df31ecd",
   "metadata": {
    "jp-MarkdownHeadingCollapsed": true
   },
   "source": [
    "### 🐍 Código"
   ]
  },
  {
   "cell_type": "code",
   "execution_count": 3,
   "id": "66a82fa2-a42d-4eee-b772-7d55de77947e",
   "metadata": {},
   "outputs": [
    {
     "name": "stdout",
     "output_type": "stream",
     "text": [
      "<class 'pandas.core.frame.DataFrame'>\n",
      "RangeIndex: 2000 entries, 0 to 1999\n",
      "Data columns (total 7 columns):\n",
      " #   Column     Non-Null Count  Dtype  \n",
      "---  ------     --------------  -----  \n",
      " 0   id         2000 non-null   int64  \n",
      " 1   idade      1982 non-null   float64\n",
      " 2   renda      1983 non-null   float64\n",
      " 3   cidade     1988 non-null   object \n",
      " 4   categoria  1979 non-null   object \n",
      " 5   nota       1970 non-null   float64\n",
      " 6   feedback   1975 non-null   object \n",
      "dtypes: float64(3), int64(1), object(3)\n",
      "memory usage: 109.5+ KB\n",
      "None\n"
     ]
    }
   ],
   "source": [
    "print(df.info())"
   ]
  },
  {
   "cell_type": "markdown",
   "id": "ede0f3f5-d7e6-4e98-8a50-ad45af4d0fd8",
   "metadata": {},
   "source": [
    "### 🔖 Explicações"
   ]
  },
  {
   "cell_type": "markdown",
   "id": "2a58698c-806e-4030-a66d-03f5bb9b62aa",
   "metadata": {},
   "source": [
    "..."
   ]
  },
  {
   "cell_type": "markdown",
   "id": "1b72cb75-cddf-4aeb-9e5f-d1b636a8e4f8",
   "metadata": {
    "jp-MarkdownHeadingCollapsed": true
   },
   "source": [
    "### 🐍 Código"
   ]
  },
  {
   "cell_type": "code",
   "execution_count": 4,
   "id": "8732393f-9336-4291-b081-51963816cd88",
   "metadata": {},
   "outputs": [
    {
     "name": "stdout",
     "output_type": "stream",
     "text": [
      "                id        idade         renda         nota\n",
      "count  2000.000000  1982.000000   1983.000000  1970.000000\n",
      "mean   1000.500000    43.570131   7204.110968     4.965228\n",
      "std     577.494589    16.166064   3573.795505     2.940147\n",
      "min       1.000000     1.000000    422.990000    -3.700000\n",
      "25%     500.750000    30.000000   4189.235000     2.500000\n",
      "50%    1000.500000    44.000000   7079.250000     5.000000\n",
      "75%    1500.250000    57.000000  10111.805000     7.300000\n",
      "max    2000.000000   118.000000  33739.810000    14.600000\n"
     ]
    }
   ],
   "source": [
    "print(df.describe())"
   ]
  },
  {
   "cell_type": "markdown",
   "id": "513f30d5-9619-4ec7-ad3a-2b377f136df7",
   "metadata": {},
   "source": [
    "### 🔖 Explicações"
   ]
  },
  {
   "cell_type": "markdown",
   "id": "c55a273a-7f09-46d4-ba0f-697ed2a2805b",
   "metadata": {},
   "source": [
    "..."
   ]
  },
  {
   "cell_type": "markdown",
   "id": "5c6d0606-412b-44e7-af08-f7eae8eac917",
   "metadata": {
    "jp-MarkdownHeadingCollapsed": true
   },
   "source": [
    "### 🐍 Código"
   ]
  },
  {
   "cell_type": "code",
   "execution_count": 5,
   "id": "854ae46c-5d44-4895-84f8-56a25f84d928",
   "metadata": {},
   "outputs": [
    {
     "name": "stdout",
     "output_type": "stream",
     "text": [
      "id            0\n",
      "idade        18\n",
      "renda        17\n",
      "cidade       12\n",
      "categoria    21\n",
      "nota         30\n",
      "feedback     25\n",
      "dtype: int64\n"
     ]
    }
   ],
   "source": [
    "print(df.isnull().sum())"
   ]
  },
  {
   "cell_type": "markdown",
   "id": "ecf1f479-dcb0-4b2c-9f8e-7aae3c05312e",
   "metadata": {},
   "source": [
    "### 🔖 Explicações"
   ]
  },
  {
   "cell_type": "markdown",
   "id": "4751cdc6-66a6-46b8-b1a5-c46040431bd6",
   "metadata": {},
   "source": [
    "..."
   ]
  },
  {
   "cell_type": "markdown",
   "id": "1991bb2e-2d48-4bed-9913-a8405a6b4530",
   "metadata": {
    "jp-MarkdownHeadingCollapsed": true
   },
   "source": [
    "### 🐍 Código - Preencher Valores Ausentes (Imputação)"
   ]
  },
  {
   "cell_type": "code",
   "execution_count": 6,
   "id": "2777d67e-88a3-417a-a504-ab44dea7ea65",
   "metadata": {},
   "outputs": [],
   "source": [
    "imputer_media = SimpleImputer(strategy='mean')\n",
    "df[['idade', 'nota']] = imputer_media.fit_transform(df[['idade', 'nota']])"
   ]
  },
  {
   "cell_type": "markdown",
   "id": "5ec46d7f-0b23-43cf-bd14-b150afb6b7ad",
   "metadata": {},
   "source": [
    "### 🔖 Explicações"
   ]
  },
  {
   "cell_type": "markdown",
   "id": "83a28abd-da12-4d00-9acc-29389d4387f6",
   "metadata": {},
   "source": [
    "..."
   ]
  },
  {
   "cell_type": "markdown",
   "id": "5d6385a1-9913-41bf-99e9-ace77870ff7b",
   "metadata": {
    "jp-MarkdownHeadingCollapsed": true
   },
   "source": [
    "### 🐍 Código"
   ]
  },
  {
   "cell_type": "code",
   "execution_count": 7,
   "id": "0764f612-6485-4144-a7ee-3d22f4046d71",
   "metadata": {},
   "outputs": [],
   "source": [
    "imputer_mediana = SimpleImputer(strategy='median')\n",
    "df[['renda']] = imputer_mediana.fit_transform(df[['renda']])"
   ]
  },
  {
   "cell_type": "markdown",
   "id": "91bd4286-8909-4950-8aec-b76a04e09a91",
   "metadata": {},
   "source": [
    "### 🔖 Explicações"
   ]
  },
  {
   "cell_type": "markdown",
   "id": "d1eb976f-17c4-4613-8211-af3218a4d4ab",
   "metadata": {},
   "source": [
    "..."
   ]
  },
  {
   "cell_type": "markdown",
   "id": "ddcaac05-72b7-441f-bc59-9efb18517cbf",
   "metadata": {
    "jp-MarkdownHeadingCollapsed": true
   },
   "source": [
    "### 🐍 Código -  Identificar e Lidar com Outliers"
   ]
  },
  {
   "cell_type": "code",
   "execution_count": 8,
   "id": "59337d6b-6ec1-4118-9a04-4bbefd2f38ac",
   "metadata": {},
   "outputs": [
    {
     "data": {
      "image/png": "[encoded data removed]",
      "text/plain": [
       "<Figure size 640x480 with 1 Axes>"
      ]
     },
     "metadata": {},
     "output_type": "display_data"
    }
   ],
   "source": [
    "plt.boxplot(df['idade'])\n",
    "plt.title(\"Boxplot - Idade\")\n",
    "plt.show()"
   ]
  },
  {
   "cell_type": "code",
   "execution_count": 9,
   "id": "c5d52954-e475-4d07-b30f-4edef497abc8",
   "metadata": {},
   "outputs": [
    {
     "data": {
      "image/png": "[encoded data removed]",
      "text/plain": [
       "<Figure size 640x480 with 1 Axes>"
      ]
     },
     "metadata": {},
     "output_type": "display_data"
    }
   ],
   "source": [
    "import matplotlib.pyplot as plt\n",
    "import numpy as np\n",
    "\n",
    "# 1. Criar o boxplot e armazenar os dados retornados\n",
    "bp = plt.boxplot(df['idade'], patch_artist=True, showfliers=False)\n",
    "\n",
    "# 2. Extrair os valores estatísticos de forma compatível\n",
    "# Obter os valores diretamente do cálculo do boxplot\n",
    "stats = [item.get_ydata()[0] for item in bp['medians']]\n",
    "median = stats[0]\n",
    "\n",
    "# Para caixas e bigodes, precisamos acessar as coordenadas do Path\n",
    "box = bp['boxes'][0]\n",
    "box_path = box.get_path()\n",
    "box_coords = box_path.vertices\n",
    "q1 = np.min(box_coords[:, 1])\n",
    "q3 = np.max(box_coords[:, 1])\n",
    "\n",
    "whiskers = bp['whiskers']\n",
    "min_valor = whiskers[0].get_ydata()[0]\n",
    "max_valor = whiskers[1].get_ydata()[1]\n",
    "\n",
    "# 3. Exibir os valores ao lado do boxplot\n",
    "offset = 1.15  # Posição x do texto\n",
    "props = {'verticalalignment': 'center', 'fontsize': 10, \n",
    "         'bbox': {'facecolor': 'white', 'alpha': 0.7, 'pad': 3}}\n",
    "\n",
    "plt.text(offset, min_valor, f'Min: {min_valor:.1f}', **props)\n",
    "plt.text(offset, q1, f'Q1: {q1:.1f}', **props)\n",
    "plt.text(offset, median, f'Mediana: {median:.1f}', **props)\n",
    "plt.text(offset, q3, f'Q3: {q3:.1f}', **props)\n",
    "plt.text(offset, max_valor, f'Máx: {max_valor:.1f}', **props)\n",
    "\n",
    "# 4. Ajustes finais do gráfico\n",
    "plt.title(\"Boxplot - Idade\", pad=20)\n",
    "plt.xticks([1], ['Idade'])\n",
    "plt.grid(True, linestyle='--', alpha=0.6)\n",
    "plt.xlim(0.5, 1.5)\n",
    "plt.tight_layout()\n",
    "\n",
    "plt.show()"
   ]
  },
  {
   "cell_type": "code",
   "execution_count": 10,
   "id": "93632239-032b-4bfb-9491-3c45bfc18e38",
   "metadata": {},
   "outputs": [
    {
     "data": {
      "image/png": "[encoded data removed]",
      "text/plain": [
       "<Figure size 640x480 with 1 Axes>"
      ]
     },
     "metadata": {},
     "output_type": "display_data"
    }
   ],
   "source": [
    "import matplotlib.pyplot as plt\n",
    "import numpy as np\n",
    "\n",
    "# Calcular estatísticas manualmente\n",
    "data = df['idade'].dropna()\n",
    "stats = {\n",
    "    'min': np.min(data),\n",
    "    'q1': np.percentile(data, 25),\n",
    "    'median': np.median(data),\n",
    "    'q3': np.percentile(data, 75),\n",
    "    'max': np.max(data)\n",
    "}\n",
    "\n",
    "# Criar boxplot\n",
    "bp = plt.boxplot(data, patch_artist=True, showfliers=False)\n",
    "\n",
    "# Adicionar textos\n",
    "offset = 1.15\n",
    "props = {'verticalalignment': 'center', 'fontsize': 10, \n",
    "         'bbox': {'facecolor': 'white', 'alpha': 0.7, 'pad': 3}}\n",
    "\n",
    "for name, value in stats.items():\n",
    "    plt.text(offset, value, f'{name}: {value:.1f}', **props)\n",
    "\n",
    "# Formatação\n",
    "plt.title(\"Boxplot - Idade\", pad=20)\n",
    "plt.xticks([1], ['Idade'])\n",
    "plt.grid(True, linestyle='--', alpha=0.6)\n",
    "plt.tight_layout()\n",
    "plt.show()"
   ]
  },
  {
   "cell_type": "markdown",
   "id": "f393c51e-ad60-4633-8405-ba0c5e148e33",
   "metadata": {},
   "source": [
    "### 🔖 Explicações"
   ]
  },
  {
   "cell_type": "markdown",
   "id": "a68c5511-d9c4-4742-b6f9-956eff7c98dc",
   "metadata": {},
   "source": [
    "..."
   ]
  },
  {
   "cell_type": "markdown",
   "id": "5dbd2849-9778-4521-b855-8117d3c7be43",
   "metadata": {
    "jp-MarkdownHeadingCollapsed": true
   },
   "source": [
    "### 🐍 Código"
   ]
  },
  {
   "cell_type": "code",
   "execution_count": 11,
   "id": "94d9b8f7-fafe-4744-968b-b2bf7ae9210a",
   "metadata": {},
   "outputs": [],
   "source": [
    "Q1 = df['idade'].quantile(0.25)\n",
    "Q3 = df['idade'].quantile(0.75)\n",
    "IQR = Q3 - Q1\n",
    "\n",
    "limite_inferior = Q1 - 1.5 * IQR\n",
    "limite_superior = Q3 + 1.5 * IQR"
   ]
  },
  {
   "cell_type": "markdown",
   "id": "e2f1c0e9-643a-48e4-90df-e362f8abe022",
   "metadata": {},
   "source": [
    "### 🔖 Explicações"
   ]
  },
  {
   "cell_type": "markdown",
   "id": "65707b25-7a20-4831-ae6b-5b95357de053",
   "metadata": {},
   "source": [
    "..."
   ]
  },
  {
   "cell_type": "markdown",
   "id": "cb6ea7c1-e511-4353-9387-3d2da37c70ee",
   "metadata": {
    "jp-MarkdownHeadingCollapsed": true
   },
   "source": [
    "### 🐍 Código"
   ]
  },
  {
   "cell_type": "code",
   "execution_count": 12,
   "id": "c6295a56-6ad0-4159-a697-1aeaea600d37",
   "metadata": {},
   "outputs": [],
   "source": [
    "df = df[(df['idade'] >= limite_inferior) & (df['idade'] <= limite_superior)]"
   ]
  },
  {
   "cell_type": "markdown",
   "id": "4ce2b992-fb8f-45f9-bfee-a35fb0d3291d",
   "metadata": {
    "jp-MarkdownHeadingCollapsed": true
   },
   "source": [
    "### 🔖 Explicações"
   ]
  },
  {
   "cell_type": "markdown",
   "id": "eef1b41b-b9e4-4458-a3b9-5d2141b8286f",
   "metadata": {},
   "source": [
    "..."
   ]
  },
  {
   "cell_type": "markdown",
   "id": "afcdfb29-c30a-46bf-926d-97f6a1d02a5e",
   "metadata": {
    "jp-MarkdownHeadingCollapsed": true
   },
   "source": [
    "### 🐍 Código"
   ]
  },
  {
   "cell_type": "code",
   "execution_count": 13,
   "id": "082a9adb-248a-46cd-b6cf-2dfb2d585626",
   "metadata": {},
   "outputs": [
    {
     "data": {
      "image/png": "[encoded data removed]",
      "text/plain": [
       "<Figure size 640x480 with 1 Axes>"
      ]
     },
     "metadata": {},
     "output_type": "display_data"
    }
   ],
   "source": [
    "plt.boxplot(df['idade'])\n",
    "plt.title(\"Boxplot - Idade\")\n",
    "plt.show()"
   ]
  },
  {
   "cell_type": "markdown",
   "id": "ae3d244c-f265-4029-9d31-974c2930568e",
   "metadata": {},
   "source": [
    "### 🔖 Explicações"
   ]
  },
  {
   "cell_type": "markdown",
   "id": "def8be64-f5a3-4ae9-8200-afc04e9ff525",
   "metadata": {},
   "source": [
    "..."
   ]
  },
  {
   "cell_type": "markdown",
   "id": "22f618f6-ccff-4b96-963b-389cb509f188",
   "metadata": {
    "jp-MarkdownHeadingCollapsed": true
   },
   "source": [
    "### 🐍 Código - Transformar Variáveis Categóricas\n",
    "- Opção 1: One-Hot Encoding (para variáveis nominais)"
   ]
  },
  {
   "cell_type": "code",
   "execution_count": 14,
   "id": "83f8ac54-7b0a-4897-bb8b-44a90dc36140",
   "metadata": {},
   "outputs": [],
   "source": [
    "#encoder = OneHotEncoder(sparse_output=False, drop='first')  # drop='first' evita multicolinearidade\n",
    "encoder = OneHotEncoder(sparse_output=False)\n",
    "\n",
    "#categorias_codificadas = encoder.fit_transform(df[['cidade', 'categoria', 'feedback']])\n",
    "categorias_codificadas = encoder.fit_transform(df[['cidade', 'feedback']])\n",
    "\n",
    "# Converter para DataFrame\n",
    "#df_categorias = pd.DataFrame(categorias_codificadas, columns=encoder.get_feature_names_out(['cidade', 'categoria', 'feedback']))\n",
    "df_categorias = pd.DataFrame(categorias_codificadas, columns=encoder.get_feature_names_out(['cidade', 'feedback']))\n",
    "\n",
    "# Concatenar com o DataFrame original\n",
    "df_final = pd.concat([df.reset_index(drop=True), df_categorias], axis=1)\n",
    "\n",
    "# Remover as colunas originais categóricas\n",
    "#df_final.drop(['cidade', 'categoria', 'feedback'], axis=1, inplace=True)\n",
    "#df_final.drop(['cidade', 'feedback'], axis=1, inplace=True)"
   ]
  },
  {
   "cell_type": "markdown",
   "id": "be05dacd-733c-4b0d-ae95-ec439a64d9fa",
   "metadata": {},
   "source": [
    "### 🔖 Explicações"
   ]
  },
  {
   "cell_type": "markdown",
   "id": "1d759540-d4b3-49b1-a41d-ba3e58811db7",
   "metadata": {},
   "source": [
    "..."
   ]
  },
  {
   "cell_type": "markdown",
   "id": "0576eeb2-f8a6-49f4-833c-25be9ae4819c",
   "metadata": {
    "jp-MarkdownHeadingCollapsed": true
   },
   "source": [
    "### 🐍 Código - Normalizar ou Padronizar Dados Numéricos"
   ]
  },
  {
   "cell_type": "code",
   "execution_count": 15,
   "id": "4cce884a-cf08-4bb6-9ab1-61e8b7fca7ea",
   "metadata": {},
   "outputs": [],
   "source": [
    "scaler = StandardScaler()\n",
    "df_final[['idade', 'renda', 'nota']] = scaler.fit_transform(df_final[['idade', 'renda', 'nota']])"
   ]
  },
  {
   "cell_type": "markdown",
   "id": "5ae462b5-cf08-4ce9-ab43-a961a4196493",
   "metadata": {},
   "source": [
    "### 🔖 Explicações"
   ]
  },
  {
   "cell_type": "markdown",
   "id": "522a28d7-6418-4f13-a04a-8eb69cc92be0",
   "metadata": {},
   "source": [
    "..."
   ]
  },
  {
   "cell_type": "markdown",
   "id": "9302b109-f63c-4223-ad93-2adaa95e6740",
   "metadata": {
    "jp-MarkdownHeadingCollapsed": true
   },
   "source": [
    "### 🐍 Código Revisando o dataset"
   ]
  },
  {
   "cell_type": "code",
   "execution_count": 16,
   "id": "f43bb260-8675-4842-8995-5aee8df20edc",
   "metadata": {},
   "outputs": [
    {
     "name": "stdout",
     "output_type": "stream",
     "text": [
      "id                        0\n",
      "idade                     0\n",
      "renda                     0\n",
      "cidade                   12\n",
      "categoria                21\n",
      "nota                      0\n",
      "feedback                 25\n",
      "cidade_Belo Horizonte     0\n",
      "cidade_Rio de Janeiro     0\n",
      "cidade_São Paulo          0\n",
      "cidade_Vitória            0\n",
      "cidade_nan                0\n",
      "feedback_Bom              0\n",
      "feedback_Regular          0\n",
      "feedback_Ruim             0\n",
      "feedback_nan              0\n",
      "dtype: int64\n",
      "\n",
      "\n",
      "\n",
      "   id     idade     renda          cidade categoria      nota feedback  \\\n",
      "0   1 -0.281282 -0.594385  Belo Horizonte         A -0.158811      Bom   \n",
      "1   2  1.290886  0.660303  Belo Horizonte         B  0.150648     Ruim   \n",
      "2   3  1.102226  0.506372       São Paulo         B  0.013110     Ruim   \n",
      "3   4  1.102226  0.379618  Rio de Janeiro         A -1.087188      Bom   \n",
      "4   5  0.599132 -1.045392         Vitória         B  0.185032      Bom   \n",
      "5   6 -1.287470  0.084520  Rio de Janeiro         B -0.880882  Regular   \n",
      "6   7 -1.539017 -1.345922  Belo Horizonte         A -0.674576     Ruim   \n",
      "7   8  1.353773 -0.870959  Belo Horizonte         A -0.537039  Regular   \n",
      "8   9 -1.224583 -0.309829         Vitória         A -0.193196  Regular   \n",
      "9  10 -1.664791  0.320724  Belo Horizonte         A -1.155956  Regular   \n",
      "\n",
      "   cidade_Belo Horizonte  cidade_Rio de Janeiro  cidade_São Paulo  \\\n",
      "0                    1.0                    0.0               0.0   \n",
      "1                    1.0                    0.0               0.0   \n",
      "2                    0.0                    0.0               1.0   \n",
      "3                    0.0                    1.0               0.0   \n",
      "4                    0.0                    0.0               0.0   \n",
      "5                    0.0                    1.0               0.0   \n",
      "6                    1.0                    0.0               0.0   \n",
      "7                    1.0                    0.0               0.0   \n",
      "8                    0.0                    0.0               0.0   \n",
      "9                    1.0                    0.0               0.0   \n",
      "\n",
      "   cidade_Vitória  cidade_nan  feedback_Bom  feedback_Regular  feedback_Ruim  \\\n",
      "0             0.0         0.0           1.0               0.0            0.0   \n",
      "1             0.0         0.0           0.0               0.0            1.0   \n",
      "2             0.0         0.0           0.0               0.0            1.0   \n",
      "3             0.0         0.0           1.0               0.0            0.0   \n",
      "4             1.0         0.0           1.0               0.0            0.0   \n",
      "5             0.0         0.0           0.0               1.0            0.0   \n",
      "6             0.0         0.0           0.0               0.0            1.0   \n",
      "7             0.0         0.0           0.0               1.0            0.0   \n",
      "8             1.0         0.0           0.0               1.0            0.0   \n",
      "9             0.0         0.0           0.0               1.0            0.0   \n",
      "\n",
      "   feedback_nan  \n",
      "0           0.0  \n",
      "1           0.0  \n",
      "2           0.0  \n",
      "3           0.0  \n",
      "4           0.0  \n",
      "5           0.0  \n",
      "6           0.0  \n",
      "7           0.0  \n",
      "8           0.0  \n",
      "9           0.0  \n",
      "\n",
      "\n",
      "\n",
      "                id         idade         renda          nota  \\\n",
      "count  1997.000000  1.997000e+03  1.997000e+03  1.997000e+03   \n",
      "mean   1000.327491 -2.668538e-16  1.494381e-16 -4.714417e-17   \n",
      "std     577.833010  1.000250e+00  1.000250e+00  1.000250e+00   \n",
      "min       1.000000 -2.670979e+00 -1.932327e+00 -2.978324e+00   \n",
      "25%     500.000000 -8.472630e-01 -8.358865e-01 -8.464974e-01   \n",
      "50%    1000.000000  3.315135e-02 -3.328928e-02  1.154348e-03   \n",
      "75%    1501.000000  8.506790e-01  8.193954e-01  8.039494e-01   \n",
      "max    2000.000000  3.051715e+00  6.591481e+00  3.314004e+00   \n",
      "\n",
      "       cidade_Belo Horizonte  cidade_Rio de Janeiro  cidade_São Paulo  \\\n",
      "count            1997.000000            1997.000000       1997.000000   \n",
      "mean                0.243866               0.259389          0.233350   \n",
      "std                 0.429520               0.438409          0.423069   \n",
      "min                 0.000000               0.000000          0.000000   \n",
      "25%                 0.000000               0.000000          0.000000   \n",
      "50%                 0.000000               0.000000          0.000000   \n",
      "75%                 0.000000               1.000000          0.000000   \n",
      "max                 1.000000               1.000000          1.000000   \n",
      "\n",
      "       cidade_Vitória   cidade_nan  feedback_Bom  feedback_Regular  \\\n",
      "count     1997.000000  1997.000000   1997.000000       1997.000000   \n",
      "mean         0.257386     0.006009      0.324987          0.331497   \n",
      "std          0.437303     0.077304      0.468487          0.470869   \n",
      "min          0.000000     0.000000      0.000000          0.000000   \n",
      "25%          0.000000     0.000000      0.000000          0.000000   \n",
      "50%          0.000000     0.000000      0.000000          0.000000   \n",
      "75%          1.000000     0.000000      1.000000          1.000000   \n",
      "max          1.000000     1.000000      1.000000          1.000000   \n",
      "\n",
      "       feedback_Ruim  feedback_nan  \n",
      "count    1997.000000   1997.000000  \n",
      "mean        0.330996      0.012519  \n",
      "std         0.470690      0.111213  \n",
      "min         0.000000      0.000000  \n",
      "25%         0.000000      0.000000  \n",
      "50%         0.000000      0.000000  \n",
      "75%         1.000000      0.000000  \n",
      "max         1.000000      1.000000  \n"
     ]
    }
   ],
   "source": [
    "print(df_final.isnull().sum())\n",
    "print (f\"\\n\\n\")\n",
    "print(df_final.head(10))\n",
    "print (f\"\\n\\n\")\n",
    "print(df_final.describe())"
   ]
  },
  {
   "cell_type": "markdown",
   "id": "5c4f2cfc-477b-499a-9453-fabaf97445e9",
   "metadata": {},
   "source": [
    "### 🔖 Explicações"
   ]
  },
  {
   "cell_type": "markdown",
   "id": "944bbd4b-784c-4d67-a04b-83ccc7a73ef8",
   "metadata": {},
   "source": [
    "..."
   ]
  },
  {
   "cell_type": "markdown",
   "id": "a55f176a-3d84-4f87-a2cc-6c5c34c4b7b4",
   "metadata": {},
   "source": [
    "# Treinando o modelo de Regressão\n",
    "Vamos treinar um modelo de classificação para prever a variável categoria (que pode ser \"A\" ou \"B\") com base nas demais colunas do dataset, após todo o pré-processamento que fizemos."
   ]
  },
  {
   "cell_type": "markdown",
   "id": "752892d9-4f6e-4fea-8d76-dec9b19e933b",
   "metadata": {
    "jp-MarkdownHeadingCollapsed": true
   },
   "source": [
    "### 🐍 Código"
   ]
  },
  {
   "cell_type": "code",
   "execution_count": 17,
   "id": "6470b234-2724-4701-a74b-db78fc52223f",
   "metadata": {},
   "outputs": [
    {
     "name": "stdout",
     "output_type": "stream",
     "text": [
      "<class 'pandas.core.frame.DataFrame'>\n",
      "RangeIndex: 1997 entries, 0 to 1996\n",
      "Data columns (total 16 columns):\n",
      " #   Column                 Non-Null Count  Dtype  \n",
      "---  ------                 --------------  -----  \n",
      " 0   id                     1997 non-null   int64  \n",
      " 1   idade                  1997 non-null   float64\n",
      " 2   renda                  1997 non-null   float64\n",
      " 3   cidade                 1985 non-null   object \n",
      " 4   categoria              1976 non-null   object \n",
      " 5   nota                   1997 non-null   float64\n",
      " 6   feedback               1972 non-null   object \n",
      " 7   cidade_Belo Horizonte  1997 non-null   float64\n",
      " 8   cidade_Rio de Janeiro  1997 non-null   float64\n",
      " 9   cidade_São Paulo       1997 non-null   float64\n",
      " 10  cidade_Vitória         1997 non-null   float64\n",
      " 11  cidade_nan             1997 non-null   float64\n",
      " 12  feedback_Bom           1997 non-null   float64\n",
      " 13  feedback_Regular       1997 non-null   float64\n",
      " 14  feedback_Ruim          1997 non-null   float64\n",
      " 15  feedback_nan           1997 non-null   float64\n",
      "dtypes: float64(12), int64(1), object(3)\n",
      "memory usage: 249.8+ KB\n"
     ]
    }
   ],
   "source": [
    "df_final.info()"
   ]
  },
  {
   "cell_type": "markdown",
   "id": "6c34543f-39ff-45a5-bd5b-62eceb469a7d",
   "metadata": {},
   "source": [
    "### 🔖 Explicações"
   ]
  },
  {
   "cell_type": "markdown",
   "id": "b46ddf3d-a459-4ea5-8c28-4793ea5c497f",
   "metadata": {},
   "source": [
    "..."
   ]
  },
  {
   "cell_type": "markdown",
   "id": "fd852307-6958-455b-9c25-bf0e463a0b4a",
   "metadata": {
    "jp-MarkdownHeadingCollapsed": true
   },
   "source": [
    "### 🐍 Código"
   ]
  },
  {
   "cell_type": "code",
   "execution_count": 18,
   "id": "3ba51de0-20ba-4e6e-a8f3-2bdc99cb33c9",
   "metadata": {},
   "outputs": [],
   "source": [
    "# df = df.dropna(subset=['categoria'])\n",
    "df_final = df_final.dropna()"
   ]
  },
  {
   "cell_type": "markdown",
   "id": "54ad9c73-84d5-4b13-91d1-039d41ac73db",
   "metadata": {},
   "source": [
    "### 🔖 Explicações"
   ]
  },
  {
   "cell_type": "markdown",
   "id": "8eaab7d2-3c36-4ab9-ae13-9ec599700195",
   "metadata": {},
   "source": [
    "..."
   ]
  },
  {
   "cell_type": "markdown",
   "id": "b304d27b-dbda-4142-b353-1679f03f2195",
   "metadata": {
    "jp-MarkdownHeadingCollapsed": true
   },
   "source": [
    "### 🐍 Código"
   ]
  },
  {
   "cell_type": "code",
   "execution_count": 19,
   "id": "d3ef01c4-5ca7-48bd-aa19-89ebd046b5e5",
   "metadata": {},
   "outputs": [
    {
     "name": "stdout",
     "output_type": "stream",
     "text": [
      "<class 'pandas.core.frame.DataFrame'>\n",
      "Index: 1939 entries, 0 to 1996\n",
      "Data columns (total 16 columns):\n",
      " #   Column                 Non-Null Count  Dtype  \n",
      "---  ------                 --------------  -----  \n",
      " 0   id                     1939 non-null   int64  \n",
      " 1   idade                  1939 non-null   float64\n",
      " 2   renda                  1939 non-null   float64\n",
      " 3   cidade                 1939 non-null   object \n",
      " 4   categoria              1939 non-null   object \n",
      " 5   nota                   1939 non-null   float64\n",
      " 6   feedback               1939 non-null   object \n",
      " 7   cidade_Belo Horizonte  1939 non-null   float64\n",
      " 8   cidade_Rio de Janeiro  1939 non-null   float64\n",
      " 9   cidade_São Paulo       1939 non-null   float64\n",
      " 10  cidade_Vitória         1939 non-null   float64\n",
      " 11  cidade_nan             1939 non-null   float64\n",
      " 12  feedback_Bom           1939 non-null   float64\n",
      " 13  feedback_Regular       1939 non-null   float64\n",
      " 14  feedback_Ruim          1939 non-null   float64\n",
      " 15  feedback_nan           1939 non-null   float64\n",
      "dtypes: float64(12), int64(1), object(3)\n",
      "memory usage: 257.5+ KB\n"
     ]
    }
   ],
   "source": [
    "df_final.info()"
   ]
  },
  {
   "cell_type": "markdown",
   "id": "582c2c9e-8cd4-4f4f-b700-6e7950cdb58b",
   "metadata": {},
   "source": [
    "### 🔖 Explicações"
   ]
  },
  {
   "cell_type": "markdown",
   "id": "83b94e77-1b77-4fec-a867-221adedf8810",
   "metadata": {},
   "source": []
  },
  {
   "cell_type": "markdown",
   "id": "37c56ed6-67fe-4043-b1a6-cb6c7ad285bb",
   "metadata": {},
   "source": [
    "### 🐍 Código"
   ]
  },
  {
   "cell_type": "code",
   "execution_count": 20,
   "id": "d5890663-4f07-42ed-a2e8-9d1aef4101b3",
   "metadata": {},
   "outputs": [],
   "source": [
    "df_final.to_csv('./dataset-fase01/dataset_tratado_sudeste_realista_outliers-fase1.csv', index=False)"
   ]
  },
  {
   "cell_type": "code",
   "execution_count": 29,
   "id": "5134b076-2b10-42e1-b958-328036520c8c",
   "metadata": {},
   "outputs": [],
   "source": [
    "# X = todas as colunas, exceto 'categoria'\n",
    "#X = df_final.drop('categoria', axis=1)\n",
    "X = df_final[['idade','renda','nota']]\n",
    "\n",
    "# y = a coluna que queremos prever\n",
    "y = df_final['categoria']"
   ]
  },
  {
   "cell_type": "markdown",
   "id": "90fbae42-ccd4-40a3-a122-38cc9d2a39b3",
   "metadata": {
    "jp-MarkdownHeadingCollapsed": true
   },
   "source": [
    "### 🔖 Explicações"
   ]
  },
  {
   "cell_type": "markdown",
   "id": "d60c3282-12a1-4172-ac3a-866e89f67544",
   "metadata": {},
   "source": [
    "Prepara os dados para um modelo de **machine learning** separando:\n",
    "\n",
    "- As **variáveis explicativas (features)** → armazenadas em `X`\n",
    "- A **variável alvo (target)** → armazenada em `y`\n",
    "- **`axis=1`**: significa que estamos removendo uma **coluna**, não uma linha.\n",
    "\n",
    "Ou seja:\n",
    "- `X`: o que o modelo usa para aprender\n",
    "- `y`: o que o modelo deve prever\n",
    "\n",
    "**Resumo**:\n",
    "\n",
    "| Variável | O que representa                          | Tipo             |\n",
    "|---------|--------------------------------------------|------------------|\n",
    "| `X`     | Dados de entrada (features)                | DataFrame        |\n",
    "| `y`     | Valor que queremos prever (target)         | Série (coluna)   |"
   ]
  },
  {
   "cell_type": "markdown",
   "id": "e2ce635f-98fb-44bf-8f58-ad21a5a13564",
   "metadata": {},
   "source": [
    "### 🐍 Código"
   ]
  },
  {
   "cell_type": "code",
   "execution_count": 31,
   "id": "6d75e1bd-e792-4b62-8962-13a968c84a47",
   "metadata": {},
   "outputs": [
    {
     "name": "stdout",
     "output_type": "stream",
     "text": [
      "\n",
      "\n",
      "Features \n",
      "\n",
      "      idade     renda      nota\n",
      "0 -0.281282 -0.594385 -0.158811\n",
      "1  1.290886  0.660303  0.150648\n",
      "2  1.102226  0.506372  0.013110\n",
      "3  1.102226  0.379618 -1.087188\n",
      "4  0.599132 -1.045392  0.185032 \n",
      "\n"
     ]
    }
   ],
   "source": [
    "print(f\"\\n\\nFeatures \\n\\n{X.head(5)} \\n\")"
   ]
  },
  {
   "cell_type": "code",
   "execution_count": 32,
   "id": "f534ae44-783c-48ac-89a6-b2594219156b",
   "metadata": {},
   "outputs": [
    {
     "name": "stdout",
     "output_type": "stream",
     "text": [
      "\n",
      "\n",
      "Target \n",
      "\n",
      "0    A\n",
      "1    B\n",
      "2    B\n",
      "3    A\n",
      "4    B\n",
      "Name: categoria, dtype: object \n",
      "\n"
     ]
    }
   ],
   "source": [
    "print(f\"\\n\\nTarget \\n\\n{y.head(5)} \\n\")"
   ]
  },
  {
   "cell_type": "markdown",
   "id": "a3e64098-cec7-4ddb-bce0-a4c45cf9ba4d",
   "metadata": {},
   "source": [
    "### 🔖 Explicações"
   ]
  },
  {
   "cell_type": "markdown",
   "id": "867eb2e5-c2cb-45ca-9ff3-4f24784d0eaf",
   "metadata": {},
   "source": [
    "..."
   ]
  },
  {
   "cell_type": "markdown",
   "id": "74b8b951-8666-4c4e-bef7-d1a2a0a7e899",
   "metadata": {},
   "source": [
    "### 🐍 Código - Dividir os dados em conjuntos de treino e teste"
   ]
  },
  {
   "cell_type": "code",
   "execution_count": 35,
   "id": "a623f92a-6220-4149-9b02-9752116ca369",
   "metadata": {},
   "outputs": [],
   "source": [
    "X_train, X_test, y_train, y_test = train_test_split(\n",
    "    X, y, \n",
    "    test_size=0.2,     # 20% dos dados serão usados para teste\n",
    "    random_state=42,   # garantir reprodutibilidade\n",
    "    stratify=y         # manter proporção das classes em treino e teste\n",
    ")"
   ]
  },
  {
   "cell_type": "markdown",
   "id": "fb679719-83ca-4df0-96ca-811458afaa4b",
   "metadata": {},
   "source": [
    "### 🔖 Explicações"
   ]
  },
  {
   "cell_type": "markdown",
   "id": "0497a234-bd74-4a5e-a558-eed910571be9",
   "metadata": {},
   "source": [
    "Esse código divide os dados em dois grupos:\n",
    "- Conjunto de treino (X_train, y_train) : usado para treinar o modelo\n",
    "- Conjunto de teste (X_test, y_test) : usado para avaliar como o modelo se sai com dados novos e não vistos\n",
    "\n",
    "> ⚠️ O parâmetro `stratify=y` garante que a proporção de `\"A\"` e `\"B\"` seja mantida nos conjuntos de treino e teste.\n",
    "\n",
    "| Parte | O que faz |\n",
    "|------|-----------|\n",
    "| `train_test_split(...)` | Função que divide os dados em conjuntos de treino e teste |\n",
    "| `X, y` | São os dados de entrada (features) e o alvo (o que queremos prever) |\n",
    "| `test_size=0.2` | Define que **20% dos dados** vão para o conjunto de teste (80% para treino) |\n",
    "| `random_state=42` | Garante que a divisão seja **sempre a mesma** (para reprodutibilidade) |\n",
    "| `stratify=y` | Mantém a **mesma proporção de classes** em `y` nos conjuntos de treino e teste |\n",
    "\n",
    "Se você tem 100 registros e `test_size=0.2`:\n",
    "\n",
    "- **80 registros** vão para treino (`X_train`, `y_train`)\n",
    "- **20 registros** vão para teste (`X_test`, `y_test`)\n",
    "\n",
    "E com `stratify=y`, se 60% dos dados são `\"A\"` e 40% são `\"B\"`, essa proporção será mantida nos dois conjuntos.\n",
    "\n",
    "💡 **Por que isso é importante?**\n",
    "\n",
    "- **Evita overfitting**: Treinar e testar com os mesmos dados pode levar a um modelo que \"decora\" as respostas.\n",
    "\n",
    "- **Reprodutibilidade**: Com `random_state`, você garante que outros obtenham os mesmos resultados.\n",
    "\n",
    "- **Proporção balanceada**: Com `stratify=y`, o modelo é avaliado com base em uma amostra representativa."
   ]
  },
  {
   "cell_type": "markdown",
   "id": "1421c48e-532a-426a-bb20-7e010b7fc0da",
   "metadata": {},
   "source": [
    "### 🐍 Código"
   ]
  },
  {
   "cell_type": "code",
   "execution_count": 36,
   "id": "e9c5690d-89d6-4c68-9cd2-52f94ca0b244",
   "metadata": {},
   "outputs": [
    {
     "name": "stdout",
     "output_type": "stream",
     "text": [
      "Dados de Treino - Features \n",
      "\n",
      "         idade     renda      nota\n",
      "775   0.787792 -0.376295  1.010255\n",
      "121   1.605320  0.312590 -0.743344\n",
      "39   -0.155509  1.579380  1.422867\n",
      "1779 -0.532829 -0.450833 -1.224725\n",
      "1035 -1.035923 -0.130374  0.081879 \n",
      "\n",
      "\n",
      "\n",
      "Dados de Treino - Targets \n",
      "\n",
      "775     A\n",
      "121     A\n",
      "39      A\n",
      "1779    A\n",
      "1035    A\n",
      "Name: categoria, dtype: object \n",
      "\n",
      "\n",
      "\n",
      "Dados de Teste - Features \n",
      "\n",
      "         idade     renda      nota\n",
      "86    0.976452  1.460592  0.941487\n",
      "1127  1.353773 -1.395869 -0.502654\n",
      "275   1.479546  0.064064 -0.949650\n",
      "376   0.410472  1.372180  1.629173\n",
      "405   0.221812  0.415940  1.216561 \n",
      "\n",
      "\n",
      "\n",
      "Dados de Teste - Targets \n",
      "\n",
      "86      B\n",
      "1127    A\n",
      "275     A\n",
      "376     A\n",
      "405     B\n",
      "Name: categoria, dtype: object \n",
      "\n",
      "\n",
      "\n"
     ]
    }
   ],
   "source": [
    "print (f\"Dados de Treino - Features \\n\\n{X_train.head(5)} \\n\\n\\n\")\n",
    "print (f\"Dados de Treino - Targets \\n\\n{y_train.head(5)} \\n\\n\\n\")\n",
    "\n",
    "print (f\"Dados de Teste - Features \\n\\n{X_test.head(5)} \\n\\n\\n\")\n",
    "print (f\"Dados de Teste - Targets \\n\\n{y_test.head(5)} \\n\\n\\n\")"
   ]
  },
  {
   "cell_type": "markdown",
   "id": "24d95dcf-91f7-489a-9607-3d1f73c0e895",
   "metadata": {},
   "source": [
    "### 🔖 Explicações"
   ]
  },
  {
   "cell_type": "markdown",
   "id": "d508b5dc-a859-4a7d-b33b-3a43960c7bc5",
   "metadata": {},
   "source": [
    "..."
   ]
  },
  {
   "cell_type": "markdown",
   "id": "695f3e97-5b30-45e6-ad79-17548be21610",
   "metadata": {},
   "source": [
    "## Criar e treinar o modelo de Regressão Logística\n",
    "- Este código **cria e treina** um modelo de **Regressão Logística**, que é um algoritmo comum usado para **classificação** (por exemplo: prever se algo é `\"A\"` ou `\"B\"`)."
   ]
  },
  {
   "cell_type": "markdown",
   "id": "c03ab4ca-8adb-45d2-94bf-25f82d4bc348",
   "metadata": {},
   "source": [
    "### 🐍 Código"
   ]
  },
  {
   "cell_type": "code",
   "execution_count": 38,
   "id": "7f1f2281-dd85-494e-b7b6-9b262cfecff2",
   "metadata": {},
   "outputs": [
    {
     "data": {
      "text/html": [
       "<style>#sk-container-id-2 {\n",
       "  /* Definition of color scheme common for light and dark mode */\n",
       "  --sklearn-color-text: #000;\n",
       "  --sklearn-color-text-muted: #666;\n",
       "  --sklearn-color-line: gray;\n",
       "  /* Definition of color scheme for unfitted estimators */\n",
       "  --sklearn-color-unfitted-level-0: #fff5e6;\n",
       "  --sklearn-color-unfitted-level-1: #f6e4d2;\n",
       "  --sklearn-color-unfitted-level-2: #ffe0b3;\n",
       "  --sklearn-color-unfitted-level-3: chocolate;\n",
       "  /* Definition of color scheme for fitted estimators */\n",
       "  --sklearn-color-fitted-level-0: #f0f8ff;\n",
       "  --sklearn-color-fitted-level-1: #d4ebff;\n",
       "  --sklearn-color-fitted-level-2: #b3dbfd;\n",
       "  --sklearn-color-fitted-level-3: cornflowerblue;\n",
       "\n",
       "  /* Specific color for light theme */\n",
       "  --sklearn-color-text-on-default-background: var(--sg-text-color, var(--theme-code-foreground, var(--jp-content-font-color1, black)));\n",
       "  --sklearn-color-background: var(--sg-background-color, var(--theme-background, var(--jp-layout-color0, white)));\n",
       "  --sklearn-color-border-box: var(--sg-text-color, var(--theme-code-foreground, var(--jp-content-font-color1, black)));\n",
       "  --sklearn-color-icon: #696969;\n",
       "\n",
       "  @media (prefers-color-scheme: dark) {\n",
       "    /* Redefinition of color scheme for dark theme */\n",
       "    --sklearn-color-text-on-default-background: var(--sg-text-color, var(--theme-code-foreground, var(--jp-content-font-color1, white)));\n",
       "    --sklearn-color-background: var(--sg-background-color, var(--theme-background, var(--jp-layout-color0, #111)));\n",
       "    --sklearn-color-border-box: var(--sg-text-color, var(--theme-code-foreground, var(--jp-content-font-color1, white)));\n",
       "    --sklearn-color-icon: #878787;\n",
       "  }\n",
       "}\n",
       "\n",
       "#sk-container-id-2 {\n",
       "  color: var(--sklearn-color-text);\n",
       "}\n",
       "\n",
       "#sk-container-id-2 pre {\n",
       "  padding: 0;\n",
       "}\n",
       "\n",
       "#sk-container-id-2 input.sk-hidden--visually {\n",
       "  border: 0;\n",
       "  clip: rect(1px 1px 1px 1px);\n",
       "  clip: rect(1px, 1px, 1px, 1px);\n",
       "  height: 1px;\n",
       "  margin: -1px;\n",
       "  overflow: hidden;\n",
       "  padding: 0;\n",
       "  position: absolute;\n",
       "  width: 1px;\n",
       "}\n",
       "\n",
       "#sk-container-id-2 div.sk-dashed-wrapped {\n",
       "  border: 1px dashed var(--sklearn-color-line);\n",
       "  margin: 0 0.4em 0.5em 0.4em;\n",
       "  box-sizing: border-box;\n",
       "  padding-bottom: 0.4em;\n",
       "  background-color: var(--sklearn-color-background);\n",
       "}\n",
       "\n",
       "#sk-container-id-2 div.sk-container {\n",
       "  /* jupyter's `normalize.less` sets `[hidden] { display: none; }`\n",
       "     but bootstrap.min.css set `[hidden] { display: none !important; }`\n",
       "     so we also need the `!important` here to be able to override the\n",
       "     default hidden behavior on the sphinx rendered scikit-learn.org.\n",
       "     See: https://github.com/scikit-learn/scikit-learn/issues/21755 */\n",
       "  display: inline-block !important;\n",
       "  position: relative;\n",
       "}\n",
       "\n",
       "#sk-container-id-2 div.sk-text-repr-fallback {\n",
       "  display: none;\n",
       "}\n",
       "\n",
       "div.sk-parallel-item,\n",
       "div.sk-serial,\n",
       "div.sk-item {\n",
       "  /* draw centered vertical line to link estimators */\n",
       "  background-image: linear-gradient(var(--sklearn-color-text-on-default-background), var(--sklearn-color-text-on-default-background));\n",
       "  background-size: 2px 100%;\n",
       "  background-repeat: no-repeat;\n",
       "  background-position: center center;\n",
       "}\n",
       "\n",
       "/* Parallel-specific style estimator block */\n",
       "\n",
       "#sk-container-id-2 div.sk-parallel-item::after {\n",
       "  content: \"\";\n",
       "  width: 100%;\n",
       "  border-bottom: 2px solid var(--sklearn-color-text-on-default-background);\n",
       "  flex-grow: 1;\n",
       "}\n",
       "\n",
       "#sk-container-id-2 div.sk-parallel {\n",
       "  display: flex;\n",
       "  align-items: stretch;\n",
       "  justify-content: center;\n",
       "  background-color: var(--sklearn-color-background);\n",
       "  position: relative;\n",
       "}\n",
       "\n",
       "#sk-container-id-2 div.sk-parallel-item {\n",
       "  display: flex;\n",
       "  flex-direction: column;\n",
       "}\n",
       "\n",
       "#sk-container-id-2 div.sk-parallel-item:first-child::after {\n",
       "  align-self: flex-end;\n",
       "  width: 50%;\n",
       "}\n",
       "\n",
       "#sk-container-id-2 div.sk-parallel-item:last-child::after {\n",
       "  align-self: flex-start;\n",
       "  width: 50%;\n",
       "}\n",
       "\n",
       "#sk-container-id-2 div.sk-parallel-item:only-child::after {\n",
       "  width: 0;\n",
       "}\n",
       "\n",
       "/* Serial-specific style estimator block */\n",
       "\n",
       "#sk-container-id-2 div.sk-serial {\n",
       "  display: flex;\n",
       "  flex-direction: column;\n",
       "  align-items: center;\n",
       "  background-color: var(--sklearn-color-background);\n",
       "  padding-right: 1em;\n",
       "  padding-left: 1em;\n",
       "}\n",
       "\n",
       "\n",
       "/* Toggleable style: style used for estimator/Pipeline/ColumnTransformer box that is\n",
       "clickable and can be expanded/collapsed.\n",
       "- Pipeline and ColumnTransformer use this feature and define the default style\n",
       "- Estimators will overwrite some part of the style using the `sk-estimator` class\n",
       "*/\n",
       "\n",
       "/* Pipeline and ColumnTransformer style (default) */\n",
       "\n",
       "#sk-container-id-2 div.sk-toggleable {\n",
       "  /* Default theme specific background. It is overwritten whether we have a\n",
       "  specific estimator or a Pipeline/ColumnTransformer */\n",
       "  background-color: var(--sklearn-color-background);\n",
       "}\n",
       "\n",
       "/* Toggleable label */\n",
       "#sk-container-id-2 label.sk-toggleable__label {\n",
       "  cursor: pointer;\n",
       "  display: flex;\n",
       "  width: 100%;\n",
       "  margin-bottom: 0;\n",
       "  padding: 0.5em;\n",
       "  box-sizing: border-box;\n",
       "  text-align: center;\n",
       "  align-items: start;\n",
       "  justify-content: space-between;\n",
       "  gap: 0.5em;\n",
       "}\n",
       "\n",
       "#sk-container-id-2 label.sk-toggleable__label .caption {\n",
       "  font-size: 0.6rem;\n",
       "  font-weight: lighter;\n",
       "  color: var(--sklearn-color-text-muted);\n",
       "}\n",
       "\n",
       "#sk-container-id-2 label.sk-toggleable__label-arrow:before {\n",
       "  /* Arrow on the left of the label */\n",
       "  content: \"▸\";\n",
       "  float: left;\n",
       "  margin-right: 0.25em;\n",
       "  color: var(--sklearn-color-icon);\n",
       "}\n",
       "\n",
       "#sk-container-id-2 label.sk-toggleable__label-arrow:hover:before {\n",
       "  color: var(--sklearn-color-text);\n",
       "}\n",
       "\n",
       "/* Toggleable content - dropdown */\n",
       "\n",
       "#sk-container-id-2 div.sk-toggleable__content {\n",
       "  display: none;\n",
       "  text-align: left;\n",
       "  /* unfitted */\n",
       "  background-color: var(--sklearn-color-unfitted-level-0);\n",
       "}\n",
       "\n",
       "#sk-container-id-2 div.sk-toggleable__content.fitted {\n",
       "  /* fitted */\n",
       "  background-color: var(--sklearn-color-fitted-level-0);\n",
       "}\n",
       "\n",
       "#sk-container-id-2 div.sk-toggleable__content pre {\n",
       "  margin: 0.2em;\n",
       "  border-radius: 0.25em;\n",
       "  color: var(--sklearn-color-text);\n",
       "  /* unfitted */\n",
       "  background-color: var(--sklearn-color-unfitted-level-0);\n",
       "}\n",
       "\n",
       "#sk-container-id-2 div.sk-toggleable__content.fitted pre {\n",
       "  /* unfitted */\n",
       "  background-color: var(--sklearn-color-fitted-level-0);\n",
       "}\n",
       "\n",
       "#sk-container-id-2 input.sk-toggleable__control:checked~div.sk-toggleable__content {\n",
       "  /* Expand drop-down */\n",
       "  display: block;\n",
       "  width: 100%;\n",
       "  overflow: visible;\n",
       "}\n",
       "\n",
       "#sk-container-id-2 input.sk-toggleable__control:checked~label.sk-toggleable__label-arrow:before {\n",
       "  content: \"▾\";\n",
       "}\n",
       "\n",
       "/* Pipeline/ColumnTransformer-specific style */\n",
       "\n",
       "#sk-container-id-2 div.sk-label input.sk-toggleable__control:checked~label.sk-toggleable__label {\n",
       "  color: var(--sklearn-color-text);\n",
       "  background-color: var(--sklearn-color-unfitted-level-2);\n",
       "}\n",
       "\n",
       "#sk-container-id-2 div.sk-label.fitted input.sk-toggleable__control:checked~label.sk-toggleable__label {\n",
       "  background-color: var(--sklearn-color-fitted-level-2);\n",
       "}\n",
       "\n",
       "/* Estimator-specific style */\n",
       "\n",
       "/* Colorize estimator box */\n",
       "#sk-container-id-2 div.sk-estimator input.sk-toggleable__control:checked~label.sk-toggleable__label {\n",
       "  /* unfitted */\n",
       "  background-color: var(--sklearn-color-unfitted-level-2);\n",
       "}\n",
       "\n",
       "#sk-container-id-2 div.sk-estimator.fitted input.sk-toggleable__control:checked~label.sk-toggleable__label {\n",
       "  /* fitted */\n",
       "  background-color: var(--sklearn-color-fitted-level-2);\n",
       "}\n",
       "\n",
       "#sk-container-id-2 div.sk-label label.sk-toggleable__label,\n",
       "#sk-container-id-2 div.sk-label label {\n",
       "  /* The background is the default theme color */\n",
       "  color: var(--sklearn-color-text-on-default-background);\n",
       "}\n",
       "\n",
       "/* On hover, darken the color of the background */\n",
       "#sk-container-id-2 div.sk-label:hover label.sk-toggleable__label {\n",
       "  color: var(--sklearn-color-text);\n",
       "  background-color: var(--sklearn-color-unfitted-level-2);\n",
       "}\n",
       "\n",
       "/* Label box, darken color on hover, fitted */\n",
       "#sk-container-id-2 div.sk-label.fitted:hover label.sk-toggleable__label.fitted {\n",
       "  color: var(--sklearn-color-text);\n",
       "  background-color: var(--sklearn-color-fitted-level-2);\n",
       "}\n",
       "\n",
       "/* Estimator label */\n",
       "\n",
       "#sk-container-id-2 div.sk-label label {\n",
       "  font-family: monospace;\n",
       "  font-weight: bold;\n",
       "  display: inline-block;\n",
       "  line-height: 1.2em;\n",
       "}\n",
       "\n",
       "#sk-container-id-2 div.sk-label-container {\n",
       "  text-align: center;\n",
       "}\n",
       "\n",
       "/* Estimator-specific */\n",
       "#sk-container-id-2 div.sk-estimator {\n",
       "  font-family: monospace;\n",
       "  border: 1px dotted var(--sklearn-color-border-box);\n",
       "  border-radius: 0.25em;\n",
       "  box-sizing: border-box;\n",
       "  margin-bottom: 0.5em;\n",
       "  /* unfitted */\n",
       "  background-color: var(--sklearn-color-unfitted-level-0);\n",
       "}\n",
       "\n",
       "#sk-container-id-2 div.sk-estimator.fitted {\n",
       "  /* fitted */\n",
       "  background-color: var(--sklearn-color-fitted-level-0);\n",
       "}\n",
       "\n",
       "/* on hover */\n",
       "#sk-container-id-2 div.sk-estimator:hover {\n",
       "  /* unfitted */\n",
       "  background-color: var(--sklearn-color-unfitted-level-2);\n",
       "}\n",
       "\n",
       "#sk-container-id-2 div.sk-estimator.fitted:hover {\n",
       "  /* fitted */\n",
       "  background-color: var(--sklearn-color-fitted-level-2);\n",
       "}\n",
       "\n",
       "/* Specification for estimator info (e.g. \"i\" and \"?\") */\n",
       "\n",
       "/* Common style for \"i\" and \"?\" */\n",
       "\n",
       ".sk-estimator-doc-link,\n",
       "a:link.sk-estimator-doc-link,\n",
       "a:visited.sk-estimator-doc-link {\n",
       "  float: right;\n",
       "  font-size: smaller;\n",
       "  line-height: 1em;\n",
       "  font-family: monospace;\n",
       "  background-color: var(--sklearn-color-background);\n",
       "  border-radius: 1em;\n",
       "  height: 1em;\n",
       "  width: 1em;\n",
       "  text-decoration: none !important;\n",
       "  margin-left: 0.5em;\n",
       "  text-align: center;\n",
       "  /* unfitted */\n",
       "  border: var(--sklearn-color-unfitted-level-1) 1pt solid;\n",
       "  color: var(--sklearn-color-unfitted-level-1);\n",
       "}\n",
       "\n",
       ".sk-estimator-doc-link.fitted,\n",
       "a:link.sk-estimator-doc-link.fitted,\n",
       "a:visited.sk-estimator-doc-link.fitted {\n",
       "  /* fitted */\n",
       "  border: var(--sklearn-color-fitted-level-1) 1pt solid;\n",
       "  color: var(--sklearn-color-fitted-level-1);\n",
       "}\n",
       "\n",
       "/* On hover */\n",
       "div.sk-estimator:hover .sk-estimator-doc-link:hover,\n",
       ".sk-estimator-doc-link:hover,\n",
       "div.sk-label-container:hover .sk-estimator-doc-link:hover,\n",
       ".sk-estimator-doc-link:hover {\n",
       "  /* unfitted */\n",
       "  background-color: var(--sklearn-color-unfitted-level-3);\n",
       "  color: var(--sklearn-color-background);\n",
       "  text-decoration: none;\n",
       "}\n",
       "\n",
       "div.sk-estimator.fitted:hover .sk-estimator-doc-link.fitted:hover,\n",
       ".sk-estimator-doc-link.fitted:hover,\n",
       "div.sk-label-container:hover .sk-estimator-doc-link.fitted:hover,\n",
       ".sk-estimator-doc-link.fitted:hover {\n",
       "  /* fitted */\n",
       "  background-color: var(--sklearn-color-fitted-level-3);\n",
       "  color: var(--sklearn-color-background);\n",
       "  text-decoration: none;\n",
       "}\n",
       "\n",
       "/* Span, style for the box shown on hovering the info icon */\n",
       ".sk-estimator-doc-link span {\n",
       "  display: none;\n",
       "  z-index: 9999;\n",
       "  position: relative;\n",
       "  font-weight: normal;\n",
       "  right: .2ex;\n",
       "  padding: .5ex;\n",
       "  margin: .5ex;\n",
       "  width: min-content;\n",
       "  min-width: 20ex;\n",
       "  max-width: 50ex;\n",
       "  color: var(--sklearn-color-text);\n",
       "  box-shadow: 2pt 2pt 4pt #999;\n",
       "  /* unfitted */\n",
       "  background: var(--sklearn-color-unfitted-level-0);\n",
       "  border: .5pt solid var(--sklearn-color-unfitted-level-3);\n",
       "}\n",
       "\n",
       ".sk-estimator-doc-link.fitted span {\n",
       "  /* fitted */\n",
       "  background: var(--sklearn-color-fitted-level-0);\n",
       "  border: var(--sklearn-color-fitted-level-3);\n",
       "}\n",
       "\n",
       ".sk-estimator-doc-link:hover span {\n",
       "  display: block;\n",
       "}\n",
       "\n",
       "/* \"?\"-specific style due to the `<a>` HTML tag */\n",
       "\n",
       "#sk-container-id-2 a.estimator_doc_link {\n",
       "  float: right;\n",
       "  font-size: 1rem;\n",
       "  line-height: 1em;\n",
       "  font-family: monospace;\n",
       "  background-color: var(--sklearn-color-background);\n",
       "  border-radius: 1rem;\n",
       "  height: 1rem;\n",
       "  width: 1rem;\n",
       "  text-decoration: none;\n",
       "  /* unfitted */\n",
       "  color: var(--sklearn-color-unfitted-level-1);\n",
       "  border: var(--sklearn-color-unfitted-level-1) 1pt solid;\n",
       "}\n",
       "\n",
       "#sk-container-id-2 a.estimator_doc_link.fitted {\n",
       "  /* fitted */\n",
       "  border: var(--sklearn-color-fitted-level-1) 1pt solid;\n",
       "  color: var(--sklearn-color-fitted-level-1);\n",
       "}\n",
       "\n",
       "/* On hover */\n",
       "#sk-container-id-2 a.estimator_doc_link:hover {\n",
       "  /* unfitted */\n",
       "  background-color: var(--sklearn-color-unfitted-level-3);\n",
       "  color: var(--sklearn-color-background);\n",
       "  text-decoration: none;\n",
       "}\n",
       "\n",
       "#sk-container-id-2 a.estimator_doc_link.fitted:hover {\n",
       "  /* fitted */\n",
       "  background-color: var(--sklearn-color-fitted-level-3);\n",
       "}\n",
       "\n",
       ".estimator-table summary {\n",
       "    padding: .5rem;\n",
       "    font-family: monospace;\n",
       "    cursor: pointer;\n",
       "}\n",
       "\n",
       ".estimator-table details[open] {\n",
       "    padding-left: 0.1rem;\n",
       "    padding-right: 0.1rem;\n",
       "    padding-bottom: 0.3rem;\n",
       "}\n",
       "\n",
       ".estimator-table .parameters-table {\n",
       "    margin-left: auto !important;\n",
       "    margin-right: auto !important;\n",
       "}\n",
       "\n",
       ".estimator-table .parameters-table tr:nth-child(odd) {\n",
       "    background-color: #fff;\n",
       "}\n",
       "\n",
       ".estimator-table .parameters-table tr:nth-child(even) {\n",
       "    background-color: #f6f6f6;\n",
       "}\n",
       "\n",
       ".estimator-table .parameters-table tr:hover {\n",
       "    background-color: #e0e0e0;\n",
       "}\n",
       "\n",
       ".estimator-table table td {\n",
       "    border: 1px solid rgba(106, 105, 104, 0.232);\n",
       "}\n",
       "\n",
       ".user-set td {\n",
       "    color:rgb(255, 94, 0);\n",
       "    text-align: left;\n",
       "}\n",
       "\n",
       ".user-set td.value pre {\n",
       "    color:rgb(255, 94, 0) !important;\n",
       "    background-color: transparent !important;\n",
       "}\n",
       "\n",
       ".default td {\n",
       "    color: black;\n",
       "    text-align: left;\n",
       "}\n",
       "\n",
       ".user-set td i,\n",
       ".default td i {\n",
       "    color: black;\n",
       "}\n",
       "\n",
       ".copy-paste-icon {\n",
       "    background-image: url(data:image/svg+xml;base64,PHN2ZyB4bWxucz0iaHR0cDovL3d3dy53My5vcmcvMjAwMC9zdmciIHZpZXdCb3g9IjAgMCA0NDggNTEyIj48IS0tIUZvbnQgQXdlc29tZSBGcmVlIDYuNy4yIGJ5IEBmb250YXdlc29tZSAtIGh0dHBzOi8vZm9udGF3ZXNvbWUuY29tIExpY2Vuc2UgLSBodHRwczovL2ZvbnRhd2Vzb21lLmNvbS9saWNlbnNlL2ZyZWUgQ29weXJpZ2h0IDIwMjUgRm9udGljb25zLCBJbmMuLS0+PHBhdGggZD0iTTIwOCAwTDMzMi4xIDBjMTIuNyAwIDI0LjkgNS4xIDMzLjkgMTQuMWw2Ny45IDY3LjljOSA5IDE0LjEgMjEuMiAxNC4xIDMzLjlMNDQ4IDMzNmMwIDI2LjUtMjEuNSA0OC00OCA0OGwtMTkyIDBjLTI2LjUgMC00OC0yMS41LTQ4LTQ4bDAtMjg4YzAtMjYuNSAyMS41LTQ4IDQ4LTQ4ek00OCAxMjhsODAgMCAwIDY0LTY0IDAgMCAyNTYgMTkyIDAgMC0zMiA2NCAwIDAgNDhjMCAyNi41LTIxLjUgNDgtNDggNDhMNDggNTEyYy0yNi41IDAtNDgtMjEuNS00OC00OEwwIDE3NmMwLTI2LjUgMjEuNS00OCA0OC00OHoiLz48L3N2Zz4=);\n",
       "    background-repeat: no-repeat;\n",
       "    background-size: 14px 14px;\n",
       "    background-position: 0;\n",
       "    display: inline-block;\n",
       "    width: 14px;\n",
       "    height: 14px;\n",
       "    cursor: pointer;\n",
       "}\n",
       "</style><body><div id=\"sk-container-id-2\" class=\"sk-top-container\"><div class=\"sk-text-repr-fallback\"><pre>LogisticRegression(max_iter=1000)</pre><b>In a Jupyter environment, please rerun this cell to show the HTML representation or trust the notebook. <br />On GitHub, the HTML representation is unable to render, please try loading this page with nbviewer.org.</b></div><div class=\"sk-container\" hidden><div class=\"sk-item\"><div class=\"sk-estimator fitted sk-toggleable\"><input class=\"sk-toggleable__control sk-hidden--visually\" id=\"sk-estimator-id-2\" type=\"checkbox\" checked><label for=\"sk-estimator-id-2\" class=\"sk-toggleable__label fitted sk-toggleable__label-arrow\"><div><div>LogisticRegression</div></div><div><a class=\"sk-estimator-doc-link fitted\" rel=\"noreferrer\" target=\"_blank\" href=\"https://scikit-learn.org/1.7/modules/generated/sklearn.linear_model.LogisticRegression.html\">?<span>Documentation for LogisticRegression</span></a><span class=\"sk-estimator-doc-link fitted\">i<span>Fitted</span></span></div></label><div class=\"sk-toggleable__content fitted\" data-param-prefix=\"\">\n",
       "        <div class=\"estimator-table\">\n",
       "            <details>\n",
       "                <summary>Parameters</summary>\n",
       "                <table class=\"parameters-table\">\n",
       "                  <tbody>\n",
       "                    \n",
       "        <tr class=\"default\">\n",
       "            <td><i class=\"copy-paste-icon\"\n",
       "                 onclick=\"copyToClipboard('penalty',\n",
       "                          this.parentElement.nextElementSibling)\"\n",
       "            ></i></td>\n",
       "            <td class=\"param\">penalty&nbsp;</td>\n",
       "            <td class=\"value\">&#x27;l2&#x27;</td>\n",
       "        </tr>\n",
       "    \n",
       "\n",
       "        <tr class=\"default\">\n",
       "            <td><i class=\"copy-paste-icon\"\n",
       "                 onclick=\"copyToClipboard('dual',\n",
       "                          this.parentElement.nextElementSibling)\"\n",
       "            ></i></td>\n",
       "            <td class=\"param\">dual&nbsp;</td>\n",
       "            <td class=\"value\">False</td>\n",
       "        </tr>\n",
       "    \n",
       "\n",
       "        <tr class=\"default\">\n",
       "            <td><i class=\"copy-paste-icon\"\n",
       "                 onclick=\"copyToClipboard('tol',\n",
       "                          this.parentElement.nextElementSibling)\"\n",
       "            ></i></td>\n",
       "            <td class=\"param\">tol&nbsp;</td>\n",
       "            <td class=\"value\">0.0001</td>\n",
       "        </tr>\n",
       "    \n",
       "\n",
       "        <tr class=\"default\">\n",
       "            <td><i class=\"copy-paste-icon\"\n",
       "                 onclick=\"copyToClipboard('C',\n",
       "                          this.parentElement.nextElementSibling)\"\n",
       "            ></i></td>\n",
       "            <td class=\"param\">C&nbsp;</td>\n",
       "            <td class=\"value\">1.0</td>\n",
       "        </tr>\n",
       "    \n",
       "\n",
       "        <tr class=\"default\">\n",
       "            <td><i class=\"copy-paste-icon\"\n",
       "                 onclick=\"copyToClipboard('fit_intercept',\n",
       "                          this.parentElement.nextElementSibling)\"\n",
       "            ></i></td>\n",
       "            <td class=\"param\">fit_intercept&nbsp;</td>\n",
       "            <td class=\"value\">True</td>\n",
       "        </tr>\n",
       "    \n",
       "\n",
       "        <tr class=\"default\">\n",
       "            <td><i class=\"copy-paste-icon\"\n",
       "                 onclick=\"copyToClipboard('intercept_scaling',\n",
       "                          this.parentElement.nextElementSibling)\"\n",
       "            ></i></td>\n",
       "            <td class=\"param\">intercept_scaling&nbsp;</td>\n",
       "            <td class=\"value\">1</td>\n",
       "        </tr>\n",
       "    \n",
       "\n",
       "        <tr class=\"default\">\n",
       "            <td><i class=\"copy-paste-icon\"\n",
       "                 onclick=\"copyToClipboard('class_weight',\n",
       "                          this.parentElement.nextElementSibling)\"\n",
       "            ></i></td>\n",
       "            <td class=\"param\">class_weight&nbsp;</td>\n",
       "            <td class=\"value\">None</td>\n",
       "        </tr>\n",
       "    \n",
       "\n",
       "        <tr class=\"default\">\n",
       "            <td><i class=\"copy-paste-icon\"\n",
       "                 onclick=\"copyToClipboard('random_state',\n",
       "                          this.parentElement.nextElementSibling)\"\n",
       "            ></i></td>\n",
       "            <td class=\"param\">random_state&nbsp;</td>\n",
       "            <td class=\"value\">None</td>\n",
       "        </tr>\n",
       "    \n",
       "\n",
       "        <tr class=\"default\">\n",
       "            <td><i class=\"copy-paste-icon\"\n",
       "                 onclick=\"copyToClipboard('solver',\n",
       "                          this.parentElement.nextElementSibling)\"\n",
       "            ></i></td>\n",
       "            <td class=\"param\">solver&nbsp;</td>\n",
       "            <td class=\"value\">&#x27;lbfgs&#x27;</td>\n",
       "        </tr>\n",
       "    \n",
       "\n",
       "        <tr class=\"user-set\">\n",
       "            <td><i class=\"copy-paste-icon\"\n",
       "                 onclick=\"copyToClipboard('max_iter',\n",
       "                          this.parentElement.nextElementSibling)\"\n",
       "            ></i></td>\n",
       "            <td class=\"param\">max_iter&nbsp;</td>\n",
       "            <td class=\"value\">1000</td>\n",
       "        </tr>\n",
       "    \n",
       "\n",
       "        <tr class=\"default\">\n",
       "            <td><i class=\"copy-paste-icon\"\n",
       "                 onclick=\"copyToClipboard('multi_class',\n",
       "                          this.parentElement.nextElementSibling)\"\n",
       "            ></i></td>\n",
       "            <td class=\"param\">multi_class&nbsp;</td>\n",
       "            <td class=\"value\">&#x27;deprecated&#x27;</td>\n",
       "        </tr>\n",
       "    \n",
       "\n",
       "        <tr class=\"default\">\n",
       "            <td><i class=\"copy-paste-icon\"\n",
       "                 onclick=\"copyToClipboard('verbose',\n",
       "                          this.parentElement.nextElementSibling)\"\n",
       "            ></i></td>\n",
       "            <td class=\"param\">verbose&nbsp;</td>\n",
       "            <td class=\"value\">0</td>\n",
       "        </tr>\n",
       "    \n",
       "\n",
       "        <tr class=\"default\">\n",
       "            <td><i class=\"copy-paste-icon\"\n",
       "                 onclick=\"copyToClipboard('warm_start',\n",
       "                          this.parentElement.nextElementSibling)\"\n",
       "            ></i></td>\n",
       "            <td class=\"param\">warm_start&nbsp;</td>\n",
       "            <td class=\"value\">False</td>\n",
       "        </tr>\n",
       "    \n",
       "\n",
       "        <tr class=\"default\">\n",
       "            <td><i class=\"copy-paste-icon\"\n",
       "                 onclick=\"copyToClipboard('n_jobs',\n",
       "                          this.parentElement.nextElementSibling)\"\n",
       "            ></i></td>\n",
       "            <td class=\"param\">n_jobs&nbsp;</td>\n",
       "            <td class=\"value\">None</td>\n",
       "        </tr>\n",
       "    \n",
       "\n",
       "        <tr class=\"default\">\n",
       "            <td><i class=\"copy-paste-icon\"\n",
       "                 onclick=\"copyToClipboard('l1_ratio',\n",
       "                          this.parentElement.nextElementSibling)\"\n",
       "            ></i></td>\n",
       "            <td class=\"param\">l1_ratio&nbsp;</td>\n",
       "            <td class=\"value\">None</td>\n",
       "        </tr>\n",
       "    \n",
       "                  </tbody>\n",
       "                </table>\n",
       "            </details>\n",
       "        </div>\n",
       "    </div></div></div></div></div><script>function copyToClipboard(text, element) {\n",
       "    // Get the parameter prefix from the closest toggleable content\n",
       "    const toggleableContent = element.closest('.sk-toggleable__content');\n",
       "    const paramPrefix = toggleableContent ? toggleableContent.dataset.paramPrefix : '';\n",
       "    const fullParamName = paramPrefix ? `${paramPrefix}${text}` : text;\n",
       "\n",
       "    const originalStyle = element.style;\n",
       "    const computedStyle = window.getComputedStyle(element);\n",
       "    const originalWidth = computedStyle.width;\n",
       "    const originalHTML = element.innerHTML.replace('Copied!', '');\n",
       "\n",
       "    navigator.clipboard.writeText(fullParamName)\n",
       "        .then(() => {\n",
       "            element.style.width = originalWidth;\n",
       "            element.style.color = 'green';\n",
       "            element.innerHTML = \"Copied!\";\n",
       "\n",
       "            setTimeout(() => {\n",
       "                element.innerHTML = originalHTML;\n",
       "                element.style = originalStyle;\n",
       "            }, 2000);\n",
       "        })\n",
       "        .catch(err => {\n",
       "            console.error('Failed to copy:', err);\n",
       "            element.style.color = 'red';\n",
       "            element.innerHTML = \"Failed!\";\n",
       "            setTimeout(() => {\n",
       "                element.innerHTML = originalHTML;\n",
       "                element.style = originalStyle;\n",
       "            }, 2000);\n",
       "        });\n",
       "    return false;\n",
       "}\n",
       "\n",
       "document.querySelectorAll('.fa-regular.fa-copy').forEach(function(element) {\n",
       "    const toggleableContent = element.closest('.sk-toggleable__content');\n",
       "    const paramPrefix = toggleableContent ? toggleableContent.dataset.paramPrefix : '';\n",
       "    const paramName = element.parentElement.nextElementSibling.textContent.trim();\n",
       "    const fullParamName = paramPrefix ? `${paramPrefix}${paramName}` : paramName;\n",
       "\n",
       "    element.setAttribute('title', fullParamName);\n",
       "});\n",
       "</script></body>"
      ],
      "text/plain": [
       "LogisticRegression(max_iter=1000)"
      ]
     },
     "execution_count": 38,
     "metadata": {},
     "output_type": "execute_result"
    }
   ],
   "source": [
    "modelo = LogisticRegression(max_iter=1000)  \n",
    "\n",
    "# Treinando o modelo\n",
    "modelo.fit(X_train, y_train)"
   ]
  },
  {
   "cell_type": "markdown",
   "id": "ea6812e4-c5c7-4b01-9a74-2f792eded4db",
   "metadata": {
    "jp-MarkdownHeadingCollapsed": true
   },
   "source": [
    "### 🔖 Explicações"
   ]
  },
  {
   "cell_type": "markdown",
   "id": "2f817dec-c261-49e8-a42a-ea204ec8bc33",
   "metadata": {},
   "source": [
    "> ⚠️ `max_iter=1000`: algumas vezes a regressão logística precisa de mais iterações para convergir; aumentamos esse limite para evitar avisos.\n",
    "\n",
    "O modelo aprende as relações entre as **variáveis de entrada** (`X_train`) e a **variável de saída** (`y_train`), para depois fazer previsões.\n",
    "\n",
    "| Parte do código              | Finalidade                                     |\n",
    "|-----------------------------|------------------------------------------------|\n",
    "| `LogisticRegression(...)`   | Cria o modelo de classificação                 |\n",
    "| `max_iter=1000`             | Garante que o modelo tente convergir melhor    |\n",
    "| `.fit(X_train, y_train)`    | Ensina o modelo com os dados de treino         |"
   ]
  },
  {
   "cell_type": "markdown",
   "id": "924d8ed9-4a61-4f85-9381-60d3b1db3266",
   "metadata": {},
   "source": [
    "### 🐍 Código - Fazer previsões no conjunto de teste\n",
    "- Esse código usa um modelo de machine learning já treinado para fazer previsões em novos dados (neste caso, os dados de teste)."
   ]
  },
  {
   "cell_type": "code",
   "execution_count": 39,
   "id": "784f6938-b8ca-4617-bc5d-a33f8be2920d",
   "metadata": {},
   "outputs": [],
   "source": [
    "y_pred = modelo.predict(X_test)"
   ]
  },
  {
   "cell_type": "markdown",
   "id": "91d637c0-c662-4ece-b219-6406cfe59cec",
   "metadata": {
    "jp-MarkdownHeadingCollapsed": true
   },
   "source": [
    "### 🔖 Explicações"
   ]
  },
  {
   "cell_type": "markdown",
   "id": "25d73628-7ccf-4512-8909-10b5b6329a68",
   "metadata": {},
   "source": [
    "- **`X_test`**: são os dados de entrada que o modelo **nunca viu antes** (dados de teste).\n",
    "- **`.predict()`**: é o método usado para o modelo **prever resultados** com base nesses novos dados.\n",
    "- **`y_pred`**: é onde armazenamos as **previsões feitas pelo modelo** (ou seja, quais valores ele acha que `y` deve ter para cada linha de `X_test`).\n",
    "\n",
    "Se o modelo foi treinado para prever se um cliente pertence à categoria `\"A\"` ou `\"B\"`, então:\n",
    "\n",
    "- `X_test`: são os dados desses clientes que o modelo não viu durante o treino\n",
    "- `y_pred`: será uma lista com as **previsões** do modelo para cada cliente:  \n",
    "  Exemplo: `['A', 'B', 'B', 'A', ...]`"
   ]
  },
  {
   "cell_type": "markdown",
   "id": "b273c94f-ebbc-4295-954e-499bee671f88",
   "metadata": {},
   "source": [
    "## Avaliar o desempenho do modelo"
   ]
  },
  {
   "cell_type": "markdown",
   "id": "d4e00a66-bc51-4b45-a637-048f5bfd0ffc",
   "metadata": {},
   "source": [
    "### 🐍 Código -Acurácia: porcentagem de acertos \n",
    "- Este código **avalia o desempenho** de um modelo de machine learning, medindo a **porcentagem de acertos** nas previsões feitas em dados de teste."
   ]
  },
  {
   "cell_type": "code",
   "execution_count": 40,
   "id": "4c23df94-7a11-48cd-a3f5-79a3b0d55594",
   "metadata": {},
   "outputs": [
    {
     "name": "stdout",
     "output_type": "stream",
     "text": [
      "Acurácia do modelo: 0.49\n"
     ]
    }
   ],
   "source": [
    "acuracia = accuracy_score(y_test, y_pred)\n",
    "print(f'Acurácia do modelo: {acuracia:.2f}')"
   ]
  },
  {
   "cell_type": "markdown",
   "id": "1024b658-9063-43ad-ba41-4101182bc165",
   "metadata": {},
   "source": [
    "### 🔖 Explicações"
   ]
  },
  {
   "cell_type": "markdown",
   "id": "f0b2bcaa-5314-4f56-8d5a-d37dffd2ca2b",
   "metadata": {},
   "source": [
    "- **`accuracy_score()`**: é uma função do Scikit-learn que calcula a **acurácia**, ou seja, a porcentagem de previsões corretas.\n",
    "- **`y_test`**: são os valores reais (corretos) que o modelo deveria prever.\n",
    "- **`y_pred`**: são as previsões feitas pelo modelo.\n",
    "- **Resultado:** um número entre 0 e 1 (ex: `0.85` = 85% de acerto)\n",
    "\n",
    "Esse é um dos métodos mais simples e comuns para avaliar modelos de classificação."
   ]
  },
  {
   "cell_type": "markdown",
   "id": "1edefb7f-7f77-4114-a4de-8fe3d17ddf2f",
   "metadata": {},
   "source": [
    "### 🐍 Código - Relatório completo: precisão, recall, f1-score\n",
    "Este código mostra um **relatório completo com métricas de avaliação** do modelo de classificação.\n",
    "\n",
    "Ele vai além da acurácia e mostra:\n",
    "- **Precisão**\n",
    "- **Recall (ou sensibilidade)**\n",
    "- **F1-score**\n",
    "- **Suporte** (quantidade de amostras por classe)"
   ]
  },
  {
   "cell_type": "code",
   "execution_count": 41,
   "id": "c3161180-dee3-4abf-8388-8dae751824b7",
   "metadata": {},
   "outputs": [
    {
     "name": "stdout",
     "output_type": "stream",
     "text": [
      "              precision    recall  f1-score   support\n",
      "\n",
      "           A       0.47      0.34      0.40       189\n",
      "           B       0.50      0.63      0.56       199\n",
      "\n",
      "    accuracy                           0.49       388\n",
      "   macro avg       0.48      0.49      0.48       388\n",
      "weighted avg       0.49      0.49      0.48       388\n",
      "\n"
     ]
    }
   ],
   "source": [
    "print(classification_report(y_test, y_pred))"
   ]
  },
  {
   "cell_type": "markdown",
   "id": "6df1fc96-baae-4342-8591-72df6fe2abb5",
   "metadata": {},
   "source": [
    "### 🔖 Explicações"
   ]
  },
  {
   "cell_type": "markdown",
   "id": "86c30e05-29a2-4ab0-9b33-2bdd3a41feb1",
   "metadata": {},
   "source": [
    "- **`classification_report()`**:  \n",
    "  Função do Scikit-learn que gera um relatório com as métricas acima para cada classe (`\"A\"` e `\"B\"` no seu caso).\n",
    "\n",
    "- **`y_test`**:  \n",
    "  Os valores reais (corretos) do target.\n",
    "\n",
    "- **`y_pred`**:  \n",
    "  As previsões feitas pelo modelo.\n",
    "\n",
    "| Métrica       | O que mede? |\n",
    "|---------------|-------------|\n",
    "| **Precision** | Dos que o modelo disse ser `\"A\"`, quantos realmente eram `\"A\"`? |\n",
    "| **Recall**    | Dos que realmente eram `\"A\"`, quantos o modelo acertou? |\n",
    "| **F1-score**  | Média entre precisão e recall (boa para dados desbalanceados) |\n",
    "| **Support**   | Quantas amostras tinham em cada classe |\n",
    "\n",
    "A **accuracy** (acurácia) é a porcentagem de previsões corretas feitas pelo modelo, ou seja, quantos resultados ele acertou em relação ao total. \n",
    "\n",
    "Já o **macro avg** é a média das métricas (como precisão, recall e F1-score) calculada sem considerar o número de amostras por classe, dando o mesmo peso para cada classe — o que é útil quando você quer avaliar classes minoritárias. \n",
    "\n",
    "Por outro lado, o **weighted avg** também calcula a média dessas métricas, mas leva em conta a proporção de amostras em cada classe , dando mais peso às classes maiores, o que pode ser mais representativo quando as classes estão desbalanceadas. \n",
    "\n",
    "Essas métricas ajudam a entender melhor o desempenho do modelo além da acurácia geral."
   ]
  },
  {
   "cell_type": "markdown",
   "id": "bc327783-762a-45c2-842b-319a5ca7c28c",
   "metadata": {},
   "source": [
    "### 🐍 Código - Matriz de confusão (visualização dos erros)\n",
    "Este código exibe a **matriz de confusão**, que é uma tabela que mostra **quantas previsões foram corretas ou incorretas** em cada classe."
   ]
  },
  {
   "cell_type": "code",
   "execution_count": 43,
   "id": "1677a613-f544-4057-9686-f044c699afc1",
   "metadata": {},
   "outputs": [
    {
     "name": "stdout",
     "output_type": "stream",
     "text": [
      "[[ 65 124]\n",
      " [ 74 125]]\n"
     ]
    }
   ],
   "source": [
    "print(confusion_matrix(y_test, y_pred))"
   ]
  },
  {
   "cell_type": "markdown",
   "id": "5ddebe2b-d11e-4bb1-afec-6ea866089898",
   "metadata": {},
   "source": [
    "### 🔖 Explicações"
   ]
  },
  {
   "cell_type": "markdown",
   "id": "73b0b8e8-00ac-46f9-ade5-bea15ba86c18",
   "metadata": {},
   "source": [
    "🔍 **O que cada parte faz**:\n",
    "\n",
    "- **`confusion_matrix()`**:  \n",
    "  Função do Scikit-learn que calcula a matriz de confusão com base nos valores reais (`y_test`) e nas previsões do modelo (`y_pred`).\n",
    "\n",
    "- **`y_test`**:  \n",
    "  Os valores reais (corretos) que o modelo deveria prever.\n",
    "\n",
    "- **`y_pred`**:  \n",
    "  As previsões feitas pelo modelo nos dados de teste.\n",
    "\n",
    "\n",
    "  **Isso significa**:\n",
    "\n",
    "|                | Previsto como A | Previsto como B |\n",
    "|----------------|------------------|------------------|\n",
    "| **Realmente A** | 56 (Verdadeiro Positivo) | 45 (Falso Negativo) |\n",
    "| **Realmente B** | 47 (Falso Positivo)       | 51 (Verdadeiro Negativo) |\n",
    "\n",
    "A matriz de confusão ajuda a entender **onde o modelo errou e acertou**, mostrando:\n",
    "- Quantos ele acertou por classe\n",
    "- Quantos ele confundiu entre as classes\n"
   ]
  },
  {
   "cell_type": "markdown",
   "id": "0b32deef-0d5a-47ba-b6ad-3581d0c93abf",
   "metadata": {},
   "source": [
    "## Salvar o modelo treinado em um arquivo\n",
    "No Scikit-learn, os modelos podem ser salvos usando:\n",
    "\n",
    "- `joblib`: mais eficiente para objetos grandes (como modelos de ML)\n",
    "- `pickle`: método mais antigo, mas também funcional\n",
    "\n",
    "Vamos usar o `joblib`, por ser mais rápido nesse caso."
   ]
  },
  {
   "cell_type": "markdown",
   "id": "e2c4b09a-775b-4f62-8231-e3037440f9b1",
   "metadata": {},
   "source": [
    "### 🐍 Código"
   ]
  },
  {
   "cell_type": "code",
   "execution_count": 45,
   "id": "aaac2de2-b4a8-48f2-ad15-b2d7efdaff65",
   "metadata": {},
   "outputs": [
    {
     "name": "stdout",
     "output_type": "stream",
     "text": [
      "\n",
      "Modelo salvo como 'modelo_regressao_logistica.joblib'\n"
     ]
    }
   ],
   "source": [
    "dump(modelo, 'modelo_regressao_logistica.joblib')\n",
    "print(\"\\nModelo salvo como 'modelo_regressao_logistica.joblib'\")"
   ]
  },
  {
   "cell_type": "markdown",
   "id": "8b71f62f-d631-4a49-b58f-9a4173951223",
   "metadata": {},
   "source": [
    "### 🔖 Explicações"
   ]
  },
  {
   "cell_type": "markdown",
   "id": "0d9905cd-f877-424e-b274-df2ee70b529a",
   "metadata": {},
   "source": [
    "A linha `dump(modelo, 'modelo_regressao_logistica.joblib')` é usada para salvar um modelo de machine learning treinado em um arquivo no disco. \n",
    "\n",
    "Ela faz parte da biblioteca joblib, que permite serializar e salvar objetos do Python — especialmente úteis para modelos grandes e complexos, como os criados com o Scikit-learn. \n",
    "\n",
    "Nesse caso, o modelo chamado modelo (no exemplo, um modelo de Regressão Logística) é salvo no arquivo 'modelo_regressao_logistica.joblib', permitindo que ele seja reutilizado posteriormente sem a necessidade de treiná-lo novamente, bastando carregá-lo com a função load() do próprio joblib."
   ]
  },
  {
   "cell_type": "markdown",
   "id": "05e81a75-e816-4911-920e-fff32e9fd4e4",
   "metadata": {},
   "source": [
    "### 📦 Como carregar o modelo depois (opcional)"
   ]
  },
  {
   "cell_type": "markdown",
   "id": "9f7a3647-9d34-47ec-863e-6455019d3615",
   "metadata": {},
   "source": [
    "### 🐍 Código"
   ]
  },
  {
   "cell_type": "code",
   "execution_count": null,
   "id": "38075aee-8964-4330-baf9-b4a2b20fa51f",
   "metadata": {},
   "outputs": [],
   "source": [
    "# Importa o modulo utilizado para a leiruta\n",
    "from joblib import dump\n",
    "\n",
    "# Carregar o modelo\n",
    "modelo_carregado = load('modelo-treinado/modelo_regressao_logistica.joblib')\n",
    "\n",
    "# Usar o modelo para prever novos dados\n",
    "#novas_previsoes = modelo_carregado.predict(X_novo)"
   ]
  },
  {
   "cell_type": "markdown",
   "id": "d9c73c92-6d55-4777-ab34-7f3326a4df09",
   "metadata": {},
   "source": [
    "### 🔖 Explicações"
   ]
  },
  {
   "cell_type": "markdown",
   "id": "219751d3-b8e9-4923-824b-946732673abd",
   "metadata": {},
   "source": [
    "| Etapa | Finalidade |\n",
    "|-------|------------|\n",
    "| `from joblib import dump` | Importa a ferramenta para salvar o modelo |\n",
    "| `dump(modelo, 'nome_do_arquivo.joblib')` | Salva o modelo treinado em um arquivo |\n",
    "| Futuro `load(...)` | Permite recarregar o modelo em outro momento |"
   ]
  },
  {
   "cell_type": "markdown",
   "id": "f96ac5cb-4fae-494a-972f-fb51cfd16cfa",
   "metadata": {},
   "source": [
    "### 🐍 Código"
   ]
  },
  {
   "cell_type": "code",
   "execution_count": null,
   "id": "dfd6e05c-f7f8-4754-85be-e565d0cfbb95",
   "metadata": {},
   "outputs": [],
   "source": [
    "#"
   ]
  },
  {
   "cell_type": "markdown",
   "id": "cf27a671-0e56-40fa-8f42-62919828a0ed",
   "metadata": {},
   "source": [
    "### 🔖 Explicações"
   ]
  },
  {
   "cell_type": "markdown",
   "id": "2d181aa7-7a09-4af5-bb18-6acd07fed5a9",
   "metadata": {},
   "source": [
    "..."
   ]
  },
  {
   "cell_type": "markdown",
   "id": "3e00a4ac-acd9-49de-a74d-36adb3e5e9da",
   "metadata": {},
   "source": [
    "### 🐍 Código"
   ]
  },
  {
   "cell_type": "code",
   "execution_count": null,
   "id": "ac676c6a-1622-410a-8520-d50f0f477b3e",
   "metadata": {},
   "outputs": [],
   "source": [
    "#"
   ]
  },
  {
   "cell_type": "markdown",
   "id": "5ce86b5d-3755-47dd-8335-22f96f0e9de3",
   "metadata": {},
   "source": [
    "### 🔖 Explicações"
   ]
  },
  {
   "cell_type": "markdown",
   "id": "e795d2c8-141d-40e7-b92e-a35a0a61232f",
   "metadata": {},
   "source": [
    "..."
   ]
  },
  {
   "cell_type": "markdown",
   "id": "fb43b3da-c802-451b-9a48-f7e927eac602",
   "metadata": {},
   "source": [
    "### 🐍 Código"
   ]
  },
  {
   "cell_type": "code",
   "execution_count": null,
   "id": "839ac5f7-0b42-4f5b-97e7-d09ca390998b",
   "metadata": {},
   "outputs": [],
   "source": [
    "#"
   ]
  },
  {
   "cell_type": "markdown",
   "id": "f6e30721-9148-473c-a0d3-f33788f1240d",
   "metadata": {},
   "source": [
    "### 🔖 Explicações"
   ]
  },
  {
   "cell_type": "markdown",
   "id": "d829f4bc-262b-4869-8716-d3866042a7e6",
   "metadata": {},
   "source": [
    "..."
   ]
  },
  {
   "cell_type": "markdown",
   "id": "d8a0e32f-20ad-490d-913f-6a5c9b454441",
   "metadata": {},
   "source": [
    "### 🐍 Código"
   ]
  },
  {
   "cell_type": "code",
   "execution_count": null,
   "id": "7be7481d-fa16-4e7e-830f-9a55bbd94dd9",
   "metadata": {},
   "outputs": [],
   "source": [
    "#"
   ]
  },
  {
   "cell_type": "markdown",
   "id": "f9d03a30-d9f2-471d-89ed-55619cadb694",
   "metadata": {},
   "source": [
    "### 🔖 Explicações"
   ]
  },
  {
   "cell_type": "markdown",
   "id": "c5b4b776-005e-4620-ab6b-4d0950ae6816",
   "metadata": {},
   "source": [
    "..."
   ]
  },
  {
   "cell_type": "markdown",
   "id": "dcec458f-239c-4a8d-87bf-2f0a3b1882ac",
   "metadata": {},
   "source": [
    "### 🐍 Código"
   ]
  },
  {
   "cell_type": "code",
   "execution_count": null,
   "id": "c9b3c01e-0af3-4f77-9fb8-572bd626d86e",
   "metadata": {},
   "outputs": [],
   "source": [
    "#"
   ]
  },
  {
   "cell_type": "markdown",
   "id": "9ad415bb-23f5-4d1b-99cd-16dce6c7947d",
   "metadata": {},
   "source": [
    "### 🔖 Explicações"
   ]
  },
  {
   "cell_type": "markdown",
   "id": "44bb93e2-7cfe-4d74-8888-906a91910f68",
   "metadata": {},
   "source": [
    "..."
   ]
  },
  {
   "cell_type": "markdown",
   "id": "a2feb92c-5103-47e4-9236-797836f55baf",
   "metadata": {},
   "source": [
    "### 🐍 Código"
   ]
  },
  {
   "cell_type": "code",
   "execution_count": null,
   "id": "ff5dd8d6-777e-4f97-bbfb-303be5175991",
   "metadata": {},
   "outputs": [],
   "source": [
    "#"
   ]
  },
  {
   "cell_type": "markdown",
   "id": "a0d9ff86-93c2-4c26-8e9f-9468ffe89d31",
   "metadata": {},
   "source": [
    "### 🔖 Explicações"
   ]
  },
  {
   "cell_type": "markdown",
   "id": "211f6a2e-3b12-4c00-9ea5-fc1986e85908",
   "metadata": {},
   "source": [
    "..."
   ]
  },
  {
   "cell_type": "code",
   "execution_count": null,
   "id": "ef7e15c1-d5c3-4238-beb5-32ee901b215f",
   "metadata": {},
   "outputs": [],
   "source": []
  },
  {
   "cell_type": "code",
   "execution_count": null,
   "id": "c8497d18-78a0-4132-b212-d6ee01fbd964",
   "metadata": {},
   "outputs": [],
   "source": []
  },
  {
   "cell_type": "code",
   "execution_count": null,
   "id": "01b72bbd-f4da-4557-9b87-8fbb5b518726",
   "metadata": {},
   "outputs": [],
   "source": []
  },
  {
   "cell_type": "code",
   "execution_count": null,
   "id": "5e0143cd-5fd0-48df-ac4d-a548e9a648d3",
   "metadata": {},
   "outputs": [],
   "source": []
  }
 ],
 "metadata": {
  "kernelspec": {
   "display_name": "Python ML (venv)",
   "language": "python",
   "name": "machine_learning"
  },
  "language_info": {
   "codemirror_mode": {
    "name": "ipython",
    "version": 3
   },
   "file_extension": ".py",
   "mimetype": "text/x-python",
   "name": "python",
   "nbconvert_exporter": "python",
   "pygments_lexer": "ipython3",
   "version": "3.12.0"
  }
 },
 "nbformat": 4,
 "nbformat_minor": 5
}
