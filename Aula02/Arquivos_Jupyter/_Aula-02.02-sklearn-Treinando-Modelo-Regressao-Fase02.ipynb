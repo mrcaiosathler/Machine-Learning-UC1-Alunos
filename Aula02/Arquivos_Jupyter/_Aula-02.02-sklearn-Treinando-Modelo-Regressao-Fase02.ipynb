{
 "cells": [
  {
   "cell_type": "markdown",
   "id": "ed134bd4-471b-4e80-a4a8-ef512023b602",
   "metadata": {},
   "source": [
    "# Sklearn - Treinando um modelo de classificação\n",
    "\n",
    "- **FASE 2 - Treinando o modelo\n",
    "\n",
    "https://chat.qwen.ai/c/be121dfe-f854-4298-b0b5-4010e1ca41b5"
   ]
  },
  {
   "cell_type": "markdown",
   "id": "1d3176ee-56cd-4301-bc69-277f3aff8e39",
   "metadata": {},
   "source": [
    "## 🎯 Objetivo"
   ]
  },
  {
   "cell_type": "markdown",
   "id": "4fdc2f5f-8ce1-4468-9ed7-4fbdbde6d4c2",
   "metadata": {},
   "source": [
    "O modelo será treinado para prever a variável `categoria` (que pode ser `\"A\"` ou `\"B\"`) com base nas demais colunas do dataset, após todo o pré-processamento que fizemos.\n",
    "\n",
    "Treinar um modelo de **Regressão Logística** usando:\n",
    "- Dados já pré-processados (`df_final`)\n",
    "- Divisão entre dados de treino e teste\n",
    "- Métricas de avaliação"
   ]
  },
  {
   "cell_type": "markdown",
   "id": "9a0b4d79-5085-4554-9ac6-665aa0a03850",
   "metadata": {},
   "source": [
    "### 🐍 Código - Importar Bibliotecas"
   ]
  },
  {
   "cell_type": "code",
   "execution_count": 1,
   "id": "d4189089-9635-4350-8493-df9b5386495c",
   "metadata": {},
   "outputs": [],
   "source": [
    "import pandas as pd\n",
    "import numpy as np\n",
    "import matplotlib.pyplot as plt\n",
    "from sklearn.preprocessing import StandardScaler, OneHotEncoder\n",
    "from sklearn.impute import SimpleImputer\n",
    "from sklearn.model_selection import train_test_split\n",
    "from sklearn.linear_model import LogisticRegression\n",
    "from sklearn.metrics import accuracy_score, classification_report, confusion_matrix\n",
    "from joblib import dump, load"
   ]
  },
  {
   "cell_type": "markdown",
   "id": "aeb60baa-a2f1-4f99-b3e7-09f393f2b159",
   "metadata": {},
   "source": [
    "### 🔖 Explicações"
   ]
  },
  {
   "cell_type": "markdown",
   "id": "52c03410-794c-48e8-930f-c2cba55b4c08",
   "metadata": {},
   "source": [
    "| Biblioteca / Classe                    | Finalidade Principal                                      |\n",
    "|---------------------------------------|------------------------------------------------------------|\n",
    "| `train_test_split`                    | Dividir dados em conjuntos de treino e teste              |\n",
    "| `LogisticRegression`                  | Treinar um modelo de classificação                        |\n",
    "| `accuracy_score`                      | Medir a porcentagem de acertos do modelo                  |\n",
    "| `classification_report`               | Relatório detalhado com precisão, recall e f1-score       |\n",
    "| `confusion_matrix`                    | Visualizar os tipos de erros do modelo                    |"
   ]
  },
  {
   "cell_type": "markdown",
   "id": "253a700a-0374-41c6-9e3e-b0dad154d876",
   "metadata": {},
   "source": [
    "## Carregando o Dataset"
   ]
  },
  {
   "cell_type": "markdown",
   "id": "b87aa40d-0ed3-4a9c-ae6c-2e2577d0f1bf",
   "metadata": {},
   "source": [
    "### 🐍 Código"
   ]
  },
  {
   "cell_type": "code",
   "execution_count": 6,
   "id": "1e400b4a-bbd1-4e49-b96c-bdc7d3cf12f9",
   "metadata": {},
   "outputs": [],
   "source": [
    "df = pd.read_csv('dataset-fase1/dataset_sudeste_simples_realista_outliers-2k-fase1.csv')"
   ]
  },
  {
   "cell_type": "markdown",
   "id": "b8e2fc9b-680e-486b-a8af-98708df31ecd",
   "metadata": {},
   "source": [
    "## Analisando o Dataset"
   ]
  },
  {
   "cell_type": "markdown",
   "id": "810197f0-61c1-4643-841a-3ed8d187645d",
   "metadata": {},
   "source": [
    "### 🐍 Código"
   ]
  },
  {
   "cell_type": "code",
   "execution_count": 7,
   "id": "66a82fa2-a42d-4eee-b772-7d55de77947e",
   "metadata": {},
   "outputs": [
    {
     "name": "stdout",
     "output_type": "stream",
     "text": [
      "<class 'pandas.core.frame.DataFrame'>\n",
      "RangeIndex: 1991 entries, 0 to 1990\n",
      "Data columns (total 22 columns):\n",
      " #   Column                 Non-Null Count  Dtype  \n",
      "---  ------                 --------------  -----  \n",
      " 0   id                     1991 non-null   int64  \n",
      " 1   idade                  1991 non-null   float64\n",
      " 2   renda                  1991 non-null   float64\n",
      " 3   cidade                 1979 non-null   object \n",
      " 4   categoria              1970 non-null   object \n",
      " 5   nota                   1991 non-null   float64\n",
      " 6   feedback               1966 non-null   object \n",
      " 7   cidade_Belo Horizonte  1991 non-null   float64\n",
      " 8   cidade_Rio de Janeiro  1991 non-null   float64\n",
      " 9   cidade_São Paulo       1991 non-null   float64\n",
      " 10  cidade_Vitória         1991 non-null   float64\n",
      " 11  cidade_nan             1991 non-null   float64\n",
      " 12  categoria_A            1991 non-null   float64\n",
      " 13  categoria_B            1991 non-null   float64\n",
      " 14  categoria_nan          1991 non-null   float64\n",
      " 15  feedback_Bom           1991 non-null   float64\n",
      " 16  feedback_Regular       1991 non-null   float64\n",
      " 17  feedback_Ruim          1991 non-null   float64\n",
      " 18  feedback_nan           1991 non-null   float64\n",
      " 19  idade_scaler           1991 non-null   float64\n",
      " 20  renda_scaler           1991 non-null   float64\n",
      " 21  nota_scaler            1991 non-null   float64\n",
      "dtypes: float64(18), int64(1), object(3)\n",
      "memory usage: 342.3+ KB\n"
     ]
    }
   ],
   "source": [
    "df.info()"
   ]
  },
  {
   "cell_type": "markdown",
   "id": "5c6d0606-412b-44e7-af08-f7eae8eac917",
   "metadata": {},
   "source": [
    "### 🐍 Código"
   ]
  },
  {
   "cell_type": "code",
   "execution_count": 8,
   "id": "854ae46c-5d44-4895-84f8-56a25f84d928",
   "metadata": {},
   "outputs": [
    {
     "data": {
      "text/plain": [
       "id                        0\n",
       "idade                     0\n",
       "renda                     0\n",
       "cidade                   12\n",
       "categoria                21\n",
       "nota                      0\n",
       "feedback                 25\n",
       "cidade_Belo Horizonte     0\n",
       "cidade_Rio de Janeiro     0\n",
       "cidade_São Paulo          0\n",
       "cidade_Vitória            0\n",
       "cidade_nan                0\n",
       "categoria_A               0\n",
       "categoria_B               0\n",
       "categoria_nan             0\n",
       "feedback_Bom              0\n",
       "feedback_Regular          0\n",
       "feedback_Ruim             0\n",
       "feedback_nan              0\n",
       "idade_scaler              0\n",
       "renda_scaler              0\n",
       "nota_scaler               0\n",
       "dtype: int64"
      ]
     },
     "execution_count": 8,
     "metadata": {},
     "output_type": "execute_result"
    }
   ],
   "source": [
    "df.isnull().sum()"
   ]
  },
  {
   "cell_type": "markdown",
   "id": "1991bb2e-2d48-4bed-9913-a8405a6b4530",
   "metadata": {},
   "source": [
    "## Ajustando o Dataset"
   ]
  },
  {
   "cell_type": "markdown",
   "id": "fd852307-6958-455b-9c25-bf0e463a0b4a",
   "metadata": {},
   "source": [
    "### 🐍 Código - Removendo as linhas vazias da variavel `categoria`"
   ]
  },
  {
   "cell_type": "code",
   "execution_count": 15,
   "id": "3ba51de0-20ba-4e6e-a8f3-2bdc99cb33c9",
   "metadata": {},
   "outputs": [
    {
     "data": {
      "text/plain": [
       "id                        0\n",
       "idade                     0\n",
       "renda                     0\n",
       "cidade                   12\n",
       "categoria                 0\n",
       "nota                      0\n",
       "feedback                 25\n",
       "cidade_Belo Horizonte     0\n",
       "cidade_Rio de Janeiro     0\n",
       "cidade_São Paulo          0\n",
       "cidade_Vitória            0\n",
       "cidade_nan                0\n",
       "categoria_A               0\n",
       "categoria_B               0\n",
       "categoria_nan             0\n",
       "feedback_Bom              0\n",
       "feedback_Regular          0\n",
       "feedback_Ruim             0\n",
       "feedback_nan              0\n",
       "idade_scaler              0\n",
       "renda_scaler              0\n",
       "nota_scaler               0\n",
       "dtype: int64"
      ]
     },
     "execution_count": 15,
     "metadata": {},
     "output_type": "execute_result"
    }
   ],
   "source": [
    "#df = df_final.dropna()\n",
    "\n",
    "df = df.dropna(subset=['categoria'])\n",
    "\n",
    "df.isnull().sum()\n"
   ]
  },
  {
   "cell_type": "markdown",
   "id": "37c56ed6-67fe-4043-b1a6-cb6c7ad285bb",
   "metadata": {},
   "source": [
    "### 🐍 Código"
   ]
  },
  {
   "cell_type": "code",
   "execution_count": 21,
   "id": "5134b076-2b10-42e1-b958-328036520c8c",
   "metadata": {},
   "outputs": [],
   "source": [
    "# X = Features\n",
    "X = df[['idade_scaler', 'nota_scaler', 'renda_scaler']]\n",
    "\n",
    "# y = a coluna que queremos prever\n",
    "y = df['categoria']"
   ]
  },
  {
   "cell_type": "markdown",
   "id": "90fbae42-ccd4-40a3-a122-38cc9d2a39b3",
   "metadata": {},
   "source": [
    "### 🔖 Explicações"
   ]
  },
  {
   "cell_type": "markdown",
   "id": "d60c3282-12a1-4172-ac3a-866e89f67544",
   "metadata": {},
   "source": [
    "Prepara os dados para um modelo de **machine learning** separando:\n",
    "\n",
    "- As **variáveis explicativas (features)** → armazenadas em `X`\n",
    "- A **variável alvo (target)** → armazenada em `y`\n",
    "- **`axis=1`**: significa que estamos removendo uma **coluna**, não uma linha.\n",
    "\n",
    "Ou seja:\n",
    "- `X`: o que o modelo usa para aprender\n",
    "- `y`: o que o modelo deve prever\n",
    "\n",
    "**Resumo**:\n",
    "\n",
    "| Variável | O que representa                          | Tipo             |\n",
    "|---------|--------------------------------------------|------------------|\n",
    "| `X`     | Dados de entrada (features)                | DataFrame        |\n",
    "| `y`     | Valor que queremos prever (target)         | Série (coluna)   |"
   ]
  },
  {
   "cell_type": "code",
   "execution_count": 22,
   "id": "130e50eb",
   "metadata": {},
   "outputs": [
    {
     "name": "stdout",
     "output_type": "stream",
     "text": [
      "<class 'pandas.core.frame.DataFrame'>\n",
      "Index: 1970 entries, 0 to 1990\n",
      "Data columns (total 3 columns):\n",
      " #   Column        Non-Null Count  Dtype  \n",
      "---  ------        --------------  -----  \n",
      " 0   idade_scaler  1970 non-null   float64\n",
      " 1   nota_scaler   1970 non-null   float64\n",
      " 2   renda_scaler  1970 non-null   float64\n",
      "dtypes: float64(3)\n",
      "memory usage: 61.6 KB\n"
     ]
    }
   ],
   "source": [
    "X.info()"
   ]
  },
  {
   "cell_type": "code",
   "execution_count": 23,
   "id": "60463317",
   "metadata": {},
   "outputs": [
    {
     "name": "stdout",
     "output_type": "stream",
     "text": [
      "<class 'pandas.core.series.Series'>\n",
      "Index: 1970 entries, 0 to 1990\n",
      "Series name: categoria\n",
      "Non-Null Count  Dtype \n",
      "--------------  ----- \n",
      "1970 non-null   object\n",
      "dtypes: object(1)\n",
      "memory usage: 30.8+ KB\n"
     ]
    }
   ],
   "source": [
    "y.info()"
   ]
  },
  {
   "cell_type": "markdown",
   "id": "a55f176a-3d84-4f87-a2cc-6c5c34c4b7b4",
   "metadata": {},
   "source": [
    "# Treinando o modelo de Regressão\n",
    "Vamos treinar um modelo de classificação para prever a variável categoria (que pode ser \"A\" ou \"B\") com base nas demais colunas do dataset, após todo o pré-processamento que fizemos."
   ]
  },
  {
   "cell_type": "markdown",
   "id": "e2ce635f-98fb-44bf-8f58-ad21a5a13564",
   "metadata": {},
   "source": [
    "### 🐍 Código"
   ]
  },
  {
   "cell_type": "code",
   "execution_count": 24,
   "id": "6d75e1bd-e792-4b62-8962-13a968c84a47",
   "metadata": {},
   "outputs": [
    {
     "name": "stdout",
     "output_type": "stream",
     "text": [
      "\n",
      "\n",
      "Features \n",
      "\n",
      "   idade_scaler  nota_scaler  renda_scaler\n",
      "0     -0.283384    -0.155190     -0.607586\n",
      "1      1.301629     0.157421      0.705680\n",
      "2      1.111428     0.018483      0.544563\n",
      "3      1.111428    -1.093024      0.411891\n",
      "4      0.604223     0.192155     -1.079648 \n",
      "\n"
     ]
    }
   ],
   "source": [
    "print(f\"\\n\\nFeatures \\n\\n{X.head(5)} \\n\")"
   ]
  },
  {
   "cell_type": "code",
   "execution_count": 25,
   "id": "f534ae44-783c-48ac-89a6-b2594219156b",
   "metadata": {},
   "outputs": [
    {
     "name": "stdout",
     "output_type": "stream",
     "text": [
      "\n",
      "\n",
      "Target \n",
      "\n",
      "0    A\n",
      "1    B\n",
      "2    B\n",
      "3    A\n",
      "4    B\n",
      "Name: categoria, dtype: object \n",
      "\n"
     ]
    }
   ],
   "source": [
    "print(f\"\\n\\nTarget \\n\\n{y.head(5)} \\n\")"
   ]
  },
  {
   "cell_type": "markdown",
   "id": "74b8b951-8666-4c4e-bef7-d1a2a0a7e899",
   "metadata": {},
   "source": [
    "### 🐍 Código - Dividir os dados em conjuntos de treino e teste"
   ]
  },
  {
   "cell_type": "code",
   "execution_count": 26,
   "id": "a623f92a-6220-4149-9b02-9752116ca369",
   "metadata": {},
   "outputs": [],
   "source": [
    "X_train, X_test, y_train, y_test = train_test_split(\n",
    "    X, y, \n",
    "    test_size=0.2,     # 20% dos dados serão usados para teste\n",
    "    random_state=42,   # garantir reprodutibilidade\n",
    "    stratify=y         # manter proporção das classes em treino e teste\n",
    ")"
   ]
  },
  {
   "cell_type": "markdown",
   "id": "fb679719-83ca-4df0-96ca-811458afaa4b",
   "metadata": {},
   "source": [
    "### 🔖 Explicações"
   ]
  },
  {
   "cell_type": "markdown",
   "id": "0497a234-bd74-4a5e-a558-eed910571be9",
   "metadata": {},
   "source": [
    "Esse código divide os dados em dois grupos:\n",
    "- Conjunto de treino (X_train, y_train) : usado para treinar o modelo\n",
    "- Conjunto de teste (X_test, y_test) : usado para avaliar como o modelo se sai com dados novos e não vistos\n",
    "\n",
    "> ⚠️ O parâmetro `stratify=y` garante que a proporção de `\"A\"` e `\"B\"` seja mantida nos conjuntos de treino e teste.\n",
    "\n",
    "| Parte | O que faz |\n",
    "|------|-----------|\n",
    "| `train_test_split(...)` | Função que divide os dados em conjuntos de treino e teste |\n",
    "| `X, y` | São os dados de entrada (features) e o alvo (o que queremos prever) |\n",
    "| `test_size=0.2` | Define que **20% dos dados** vão para o conjunto de teste (80% para treino) |\n",
    "| `random_state=42` | Garante que a divisão seja **sempre a mesma** (para reprodutibilidade) |\n",
    "| `stratify=y` | Mantém a **mesma proporção de classes** em `y` nos conjuntos de treino e teste |\n",
    "\n",
    "Se você tem 100 registros e `test_size=0.2`:\n",
    "\n",
    "- **80 registros** vão para treino (`X_train`, `y_train`)\n",
    "- **20 registros** vão para teste (`X_test`, `y_test`)\n",
    "\n",
    "E com `stratify=y`, se 60% dos dados são `\"A\"` e 40% são `\"B\"`, essa proporção será mantida nos dois conjuntos.\n",
    "\n",
    "💡 **Por que isso é importante?**\n",
    "\n",
    "- **Evita overfitting**: Treinar e testar com os mesmos dados pode levar a um modelo que \"decora\" as respostas.\n",
    "\n",
    "- **Reprodutibilidade**: Com `random_state`, você garante que outros obtenham os mesmos resultados.\n",
    "\n",
    "- **Proporção balanceada**: Com `stratify=y`, o modelo é avaliado com base em uma amostra representativa."
   ]
  },
  {
   "cell_type": "markdown",
   "id": "1421c48e-532a-426a-bb20-7e010b7fc0da",
   "metadata": {},
   "source": [
    "### 🐍 Código"
   ]
  },
  {
   "cell_type": "code",
   "execution_count": 27,
   "id": "e9c5690d-89d6-4c68-9cd2-52f94ca0b244",
   "metadata": {},
   "outputs": [
    {
     "name": "stdout",
     "output_type": "stream",
     "text": [
      "Dados de Treino - Features \n",
      "\n",
      "      idade_scaler  nota_scaler  renda_scaler\n",
      "1914      0.667624     0.713174     -0.151684\n",
      "1529      0.921226     1.407866      1.124628\n",
      "106      -0.156583     1.129989     -0.038922\n",
      "1108      0.414022    -0.884616      0.729221\n",
      "407      -0.727188    -1.301431      0.679909 \n",
      "\n",
      "\n",
      "\n",
      "Dados de Treino - Targets \n",
      "\n",
      "1914    A\n",
      "1529    A\n",
      "106     A\n",
      "1108    A\n",
      "407     A\n",
      "Name: categoria, dtype: object \n",
      "\n",
      "\n",
      "\n",
      "Dados de Teste - Features \n",
      "\n",
      "      idade_scaler  nota_scaler  renda_scaler\n",
      "469       0.794425     0.504767      1.638035\n",
      "78        0.223820    -1.370900      0.910705\n",
      "1391     -1.614795     1.025785     -1.093418\n",
      "1203     -0.029782     1.685742     -0.611136\n",
      "1125     -1.487994     0.921582      0.366256 \n",
      "\n",
      "\n",
      "\n",
      "Dados de Teste - Targets \n",
      "\n",
      "469     B\n",
      "78      A\n",
      "1391    B\n",
      "1203    A\n",
      "1125    B\n",
      "Name: categoria, dtype: object \n",
      "\n",
      "\n",
      "\n"
     ]
    }
   ],
   "source": [
    "print (f\"Dados de Treino - Features \\n\\n{X_train.head(5)} \\n\\n\\n\")\n",
    "print (f\"Dados de Treino - Targets \\n\\n{y_train.head(5)} \\n\\n\\n\")\n",
    "\n",
    "print (f\"Dados de Teste - Features \\n\\n{X_test.head(5)} \\n\\n\\n\")\n",
    "print (f\"Dados de Teste - Targets \\n\\n{y_test.head(5)} \\n\\n\\n\")"
   ]
  },
  {
   "cell_type": "markdown",
   "id": "24d95dcf-91f7-489a-9607-3d1f73c0e895",
   "metadata": {},
   "source": [
    "### 🔖 Explicações"
   ]
  },
  {
   "cell_type": "markdown",
   "id": "d508b5dc-a859-4a7d-b33b-3a43960c7bc5",
   "metadata": {},
   "source": [
    "..."
   ]
  },
  {
   "cell_type": "markdown",
   "id": "695f3e97-5b30-45e6-ad79-17548be21610",
   "metadata": {},
   "source": [
    "## Criar e treinar o modelo de Regressão Logística\n",
    "- Este código **cria e treina** um modelo de **Regressão Logística**, que é um algoritmo comum usado para **classificação** (por exemplo: prever se algo é `\"A\"` ou `\"B\"`)."
   ]
  },
  {
   "cell_type": "markdown",
   "id": "c03ab4ca-8adb-45d2-94bf-25f82d4bc348",
   "metadata": {},
   "source": [
    "### 🐍 Código"
   ]
  },
  {
   "cell_type": "code",
   "execution_count": 28,
   "id": "7f1f2281-dd85-494e-b7b6-9b262cfecff2",
   "metadata": {},
   "outputs": [
    {
     "data": {
      "text/html": [
       "<style>#sk-container-id-1 {\n",
       "  /* Definition of color scheme common for light and dark mode */\n",
       "  --sklearn-color-text: #000;\n",
       "  --sklearn-color-text-muted: #666;\n",
       "  --sklearn-color-line: gray;\n",
       "  /* Definition of color scheme for unfitted estimators */\n",
       "  --sklearn-color-unfitted-level-0: #fff5e6;\n",
       "  --sklearn-color-unfitted-level-1: #f6e4d2;\n",
       "  --sklearn-color-unfitted-level-2: #ffe0b3;\n",
       "  --sklearn-color-unfitted-level-3: chocolate;\n",
       "  /* Definition of color scheme for fitted estimators */\n",
       "  --sklearn-color-fitted-level-0: #f0f8ff;\n",
       "  --sklearn-color-fitted-level-1: #d4ebff;\n",
       "  --sklearn-color-fitted-level-2: #b3dbfd;\n",
       "  --sklearn-color-fitted-level-3: cornflowerblue;\n",
       "\n",
       "  /* Specific color for light theme */\n",
       "  --sklearn-color-text-on-default-background: var(--sg-text-color, var(--theme-code-foreground, var(--jp-content-font-color1, black)));\n",
       "  --sklearn-color-background: var(--sg-background-color, var(--theme-background, var(--jp-layout-color0, white)));\n",
       "  --sklearn-color-border-box: var(--sg-text-color, var(--theme-code-foreground, var(--jp-content-font-color1, black)));\n",
       "  --sklearn-color-icon: #696969;\n",
       "\n",
       "  @media (prefers-color-scheme: dark) {\n",
       "    /* Redefinition of color scheme for dark theme */\n",
       "    --sklearn-color-text-on-default-background: var(--sg-text-color, var(--theme-code-foreground, var(--jp-content-font-color1, white)));\n",
       "    --sklearn-color-background: var(--sg-background-color, var(--theme-background, var(--jp-layout-color0, #111)));\n",
       "    --sklearn-color-border-box: var(--sg-text-color, var(--theme-code-foreground, var(--jp-content-font-color1, white)));\n",
       "    --sklearn-color-icon: #878787;\n",
       "  }\n",
       "}\n",
       "\n",
       "#sk-container-id-1 {\n",
       "  color: var(--sklearn-color-text);\n",
       "}\n",
       "\n",
       "#sk-container-id-1 pre {\n",
       "  padding: 0;\n",
       "}\n",
       "\n",
       "#sk-container-id-1 input.sk-hidden--visually {\n",
       "  border: 0;\n",
       "  clip: rect(1px 1px 1px 1px);\n",
       "  clip: rect(1px, 1px, 1px, 1px);\n",
       "  height: 1px;\n",
       "  margin: -1px;\n",
       "  overflow: hidden;\n",
       "  padding: 0;\n",
       "  position: absolute;\n",
       "  width: 1px;\n",
       "}\n",
       "\n",
       "#sk-container-id-1 div.sk-dashed-wrapped {\n",
       "  border: 1px dashed var(--sklearn-color-line);\n",
       "  margin: 0 0.4em 0.5em 0.4em;\n",
       "  box-sizing: border-box;\n",
       "  padding-bottom: 0.4em;\n",
       "  background-color: var(--sklearn-color-background);\n",
       "}\n",
       "\n",
       "#sk-container-id-1 div.sk-container {\n",
       "  /* jupyter's `normalize.less` sets `[hidden] { display: none; }`\n",
       "     but bootstrap.min.css set `[hidden] { display: none !important; }`\n",
       "     so we also need the `!important` here to be able to override the\n",
       "     default hidden behavior on the sphinx rendered scikit-learn.org.\n",
       "     See: https://github.com/scikit-learn/scikit-learn/issues/21755 */\n",
       "  display: inline-block !important;\n",
       "  position: relative;\n",
       "}\n",
       "\n",
       "#sk-container-id-1 div.sk-text-repr-fallback {\n",
       "  display: none;\n",
       "}\n",
       "\n",
       "div.sk-parallel-item,\n",
       "div.sk-serial,\n",
       "div.sk-item {\n",
       "  /* draw centered vertical line to link estimators */\n",
       "  background-image: linear-gradient(var(--sklearn-color-text-on-default-background), var(--sklearn-color-text-on-default-background));\n",
       "  background-size: 2px 100%;\n",
       "  background-repeat: no-repeat;\n",
       "  background-position: center center;\n",
       "}\n",
       "\n",
       "/* Parallel-specific style estimator block */\n",
       "\n",
       "#sk-container-id-1 div.sk-parallel-item::after {\n",
       "  content: \"\";\n",
       "  width: 100%;\n",
       "  border-bottom: 2px solid var(--sklearn-color-text-on-default-background);\n",
       "  flex-grow: 1;\n",
       "}\n",
       "\n",
       "#sk-container-id-1 div.sk-parallel {\n",
       "  display: flex;\n",
       "  align-items: stretch;\n",
       "  justify-content: center;\n",
       "  background-color: var(--sklearn-color-background);\n",
       "  position: relative;\n",
       "}\n",
       "\n",
       "#sk-container-id-1 div.sk-parallel-item {\n",
       "  display: flex;\n",
       "  flex-direction: column;\n",
       "}\n",
       "\n",
       "#sk-container-id-1 div.sk-parallel-item:first-child::after {\n",
       "  align-self: flex-end;\n",
       "  width: 50%;\n",
       "}\n",
       "\n",
       "#sk-container-id-1 div.sk-parallel-item:last-child::after {\n",
       "  align-self: flex-start;\n",
       "  width: 50%;\n",
       "}\n",
       "\n",
       "#sk-container-id-1 div.sk-parallel-item:only-child::after {\n",
       "  width: 0;\n",
       "}\n",
       "\n",
       "/* Serial-specific style estimator block */\n",
       "\n",
       "#sk-container-id-1 div.sk-serial {\n",
       "  display: flex;\n",
       "  flex-direction: column;\n",
       "  align-items: center;\n",
       "  background-color: var(--sklearn-color-background);\n",
       "  padding-right: 1em;\n",
       "  padding-left: 1em;\n",
       "}\n",
       "\n",
       "\n",
       "/* Toggleable style: style used for estimator/Pipeline/ColumnTransformer box that is\n",
       "clickable and can be expanded/collapsed.\n",
       "- Pipeline and ColumnTransformer use this feature and define the default style\n",
       "- Estimators will overwrite some part of the style using the `sk-estimator` class\n",
       "*/\n",
       "\n",
       "/* Pipeline and ColumnTransformer style (default) */\n",
       "\n",
       "#sk-container-id-1 div.sk-toggleable {\n",
       "  /* Default theme specific background. It is overwritten whether we have a\n",
       "  specific estimator or a Pipeline/ColumnTransformer */\n",
       "  background-color: var(--sklearn-color-background);\n",
       "}\n",
       "\n",
       "/* Toggleable label */\n",
       "#sk-container-id-1 label.sk-toggleable__label {\n",
       "  cursor: pointer;\n",
       "  display: flex;\n",
       "  width: 100%;\n",
       "  margin-bottom: 0;\n",
       "  padding: 0.5em;\n",
       "  box-sizing: border-box;\n",
       "  text-align: center;\n",
       "  align-items: start;\n",
       "  justify-content: space-between;\n",
       "  gap: 0.5em;\n",
       "}\n",
       "\n",
       "#sk-container-id-1 label.sk-toggleable__label .caption {\n",
       "  font-size: 0.6rem;\n",
       "  font-weight: lighter;\n",
       "  color: var(--sklearn-color-text-muted);\n",
       "}\n",
       "\n",
       "#sk-container-id-1 label.sk-toggleable__label-arrow:before {\n",
       "  /* Arrow on the left of the label */\n",
       "  content: \"▸\";\n",
       "  float: left;\n",
       "  margin-right: 0.25em;\n",
       "  color: var(--sklearn-color-icon);\n",
       "}\n",
       "\n",
       "#sk-container-id-1 label.sk-toggleable__label-arrow:hover:before {\n",
       "  color: var(--sklearn-color-text);\n",
       "}\n",
       "\n",
       "/* Toggleable content - dropdown */\n",
       "\n",
       "#sk-container-id-1 div.sk-toggleable__content {\n",
       "  display: none;\n",
       "  text-align: left;\n",
       "  /* unfitted */\n",
       "  background-color: var(--sklearn-color-unfitted-level-0);\n",
       "}\n",
       "\n",
       "#sk-container-id-1 div.sk-toggleable__content.fitted {\n",
       "  /* fitted */\n",
       "  background-color: var(--sklearn-color-fitted-level-0);\n",
       "}\n",
       "\n",
       "#sk-container-id-1 div.sk-toggleable__content pre {\n",
       "  margin: 0.2em;\n",
       "  border-radius: 0.25em;\n",
       "  color: var(--sklearn-color-text);\n",
       "  /* unfitted */\n",
       "  background-color: var(--sklearn-color-unfitted-level-0);\n",
       "}\n",
       "\n",
       "#sk-container-id-1 div.sk-toggleable__content.fitted pre {\n",
       "  /* unfitted */\n",
       "  background-color: var(--sklearn-color-fitted-level-0);\n",
       "}\n",
       "\n",
       "#sk-container-id-1 input.sk-toggleable__control:checked~div.sk-toggleable__content {\n",
       "  /* Expand drop-down */\n",
       "  display: block;\n",
       "  width: 100%;\n",
       "  overflow: visible;\n",
       "}\n",
       "\n",
       "#sk-container-id-1 input.sk-toggleable__control:checked~label.sk-toggleable__label-arrow:before {\n",
       "  content: \"▾\";\n",
       "}\n",
       "\n",
       "/* Pipeline/ColumnTransformer-specific style */\n",
       "\n",
       "#sk-container-id-1 div.sk-label input.sk-toggleable__control:checked~label.sk-toggleable__label {\n",
       "  color: var(--sklearn-color-text);\n",
       "  background-color: var(--sklearn-color-unfitted-level-2);\n",
       "}\n",
       "\n",
       "#sk-container-id-1 div.sk-label.fitted input.sk-toggleable__control:checked~label.sk-toggleable__label {\n",
       "  background-color: var(--sklearn-color-fitted-level-2);\n",
       "}\n",
       "\n",
       "/* Estimator-specific style */\n",
       "\n",
       "/* Colorize estimator box */\n",
       "#sk-container-id-1 div.sk-estimator input.sk-toggleable__control:checked~label.sk-toggleable__label {\n",
       "  /* unfitted */\n",
       "  background-color: var(--sklearn-color-unfitted-level-2);\n",
       "}\n",
       "\n",
       "#sk-container-id-1 div.sk-estimator.fitted input.sk-toggleable__control:checked~label.sk-toggleable__label {\n",
       "  /* fitted */\n",
       "  background-color: var(--sklearn-color-fitted-level-2);\n",
       "}\n",
       "\n",
       "#sk-container-id-1 div.sk-label label.sk-toggleable__label,\n",
       "#sk-container-id-1 div.sk-label label {\n",
       "  /* The background is the default theme color */\n",
       "  color: var(--sklearn-color-text-on-default-background);\n",
       "}\n",
       "\n",
       "/* On hover, darken the color of the background */\n",
       "#sk-container-id-1 div.sk-label:hover label.sk-toggleable__label {\n",
       "  color: var(--sklearn-color-text);\n",
       "  background-color: var(--sklearn-color-unfitted-level-2);\n",
       "}\n",
       "\n",
       "/* Label box, darken color on hover, fitted */\n",
       "#sk-container-id-1 div.sk-label.fitted:hover label.sk-toggleable__label.fitted {\n",
       "  color: var(--sklearn-color-text);\n",
       "  background-color: var(--sklearn-color-fitted-level-2);\n",
       "}\n",
       "\n",
       "/* Estimator label */\n",
       "\n",
       "#sk-container-id-1 div.sk-label label {\n",
       "  font-family: monospace;\n",
       "  font-weight: bold;\n",
       "  display: inline-block;\n",
       "  line-height: 1.2em;\n",
       "}\n",
       "\n",
       "#sk-container-id-1 div.sk-label-container {\n",
       "  text-align: center;\n",
       "}\n",
       "\n",
       "/* Estimator-specific */\n",
       "#sk-container-id-1 div.sk-estimator {\n",
       "  font-family: monospace;\n",
       "  border: 1px dotted var(--sklearn-color-border-box);\n",
       "  border-radius: 0.25em;\n",
       "  box-sizing: border-box;\n",
       "  margin-bottom: 0.5em;\n",
       "  /* unfitted */\n",
       "  background-color: var(--sklearn-color-unfitted-level-0);\n",
       "}\n",
       "\n",
       "#sk-container-id-1 div.sk-estimator.fitted {\n",
       "  /* fitted */\n",
       "  background-color: var(--sklearn-color-fitted-level-0);\n",
       "}\n",
       "\n",
       "/* on hover */\n",
       "#sk-container-id-1 div.sk-estimator:hover {\n",
       "  /* unfitted */\n",
       "  background-color: var(--sklearn-color-unfitted-level-2);\n",
       "}\n",
       "\n",
       "#sk-container-id-1 div.sk-estimator.fitted:hover {\n",
       "  /* fitted */\n",
       "  background-color: var(--sklearn-color-fitted-level-2);\n",
       "}\n",
       "\n",
       "/* Specification for estimator info (e.g. \"i\" and \"?\") */\n",
       "\n",
       "/* Common style for \"i\" and \"?\" */\n",
       "\n",
       ".sk-estimator-doc-link,\n",
       "a:link.sk-estimator-doc-link,\n",
       "a:visited.sk-estimator-doc-link {\n",
       "  float: right;\n",
       "  font-size: smaller;\n",
       "  line-height: 1em;\n",
       "  font-family: monospace;\n",
       "  background-color: var(--sklearn-color-background);\n",
       "  border-radius: 1em;\n",
       "  height: 1em;\n",
       "  width: 1em;\n",
       "  text-decoration: none !important;\n",
       "  margin-left: 0.5em;\n",
       "  text-align: center;\n",
       "  /* unfitted */\n",
       "  border: var(--sklearn-color-unfitted-level-1) 1pt solid;\n",
       "  color: var(--sklearn-color-unfitted-level-1);\n",
       "}\n",
       "\n",
       ".sk-estimator-doc-link.fitted,\n",
       "a:link.sk-estimator-doc-link.fitted,\n",
       "a:visited.sk-estimator-doc-link.fitted {\n",
       "  /* fitted */\n",
       "  border: var(--sklearn-color-fitted-level-1) 1pt solid;\n",
       "  color: var(--sklearn-color-fitted-level-1);\n",
       "}\n",
       "\n",
       "/* On hover */\n",
       "div.sk-estimator:hover .sk-estimator-doc-link:hover,\n",
       ".sk-estimator-doc-link:hover,\n",
       "div.sk-label-container:hover .sk-estimator-doc-link:hover,\n",
       ".sk-estimator-doc-link:hover {\n",
       "  /* unfitted */\n",
       "  background-color: var(--sklearn-color-unfitted-level-3);\n",
       "  color: var(--sklearn-color-background);\n",
       "  text-decoration: none;\n",
       "}\n",
       "\n",
       "div.sk-estimator.fitted:hover .sk-estimator-doc-link.fitted:hover,\n",
       ".sk-estimator-doc-link.fitted:hover,\n",
       "div.sk-label-container:hover .sk-estimator-doc-link.fitted:hover,\n",
       ".sk-estimator-doc-link.fitted:hover {\n",
       "  /* fitted */\n",
       "  background-color: var(--sklearn-color-fitted-level-3);\n",
       "  color: var(--sklearn-color-background);\n",
       "  text-decoration: none;\n",
       "}\n",
       "\n",
       "/* Span, style for the box shown on hovering the info icon */\n",
       ".sk-estimator-doc-link span {\n",
       "  display: none;\n",
       "  z-index: 9999;\n",
       "  position: relative;\n",
       "  font-weight: normal;\n",
       "  right: .2ex;\n",
       "  padding: .5ex;\n",
       "  margin: .5ex;\n",
       "  width: min-content;\n",
       "  min-width: 20ex;\n",
       "  max-width: 50ex;\n",
       "  color: var(--sklearn-color-text);\n",
       "  box-shadow: 2pt 2pt 4pt #999;\n",
       "  /* unfitted */\n",
       "  background: var(--sklearn-color-unfitted-level-0);\n",
       "  border: .5pt solid var(--sklearn-color-unfitted-level-3);\n",
       "}\n",
       "\n",
       ".sk-estimator-doc-link.fitted span {\n",
       "  /* fitted */\n",
       "  background: var(--sklearn-color-fitted-level-0);\n",
       "  border: var(--sklearn-color-fitted-level-3);\n",
       "}\n",
       "\n",
       ".sk-estimator-doc-link:hover span {\n",
       "  display: block;\n",
       "}\n",
       "\n",
       "/* \"?\"-specific style due to the `<a>` HTML tag */\n",
       "\n",
       "#sk-container-id-1 a.estimator_doc_link {\n",
       "  float: right;\n",
       "  font-size: 1rem;\n",
       "  line-height: 1em;\n",
       "  font-family: monospace;\n",
       "  background-color: var(--sklearn-color-background);\n",
       "  border-radius: 1rem;\n",
       "  height: 1rem;\n",
       "  width: 1rem;\n",
       "  text-decoration: none;\n",
       "  /* unfitted */\n",
       "  color: var(--sklearn-color-unfitted-level-1);\n",
       "  border: var(--sklearn-color-unfitted-level-1) 1pt solid;\n",
       "}\n",
       "\n",
       "#sk-container-id-1 a.estimator_doc_link.fitted {\n",
       "  /* fitted */\n",
       "  border: var(--sklearn-color-fitted-level-1) 1pt solid;\n",
       "  color: var(--sklearn-color-fitted-level-1);\n",
       "}\n",
       "\n",
       "/* On hover */\n",
       "#sk-container-id-1 a.estimator_doc_link:hover {\n",
       "  /* unfitted */\n",
       "  background-color: var(--sklearn-color-unfitted-level-3);\n",
       "  color: var(--sklearn-color-background);\n",
       "  text-decoration: none;\n",
       "}\n",
       "\n",
       "#sk-container-id-1 a.estimator_doc_link.fitted:hover {\n",
       "  /* fitted */\n",
       "  background-color: var(--sklearn-color-fitted-level-3);\n",
       "}\n",
       "\n",
       ".estimator-table summary {\n",
       "    padding: .5rem;\n",
       "    font-family: monospace;\n",
       "    cursor: pointer;\n",
       "}\n",
       "\n",
       ".estimator-table details[open] {\n",
       "    padding-left: 0.1rem;\n",
       "    padding-right: 0.1rem;\n",
       "    padding-bottom: 0.3rem;\n",
       "}\n",
       "\n",
       ".estimator-table .parameters-table {\n",
       "    margin-left: auto !important;\n",
       "    margin-right: auto !important;\n",
       "}\n",
       "\n",
       ".estimator-table .parameters-table tr:nth-child(odd) {\n",
       "    background-color: #fff;\n",
       "}\n",
       "\n",
       ".estimator-table .parameters-table tr:nth-child(even) {\n",
       "    background-color: #f6f6f6;\n",
       "}\n",
       "\n",
       ".estimator-table .parameters-table tr:hover {\n",
       "    background-color: #e0e0e0;\n",
       "}\n",
       "\n",
       ".estimator-table table td {\n",
       "    border: 1px solid rgba(106, 105, 104, 0.232);\n",
       "}\n",
       "\n",
       ".user-set td {\n",
       "    color:rgb(255, 94, 0);\n",
       "    text-align: left;\n",
       "}\n",
       "\n",
       ".user-set td.value pre {\n",
       "    color:rgb(255, 94, 0) !important;\n",
       "    background-color: transparent !important;\n",
       "}\n",
       "\n",
       ".default td {\n",
       "    color: black;\n",
       "    text-align: left;\n",
       "}\n",
       "\n",
       ".user-set td i,\n",
       ".default td i {\n",
       "    color: black;\n",
       "}\n",
       "\n",
       ".copy-paste-icon {\n",
       "    background-image: url(data:image/svg+xml;base64,PHN2ZyB4bWxucz0iaHR0cDovL3d3dy53My5vcmcvMjAwMC9zdmciIHZpZXdCb3g9IjAgMCA0NDggNTEyIj48IS0tIUZvbnQgQXdlc29tZSBGcmVlIDYuNy4yIGJ5IEBmb250YXdlc29tZSAtIGh0dHBzOi8vZm9udGF3ZXNvbWUuY29tIExpY2Vuc2UgLSBodHRwczovL2ZvbnRhd2Vzb21lLmNvbS9saWNlbnNlL2ZyZWUgQ29weXJpZ2h0IDIwMjUgRm9udGljb25zLCBJbmMuLS0+PHBhdGggZD0iTTIwOCAwTDMzMi4xIDBjMTIuNyAwIDI0LjkgNS4xIDMzLjkgMTQuMWw2Ny45IDY3LjljOSA5IDE0LjEgMjEuMiAxNC4xIDMzLjlMNDQ4IDMzNmMwIDI2LjUtMjEuNSA0OC00OCA0OGwtMTkyIDBjLTI2LjUgMC00OC0yMS41LTQ4LTQ4bDAtMjg4YzAtMjYuNSAyMS41LTQ4IDQ4LTQ4ek00OCAxMjhsODAgMCAwIDY0LTY0IDAgMCAyNTYgMTkyIDAgMC0zMiA2NCAwIDAgNDhjMCAyNi41LTIxLjUgNDgtNDggNDhMNDggNTEyYy0yNi41IDAtNDgtMjEuNS00OC00OEwwIDE3NmMwLTI2LjUgMjEuNS00OCA0OC00OHoiLz48L3N2Zz4=);\n",
       "    background-repeat: no-repeat;\n",
       "    background-size: 14px 14px;\n",
       "    background-position: 0;\n",
       "    display: inline-block;\n",
       "    width: 14px;\n",
       "    height: 14px;\n",
       "    cursor: pointer;\n",
       "}\n",
       "</style><body><div id=\"sk-container-id-1\" class=\"sk-top-container\"><div class=\"sk-text-repr-fallback\"><pre>LogisticRegression(max_iter=1000)</pre><b>In a Jupyter environment, please rerun this cell to show the HTML representation or trust the notebook. <br />On GitHub, the HTML representation is unable to render, please try loading this page with nbviewer.org.</b></div><div class=\"sk-container\" hidden><div class=\"sk-item\"><div class=\"sk-estimator fitted sk-toggleable\"><input class=\"sk-toggleable__control sk-hidden--visually\" id=\"sk-estimator-id-1\" type=\"checkbox\" checked><label for=\"sk-estimator-id-1\" class=\"sk-toggleable__label fitted sk-toggleable__label-arrow\"><div><div>LogisticRegression</div></div><div><a class=\"sk-estimator-doc-link fitted\" rel=\"noreferrer\" target=\"_blank\" href=\"https://scikit-learn.org/1.7/modules/generated/sklearn.linear_model.LogisticRegression.html\">?<span>Documentation for LogisticRegression</span></a><span class=\"sk-estimator-doc-link fitted\">i<span>Fitted</span></span></div></label><div class=\"sk-toggleable__content fitted\" data-param-prefix=\"\">\n",
       "        <div class=\"estimator-table\">\n",
       "            <details>\n",
       "                <summary>Parameters</summary>\n",
       "                <table class=\"parameters-table\">\n",
       "                  <tbody>\n",
       "                    \n",
       "        <tr class=\"default\">\n",
       "            <td><i class=\"copy-paste-icon\"\n",
       "                 onclick=\"copyToClipboard('penalty',\n",
       "                          this.parentElement.nextElementSibling)\"\n",
       "            ></i></td>\n",
       "            <td class=\"param\">penalty&nbsp;</td>\n",
       "            <td class=\"value\">&#x27;l2&#x27;</td>\n",
       "        </tr>\n",
       "    \n",
       "\n",
       "        <tr class=\"default\">\n",
       "            <td><i class=\"copy-paste-icon\"\n",
       "                 onclick=\"copyToClipboard('dual',\n",
       "                          this.parentElement.nextElementSibling)\"\n",
       "            ></i></td>\n",
       "            <td class=\"param\">dual&nbsp;</td>\n",
       "            <td class=\"value\">False</td>\n",
       "        </tr>\n",
       "    \n",
       "\n",
       "        <tr class=\"default\">\n",
       "            <td><i class=\"copy-paste-icon\"\n",
       "                 onclick=\"copyToClipboard('tol',\n",
       "                          this.parentElement.nextElementSibling)\"\n",
       "            ></i></td>\n",
       "            <td class=\"param\">tol&nbsp;</td>\n",
       "            <td class=\"value\">0.0001</td>\n",
       "        </tr>\n",
       "    \n",
       "\n",
       "        <tr class=\"default\">\n",
       "            <td><i class=\"copy-paste-icon\"\n",
       "                 onclick=\"copyToClipboard('C',\n",
       "                          this.parentElement.nextElementSibling)\"\n",
       "            ></i></td>\n",
       "            <td class=\"param\">C&nbsp;</td>\n",
       "            <td class=\"value\">1.0</td>\n",
       "        </tr>\n",
       "    \n",
       "\n",
       "        <tr class=\"default\">\n",
       "            <td><i class=\"copy-paste-icon\"\n",
       "                 onclick=\"copyToClipboard('fit_intercept',\n",
       "                          this.parentElement.nextElementSibling)\"\n",
       "            ></i></td>\n",
       "            <td class=\"param\">fit_intercept&nbsp;</td>\n",
       "            <td class=\"value\">True</td>\n",
       "        </tr>\n",
       "    \n",
       "\n",
       "        <tr class=\"default\">\n",
       "            <td><i class=\"copy-paste-icon\"\n",
       "                 onclick=\"copyToClipboard('intercept_scaling',\n",
       "                          this.parentElement.nextElementSibling)\"\n",
       "            ></i></td>\n",
       "            <td class=\"param\">intercept_scaling&nbsp;</td>\n",
       "            <td class=\"value\">1</td>\n",
       "        </tr>\n",
       "    \n",
       "\n",
       "        <tr class=\"default\">\n",
       "            <td><i class=\"copy-paste-icon\"\n",
       "                 onclick=\"copyToClipboard('class_weight',\n",
       "                          this.parentElement.nextElementSibling)\"\n",
       "            ></i></td>\n",
       "            <td class=\"param\">class_weight&nbsp;</td>\n",
       "            <td class=\"value\">None</td>\n",
       "        </tr>\n",
       "    \n",
       "\n",
       "        <tr class=\"default\">\n",
       "            <td><i class=\"copy-paste-icon\"\n",
       "                 onclick=\"copyToClipboard('random_state',\n",
       "                          this.parentElement.nextElementSibling)\"\n",
       "            ></i></td>\n",
       "            <td class=\"param\">random_state&nbsp;</td>\n",
       "            <td class=\"value\">None</td>\n",
       "        </tr>\n",
       "    \n",
       "\n",
       "        <tr class=\"default\">\n",
       "            <td><i class=\"copy-paste-icon\"\n",
       "                 onclick=\"copyToClipboard('solver',\n",
       "                          this.parentElement.nextElementSibling)\"\n",
       "            ></i></td>\n",
       "            <td class=\"param\">solver&nbsp;</td>\n",
       "            <td class=\"value\">&#x27;lbfgs&#x27;</td>\n",
       "        </tr>\n",
       "    \n",
       "\n",
       "        <tr class=\"user-set\">\n",
       "            <td><i class=\"copy-paste-icon\"\n",
       "                 onclick=\"copyToClipboard('max_iter',\n",
       "                          this.parentElement.nextElementSibling)\"\n",
       "            ></i></td>\n",
       "            <td class=\"param\">max_iter&nbsp;</td>\n",
       "            <td class=\"value\">1000</td>\n",
       "        </tr>\n",
       "    \n",
       "\n",
       "        <tr class=\"default\">\n",
       "            <td><i class=\"copy-paste-icon\"\n",
       "                 onclick=\"copyToClipboard('multi_class',\n",
       "                          this.parentElement.nextElementSibling)\"\n",
       "            ></i></td>\n",
       "            <td class=\"param\">multi_class&nbsp;</td>\n",
       "            <td class=\"value\">&#x27;deprecated&#x27;</td>\n",
       "        </tr>\n",
       "    \n",
       "\n",
       "        <tr class=\"default\">\n",
       "            <td><i class=\"copy-paste-icon\"\n",
       "                 onclick=\"copyToClipboard('verbose',\n",
       "                          this.parentElement.nextElementSibling)\"\n",
       "            ></i></td>\n",
       "            <td class=\"param\">verbose&nbsp;</td>\n",
       "            <td class=\"value\">0</td>\n",
       "        </tr>\n",
       "    \n",
       "\n",
       "        <tr class=\"default\">\n",
       "            <td><i class=\"copy-paste-icon\"\n",
       "                 onclick=\"copyToClipboard('warm_start',\n",
       "                          this.parentElement.nextElementSibling)\"\n",
       "            ></i></td>\n",
       "            <td class=\"param\">warm_start&nbsp;</td>\n",
       "            <td class=\"value\">False</td>\n",
       "        </tr>\n",
       "    \n",
       "\n",
       "        <tr class=\"default\">\n",
       "            <td><i class=\"copy-paste-icon\"\n",
       "                 onclick=\"copyToClipboard('n_jobs',\n",
       "                          this.parentElement.nextElementSibling)\"\n",
       "            ></i></td>\n",
       "            <td class=\"param\">n_jobs&nbsp;</td>\n",
       "            <td class=\"value\">None</td>\n",
       "        </tr>\n",
       "    \n",
       "\n",
       "        <tr class=\"default\">\n",
       "            <td><i class=\"copy-paste-icon\"\n",
       "                 onclick=\"copyToClipboard('l1_ratio',\n",
       "                          this.parentElement.nextElementSibling)\"\n",
       "            ></i></td>\n",
       "            <td class=\"param\">l1_ratio&nbsp;</td>\n",
       "            <td class=\"value\">None</td>\n",
       "        </tr>\n",
       "    \n",
       "                  </tbody>\n",
       "                </table>\n",
       "            </details>\n",
       "        </div>\n",
       "    </div></div></div></div></div><script>function copyToClipboard(text, element) {\n",
       "    // Get the parameter prefix from the closest toggleable content\n",
       "    const toggleableContent = element.closest('.sk-toggleable__content');\n",
       "    const paramPrefix = toggleableContent ? toggleableContent.dataset.paramPrefix : '';\n",
       "    const fullParamName = paramPrefix ? `${paramPrefix}${text}` : text;\n",
       "\n",
       "    const originalStyle = element.style;\n",
       "    const computedStyle = window.getComputedStyle(element);\n",
       "    const originalWidth = computedStyle.width;\n",
       "    const originalHTML = element.innerHTML.replace('Copied!', '');\n",
       "\n",
       "    navigator.clipboard.writeText(fullParamName)\n",
       "        .then(() => {\n",
       "            element.style.width = originalWidth;\n",
       "            element.style.color = 'green';\n",
       "            element.innerHTML = \"Copied!\";\n",
       "\n",
       "            setTimeout(() => {\n",
       "                element.innerHTML = originalHTML;\n",
       "                element.style = originalStyle;\n",
       "            }, 2000);\n",
       "        })\n",
       "        .catch(err => {\n",
       "            console.error('Failed to copy:', err);\n",
       "            element.style.color = 'red';\n",
       "            element.innerHTML = \"Failed!\";\n",
       "            setTimeout(() => {\n",
       "                element.innerHTML = originalHTML;\n",
       "                element.style = originalStyle;\n",
       "            }, 2000);\n",
       "        });\n",
       "    return false;\n",
       "}\n",
       "\n",
       "document.querySelectorAll('.fa-regular.fa-copy').forEach(function(element) {\n",
       "    const toggleableContent = element.closest('.sk-toggleable__content');\n",
       "    const paramPrefix = toggleableContent ? toggleableContent.dataset.paramPrefix : '';\n",
       "    const paramName = element.parentElement.nextElementSibling.textContent.trim();\n",
       "    const fullParamName = paramPrefix ? `${paramPrefix}${paramName}` : paramName;\n",
       "\n",
       "    element.setAttribute('title', fullParamName);\n",
       "});\n",
       "</script></body>"
      ],
      "text/plain": [
       "LogisticRegression(max_iter=1000)"
      ]
     },
     "execution_count": 28,
     "metadata": {},
     "output_type": "execute_result"
    }
   ],
   "source": [
    "modelo = LogisticRegression(max_iter=1000)  \n",
    "\n",
    "# Treinando o modelo\n",
    "modelo.fit(X_train, y_train)"
   ]
  },
  {
   "cell_type": "markdown",
   "id": "ea6812e4-c5c7-4b01-9a74-2f792eded4db",
   "metadata": {},
   "source": [
    "### 🔖 Explicações"
   ]
  },
  {
   "cell_type": "markdown",
   "id": "2f817dec-c261-49e8-a42a-ea204ec8bc33",
   "metadata": {},
   "source": [
    "> ⚠️ `max_iter=1000`: algumas vezes a regressão logística precisa de mais iterações para convergir; aumentamos esse limite para evitar avisos.\n",
    "\n",
    "O modelo aprende as relações entre as **variáveis de entrada** (`X_train`) e a **variável de saída** (`y_train`), para depois fazer previsões.\n",
    "\n",
    "| Parte do código              | Finalidade                                     |\n",
    "|-----------------------------|------------------------------------------------|\n",
    "| `LogisticRegression(...)`   | Cria o modelo de classificação                 |\n",
    "| `max_iter=1000`             | Garante que o modelo tente convergir melhor    |\n",
    "| `.fit(X_train, y_train)`    | Ensina o modelo com os dados de treino         |"
   ]
  },
  {
   "cell_type": "markdown",
   "id": "924d8ed9-4a61-4f85-9381-60d3b1db3266",
   "metadata": {},
   "source": [
    "### 🐍 Código - Fazer previsões no conjunto de teste\n",
    "- Esse código usa um modelo de machine learning já treinado para fazer previsões em novos dados (neste caso, os dados de teste)."
   ]
  },
  {
   "cell_type": "code",
   "execution_count": 29,
   "id": "784f6938-b8ca-4617-bc5d-a33f8be2920d",
   "metadata": {},
   "outputs": [],
   "source": [
    "y_pred = modelo.predict(X_test)"
   ]
  },
  {
   "cell_type": "markdown",
   "id": "91d637c0-c662-4ece-b219-6406cfe59cec",
   "metadata": {},
   "source": [
    "### 🔖 Explicações"
   ]
  },
  {
   "cell_type": "markdown",
   "id": "25d73628-7ccf-4512-8909-10b5b6329a68",
   "metadata": {},
   "source": [
    "- **`X_test`**: são os dados de entrada que o modelo **nunca viu antes** (dados de teste).\n",
    "- **`.predict()`**: é o método usado para o modelo **prever resultados** com base nesses novos dados.\n",
    "- **`y_pred`**: é onde armazenamos as **previsões feitas pelo modelo** (ou seja, quais valores ele acha que `y` deve ter para cada linha de `X_test`).\n",
    "\n",
    "Se o modelo foi treinado para prever se um cliente pertence à categoria `\"A\"` ou `\"B\"`, então:\n",
    "\n",
    "- `X_test`: são os dados desses clientes que o modelo não viu durante o treino\n",
    "- `y_pred`: será uma lista com as **previsões** do modelo para cada cliente:  \n",
    "  Exemplo: `['A', 'B', 'B', 'A', ...]`"
   ]
  },
  {
   "cell_type": "markdown",
   "id": "b273c94f-ebbc-4295-954e-499bee671f88",
   "metadata": {},
   "source": [
    "## Avaliar o desempenho do modelo"
   ]
  },
  {
   "cell_type": "markdown",
   "id": "d4e00a66-bc51-4b45-a637-048f5bfd0ffc",
   "metadata": {},
   "source": [
    "### 🐍 Código -Acurácia: porcentagem de acertos \n",
    "- Este código **avalia o desempenho** de um modelo de machine learning, medindo a **porcentagem de acertos** nas previsões feitas em dados de teste."
   ]
  },
  {
   "cell_type": "code",
   "execution_count": 30,
   "id": "4c23df94-7a11-48cd-a3f5-79a3b0d55594",
   "metadata": {},
   "outputs": [
    {
     "name": "stdout",
     "output_type": "stream",
     "text": [
      "Acurácia do modelo: 0.51\n"
     ]
    }
   ],
   "source": [
    "acuracia = accuracy_score(y_test, y_pred)\n",
    "print(f'Acurácia do modelo: {acuracia:.2f}')"
   ]
  },
  {
   "cell_type": "markdown",
   "id": "1024b658-9063-43ad-ba41-4101182bc165",
   "metadata": {},
   "source": [
    "### 🔖 Explicações"
   ]
  },
  {
   "cell_type": "markdown",
   "id": "f0b2bcaa-5314-4f56-8d5a-d37dffd2ca2b",
   "metadata": {},
   "source": [
    "- **`accuracy_score()`**: é uma função do Scikit-learn que calcula a **acurácia**, ou seja, a porcentagem de previsões corretas.\n",
    "- **`y_test`**: são os valores reais (corretos) que o modelo deveria prever.\n",
    "- **`y_pred`**: são as previsões feitas pelo modelo.\n",
    "- **Resultado:** um número entre 0 e 1 (ex: `0.85` = 85% de acerto)\n",
    "\n",
    "Esse é um dos métodos mais simples e comuns para avaliar modelos de classificação."
   ]
  },
  {
   "cell_type": "markdown",
   "id": "1edefb7f-7f77-4114-a4de-8fe3d17ddf2f",
   "metadata": {},
   "source": [
    "### 🐍 Código - Relatório completo: precisão, recall, f1-score\n",
    "Este código mostra um **relatório completo com métricas de avaliação** do modelo de classificação.\n",
    "\n",
    "Ele vai além da acurácia e mostra:\n",
    "- **Precisão**\n",
    "- **Recall (ou sensibilidade)**\n",
    "- **F1-score**\n",
    "- **Suporte** (quantidade de amostras por classe)"
   ]
  },
  {
   "cell_type": "code",
   "execution_count": 31,
   "id": "c3161180-dee3-4abf-8388-8dae751824b7",
   "metadata": {},
   "outputs": [
    {
     "name": "stdout",
     "output_type": "stream",
     "text": [
      "              precision    recall  f1-score   support\n",
      "\n",
      "           A       0.49      0.16      0.24       191\n",
      "           B       0.52      0.84      0.64       203\n",
      "\n",
      "    accuracy                           0.51       394\n",
      "   macro avg       0.50      0.50      0.44       394\n",
      "weighted avg       0.50      0.51      0.45       394\n",
      "\n"
     ]
    }
   ],
   "source": [
    "print(classification_report(y_test, y_pred))"
   ]
  },
  {
   "cell_type": "markdown",
   "id": "6df1fc96-baae-4342-8591-72df6fe2abb5",
   "metadata": {},
   "source": [
    "### 🔖 Explicações"
   ]
  },
  {
   "cell_type": "markdown",
   "id": "86c30e05-29a2-4ab0-9b33-2bdd3a41feb1",
   "metadata": {},
   "source": [
    "- **`classification_report()`**:  \n",
    "  Função do Scikit-learn que gera um relatório com as métricas acima para cada classe (`\"A\"` e `\"B\"` no seu caso).\n",
    "\n",
    "- **`y_test`**:  \n",
    "  Os valores reais (corretos) do target.\n",
    "\n",
    "- **`y_pred`**:  \n",
    "  As previsões feitas pelo modelo.\n",
    "\n",
    "| Métrica       | O que mede? |\n",
    "|---------------|-------------|\n",
    "| **Precision** | Dos que o modelo disse ser `\"A\"`, quantos realmente eram `\"A\"`? |\n",
    "| **Recall**    | Dos que realmente eram `\"A\"`, quantos o modelo acertou? |\n",
    "| **F1-score**  | Média entre precisão e recall (boa para dados desbalanceados) |\n",
    "| **Support**   | Quantas amostras tinham em cada classe |\n",
    "\n",
    "A **accuracy** (acurácia) é a porcentagem de previsões corretas feitas pelo modelo, ou seja, quantos resultados ele acertou em relação ao total. \n",
    "\n",
    "Já o **macro avg** é a média das métricas (como precisão, recall e F1-score) calculada sem considerar o número de amostras por classe, dando o mesmo peso para cada classe — o que é útil quando você quer avaliar classes minoritárias. \n",
    "\n",
    "Por outro lado, o **weighted avg** também calcula a média dessas métricas, mas leva em conta a proporção de amostras em cada classe , dando mais peso às classes maiores, o que pode ser mais representativo quando as classes estão desbalanceadas. \n",
    "\n",
    "Essas métricas ajudam a entender melhor o desempenho do modelo além da acurácia geral."
   ]
  },
  {
   "cell_type": "markdown",
   "id": "bc327783-762a-45c2-842b-319a5ca7c28c",
   "metadata": {},
   "source": [
    "### 🐍 Código - Matriz de confusão (visualização dos erros)\n",
    "Este código exibe a **matriz de confusão**, que é uma tabela que mostra **quantas previsões foram corretas ou incorretas** em cada classe."
   ]
  },
  {
   "cell_type": "code",
   "execution_count": 32,
   "id": "1677a613-f544-4057-9686-f044c699afc1",
   "metadata": {},
   "outputs": [
    {
     "name": "stdout",
     "output_type": "stream",
     "text": [
      "[[ 31 160]\n",
      " [ 32 171]]\n"
     ]
    }
   ],
   "source": [
    "print(confusion_matrix(y_test, y_pred))"
   ]
  },
  {
   "cell_type": "markdown",
   "id": "5ddebe2b-d11e-4bb1-afec-6ea866089898",
   "metadata": {},
   "source": [
    "### 🔖 Explicações"
   ]
  },
  {
   "cell_type": "markdown",
   "id": "73b0b8e8-00ac-46f9-ade5-bea15ba86c18",
   "metadata": {},
   "source": [
    "🔍 **O que cada parte faz**:\n",
    "\n",
    "- **`confusion_matrix()`**:  \n",
    "  Função do Scikit-learn que calcula a matriz de confusão com base nos valores reais (`y_test`) e nas previsões do modelo (`y_pred`).\n",
    "\n",
    "- **`y_test`**:  \n",
    "  Os valores reais (corretos) que o modelo deveria prever.\n",
    "\n",
    "- **`y_pred`**:  \n",
    "  As previsões feitas pelo modelo nos dados de teste.\n",
    "\n",
    "\n",
    "  **Isso significa**:\n",
    "\n",
    "|                | Previsto como A | Previsto como B |\n",
    "|----------------|------------------|------------------|\n",
    "| **Realmente A** | 56 (Verdadeiro Positivo) | 45 (Falso Negativo) |\n",
    "| **Realmente B** | 47 (Falso Positivo)       | 51 (Verdadeiro Negativo) |\n",
    "\n",
    "A matriz de confusão ajuda a entender **onde o modelo errou e acertou**, mostrando:\n",
    "- Quantos ele acertou por classe\n",
    "- Quantos ele confundiu entre as classes\n"
   ]
  },
  {
   "cell_type": "markdown",
   "id": "0b32deef-0d5a-47ba-b6ad-3581d0c93abf",
   "metadata": {},
   "source": [
    "## Salvar o modelo treinado em um arquivo\n",
    "No Scikit-learn, os modelos podem ser salvos usando:\n",
    "\n",
    "- `joblib`: mais eficiente para objetos grandes (como modelos de ML)\n",
    "- `pickle`: método mais antigo, mas também funcional\n",
    "\n",
    "Vamos usar o `joblib`, por ser mais rápido nesse caso."
   ]
  },
  {
   "cell_type": "markdown",
   "id": "e2c4b09a-775b-4f62-8231-e3037440f9b1",
   "metadata": {},
   "source": [
    "### 🐍 Código"
   ]
  },
  {
   "cell_type": "code",
   "execution_count": 33,
   "id": "aaac2de2-b4a8-48f2-ad15-b2d7efdaff65",
   "metadata": {},
   "outputs": [
    {
     "name": "stdout",
     "output_type": "stream",
     "text": [
      "\n",
      "Modelo salvo como 'modelo_regressao_logistica.joblib'\n"
     ]
    }
   ],
   "source": [
    "dump(modelo, 'modelo-treinado/modelo_regressao_logistica-2025.06.30.joblib')\n",
    "print(\"\\nModelo salvo como 'modelo_regressao_logistica.joblib'\")"
   ]
  },
  {
   "cell_type": "markdown",
   "id": "8b71f62f-d631-4a49-b58f-9a4173951223",
   "metadata": {},
   "source": [
    "### 🔖 Explicações"
   ]
  },
  {
   "cell_type": "markdown",
   "id": "0d9905cd-f877-424e-b274-df2ee70b529a",
   "metadata": {},
   "source": [
    "A linha `dump(modelo, 'modelo_regressao_logistica.joblib')` é usada para salvar um modelo de machine learning treinado em um arquivo no disco. \n",
    "\n",
    "Ela faz parte da biblioteca joblib, que permite serializar e salvar objetos do Python — especialmente úteis para modelos grandes e complexos, como os criados com o Scikit-learn. \n",
    "\n",
    "Nesse caso, o modelo chamado modelo (no exemplo, um modelo de Regressão Logística) é salvo no arquivo 'modelo_regressao_logistica.joblib', permitindo que ele seja reutilizado posteriormente sem a necessidade de treiná-lo novamente, bastando carregá-lo com a função load() do próprio joblib."
   ]
  },
  {
   "cell_type": "markdown",
   "id": "05e81a75-e816-4911-920e-fff32e9fd4e4",
   "metadata": {},
   "source": [
    "### 📦 Como carregar o modelo depois (opcional)"
   ]
  },
  {
   "cell_type": "markdown",
   "id": "9f7a3647-9d34-47ec-863e-6455019d3615",
   "metadata": {},
   "source": [
    "### 🐍 Código"
   ]
  },
  {
   "cell_type": "code",
   "execution_count": 31,
   "id": "38075aee-8964-4330-baf9-b4a2b20fa51f",
   "metadata": {},
   "outputs": [],
   "source": [
    "# Importa o modulo utilizado para a leiruta\n",
    "from joblib import dump\n",
    "\n",
    "# Carregar o modelo\n",
    "modelo_carregado = load('modelo-treinado/modelo_regressao_logistica.joblib')\n",
    "\n",
    "# Usar o modelo para prever novos dados\n",
    "#novas_previsoes = modelo_carregado.predict(X_novo)"
   ]
  },
  {
   "cell_type": "markdown",
   "id": "d9c73c92-6d55-4777-ab34-7f3326a4df09",
   "metadata": {},
   "source": [
    "### 🔖 Explicações"
   ]
  },
  {
   "cell_type": "markdown",
   "id": "219751d3-b8e9-4923-824b-946732673abd",
   "metadata": {},
   "source": [
    "| Etapa | Finalidade |\n",
    "|-------|------------|\n",
    "| `from joblib import dump` | Importa a ferramenta para salvar o modelo |\n",
    "| `dump(modelo, 'nome_do_arquivo.joblib')` | Salva o modelo treinado em um arquivo |\n",
    "| Futuro `load(...)` | Permite recarregar o modelo em outro momento |"
   ]
  }
 ],
 "metadata": {
  "kernelspec": {
   "display_name": "Python (venv)",
   "language": "python",
   "name": "machine_learning"
  },
  "language_info": {
   "codemirror_mode": {
    "name": "ipython",
    "version": 3
   },
   "file_extension": ".py",
   "mimetype": "text/x-python",
   "name": "python",
   "nbconvert_exporter": "python",
   "pygments_lexer": "ipython3",
   "version": "3.12.8"
  }
 },
 "nbformat": 4,
 "nbformat_minor": 5
}
