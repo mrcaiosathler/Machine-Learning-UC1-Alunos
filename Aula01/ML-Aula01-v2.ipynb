{
 "cells": [
  {
   "cell_type": "markdown",
   "id": "e4ffbca4-5d29-4dee-b615-2e443468e34d",
   "metadata": {},
   "source": [
    "# 📘 Aula 01: Pré-processamento de Dados com Python\n",
    "\n",
    "## 🎯 Objetivo:\n",
    "Demonstrar técnicas essenciais de **pré-processamento de dados** usando bibliotecas do Python (Pandas, NumPy e Scikit-learn), passo a passo."
   ]
  },
  {
   "cell_type": "markdown",
   "id": "596de026-6c2b-47e2-986c-39c8cb63b39c",
   "metadata": {},
   "source": [
    "## 1. Carregando as bibliotecas"
   ]
  },
  {
   "cell_type": "code",
   "execution_count": 1,
   "id": "136d2ef3-ee04-4e19-b1f4-d728dd2430df",
   "metadata": {},
   "outputs": [],
   "source": [
    "import pandas as pd\n",
    "import numpy as np\n",
    "from sklearn.preprocessing import StandardScaler"
   ]
  },
  {
   "cell_type": "markdown",
   "id": "77a67ae2-dfd9-4c44-a50a-3a4e49a4b415",
   "metadata": {},
   "source": [
    "## 2. Carregando o dataset"
   ]
  },
  {
   "cell_type": "code",
   "execution_count": 2,
   "id": "3707f54c-3daf-47f2-9009-42aef3d6f630",
   "metadata": {
    "scrolled": true
   },
   "outputs": [],
   "source": [
    "df = pd.read_csv(\"exemplo_dataset2.csv\")"
   ]
  },
  {
   "cell_type": "markdown",
   "id": "c58c583d-e6c8-46a2-8852-945b70b220ab",
   "metadata": {},
   "source": [
    "## 3. Conhecendo o dataset"
   ]
  },
  {
   "cell_type": "markdown",
   "id": "6e367a2b-fb70-401f-9f78-c9b90ab64dc4",
   "metadata": {},
   "source": [
    "#### Passo 01\n",
    "- Listando os campos do dataset"
   ]
  },
  {
   "cell_type": "code",
   "execution_count": 3,
   "id": "215bb281-014e-4895-96d3-4791443ee795",
   "metadata": {},
   "outputs": [
    {
     "data": {
      "text/plain": [
       "['id', 'idade', 'renda', 'cidade', 'categoria', 'nota', 'feedback']"
      ]
     },
     "execution_count": 3,
     "metadata": {},
     "output_type": "execute_result"
    }
   ],
   "source": [
    "df.columns.tolist()"
   ]
  },
  {
   "cell_type": "markdown",
   "id": "93026f5e-6494-4dc8-869c-3bd9e2a3a352",
   "metadata": {},
   "source": [
    "#### Passo 02\n",
    "- Listando as informações gerais do dataset"
   ]
  },
  {
   "cell_type": "code",
   "execution_count": 4,
   "id": "4e9e1901-9439-49a3-9756-8b41a8ff9513",
   "metadata": {},
   "outputs": [
    {
     "name": "stdout",
     "output_type": "stream",
     "text": [
      "### Informações gerais do Dataset ###\n",
      "\n",
      "<class 'pandas.core.frame.DataFrame'>\n",
      "RangeIndex: 50 entries, 0 to 49\n",
      "Data columns (total 7 columns):\n",
      " #   Column     Non-Null Count  Dtype  \n",
      "---  ------     --------------  -----  \n",
      " 0   id         50 non-null     int64  \n",
      " 1   idade      48 non-null     float64\n",
      " 2   renda      49 non-null     float64\n",
      " 3   cidade     45 non-null     object \n",
      " 4   categoria  50 non-null     object \n",
      " 5   nota       47 non-null     float64\n",
      " 6   feedback   50 non-null     object \n",
      "dtypes: float64(3), int64(1), object(3)\n",
      "memory usage: 2.9+ KB\n"
     ]
    }
   ],
   "source": [
    "print(\"### Informações gerais do Dataset ###\\n\")\n",
    "df.info()"
   ]
  },
  {
   "cell_type": "markdown",
   "id": "be6880ae-97cf-430a-b952-fa6c8fcd4eb5",
   "metadata": {},
   "source": [
    "#### Passo 03\n",
    "- Listando as primeiras linhas"
   ]
  },
  {
   "cell_type": "code",
   "execution_count": 5,
   "id": "0c97d1a9-ad4e-46f0-a42d-f2c5c7d0ab93",
   "metadata": {},
   "outputs": [
    {
     "name": "stdout",
     "output_type": "stream",
     "text": [
      "### Exibindo as primeiras linhas ###\n",
      "\n"
     ]
    },
    {
     "data": {
      "text/html": [
       "<div>\n",
       "<style scoped>\n",
       "    .dataframe tbody tr th:only-of-type {\n",
       "        vertical-align: middle;\n",
       "    }\n",
       "\n",
       "    .dataframe tbody tr th {\n",
       "        vertical-align: top;\n",
       "    }\n",
       "\n",
       "    .dataframe thead th {\n",
       "        text-align: right;\n",
       "    }\n",
       "</style>\n",
       "<table border=\"1\" class=\"dataframe\">\n",
       "  <thead>\n",
       "    <tr style=\"text-align: right;\">\n",
       "      <th></th>\n",
       "      <th>id</th>\n",
       "      <th>idade</th>\n",
       "      <th>renda</th>\n",
       "      <th>cidade</th>\n",
       "      <th>categoria</th>\n",
       "      <th>nota</th>\n",
       "      <th>feedback</th>\n",
       "    </tr>\n",
       "  </thead>\n",
       "  <tbody>\n",
       "    <tr>\n",
       "      <th>0</th>\n",
       "      <td>1</td>\n",
       "      <td>30.0</td>\n",
       "      <td>1200.0</td>\n",
       "      <td>Sao Paulo</td>\n",
       "      <td>A</td>\n",
       "      <td>8.5</td>\n",
       "      <td>Bom</td>\n",
       "    </tr>\n",
       "    <tr>\n",
       "      <th>1</th>\n",
       "      <td>2</td>\n",
       "      <td>45.0</td>\n",
       "      <td>2500.0</td>\n",
       "      <td>Rio de Janeiro</td>\n",
       "      <td>B</td>\n",
       "      <td>7.0</td>\n",
       "      <td>Regular</td>\n",
       "    </tr>\n",
       "    <tr>\n",
       "      <th>2</th>\n",
       "      <td>3</td>\n",
       "      <td>29.0</td>\n",
       "      <td>1200.0</td>\n",
       "      <td>Belo Horizonte</td>\n",
       "      <td>A</td>\n",
       "      <td>5.5</td>\n",
       "      <td>Bom</td>\n",
       "    </tr>\n",
       "    <tr>\n",
       "      <th>3</th>\n",
       "      <td>4</td>\n",
       "      <td>55.0</td>\n",
       "      <td>3000.0</td>\n",
       "      <td>Salvador</td>\n",
       "      <td>B</td>\n",
       "      <td>NaN</td>\n",
       "      <td>Ruim</td>\n",
       "    </tr>\n",
       "    <tr>\n",
       "      <th>4</th>\n",
       "      <td>5</td>\n",
       "      <td>40.0</td>\n",
       "      <td>2100.0</td>\n",
       "      <td>Sao Paulo</td>\n",
       "      <td>A</td>\n",
       "      <td>9.0</td>\n",
       "      <td>Bom</td>\n",
       "    </tr>\n",
       "    <tr>\n",
       "      <th>5</th>\n",
       "      <td>6</td>\n",
       "      <td>23.0</td>\n",
       "      <td>900.0</td>\n",
       "      <td>NaN</td>\n",
       "      <td>B</td>\n",
       "      <td>7.5</td>\n",
       "      <td>Ruim</td>\n",
       "    </tr>\n",
       "    <tr>\n",
       "      <th>6</th>\n",
       "      <td>7</td>\n",
       "      <td>35.0</td>\n",
       "      <td>1800.0</td>\n",
       "      <td>Rio de Janeiro</td>\n",
       "      <td>B</td>\n",
       "      <td>6.8</td>\n",
       "      <td>Regular</td>\n",
       "    </tr>\n",
       "    <tr>\n",
       "      <th>7</th>\n",
       "      <td>8</td>\n",
       "      <td>38.0</td>\n",
       "      <td>2500.0</td>\n",
       "      <td>Belo Horizonte</td>\n",
       "      <td>A</td>\n",
       "      <td>8.2</td>\n",
       "      <td>Bom</td>\n",
       "    </tr>\n",
       "    <tr>\n",
       "      <th>8</th>\n",
       "      <td>9</td>\n",
       "      <td>29.0</td>\n",
       "      <td>1500.0</td>\n",
       "      <td>Salvador</td>\n",
       "      <td>B</td>\n",
       "      <td>7.1</td>\n",
       "      <td>Regular</td>\n",
       "    </tr>\n",
       "    <tr>\n",
       "      <th>9</th>\n",
       "      <td>10</td>\n",
       "      <td>50.0</td>\n",
       "      <td>2800.0</td>\n",
       "      <td>Sao Paulo</td>\n",
       "      <td>A</td>\n",
       "      <td>8.7</td>\n",
       "      <td>Bom</td>\n",
       "    </tr>\n",
       "  </tbody>\n",
       "</table>\n",
       "</div>"
      ],
      "text/plain": [
       "   id  idade   renda          cidade categoria  nota feedback\n",
       "0   1   30.0  1200.0       Sao Paulo         A   8.5      Bom\n",
       "1   2   45.0  2500.0  Rio de Janeiro         B   7.0  Regular\n",
       "2   3   29.0  1200.0  Belo Horizonte         A   5.5      Bom\n",
       "3   4   55.0  3000.0        Salvador         B   NaN     Ruim\n",
       "4   5   40.0  2100.0       Sao Paulo         A   9.0      Bom\n",
       "5   6   23.0   900.0             NaN         B   7.5     Ruim\n",
       "6   7   35.0  1800.0  Rio de Janeiro         B   6.8  Regular\n",
       "7   8   38.0  2500.0  Belo Horizonte         A   8.2      Bom\n",
       "8   9   29.0  1500.0        Salvador         B   7.1  Regular\n",
       "9  10   50.0  2800.0       Sao Paulo         A   8.7      Bom"
      ]
     },
     "execution_count": 5,
     "metadata": {},
     "output_type": "execute_result"
    }
   ],
   "source": [
    "print(\"### Exibindo as primeiras linhas ###\\n\")\n",
    "df.head(10)"
   ]
  },
  {
   "cell_type": "markdown",
   "id": "d2467ecd-8abd-4365-a1be-82c10b25e9b3",
   "metadata": {},
   "source": [
    "#### Passo 04\n",
    "- Exibindo as informações estatisticas"
   ]
  },
  {
   "cell_type": "code",
   "execution_count": 6,
   "id": "a95c7b27-9a13-4e22-a5e5-c9381d763433",
   "metadata": {},
   "outputs": [
    {
     "name": "stdout",
     "output_type": "stream",
     "text": [
      "\n",
      "### Descrição estatística ###\n",
      "             id      idade        renda       nota\n",
      "count  50.00000  48.000000    49.000000  47.000000\n",
      "mean   25.50000  38.208333  2253.265306   7.348936\n",
      "std    14.57738  10.671015  1108.351606   1.308479\n",
      "min     1.00000  20.000000   900.000000   4.300000\n",
      "25%    13.25000  28.750000  1500.000000   6.500000\n",
      "50%    25.50000  38.000000  2100.000000   7.500000\n",
      "75%    37.75000  45.250000  2800.000000   8.250000\n",
      "max    50.00000  60.000000  6000.000000   9.500000\n"
     ]
    }
   ],
   "source": [
    "print(\"\\n### Descrição estatística ###\")\n",
    "print(df.describe())"
   ]
  },
  {
   "cell_type": "code",
   "execution_count": 7,
   "id": "7e76e72e-b4d4-4622-9fba-5212388101f5",
   "metadata": {},
   "outputs": [
    {
     "name": "stdout",
     "output_type": "stream",
     "text": [
      "              id      idade        renda     cidade categoria       nota  \\\n",
      "count   50.00000  48.000000    49.000000         45        50  47.000000   \n",
      "unique       NaN        NaN          NaN          4         2        NaN   \n",
      "top          NaN        NaN          NaN  Sao Paulo         A        NaN   \n",
      "freq         NaN        NaN          NaN         14        25        NaN   \n",
      "mean    25.50000  38.208333  2253.265306        NaN       NaN   7.348936   \n",
      "std     14.57738  10.671015  1108.351606        NaN       NaN   1.308479   \n",
      "min      1.00000  20.000000   900.000000        NaN       NaN   4.300000   \n",
      "25%     13.25000  28.750000  1500.000000        NaN       NaN   6.500000   \n",
      "50%     25.50000  38.000000  2100.000000        NaN       NaN   7.500000   \n",
      "75%     37.75000  45.250000  2800.000000        NaN       NaN   8.250000   \n",
      "max     50.00000  60.000000  6000.000000        NaN       NaN   9.500000   \n",
      "\n",
      "       feedback  \n",
      "count        50  \n",
      "unique        3  \n",
      "top         Bom  \n",
      "freq         23  \n",
      "mean        NaN  \n",
      "std         NaN  \n",
      "min         NaN  \n",
      "25%         NaN  \n",
      "50%         NaN  \n",
      "75%         NaN  \n",
      "max         NaN  \n"
     ]
    }
   ],
   "source": [
    "print(df.describe(include='all'))"
   ]
  },
  {
   "cell_type": "markdown",
   "id": "c2af7888-5d3d-47a5-8609-28614445d30b",
   "metadata": {},
   "source": [
    "#### Passo 05\n",
    "- **Verificando valores ausentes**"
   ]
  },
  {
   "cell_type": "code",
   "execution_count": 8,
   "id": "d0a56489-5604-4c80-b0a8-84cc907d001d",
   "metadata": {},
   "outputs": [
    {
     "name": "stdout",
     "output_type": "stream",
     "text": [
      "\n",
      "### Contagem de valores ausentes ###\n",
      "id           0\n",
      "idade        2\n",
      "renda        1\n",
      "cidade       5\n",
      "categoria    0\n",
      "nota         3\n",
      "feedback     0\n",
      "dtype: int64\n"
     ]
    }
   ],
   "source": [
    "print(\"\\n### Contagem de valores ausentes ###\")\n",
    "print(df.isnull().sum())"
   ]
  },
  {
   "cell_type": "markdown",
   "id": "a41aad4b-f4e8-464f-8b2d-796b3fb5dd55",
   "metadata": {},
   "source": [
    "## 4. Tratamento de valores faltantes\n",
    "- Preencher idade e nota (numéricos) com a mediana (ou média) para simplificar\n",
    "- Preencher renda (numérico) com a média\n",
    "- Preencher cidade, feedback (categóricas) com 'Desconhecido'"
   ]
  },
  {
   "cell_type": "markdown",
   "id": "6f8f3f0b-2530-424e-aa82-fb8a9507dbad",
   "metadata": {},
   "source": [
    "### Media, Mediana e Moda\n",
    "\n",
    "#### Apoio conceitual\n",
    "\n",
    "**Mediana, média e moda são medidas de tendência central usadas para resumir conjuntos de dados:**  \n",
    "\n",
    "- **Média** é a soma de todos os valores dividida pelo número de observações, sensível a valores extremos.  \n",
    "- **Mediana** é o valor central quando os dados estão ordenados, robusta a outliers.  \n",
    "- **Moda** é o valor mais frequente no conjunto, útil para dados categóricos.  \n",
    "\n",
    "**Diferença principal**: A média considera todos os valores, a mediana resiste a distorções por outliers,\n",
    " e a moda identifica a ocorrência mais comum. Por exemplo, em uma série [1, 2, 2, 100], \n",
    " a média é **26,25**, a mediana **2**, e a moda **2**.\n"
   ]
  },
  {
   "cell_type": "markdown",
   "id": "1072c6f5-ce12-47e7-9bfc-bb529439a815",
   "metadata": {},
   "source": [
    "#### Passo 1: Calculando a média e a mediana dos dados"
   ]
  },
  {
   "cell_type": "code",
   "execution_count": 9,
   "id": "00aca8b4-f6c0-48a2-af80-f7bd5cfe06f8",
   "metadata": {},
   "outputs": [],
   "source": [
    "median_idade = df['idade'].median()\n",
    "median_nota = df['nota'].median()\n",
    "mean_renda = df['renda'].mean()"
   ]
  },
  {
   "cell_type": "code",
   "execution_count": 10,
   "id": "c5682539-a954-47a4-8e97-eb83a9fe8e07",
   "metadata": {},
   "outputs": [
    {
     "name": "stdout",
     "output_type": "stream",
     "text": [
      "Mediada das Idades 38.0\n"
     ]
    }
   ],
   "source": [
    "print(f\"Mediada das Idades {median_idade}\")"
   ]
  },
  {
   "cell_type": "code",
   "execution_count": 11,
   "id": "0d133708-b2d4-44a3-8d71-a2331673a30c",
   "metadata": {},
   "outputs": [
    {
     "name": "stdout",
     "output_type": "stream",
     "text": [
      "Mediada das Notas 7.5\n"
     ]
    }
   ],
   "source": [
    "print(f\"Mediada das Notas {median_nota}\")"
   ]
  },
  {
   "cell_type": "code",
   "execution_count": 12,
   "id": "f1502986-202b-4bdb-adda-0b94f15ebfcf",
   "metadata": {},
   "outputs": [
    {
     "name": "stdout",
     "output_type": "stream",
     "text": [
      "Valor médio das Rendas 2253.265306122449 - 2253.27\n"
     ]
    }
   ],
   "source": [
    "print(f\"Valor médio das Rendas {mean_renda} - {mean_renda:.2f}\")"
   ]
  },
  {
   "cell_type": "markdown",
   "id": "ff25b004-a67c-4425-b746-2d684c7f438e",
   "metadata": {},
   "source": [
    "#### Passo 2: Atualizando o dataset com os valores calculados"
   ]
  },
  {
   "cell_type": "code",
   "execution_count": 13,
   "id": "a3efb3e4-2608-4934-96a8-4156634da536",
   "metadata": {
    "scrolled": true
   },
   "outputs": [
    {
     "name": "stderr",
     "output_type": "stream",
     "text": [
      "C:\\Users\\caio.sathler\\AppData\\Local\\Temp\\ipykernel_3400\\3846330885.py:1: FutureWarning: A value is trying to be set on a copy of a DataFrame or Series through chained assignment using an inplace method.\n",
      "The behavior will change in pandas 3.0. This inplace method will never work because the intermediate object on which we are setting values always behaves as a copy.\n",
      "\n",
      "For example, when doing 'df[col].method(value, inplace=True)', try using 'df.method({col: value}, inplace=True)' or df[col] = df[col].method(value) instead, to perform the operation inplace on the original object.\n",
      "\n",
      "\n",
      "  df['idade'].fillna(median_idade, inplace=True)\n"
     ]
    }
   ],
   "source": [
    "df['idade'].fillna(median_idade, inplace=True)"
   ]
  },
  {
   "cell_type": "markdown",
   "id": "18749d60-c3c9-448f-84a2-ababd4a3bdb9",
   "metadata": {},
   "source": [
    "##### 🚧 inplace=True\n",
    "\n",
    "Se  for gerado o aviso de  **FutureWarning** ao usar `fillna(inplace=True)` em um DataFrame, isso ocorre porque o pandas está **desencorajando o uso de inplace** em operações encadeadas ou em certos contextos.\n",
    "\n",
    "💡 **Solução Recomendada**: Substitua os fillna(inplace=True) por atribuições diretas, que são mais seguras e evitam o aviso:"
   ]
  },
  {
   "cell_type": "code",
   "execution_count": 14,
   "id": "ca95a445-2193-41a7-b226-7b89aa6fe56b",
   "metadata": {},
   "outputs": [],
   "source": [
    "df['idade'] = df['idade'].fillna(median_idade)\n",
    "df['nota'] = df['nota'].fillna(median_nota)\n",
    "df['renda'] = df['renda'].fillna(mean_renda)"
   ]
  },
  {
   "cell_type": "markdown",
   "id": "1b3b9873-cdb8-4a93-825c-7deaab762932",
   "metadata": {},
   "source": [
    "🔖 **Por que isso é melhor?**\n",
    "- Evita FutureWarning – O pandas recomenda evitar inplace=True em versões futuras.\n",
    "- Mais legível – Atribuições explícitas deixam claro que a coluna está sendo modificada.\n",
    "- Compatibilidade – Funciona em todas as versões do pandas, incluindo a 3.0+."
   ]
  },
  {
   "cell_type": "markdown",
   "id": "2a8eb8e0-cb13-4270-82e1-40ef8e7399df",
   "metadata": {},
   "source": [
    "#### Passo 3 - Preenchendo os campos não numericos vaziosback\n",
    " Em nosso dataset há tres campos não numericos, são eles:\n",
    " - Cidade\n",
    " - Categoria\n",
    " - Feed"
   ]
  },
  {
   "cell_type": "code",
   "execution_count": 15,
   "id": "3f758186-645c-4a4b-a34f-7fda5d328c60",
   "metadata": {},
   "outputs": [
    {
     "data": {
      "text/html": [
       "<div>\n",
       "<style scoped>\n",
       "    .dataframe tbody tr th:only-of-type {\n",
       "        vertical-align: middle;\n",
       "    }\n",
       "\n",
       "    .dataframe tbody tr th {\n",
       "        vertical-align: top;\n",
       "    }\n",
       "\n",
       "    .dataframe thead th {\n",
       "        text-align: right;\n",
       "    }\n",
       "</style>\n",
       "<table border=\"1\" class=\"dataframe\">\n",
       "  <thead>\n",
       "    <tr style=\"text-align: right;\">\n",
       "      <th></th>\n",
       "      <th>id</th>\n",
       "      <th>idade</th>\n",
       "      <th>renda</th>\n",
       "      <th>cidade</th>\n",
       "      <th>categoria</th>\n",
       "      <th>nota</th>\n",
       "      <th>feedback</th>\n",
       "    </tr>\n",
       "  </thead>\n",
       "  <tbody>\n",
       "    <tr>\n",
       "      <th>0</th>\n",
       "      <td>1</td>\n",
       "      <td>30.0</td>\n",
       "      <td>1200.0</td>\n",
       "      <td>Sao Paulo</td>\n",
       "      <td>A</td>\n",
       "      <td>8.5</td>\n",
       "      <td>Bom</td>\n",
       "    </tr>\n",
       "    <tr>\n",
       "      <th>1</th>\n",
       "      <td>2</td>\n",
       "      <td>45.0</td>\n",
       "      <td>2500.0</td>\n",
       "      <td>Rio de Janeiro</td>\n",
       "      <td>B</td>\n",
       "      <td>7.0</td>\n",
       "      <td>Regular</td>\n",
       "    </tr>\n",
       "    <tr>\n",
       "      <th>2</th>\n",
       "      <td>3</td>\n",
       "      <td>29.0</td>\n",
       "      <td>1200.0</td>\n",
       "      <td>Belo Horizonte</td>\n",
       "      <td>A</td>\n",
       "      <td>5.5</td>\n",
       "      <td>Bom</td>\n",
       "    </tr>\n",
       "    <tr>\n",
       "      <th>3</th>\n",
       "      <td>4</td>\n",
       "      <td>55.0</td>\n",
       "      <td>3000.0</td>\n",
       "      <td>Salvador</td>\n",
       "      <td>B</td>\n",
       "      <td>7.5</td>\n",
       "      <td>Ruim</td>\n",
       "    </tr>\n",
       "    <tr>\n",
       "      <th>4</th>\n",
       "      <td>5</td>\n",
       "      <td>40.0</td>\n",
       "      <td>2100.0</td>\n",
       "      <td>Sao Paulo</td>\n",
       "      <td>A</td>\n",
       "      <td>9.0</td>\n",
       "      <td>Bom</td>\n",
       "    </tr>\n",
       "    <tr>\n",
       "      <th>5</th>\n",
       "      <td>6</td>\n",
       "      <td>23.0</td>\n",
       "      <td>900.0</td>\n",
       "      <td>NaN</td>\n",
       "      <td>B</td>\n",
       "      <td>7.5</td>\n",
       "      <td>Ruim</td>\n",
       "    </tr>\n",
       "    <tr>\n",
       "      <th>6</th>\n",
       "      <td>7</td>\n",
       "      <td>35.0</td>\n",
       "      <td>1800.0</td>\n",
       "      <td>Rio de Janeiro</td>\n",
       "      <td>B</td>\n",
       "      <td>6.8</td>\n",
       "      <td>Regular</td>\n",
       "    </tr>\n",
       "    <tr>\n",
       "      <th>7</th>\n",
       "      <td>8</td>\n",
       "      <td>38.0</td>\n",
       "      <td>2500.0</td>\n",
       "      <td>Belo Horizonte</td>\n",
       "      <td>A</td>\n",
       "      <td>8.2</td>\n",
       "      <td>Bom</td>\n",
       "    </tr>\n",
       "    <tr>\n",
       "      <th>8</th>\n",
       "      <td>9</td>\n",
       "      <td>29.0</td>\n",
       "      <td>1500.0</td>\n",
       "      <td>Salvador</td>\n",
       "      <td>B</td>\n",
       "      <td>7.1</td>\n",
       "      <td>Regular</td>\n",
       "    </tr>\n",
       "    <tr>\n",
       "      <th>9</th>\n",
       "      <td>10</td>\n",
       "      <td>50.0</td>\n",
       "      <td>2800.0</td>\n",
       "      <td>Sao Paulo</td>\n",
       "      <td>A</td>\n",
       "      <td>8.7</td>\n",
       "      <td>Bom</td>\n",
       "    </tr>\n",
       "  </tbody>\n",
       "</table>\n",
       "</div>"
      ],
      "text/plain": [
       "   id  idade   renda          cidade categoria  nota feedback\n",
       "0   1   30.0  1200.0       Sao Paulo         A   8.5      Bom\n",
       "1   2   45.0  2500.0  Rio de Janeiro         B   7.0  Regular\n",
       "2   3   29.0  1200.0  Belo Horizonte         A   5.5      Bom\n",
       "3   4   55.0  3000.0        Salvador         B   7.5     Ruim\n",
       "4   5   40.0  2100.0       Sao Paulo         A   9.0      Bom\n",
       "5   6   23.0   900.0             NaN         B   7.5     Ruim\n",
       "6   7   35.0  1800.0  Rio de Janeiro         B   6.8  Regular\n",
       "7   8   38.0  2500.0  Belo Horizonte         A   8.2      Bom\n",
       "8   9   29.0  1500.0        Salvador         B   7.1  Regular\n",
       "9  10   50.0  2800.0       Sao Paulo         A   8.7      Bom"
      ]
     },
     "execution_count": 15,
     "metadata": {},
     "output_type": "execute_result"
    }
   ],
   "source": [
    "df.head(10)"
   ]
  },
  {
   "cell_type": "markdown",
   "id": "589654de-546f-4c38-848a-01bbaa4fec36",
   "metadata": {},
   "source": [
    "Para os campos `Cidade` e `Feedback` utilizaremos o valor **Desconhecido**"
   ]
  },
  {
   "cell_type": "code",
   "execution_count": 16,
   "id": "694c7c57-1367-4f24-b8ca-3d49526a76bf",
   "metadata": {},
   "outputs": [],
   "source": [
    "df['cidade'] = df['cidade'].fillna(\"Desconhecido\")\n",
    "df['feedback'] = df['feedback'].fillna(\"Desconhecido\")"
   ]
  },
  {
   "cell_type": "markdown",
   "id": "bcb8a941-4db4-426d-bfe3-c31fe6ae6969",
   "metadata": {},
   "source": [
    "**Dica:** Versão Compacta (para muitas colunas)\n",
    "- Se estiver preenchendo muitas colunas com o mesmo valor:\n",
    "\n",
    "```python\n",
    "cols_preencher = ['cidade', 'feedback']\n",
    "df[cols_preencher] = df[cols_preencher].fillna(\"Desconhecido\")\n",
    "```"
   ]
  },
  {
   "cell_type": "code",
   "execution_count": 17,
   "id": "94b25890-63ad-4c8c-9f6e-82232814a437",
   "metadata": {},
   "outputs": [
    {
     "data": {
      "text/html": [
       "<div>\n",
       "<style scoped>\n",
       "    .dataframe tbody tr th:only-of-type {\n",
       "        vertical-align: middle;\n",
       "    }\n",
       "\n",
       "    .dataframe tbody tr th {\n",
       "        vertical-align: top;\n",
       "    }\n",
       "\n",
       "    .dataframe thead th {\n",
       "        text-align: right;\n",
       "    }\n",
       "</style>\n",
       "<table border=\"1\" class=\"dataframe\">\n",
       "  <thead>\n",
       "    <tr style=\"text-align: right;\">\n",
       "      <th></th>\n",
       "      <th>cidade</th>\n",
       "      <th>feedback</th>\n",
       "    </tr>\n",
       "  </thead>\n",
       "  <tbody>\n",
       "    <tr>\n",
       "      <th>0</th>\n",
       "      <td>Sao Paulo</td>\n",
       "      <td>Bom</td>\n",
       "    </tr>\n",
       "    <tr>\n",
       "      <th>1</th>\n",
       "      <td>Rio de Janeiro</td>\n",
       "      <td>Regular</td>\n",
       "    </tr>\n",
       "    <tr>\n",
       "      <th>2</th>\n",
       "      <td>Belo Horizonte</td>\n",
       "      <td>Bom</td>\n",
       "    </tr>\n",
       "    <tr>\n",
       "      <th>3</th>\n",
       "      <td>Salvador</td>\n",
       "      <td>Ruim</td>\n",
       "    </tr>\n",
       "    <tr>\n",
       "      <th>4</th>\n",
       "      <td>Sao Paulo</td>\n",
       "      <td>Bom</td>\n",
       "    </tr>\n",
       "    <tr>\n",
       "      <th>5</th>\n",
       "      <td>Desconhecido</td>\n",
       "      <td>Ruim</td>\n",
       "    </tr>\n",
       "    <tr>\n",
       "      <th>6</th>\n",
       "      <td>Rio de Janeiro</td>\n",
       "      <td>Regular</td>\n",
       "    </tr>\n",
       "    <tr>\n",
       "      <th>7</th>\n",
       "      <td>Belo Horizonte</td>\n",
       "      <td>Bom</td>\n",
       "    </tr>\n",
       "    <tr>\n",
       "      <th>8</th>\n",
       "      <td>Salvador</td>\n",
       "      <td>Regular</td>\n",
       "    </tr>\n",
       "    <tr>\n",
       "      <th>9</th>\n",
       "      <td>Sao Paulo</td>\n",
       "      <td>Bom</td>\n",
       "    </tr>\n",
       "  </tbody>\n",
       "</table>\n",
       "</div>"
      ],
      "text/plain": [
       "           cidade feedback\n",
       "0       Sao Paulo      Bom\n",
       "1  Rio de Janeiro  Regular\n",
       "2  Belo Horizonte      Bom\n",
       "3        Salvador     Ruim\n",
       "4       Sao Paulo      Bom\n",
       "5    Desconhecido     Ruim\n",
       "6  Rio de Janeiro  Regular\n",
       "7  Belo Horizonte      Bom\n",
       "8        Salvador  Regular\n",
       "9       Sao Paulo      Bom"
      ]
     },
     "execution_count": 17,
     "metadata": {},
     "output_type": "execute_result"
    }
   ],
   "source": [
    "df[['cidade', 'feedback']].head(10)"
   ]
  },
  {
   "cell_type": "markdown",
   "id": "f4a58f15-1980-4987-9075-904fdf1a2a98",
   "metadata": {},
   "source": [
    "## Avaliando o tratamento dos dados"
   ]
  },
  {
   "cell_type": "markdown",
   "id": "57b3225a-0eb1-48c0-927a-fa0a5bdde8d6",
   "metadata": {},
   "source": [
    "### Verificando valores ausentes"
   ]
  },
  {
   "cell_type": "code",
   "execution_count": 18,
   "id": "8354a40e-0663-4eae-be8f-01f27dc284b3",
   "metadata": {},
   "outputs": [
    {
     "name": "stdout",
     "output_type": "stream",
     "text": [
      "id           0\n",
      "idade        0\n",
      "renda        0\n",
      "cidade       0\n",
      "categoria    0\n",
      "nota         0\n",
      "feedback     0\n",
      "dtype: int64\n"
     ]
    }
   ],
   "source": [
    "print(df.isnull().sum())"
   ]
  },
  {
   "cell_type": "markdown",
   "id": "bf11c96d-9b12-47ba-ad39-c25d21967aea",
   "metadata": {},
   "source": [
    "### Detecção simples de outliers (opcional)"
   ]
  },
  {
   "cell_type": "markdown",
   "id": "d3cd9131-b676-4135-aadd-d32f46fe3465",
   "metadata": {
    "jp-MarkdownHeadingCollapsed": true
   },
   "source": [
    "#### IQR (Intervalo Interquartil)\n",
    "\n",
    "- A técnica IQR (Intervalo Interquartil) é um método estatístico robusto para identificar \n",
    "e tratar outliers (valores extremos) em um conjunto de dados. Ela calcula a diferença entre o terceiro \n",
    "quartil (Q3, 75º percentil) e o primeiro quartil (Q1, 25º percentil), definindo limites inferior e superior. \n",
    "\n",
    "- Valores fora desses limites são considerados outliers, pois fogem da distribuição central dos dados. \n",
    "O IQR é preferido em relação a métodos baseados em média e desvio padrão quando a distribuição é \n",
    "assimétrica ou contém muitos outliers, já que é menos sensível a valores extremos.\n",
    "\n",
    "- Essa técnica é amplamente usada em pré-processamento de dados para remover ou ajustar anomalias que \n",
    "podem distorcer análises ou modelos preditivos.\n",
    "\n",
    "**OBS**:\n",
    "- Uma distribuição **simétrica** ocorre quando os dados estão igualmente distribuídos em torno da média, formando uma curva balanceada (como na distribuição normal), onde a média, mediana e moda coincidem.\n",
    "- Já uma distribuição **assimétrica** apresenta um desequilíbrio, com uma cauda mais alongada para a direita (assimetria positiva, onde a média > mediana) ou para a esquerda (assimetria negativa, onde a média < mediana), indicando concentração de valores em um dos lados. Enquanto a simetria sugere uniformidade, a assimetria revela tendências ou outliers que podem afetar análises estatísticas, exigindo técnicas específicas como transformações (log, Box-Cox) ou o uso de métricas robustas (como a mediana).\n",
    "\n",
    "\n",
    "\n",
    "**Exemplo**: ver outliers na coluna 'renda' usando IQR"
   ]
  },
  {
   "cell_type": "markdown",
   "id": "82ab2f77-b871-4caa-b59d-1b7b05ab8448",
   "metadata": {
    "jp-MarkdownHeadingCollapsed": true
   },
   "source": [
    "#### Calculando o IQR e identificando os limites para o campo **Renda**"
   ]
  },
  {
   "cell_type": "code",
   "execution_count": 19,
   "id": "0a456c23-b2bb-4ff2-8a4d-d5b86b6c9a9b",
   "metadata": {},
   "outputs": [],
   "source": [
    "Q1 = df['renda'].quantile(0.25)\n",
    "Q3 = df['renda'].quantile(0.75)\n",
    "IQR = Q3 - Q1\n",
    "limite_inferior = Q1 - 1.5 * IQR\n",
    "limite_superior = Q3 + 1.5 * IQR"
   ]
  },
  {
   "cell_type": "code",
   "execution_count": 20,
   "id": "267b978e-cd91-41c9-b710-9cb85b7ebe84",
   "metadata": {},
   "outputs": [
    {
     "name": "stdout",
     "output_type": "stream",
     "text": [
      "\n",
      "\n",
      "\t IQR - Campo Renda\n",
      "\n",
      "\n",
      "Quartis -> Q1:  1500.00  ->  Q3:  2775.00\n",
      "IQR ----- 1275.0\n",
      "Limites - Inf:  -412.50  -> Sup:  4687.50\n",
      "\n",
      "\n",
      "\n"
     ]
    }
   ],
   "source": [
    "print (f\"\\n\\n\\t IQR - Campo Renda\\n\\n\")\n",
    "print(f\"Quartis -> Q1: {Q1:-8.2f}  ->  Q3: {Q3:-8.2f}\")\n",
    "print(f\"IQR ----- {IQR}\")\n",
    "print(f\"Limites - Inf: {limite_inferior:-8.2f}  -> Sup: {limite_superior:-8.2f}\")\n",
    "print(f\"\\n\\n\")"
   ]
  },
  {
   "cell_type": "markdown",
   "id": "d8f8bb86-ebe4-421f-b817-0dd8d541c61b",
   "metadata": {},
   "source": [
    "#### Identificando possíveis Outliers\n",
    "- O código `outliers = df[(df['renda'] < limite_inferior) | (df['renda'] > limite_superior)]`filtra um DataFrame (df) para identificar registros onde os valores da coluna 'renda' estão fora de um intervalo considerado \"normal\", definido por um limite inferior e um limite superior."
   ]
  },
  {
   "cell_type": "code",
   "execution_count": 21,
   "id": "a579b650-8d41-4717-a210-93118ca893f5",
   "metadata": {},
   "outputs": [
    {
     "name": "stdout",
     "output_type": "stream",
     "text": [
      "\n",
      "### Possíveis outliers em 'renda' ###\n",
      "\n",
      "    id  idade   renda     cidade categoria  nota feedback\n",
      "23  24   60.0  5800.0  Sao Paulo         A   9.1      Bom\n",
      "27  28   58.0  6000.0   Salvador         A   8.3      Bom\n",
      "\n"
     ]
    }
   ],
   "source": [
    "outliers = df[(df['renda'] < limite_inferior) | (df['renda'] > limite_superior)]\n",
    "print(f\"\\n### Possíveis outliers em 'renda' ###\\n\\n{outliers}\\n\")"
   ]
  },
  {
   "cell_type": "markdown",
   "id": "104676ff-b071-47d9-9c68-2c2baa761b85",
   "metadata": {},
   "source": [
    "### Removendos Outliers\n",
    "\n",
    "#### Para que Serve?\n",
    "\n",
    "1. Limpeza de dados: Remove anomalias que podem distorcer análises estatísticas ou modelos de machine learning.\n",
    "1. Normalizar distribuições: Útil quando a presença de outliers afeta a média ou o desvio padrão.\n",
    "1. Foco em dados relevantes: Mantém apenas observações dentro de um intervalo \"aceitável\".\n"
   ]
  },
  {
   "cell_type": "markdown",
   "id": "37a41d56-da9c-43fe-8d65-c3a9d94cc6eb",
   "metadata": {},
   "source": [
    "#### Cuidados\n",
    "\n",
    "- **Para remover os outlier** do dataset utilize:\n",
    "\n",
    "```python\n",
    "df = df[(df['renda'] >= limite_inferior) & (df['renda'] <= limite_superior)]\n",
    "```\n",
    "\n",
    "- **Sobrescrita do DataFrame**:  O código altera o DataFrame original. Se precisar preservar os dados brutos, crie uma cópia antes:\n",
    "```python\n",
    "df_clean = df[(df['renda'] >= limite_inferior) & (df['renda'] <= limite_superior)].copy()\n",
    "```\n",
    "\n",
    "- **Impacto em análises**: Remover outliers pode mascarar informações importantes em alguns contextos (ex.: fraudes em dados financeiros)."
   ]
  },
  {
   "cell_type": "code",
   "execution_count": 22,
   "id": "26059ab4-097a-4fa1-88ce-b7b98c57f9f0",
   "metadata": {},
   "outputs": [],
   "source": [
    "df_clean = df[(df['renda'] >= limite_inferior) & (df['renda'] <= limite_superior)].copy()"
   ]
  },
  {
   "cell_type": "markdown",
   "id": "835f44b8-1903-4dcc-b7b0-fa722073f0bc",
   "metadata": {},
   "source": [
    "#### Obtendo informações sobre o novo dataset'"
   ]
  },
  {
   "cell_type": "code",
   "execution_count": 23,
   "id": "b4545929-906b-409b-b200-7d610f3c931d",
   "metadata": {},
   "outputs": [
    {
     "name": "stdout",
     "output_type": "stream",
     "text": [
      "<class 'pandas.core.frame.DataFrame'>\n",
      "Index: 48 entries, 0 to 49\n",
      "Data columns (total 7 columns):\n",
      " #   Column     Non-Null Count  Dtype  \n",
      "---  ------     --------------  -----  \n",
      " 0   id         48 non-null     int64  \n",
      " 1   idade      48 non-null     float64\n",
      " 2   renda      48 non-null     float64\n",
      " 3   cidade     48 non-null     object \n",
      " 4   categoria  48 non-null     object \n",
      " 5   nota       48 non-null     float64\n",
      " 6   feedback   48 non-null     object \n",
      "dtypes: float64(3), int64(1), object(3)\n",
      "memory usage: 3.0+ KB\n"
     ]
    }
   ],
   "source": [
    "df_clean.info()"
   ]
  },
  {
   "cell_type": "markdown",
   "id": "dd91096d-615a-4016-b126-e835e51ec584",
   "metadata": {},
   "source": [
    "#### Verificando os outliers"
   ]
  },
  {
   "cell_type": "code",
   "execution_count": 24,
   "id": "97d3ed26-25ee-4d29-bebf-2a98ab64ed23",
   "metadata": {},
   "outputs": [
    {
     "name": "stdout",
     "output_type": "stream",
     "text": [
      "\n",
      "### Possíveis outliers em 'renda' ###\n",
      "\n",
      "Empty DataFrame\n",
      "Columns: [id, idade, renda, cidade, categoria, nota, feedback]\n",
      "Index: []\n",
      "\n"
     ]
    }
   ],
   "source": [
    "outliers_v2 = df_clean[(df_clean['renda'] < limite_inferior) | (df_clean['renda'] > limite_superior)]\n",
    "print(f\"\\n### Possíveis outliers em 'renda' ###\\n\\n{outliers_v2}\\n\")"
   ]
  },
  {
   "cell_type": "markdown",
   "id": "927920ac-b84a-43d2-8a6b-508aba6e1466",
   "metadata": {},
   "source": [
    "## Codificação de variáveis categóricas"
   ]
  },
  {
   "cell_type": "markdown",
   "id": "0ff75f21-3d7b-4cd9-90c5-863157605666",
   "metadata": {},
   "source": [
    "### Função - pd.get_dummie\n",
    "\n",
    "- A função pd.get_dummies do pandas é utilizada para converter variáveis categóricas (texto ou categorias) em um formato numérico binário (0 ou 1) através da técnica conhecida como \"One-Hot Encoding\".\n",
    "\n",
    "- Ela cria colunas adicionais para cada categoria única presente na variável original, onde cada linha recebe o valor 1 se a categoria estiver presente naquela observação e 0 caso contrário.\n",
    "\n",
    "- Por exemplo, uma coluna \"Cor\" com valores [\"Vermelho\", \"Azul\", \"Verde\"] se transformaria em três colunas (\"Cor_Vermelho\", \"Cor_Azul\", \"Cor_Verde\"), permitindo que algoritmos de machine learning ou análises estatísticas processem esses dados categóricos de forma eficiente.\n",
    "\n",
    "- Essa abordagem evita problemas de hierarquia numérica inexistente em categorias (como assumir que \"Vermelho\" > \"Azul\").\n",
    "\n",
    "- O parâmetro `rop_first=False` na função pd.get_dummies() do pandas controla se a primeira categoria de cada variável  categórica será removida ou não durante o One-Hot Encoding.\n",
    "\n",
    "- O parâmetro `drop_first=True` remove a primeira categoria (evita multicolinearidade em modelos estatísticos). "
   ]
  },
  {
   "cell_type": "code",
   "execution_count": 25,
   "id": "194c7053-6641-49fd-815e-81fd2dbbbbe3",
   "metadata": {},
   "outputs": [],
   "source": [
    "df_encoded = pd.get_dummies(df, columns=['cidade','categoria','feedback'], drop_first=False)"
   ]
  },
  {
   "cell_type": "markdown",
   "id": "975ef56e-e6dd-421d-8d7c-53631436cd64",
   "metadata": {},
   "source": [
    "**DICA:** Para ajustar o código e garantir que os campos resultantes do `pd.get_dummies()` sejam preenchidos com 0 ou 1 (em vez de True ou False), você pode adicionar o parâmetro `dtype=int` à função."
   ]
  },
  {
   "cell_type": "code",
   "execution_count": 26,
   "id": "0ee2d59c-98f7-4fa1-906a-4110ea257c72",
   "metadata": {},
   "outputs": [],
   "source": [
    "df_encoded_v2 = pd.get_dummies(\n",
    "    df, \n",
    "    columns=['cidade', 'categoria', 'feedback'], \n",
    "    drop_first=False,\n",
    "    dtype=int  # Garante que os valores serão 0 ou 1 (int) em vez de True/False (bool)\n",
    ")"
   ]
  },
  {
   "cell_type": "markdown",
   "id": "e0dc58f1-c890-4436-a2de-d3a0125b67fd",
   "metadata": {},
   "source": [
    "### Obtendo as informações do novo Dataset"
   ]
  },
  {
   "cell_type": "code",
   "execution_count": 27,
   "id": "544dbaa9-7231-448e-8dbe-f5d7d08b932f",
   "metadata": {},
   "outputs": [
    {
     "name": "stdout",
     "output_type": "stream",
     "text": [
      "<class 'pandas.core.frame.DataFrame'>\n",
      "RangeIndex: 50 entries, 0 to 49\n",
      "Data columns (total 14 columns):\n",
      " #   Column                 Non-Null Count  Dtype  \n",
      "---  ------                 --------------  -----  \n",
      " 0   id                     50 non-null     int64  \n",
      " 1   idade                  50 non-null     float64\n",
      " 2   renda                  50 non-null     float64\n",
      " 3   nota                   50 non-null     float64\n",
      " 4   cidade_Belo Horizonte  50 non-null     bool   \n",
      " 5   cidade_Desconhecido    50 non-null     bool   \n",
      " 6   cidade_Rio de Janeiro  50 non-null     bool   \n",
      " 7   cidade_Salvador        50 non-null     bool   \n",
      " 8   cidade_Sao Paulo       50 non-null     bool   \n",
      " 9   categoria_A            50 non-null     bool   \n",
      " 10  categoria_B            50 non-null     bool   \n",
      " 11  feedback_Bom           50 non-null     bool   \n",
      " 12  feedback_Regular       50 non-null     bool   \n",
      " 13  feedback_Ruim          50 non-null     bool   \n",
      "dtypes: bool(10), float64(3), int64(1)\n",
      "memory usage: 2.2 KB\n"
     ]
    }
   ],
   "source": [
    "df_encoded.info()"
   ]
  },
  {
   "cell_type": "code",
   "execution_count": 28,
   "id": "d6bc3dae-6245-4842-b10a-ba9c0543235d",
   "metadata": {},
   "outputs": [
    {
     "name": "stdout",
     "output_type": "stream",
     "text": [
      "<class 'pandas.core.frame.DataFrame'>\n",
      "RangeIndex: 50 entries, 0 to 49\n",
      "Data columns (total 14 columns):\n",
      " #   Column                 Non-Null Count  Dtype  \n",
      "---  ------                 --------------  -----  \n",
      " 0   id                     50 non-null     int64  \n",
      " 1   idade                  50 non-null     float64\n",
      " 2   renda                  50 non-null     float64\n",
      " 3   nota                   50 non-null     float64\n",
      " 4   cidade_Belo Horizonte  50 non-null     int64  \n",
      " 5   cidade_Desconhecido    50 non-null     int64  \n",
      " 6   cidade_Rio de Janeiro  50 non-null     int64  \n",
      " 7   cidade_Salvador        50 non-null     int64  \n",
      " 8   cidade_Sao Paulo       50 non-null     int64  \n",
      " 9   categoria_A            50 non-null     int64  \n",
      " 10  categoria_B            50 non-null     int64  \n",
      " 11  feedback_Bom           50 non-null     int64  \n",
      " 12  feedback_Regular       50 non-null     int64  \n",
      " 13  feedback_Ruim          50 non-null     int64  \n",
      "dtypes: float64(3), int64(11)\n",
      "memory usage: 5.6 KB\n"
     ]
    }
   ],
   "source": [
    "df_encoded_v2.info()"
   ]
  },
  {
   "cell_type": "markdown",
   "id": "24286236-9495-4364-ba73-86adb88d4a09",
   "metadata": {},
   "source": [
    "### Visualizando as primeiras linhas do novo Dataset"
   ]
  },
  {
   "cell_type": "code",
   "execution_count": 29,
   "id": "628093f3-0531-4819-a4b8-7f2f1d57826f",
   "metadata": {},
   "outputs": [
    {
     "data": {
      "text/html": [
       "<div>\n",
       "<style scoped>\n",
       "    .dataframe tbody tr th:only-of-type {\n",
       "        vertical-align: middle;\n",
       "    }\n",
       "\n",
       "    .dataframe tbody tr th {\n",
       "        vertical-align: top;\n",
       "    }\n",
       "\n",
       "    .dataframe thead th {\n",
       "        text-align: right;\n",
       "    }\n",
       "</style>\n",
       "<table border=\"1\" class=\"dataframe\">\n",
       "  <thead>\n",
       "    <tr style=\"text-align: right;\">\n",
       "      <th></th>\n",
       "      <th>id</th>\n",
       "      <th>idade</th>\n",
       "      <th>renda</th>\n",
       "      <th>nota</th>\n",
       "      <th>cidade_Belo Horizonte</th>\n",
       "      <th>cidade_Desconhecido</th>\n",
       "      <th>cidade_Rio de Janeiro</th>\n",
       "      <th>cidade_Salvador</th>\n",
       "      <th>cidade_Sao Paulo</th>\n",
       "      <th>categoria_A</th>\n",
       "      <th>categoria_B</th>\n",
       "      <th>feedback_Bom</th>\n",
       "      <th>feedback_Regular</th>\n",
       "      <th>feedback_Ruim</th>\n",
       "    </tr>\n",
       "  </thead>\n",
       "  <tbody>\n",
       "    <tr>\n",
       "      <th>0</th>\n",
       "      <td>1</td>\n",
       "      <td>30.0</td>\n",
       "      <td>1200.0</td>\n",
       "      <td>8.5</td>\n",
       "      <td>False</td>\n",
       "      <td>False</td>\n",
       "      <td>False</td>\n",
       "      <td>False</td>\n",
       "      <td>True</td>\n",
       "      <td>True</td>\n",
       "      <td>False</td>\n",
       "      <td>True</td>\n",
       "      <td>False</td>\n",
       "      <td>False</td>\n",
       "    </tr>\n",
       "    <tr>\n",
       "      <th>1</th>\n",
       "      <td>2</td>\n",
       "      <td>45.0</td>\n",
       "      <td>2500.0</td>\n",
       "      <td>7.0</td>\n",
       "      <td>False</td>\n",
       "      <td>False</td>\n",
       "      <td>True</td>\n",
       "      <td>False</td>\n",
       "      <td>False</td>\n",
       "      <td>False</td>\n",
       "      <td>True</td>\n",
       "      <td>False</td>\n",
       "      <td>True</td>\n",
       "      <td>False</td>\n",
       "    </tr>\n",
       "    <tr>\n",
       "      <th>2</th>\n",
       "      <td>3</td>\n",
       "      <td>29.0</td>\n",
       "      <td>1200.0</td>\n",
       "      <td>5.5</td>\n",
       "      <td>True</td>\n",
       "      <td>False</td>\n",
       "      <td>False</td>\n",
       "      <td>False</td>\n",
       "      <td>False</td>\n",
       "      <td>True</td>\n",
       "      <td>False</td>\n",
       "      <td>True</td>\n",
       "      <td>False</td>\n",
       "      <td>False</td>\n",
       "    </tr>\n",
       "    <tr>\n",
       "      <th>3</th>\n",
       "      <td>4</td>\n",
       "      <td>55.0</td>\n",
       "      <td>3000.0</td>\n",
       "      <td>7.5</td>\n",
       "      <td>False</td>\n",
       "      <td>False</td>\n",
       "      <td>False</td>\n",
       "      <td>True</td>\n",
       "      <td>False</td>\n",
       "      <td>False</td>\n",
       "      <td>True</td>\n",
       "      <td>False</td>\n",
       "      <td>False</td>\n",
       "      <td>True</td>\n",
       "    </tr>\n",
       "    <tr>\n",
       "      <th>4</th>\n",
       "      <td>5</td>\n",
       "      <td>40.0</td>\n",
       "      <td>2100.0</td>\n",
       "      <td>9.0</td>\n",
       "      <td>False</td>\n",
       "      <td>False</td>\n",
       "      <td>False</td>\n",
       "      <td>False</td>\n",
       "      <td>True</td>\n",
       "      <td>True</td>\n",
       "      <td>False</td>\n",
       "      <td>True</td>\n",
       "      <td>False</td>\n",
       "      <td>False</td>\n",
       "    </tr>\n",
       "    <tr>\n",
       "      <th>5</th>\n",
       "      <td>6</td>\n",
       "      <td>23.0</td>\n",
       "      <td>900.0</td>\n",
       "      <td>7.5</td>\n",
       "      <td>False</td>\n",
       "      <td>True</td>\n",
       "      <td>False</td>\n",
       "      <td>False</td>\n",
       "      <td>False</td>\n",
       "      <td>False</td>\n",
       "      <td>True</td>\n",
       "      <td>False</td>\n",
       "      <td>False</td>\n",
       "      <td>True</td>\n",
       "    </tr>\n",
       "    <tr>\n",
       "      <th>6</th>\n",
       "      <td>7</td>\n",
       "      <td>35.0</td>\n",
       "      <td>1800.0</td>\n",
       "      <td>6.8</td>\n",
       "      <td>False</td>\n",
       "      <td>False</td>\n",
       "      <td>True</td>\n",
       "      <td>False</td>\n",
       "      <td>False</td>\n",
       "      <td>False</td>\n",
       "      <td>True</td>\n",
       "      <td>False</td>\n",
       "      <td>True</td>\n",
       "      <td>False</td>\n",
       "    </tr>\n",
       "    <tr>\n",
       "      <th>7</th>\n",
       "      <td>8</td>\n",
       "      <td>38.0</td>\n",
       "      <td>2500.0</td>\n",
       "      <td>8.2</td>\n",
       "      <td>True</td>\n",
       "      <td>False</td>\n",
       "      <td>False</td>\n",
       "      <td>False</td>\n",
       "      <td>False</td>\n",
       "      <td>True</td>\n",
       "      <td>False</td>\n",
       "      <td>True</td>\n",
       "      <td>False</td>\n",
       "      <td>False</td>\n",
       "    </tr>\n",
       "    <tr>\n",
       "      <th>8</th>\n",
       "      <td>9</td>\n",
       "      <td>29.0</td>\n",
       "      <td>1500.0</td>\n",
       "      <td>7.1</td>\n",
       "      <td>False</td>\n",
       "      <td>False</td>\n",
       "      <td>False</td>\n",
       "      <td>True</td>\n",
       "      <td>False</td>\n",
       "      <td>False</td>\n",
       "      <td>True</td>\n",
       "      <td>False</td>\n",
       "      <td>True</td>\n",
       "      <td>False</td>\n",
       "    </tr>\n",
       "    <tr>\n",
       "      <th>9</th>\n",
       "      <td>10</td>\n",
       "      <td>50.0</td>\n",
       "      <td>2800.0</td>\n",
       "      <td>8.7</td>\n",
       "      <td>False</td>\n",
       "      <td>False</td>\n",
       "      <td>False</td>\n",
       "      <td>False</td>\n",
       "      <td>True</td>\n",
       "      <td>True</td>\n",
       "      <td>False</td>\n",
       "      <td>True</td>\n",
       "      <td>False</td>\n",
       "      <td>False</td>\n",
       "    </tr>\n",
       "    <tr>\n",
       "      <th>10</th>\n",
       "      <td>11</td>\n",
       "      <td>40.0</td>\n",
       "      <td>1500.0</td>\n",
       "      <td>9.2</td>\n",
       "      <td>False</td>\n",
       "      <td>False</td>\n",
       "      <td>False</td>\n",
       "      <td>False</td>\n",
       "      <td>True</td>\n",
       "      <td>True</td>\n",
       "      <td>False</td>\n",
       "      <td>True</td>\n",
       "      <td>False</td>\n",
       "      <td>False</td>\n",
       "    </tr>\n",
       "    <tr>\n",
       "      <th>11</th>\n",
       "      <td>12</td>\n",
       "      <td>46.0</td>\n",
       "      <td>2900.0</td>\n",
       "      <td>6.0</td>\n",
       "      <td>False</td>\n",
       "      <td>False</td>\n",
       "      <td>True</td>\n",
       "      <td>False</td>\n",
       "      <td>False</td>\n",
       "      <td>False</td>\n",
       "      <td>True</td>\n",
       "      <td>False</td>\n",
       "      <td>True</td>\n",
       "      <td>False</td>\n",
       "    </tr>\n",
       "    <tr>\n",
       "      <th>12</th>\n",
       "      <td>13</td>\n",
       "      <td>50.0</td>\n",
       "      <td>3000.0</td>\n",
       "      <td>6.5</td>\n",
       "      <td>False</td>\n",
       "      <td>False</td>\n",
       "      <td>False</td>\n",
       "      <td>True</td>\n",
       "      <td>False</td>\n",
       "      <td>True</td>\n",
       "      <td>False</td>\n",
       "      <td>False</td>\n",
       "      <td>False</td>\n",
       "      <td>True</td>\n",
       "    </tr>\n",
       "    <tr>\n",
       "      <th>13</th>\n",
       "      <td>14</td>\n",
       "      <td>31.0</td>\n",
       "      <td>2300.0</td>\n",
       "      <td>8.0</td>\n",
       "      <td>True</td>\n",
       "      <td>False</td>\n",
       "      <td>False</td>\n",
       "      <td>False</td>\n",
       "      <td>False</td>\n",
       "      <td>False</td>\n",
       "      <td>True</td>\n",
       "      <td>True</td>\n",
       "      <td>False</td>\n",
       "      <td>False</td>\n",
       "    </tr>\n",
       "    <tr>\n",
       "      <th>14</th>\n",
       "      <td>15</td>\n",
       "      <td>38.0</td>\n",
       "      <td>2100.0</td>\n",
       "      <td>7.8</td>\n",
       "      <td>False</td>\n",
       "      <td>False</td>\n",
       "      <td>False</td>\n",
       "      <td>False</td>\n",
       "      <td>True</td>\n",
       "      <td>True</td>\n",
       "      <td>False</td>\n",
       "      <td>True</td>\n",
       "      <td>False</td>\n",
       "      <td>False</td>\n",
       "    </tr>\n",
       "  </tbody>\n",
       "</table>\n",
       "</div>"
      ],
      "text/plain": [
       "    id  idade   renda  nota  cidade_Belo Horizonte  cidade_Desconhecido  \\\n",
       "0    1   30.0  1200.0   8.5                  False                False   \n",
       "1    2   45.0  2500.0   7.0                  False                False   \n",
       "2    3   29.0  1200.0   5.5                   True                False   \n",
       "3    4   55.0  3000.0   7.5                  False                False   \n",
       "4    5   40.0  2100.0   9.0                  False                False   \n",
       "5    6   23.0   900.0   7.5                  False                 True   \n",
       "6    7   35.0  1800.0   6.8                  False                False   \n",
       "7    8   38.0  2500.0   8.2                   True                False   \n",
       "8    9   29.0  1500.0   7.1                  False                False   \n",
       "9   10   50.0  2800.0   8.7                  False                False   \n",
       "10  11   40.0  1500.0   9.2                  False                False   \n",
       "11  12   46.0  2900.0   6.0                  False                False   \n",
       "12  13   50.0  3000.0   6.5                  False                False   \n",
       "13  14   31.0  2300.0   8.0                   True                False   \n",
       "14  15   38.0  2100.0   7.8                  False                False   \n",
       "\n",
       "    cidade_Rio de Janeiro  cidade_Salvador  cidade_Sao Paulo  categoria_A  \\\n",
       "0                   False            False              True         True   \n",
       "1                    True            False             False        False   \n",
       "2                   False            False             False         True   \n",
       "3                   False             True             False        False   \n",
       "4                   False            False              True         True   \n",
       "5                   False            False             False        False   \n",
       "6                    True            False             False        False   \n",
       "7                   False            False             False         True   \n",
       "8                   False             True             False        False   \n",
       "9                   False            False              True         True   \n",
       "10                  False            False              True         True   \n",
       "11                   True            False             False        False   \n",
       "12                  False             True             False         True   \n",
       "13                  False            False             False        False   \n",
       "14                  False            False              True         True   \n",
       "\n",
       "    categoria_B  feedback_Bom  feedback_Regular  feedback_Ruim  \n",
       "0         False          True             False          False  \n",
       "1          True         False              True          False  \n",
       "2         False          True             False          False  \n",
       "3          True         False             False           True  \n",
       "4         False          True             False          False  \n",
       "5          True         False             False           True  \n",
       "6          True         False              True          False  \n",
       "7         False          True             False          False  \n",
       "8          True         False              True          False  \n",
       "9         False          True             False          False  \n",
       "10        False          True             False          False  \n",
       "11         True         False              True          False  \n",
       "12        False         False             False           True  \n",
       "13         True          True             False          False  \n",
       "14        False          True             False          False  "
      ]
     },
     "execution_count": 29,
     "metadata": {},
     "output_type": "execute_result"
    }
   ],
   "source": [
    "df_encoded.head(15)"
   ]
  },
  {
   "cell_type": "code",
   "execution_count": 30,
   "id": "b1802b89-86d7-4223-9879-702b96fafb7a",
   "metadata": {},
   "outputs": [
    {
     "data": {
      "text/html": [
       "<div>\n",
       "<style scoped>\n",
       "    .dataframe tbody tr th:only-of-type {\n",
       "        vertical-align: middle;\n",
       "    }\n",
       "\n",
       "    .dataframe tbody tr th {\n",
       "        vertical-align: top;\n",
       "    }\n",
       "\n",
       "    .dataframe thead th {\n",
       "        text-align: right;\n",
       "    }\n",
       "</style>\n",
       "<table border=\"1\" class=\"dataframe\">\n",
       "  <thead>\n",
       "    <tr style=\"text-align: right;\">\n",
       "      <th></th>\n",
       "      <th>id</th>\n",
       "      <th>idade</th>\n",
       "      <th>renda</th>\n",
       "      <th>nota</th>\n",
       "      <th>cidade_Belo Horizonte</th>\n",
       "      <th>cidade_Desconhecido</th>\n",
       "      <th>cidade_Rio de Janeiro</th>\n",
       "      <th>cidade_Salvador</th>\n",
       "      <th>cidade_Sao Paulo</th>\n",
       "      <th>categoria_A</th>\n",
       "      <th>categoria_B</th>\n",
       "      <th>feedback_Bom</th>\n",
       "      <th>feedback_Regular</th>\n",
       "      <th>feedback_Ruim</th>\n",
       "    </tr>\n",
       "  </thead>\n",
       "  <tbody>\n",
       "    <tr>\n",
       "      <th>0</th>\n",
       "      <td>1</td>\n",
       "      <td>30.0</td>\n",
       "      <td>1200.0</td>\n",
       "      <td>8.5</td>\n",
       "      <td>0</td>\n",
       "      <td>0</td>\n",
       "      <td>0</td>\n",
       "      <td>0</td>\n",
       "      <td>1</td>\n",
       "      <td>1</td>\n",
       "      <td>0</td>\n",
       "      <td>1</td>\n",
       "      <td>0</td>\n",
       "      <td>0</td>\n",
       "    </tr>\n",
       "    <tr>\n",
       "      <th>1</th>\n",
       "      <td>2</td>\n",
       "      <td>45.0</td>\n",
       "      <td>2500.0</td>\n",
       "      <td>7.0</td>\n",
       "      <td>0</td>\n",
       "      <td>0</td>\n",
       "      <td>1</td>\n",
       "      <td>0</td>\n",
       "      <td>0</td>\n",
       "      <td>0</td>\n",
       "      <td>1</td>\n",
       "      <td>0</td>\n",
       "      <td>1</td>\n",
       "      <td>0</td>\n",
       "    </tr>\n",
       "    <tr>\n",
       "      <th>2</th>\n",
       "      <td>3</td>\n",
       "      <td>29.0</td>\n",
       "      <td>1200.0</td>\n",
       "      <td>5.5</td>\n",
       "      <td>1</td>\n",
       "      <td>0</td>\n",
       "      <td>0</td>\n",
       "      <td>0</td>\n",
       "      <td>0</td>\n",
       "      <td>1</td>\n",
       "      <td>0</td>\n",
       "      <td>1</td>\n",
       "      <td>0</td>\n",
       "      <td>0</td>\n",
       "    </tr>\n",
       "    <tr>\n",
       "      <th>3</th>\n",
       "      <td>4</td>\n",
       "      <td>55.0</td>\n",
       "      <td>3000.0</td>\n",
       "      <td>7.5</td>\n",
       "      <td>0</td>\n",
       "      <td>0</td>\n",
       "      <td>0</td>\n",
       "      <td>1</td>\n",
       "      <td>0</td>\n",
       "      <td>0</td>\n",
       "      <td>1</td>\n",
       "      <td>0</td>\n",
       "      <td>0</td>\n",
       "      <td>1</td>\n",
       "    </tr>\n",
       "    <tr>\n",
       "      <th>4</th>\n",
       "      <td>5</td>\n",
       "      <td>40.0</td>\n",
       "      <td>2100.0</td>\n",
       "      <td>9.0</td>\n",
       "      <td>0</td>\n",
       "      <td>0</td>\n",
       "      <td>0</td>\n",
       "      <td>0</td>\n",
       "      <td>1</td>\n",
       "      <td>1</td>\n",
       "      <td>0</td>\n",
       "      <td>1</td>\n",
       "      <td>0</td>\n",
       "      <td>0</td>\n",
       "    </tr>\n",
       "    <tr>\n",
       "      <th>5</th>\n",
       "      <td>6</td>\n",
       "      <td>23.0</td>\n",
       "      <td>900.0</td>\n",
       "      <td>7.5</td>\n",
       "      <td>0</td>\n",
       "      <td>1</td>\n",
       "      <td>0</td>\n",
       "      <td>0</td>\n",
       "      <td>0</td>\n",
       "      <td>0</td>\n",
       "      <td>1</td>\n",
       "      <td>0</td>\n",
       "      <td>0</td>\n",
       "      <td>1</td>\n",
       "    </tr>\n",
       "    <tr>\n",
       "      <th>6</th>\n",
       "      <td>7</td>\n",
       "      <td>35.0</td>\n",
       "      <td>1800.0</td>\n",
       "      <td>6.8</td>\n",
       "      <td>0</td>\n",
       "      <td>0</td>\n",
       "      <td>1</td>\n",
       "      <td>0</td>\n",
       "      <td>0</td>\n",
       "      <td>0</td>\n",
       "      <td>1</td>\n",
       "      <td>0</td>\n",
       "      <td>1</td>\n",
       "      <td>0</td>\n",
       "    </tr>\n",
       "    <tr>\n",
       "      <th>7</th>\n",
       "      <td>8</td>\n",
       "      <td>38.0</td>\n",
       "      <td>2500.0</td>\n",
       "      <td>8.2</td>\n",
       "      <td>1</td>\n",
       "      <td>0</td>\n",
       "      <td>0</td>\n",
       "      <td>0</td>\n",
       "      <td>0</td>\n",
       "      <td>1</td>\n",
       "      <td>0</td>\n",
       "      <td>1</td>\n",
       "      <td>0</td>\n",
       "      <td>0</td>\n",
       "    </tr>\n",
       "    <tr>\n",
       "      <th>8</th>\n",
       "      <td>9</td>\n",
       "      <td>29.0</td>\n",
       "      <td>1500.0</td>\n",
       "      <td>7.1</td>\n",
       "      <td>0</td>\n",
       "      <td>0</td>\n",
       "      <td>0</td>\n",
       "      <td>1</td>\n",
       "      <td>0</td>\n",
       "      <td>0</td>\n",
       "      <td>1</td>\n",
       "      <td>0</td>\n",
       "      <td>1</td>\n",
       "      <td>0</td>\n",
       "    </tr>\n",
       "    <tr>\n",
       "      <th>9</th>\n",
       "      <td>10</td>\n",
       "      <td>50.0</td>\n",
       "      <td>2800.0</td>\n",
       "      <td>8.7</td>\n",
       "      <td>0</td>\n",
       "      <td>0</td>\n",
       "      <td>0</td>\n",
       "      <td>0</td>\n",
       "      <td>1</td>\n",
       "      <td>1</td>\n",
       "      <td>0</td>\n",
       "      <td>1</td>\n",
       "      <td>0</td>\n",
       "      <td>0</td>\n",
       "    </tr>\n",
       "  </tbody>\n",
       "</table>\n",
       "</div>"
      ],
      "text/plain": [
       "   id  idade   renda  nota  cidade_Belo Horizonte  cidade_Desconhecido  \\\n",
       "0   1   30.0  1200.0   8.5                      0                    0   \n",
       "1   2   45.0  2500.0   7.0                      0                    0   \n",
       "2   3   29.0  1200.0   5.5                      1                    0   \n",
       "3   4   55.0  3000.0   7.5                      0                    0   \n",
       "4   5   40.0  2100.0   9.0                      0                    0   \n",
       "5   6   23.0   900.0   7.5                      0                    1   \n",
       "6   7   35.0  1800.0   6.8                      0                    0   \n",
       "7   8   38.0  2500.0   8.2                      1                    0   \n",
       "8   9   29.0  1500.0   7.1                      0                    0   \n",
       "9  10   50.0  2800.0   8.7                      0                    0   \n",
       "\n",
       "   cidade_Rio de Janeiro  cidade_Salvador  cidade_Sao Paulo  categoria_A  \\\n",
       "0                      0                0                 1            1   \n",
       "1                      1                0                 0            0   \n",
       "2                      0                0                 0            1   \n",
       "3                      0                1                 0            0   \n",
       "4                      0                0                 1            1   \n",
       "5                      0                0                 0            0   \n",
       "6                      1                0                 0            0   \n",
       "7                      0                0                 0            1   \n",
       "8                      0                1                 0            0   \n",
       "9                      0                0                 1            1   \n",
       "\n",
       "   categoria_B  feedback_Bom  feedback_Regular  feedback_Ruim  \n",
       "0            0             1                 0              0  \n",
       "1            1             0                 1              0  \n",
       "2            0             1                 0              0  \n",
       "3            1             0                 0              1  \n",
       "4            0             1                 0              0  \n",
       "5            1             0                 0              1  \n",
       "6            1             0                 1              0  \n",
       "7            0             1                 0              0  \n",
       "8            1             0                 1              0  \n",
       "9            0             1                 0              0  "
      ]
     },
     "execution_count": 30,
     "metadata": {},
     "output_type": "execute_result"
    }
   ],
   "source": [
    "df_encoded_v2.head(10)"
   ]
  },
  {
   "cell_type": "markdown",
   "id": "e58e7ef6-3cb7-45db-924f-1bc1c4405739",
   "metadata": {},
   "source": [
    "## Escalonamento de colunas numéricas"
   ]
  },
  {
   "cell_type": "markdown",
   "id": "4cd5bfaf-51d0-45f5-a71e-7b55c1fc828a",
   "metadata": {},
   "source": [
    "### Definição\n",
    "O escalonamento (ou normalização) é uma técnica de pré-processamento de dados que ajusta os valores das colunas numéricas para uma escala comum, garantindo que todas as variáveis tenham a mesma importância em algoritmos de machine learning ou análises estatísticas.\n",
    "\n",
    "### Por que usar?\n",
    "Muitos algoritmos são sensíveis à diferença de magnitudes entre colunas. \n",
    "\n",
    "**Por exemplo:**\n",
    "\n",
    "- Uma coluna \"Idade\" (valores entre 0 e 100) e outra \"Renda\" (valores entre 1000 e 100000) podem enviesar o modelo, pois a \"Renda\" dominará os cálculos.\n",
    "\n",
    "**Objetivo**: \n",
    "- Garantir que colunas numéricas estejam em escalas comparáveis."
   ]
  },
  {
   "cell_type": "markdown",
   "id": "bb64b413-907a-4583-bec9-e976698be9f9",
   "metadata": {},
   "source": [
    "### Padronização utilizando o método StandardScaler \n",
    "\n",
    "- O **StandardScaler (fit_transform)** é um método de padronização que transforma os dados numéricos para ter média zero (μ = 0) e desvio padrão unitário (σ = 1).\n",
    "\n",
    "- Essa técnica é especialmente útil quando os dados têm distribuição normal ou quando algoritmos de machine learning  dependem de distâncias ou gradientes, pois elimina a influência da escala das features, garantindo que todas contribuam igualmente para o modelo. \n",
    "\n",
    "- Por exemplo:\n",
    "    - uma coluna \"Renda\" com valores entre 1.000 e 100.000 e outra \"Idade\" entre 0 e 100 são levadas para uma mesma escala evitando que a magnitude distorra os resultados. \n",
    "    - A padronização é sensível a outliers, mas mantém a forma original da distribuição dos dados."
   ]
  },
  {
   "cell_type": "markdown",
   "id": "078611f5-a5a0-42d6-9152-37ef0a79e93a",
   "metadata": {},
   "source": [
    "### Realizando o escalonamento das colunas numéticas\n",
    "\n",
    "O código abaixo realiza a padronização (escalonamento) das colunas numéricas de um DataFrame (df_encoded) utilizando o método StandardScaler da biblioteca scikit-learn. \n",
    "\n",
    "Segue uma explicação detalhada:\n",
    "\n",
    "1. Seleção das Colunas (numeric_cols)\n",
    "    - Define quais colunas serão padronizadas (ex: 'idade', 'renda', 'nota').\n",
    "\n",
    "2. Inicialização do StandardScaler\n",
    "    - Cria um objeto scaler que calculará:\n",
    "    - Média (μ) e Desvio Padrão (σ) de cada coluna.\n",
    "\n",
    "3. Aplicação do Escalonamento (fit_transform)\n",
    "\n",
    "    - fit_transform():\n",
    "        - Calcula μ e σ das colunas (fit).\n",
    "        - Transforma os dados originais em versões padronizadas (transform).\n",
    "\n",
    "    - Substitui as colunas originais do DataFrame (df_encoded) pelos valores escalonados.    "
   ]
  },
  {
   "cell_type": "code",
   "execution_count": 39,
   "id": "8effac04-68fc-4828-8ba6-b4d7b7550533",
   "metadata": {},
   "outputs": [],
   "source": [
    "numeric_cols = ['idade', 'renda', 'nota']\n",
    "scaler = StandardScaler()\n",
    "df_encoded[numeric_cols] = scaler.fit_transform(df_encoded[numeric_cols])\n",
    "df_encoded_v2[numeric_cols] = scaler.fit_transform(df_encoded_v2[numeric_cols])"
   ]
  },
  {
   "cell_type": "markdown",
   "id": "93b3e842-48c6-427d-bc83-81060511a741",
   "metadata": {},
   "source": [
    "#### Exibindo os dados do dataset"
   ]
  },
  {
   "cell_type": "code",
   "execution_count": 32,
   "id": "bb6bf42f-d718-4a4c-84a6-ef42e01979ee",
   "metadata": {},
   "outputs": [
    {
     "name": "stdout",
     "output_type": "stream",
     "text": [
      "<class 'pandas.core.frame.DataFrame'>\n",
      "RangeIndex: 50 entries, 0 to 49\n",
      "Data columns (total 14 columns):\n",
      " #   Column                 Non-Null Count  Dtype  \n",
      "---  ------                 --------------  -----  \n",
      " 0   id                     50 non-null     int64  \n",
      " 1   idade                  50 non-null     float64\n",
      " 2   renda                  50 non-null     float64\n",
      " 3   nota                   50 non-null     float64\n",
      " 4   cidade_Belo Horizonte  50 non-null     bool   \n",
      " 5   cidade_Desconhecido    50 non-null     bool   \n",
      " 6   cidade_Rio de Janeiro  50 non-null     bool   \n",
      " 7   cidade_Salvador        50 non-null     bool   \n",
      " 8   cidade_Sao Paulo       50 non-null     bool   \n",
      " 9   categoria_A            50 non-null     bool   \n",
      " 10  categoria_B            50 non-null     bool   \n",
      " 11  feedback_Bom           50 non-null     bool   \n",
      " 12  feedback_Regular       50 non-null     bool   \n",
      " 13  feedback_Ruim          50 non-null     bool   \n",
      "dtypes: bool(10), float64(3), int64(1)\n",
      "memory usage: 2.2 KB\n"
     ]
    }
   ],
   "source": [
    "df_encoded.info()"
   ]
  },
  {
   "cell_type": "code",
   "execution_count": 40,
   "id": "04104a95-e0d4-4dd4-99c0-895d963217be",
   "metadata": {},
   "outputs": [
    {
     "name": "stdout",
     "output_type": "stream",
     "text": [
      "<class 'pandas.core.frame.DataFrame'>\n",
      "RangeIndex: 50 entries, 0 to 49\n",
      "Data columns (total 14 columns):\n",
      " #   Column                 Non-Null Count  Dtype  \n",
      "---  ------                 --------------  -----  \n",
      " 0   id                     50 non-null     int64  \n",
      " 1   idade                  50 non-null     float64\n",
      " 2   renda                  50 non-null     float64\n",
      " 3   nota                   50 non-null     float64\n",
      " 4   cidade_Belo Horizonte  50 non-null     int64  \n",
      " 5   cidade_Desconhecido    50 non-null     int64  \n",
      " 6   cidade_Rio de Janeiro  50 non-null     int64  \n",
      " 7   cidade_Salvador        50 non-null     int64  \n",
      " 8   cidade_Sao Paulo       50 non-null     int64  \n",
      " 9   categoria_A            50 non-null     int64  \n",
      " 10  categoria_B            50 non-null     int64  \n",
      " 11  feedback_Bom           50 non-null     int64  \n",
      " 12  feedback_Regular       50 non-null     int64  \n",
      " 13  feedback_Ruim          50 non-null     int64  \n",
      "dtypes: float64(3), int64(11)\n",
      "memory usage: 5.6 KB\n"
     ]
    }
   ],
   "source": [
    "df_encoded_v2.info()"
   ]
  },
  {
   "cell_type": "markdown",
   "id": "c70332b1-6f54-4cd8-82ff-d75fa41146c9",
   "metadata": {},
   "source": [
    "#### Visualizando as primeiras linhas do dataset"
   ]
  },
  {
   "cell_type": "code",
   "execution_count": 33,
   "id": "36ea894d-5552-4d26-8874-288ac077481e",
   "metadata": {},
   "outputs": [
    {
     "data": {
      "text/html": [
       "<div>\n",
       "<style scoped>\n",
       "    .dataframe tbody tr th:only-of-type {\n",
       "        vertical-align: middle;\n",
       "    }\n",
       "\n",
       "    .dataframe tbody tr th {\n",
       "        vertical-align: top;\n",
       "    }\n",
       "\n",
       "    .dataframe thead th {\n",
       "        text-align: right;\n",
       "    }\n",
       "</style>\n",
       "<table border=\"1\" class=\"dataframe\">\n",
       "  <thead>\n",
       "    <tr style=\"text-align: right;\">\n",
       "      <th></th>\n",
       "      <th>id</th>\n",
       "      <th>idade</th>\n",
       "      <th>renda</th>\n",
       "      <th>nota</th>\n",
       "      <th>cidade_Belo Horizonte</th>\n",
       "      <th>cidade_Desconhecido</th>\n",
       "      <th>cidade_Rio de Janeiro</th>\n",
       "      <th>cidade_Salvador</th>\n",
       "      <th>cidade_Sao Paulo</th>\n",
       "      <th>categoria_A</th>\n",
       "      <th>categoria_B</th>\n",
       "      <th>feedback_Bom</th>\n",
       "      <th>feedback_Regular</th>\n",
       "      <th>feedback_Ruim</th>\n",
       "    </tr>\n",
       "  </thead>\n",
       "  <tbody>\n",
       "    <tr>\n",
       "      <th>0</th>\n",
       "      <td>1</td>\n",
       "      <td>-0.792576</td>\n",
       "      <td>-0.969895</td>\n",
       "      <td>0.909553</td>\n",
       "      <td>False</td>\n",
       "      <td>False</td>\n",
       "      <td>False</td>\n",
       "      <td>False</td>\n",
       "      <td>True</td>\n",
       "      <td>True</td>\n",
       "      <td>False</td>\n",
       "      <td>True</td>\n",
       "      <td>False</td>\n",
       "      <td>False</td>\n",
       "    </tr>\n",
       "    <tr>\n",
       "      <th>1</th>\n",
       "      <td>2</td>\n",
       "      <td>0.657258</td>\n",
       "      <td>0.227205</td>\n",
       "      <td>-0.285131</td>\n",
       "      <td>False</td>\n",
       "      <td>False</td>\n",
       "      <td>True</td>\n",
       "      <td>False</td>\n",
       "      <td>False</td>\n",
       "      <td>False</td>\n",
       "      <td>True</td>\n",
       "      <td>False</td>\n",
       "      <td>True</td>\n",
       "      <td>False</td>\n",
       "    </tr>\n",
       "    <tr>\n",
       "      <th>2</th>\n",
       "      <td>3</td>\n",
       "      <td>-0.889231</td>\n",
       "      <td>-0.969895</td>\n",
       "      <td>-1.479815</td>\n",
       "      <td>True</td>\n",
       "      <td>False</td>\n",
       "      <td>False</td>\n",
       "      <td>False</td>\n",
       "      <td>False</td>\n",
       "      <td>True</td>\n",
       "      <td>False</td>\n",
       "      <td>True</td>\n",
       "      <td>False</td>\n",
       "      <td>False</td>\n",
       "    </tr>\n",
       "    <tr>\n",
       "      <th>3</th>\n",
       "      <td>4</td>\n",
       "      <td>1.623814</td>\n",
       "      <td>0.687627</td>\n",
       "      <td>0.113097</td>\n",
       "      <td>False</td>\n",
       "      <td>False</td>\n",
       "      <td>False</td>\n",
       "      <td>True</td>\n",
       "      <td>False</td>\n",
       "      <td>False</td>\n",
       "      <td>True</td>\n",
       "      <td>False</td>\n",
       "      <td>False</td>\n",
       "      <td>True</td>\n",
       "    </tr>\n",
       "    <tr>\n",
       "      <th>4</th>\n",
       "      <td>5</td>\n",
       "      <td>0.173980</td>\n",
       "      <td>-0.141134</td>\n",
       "      <td>1.307781</td>\n",
       "      <td>False</td>\n",
       "      <td>False</td>\n",
       "      <td>False</td>\n",
       "      <td>False</td>\n",
       "      <td>True</td>\n",
       "      <td>True</td>\n",
       "      <td>False</td>\n",
       "      <td>True</td>\n",
       "      <td>False</td>\n",
       "      <td>False</td>\n",
       "    </tr>\n",
       "    <tr>\n",
       "      <th>5</th>\n",
       "      <td>6</td>\n",
       "      <td>-1.469165</td>\n",
       "      <td>-1.246148</td>\n",
       "      <td>0.113097</td>\n",
       "      <td>False</td>\n",
       "      <td>True</td>\n",
       "      <td>False</td>\n",
       "      <td>False</td>\n",
       "      <td>False</td>\n",
       "      <td>False</td>\n",
       "      <td>True</td>\n",
       "      <td>False</td>\n",
       "      <td>False</td>\n",
       "      <td>True</td>\n",
       "    </tr>\n",
       "    <tr>\n",
       "      <th>6</th>\n",
       "      <td>7</td>\n",
       "      <td>-0.309298</td>\n",
       "      <td>-0.417387</td>\n",
       "      <td>-0.444422</td>\n",
       "      <td>False</td>\n",
       "      <td>False</td>\n",
       "      <td>True</td>\n",
       "      <td>False</td>\n",
       "      <td>False</td>\n",
       "      <td>False</td>\n",
       "      <td>True</td>\n",
       "      <td>False</td>\n",
       "      <td>True</td>\n",
       "      <td>False</td>\n",
       "    </tr>\n",
       "    <tr>\n",
       "      <th>7</th>\n",
       "      <td>8</td>\n",
       "      <td>-0.019331</td>\n",
       "      <td>0.227205</td>\n",
       "      <td>0.670616</td>\n",
       "      <td>True</td>\n",
       "      <td>False</td>\n",
       "      <td>False</td>\n",
       "      <td>False</td>\n",
       "      <td>False</td>\n",
       "      <td>True</td>\n",
       "      <td>False</td>\n",
       "      <td>True</td>\n",
       "      <td>False</td>\n",
       "      <td>False</td>\n",
       "    </tr>\n",
       "    <tr>\n",
       "      <th>8</th>\n",
       "      <td>9</td>\n",
       "      <td>-0.889231</td>\n",
       "      <td>-0.693641</td>\n",
       "      <td>-0.205486</td>\n",
       "      <td>False</td>\n",
       "      <td>False</td>\n",
       "      <td>False</td>\n",
       "      <td>True</td>\n",
       "      <td>False</td>\n",
       "      <td>False</td>\n",
       "      <td>True</td>\n",
       "      <td>False</td>\n",
       "      <td>True</td>\n",
       "      <td>False</td>\n",
       "    </tr>\n",
       "    <tr>\n",
       "      <th>9</th>\n",
       "      <td>10</td>\n",
       "      <td>1.140536</td>\n",
       "      <td>0.503458</td>\n",
       "      <td>1.068844</td>\n",
       "      <td>False</td>\n",
       "      <td>False</td>\n",
       "      <td>False</td>\n",
       "      <td>False</td>\n",
       "      <td>True</td>\n",
       "      <td>True</td>\n",
       "      <td>False</td>\n",
       "      <td>True</td>\n",
       "      <td>False</td>\n",
       "      <td>False</td>\n",
       "    </tr>\n",
       "  </tbody>\n",
       "</table>\n",
       "</div>"
      ],
      "text/plain": [
       "   id     idade     renda      nota  cidade_Belo Horizonte  \\\n",
       "0   1 -0.792576 -0.969895  0.909553                  False   \n",
       "1   2  0.657258  0.227205 -0.285131                  False   \n",
       "2   3 -0.889231 -0.969895 -1.479815                   True   \n",
       "3   4  1.623814  0.687627  0.113097                  False   \n",
       "4   5  0.173980 -0.141134  1.307781                  False   \n",
       "5   6 -1.469165 -1.246148  0.113097                  False   \n",
       "6   7 -0.309298 -0.417387 -0.444422                  False   \n",
       "7   8 -0.019331  0.227205  0.670616                   True   \n",
       "8   9 -0.889231 -0.693641 -0.205486                  False   \n",
       "9  10  1.140536  0.503458  1.068844                  False   \n",
       "\n",
       "   cidade_Desconhecido  cidade_Rio de Janeiro  cidade_Salvador  \\\n",
       "0                False                  False            False   \n",
       "1                False                   True            False   \n",
       "2                False                  False            False   \n",
       "3                False                  False             True   \n",
       "4                False                  False            False   \n",
       "5                 True                  False            False   \n",
       "6                False                   True            False   \n",
       "7                False                  False            False   \n",
       "8                False                  False             True   \n",
       "9                False                  False            False   \n",
       "\n",
       "   cidade_Sao Paulo  categoria_A  categoria_B  feedback_Bom  feedback_Regular  \\\n",
       "0              True         True        False          True             False   \n",
       "1             False        False         True         False              True   \n",
       "2             False         True        False          True             False   \n",
       "3             False        False         True         False             False   \n",
       "4              True         True        False          True             False   \n",
       "5             False        False         True         False             False   \n",
       "6             False        False         True         False              True   \n",
       "7             False         True        False          True             False   \n",
       "8             False        False         True         False              True   \n",
       "9              True         True        False          True             False   \n",
       "\n",
       "   feedback_Ruim  \n",
       "0          False  \n",
       "1          False  \n",
       "2          False  \n",
       "3           True  \n",
       "4          False  \n",
       "5           True  \n",
       "6          False  \n",
       "7          False  \n",
       "8          False  \n",
       "9          False  "
      ]
     },
     "execution_count": 33,
     "metadata": {},
     "output_type": "execute_result"
    }
   ],
   "source": [
    "df_encoded.head(10)"
   ]
  },
  {
   "cell_type": "markdown",
   "id": "d92b9287-e4fd-4f79-9e5e-43e7e67485cd",
   "metadata": {},
   "source": [
    "## Salvando o Dataset"
   ]
  },
  {
   "cell_type": "markdown",
   "id": "ecef1112-c235-4fe6-9bda-c9f37e7af589",
   "metadata": {},
   "source": [
    "### Salvando no formato compactado"
   ]
  },
  {
   "cell_type": "code",
   "execution_count": 34,
   "id": "e106e510-64af-4071-ae0c-bf7815629413",
   "metadata": {},
   "outputs": [],
   "source": [
    "df_encoded.to_csv('exemplo_dataset2_limpo.csv.gz', compression='gzip', index=False)"
   ]
  },
  {
   "cell_type": "code",
   "execution_count": 41,
   "id": "c9264592-c3d8-4801-ade0-ea5dc58405b5",
   "metadata": {},
   "outputs": [],
   "source": [
    "df_encoded_v2.to_csv('exemplo_dataset2_encoded_v2_limpo.csv.gz', compression='gzip', index=False)"
   ]
  },
  {
   "cell_type": "markdown",
   "id": "70f969e9-dbf1-4521-86da-79caeb2abaa7",
   "metadata": {},
   "source": [
    "### Salvando em texto plano"
   ]
  },
  {
   "cell_type": "code",
   "execution_count": 35,
   "id": "a1b7f53c-43be-4f8c-8096-9e50ef7b32cf",
   "metadata": {},
   "outputs": [],
   "source": [
    "df_encoded.to_csv('exemplo_dataset2_limpo.csv', index=False)"
   ]
  },
  {
   "cell_type": "code",
   "execution_count": 42,
   "id": "932ce787-2859-4b31-ad21-d1d8a332f475",
   "metadata": {},
   "outputs": [],
   "source": [
    "df_encoded_v2.to_csv('exemplo_dataset2_encoded_v2_limpo.csv', index=False)"
   ]
  },
  {
   "cell_type": "markdown",
   "id": "fe8c2494-52b6-40b2-a7a4-f33f7e29bbbe",
   "metadata": {},
   "source": [
    "### Salvando os dados em um formato compatível com o MongoDB"
   ]
  },
  {
   "cell_type": "markdown",
   "id": "8548fa25-635b-4940-af80-eab92005f28f",
   "metadata": {},
   "source": [
    "#### Código"
   ]
  },
  {
   "cell_type": "code",
   "execution_count": 43,
   "id": "7d723281-fc19-4d5f-9e78-83d6b25d98b3",
   "metadata": {},
   "outputs": [
    {
     "name": "stdout",
     "output_type": "stream",
     "text": [
      "Arquivo salvo com sucesso para importação no MongoDB Atlas!\n"
     ]
    }
   ],
   "source": [
    "# Importando as bibliotecas\n",
    "import json\n",
    "\n",
    "# Converter para lista de dicionários (documentos MongoDB)\n",
    "dados_mongo = df_encoded.to_dict(orient='records')\n",
    "\n",
    "# Salvar como JSON\n",
    "with open('dados_mongo.json', 'w', encoding='utf-8') as f:\n",
    "    json.dump(dados_mongo, f, ensure_ascii=False, indent=2)\n",
    "\n",
    "print(\"Arquivo salvo com sucesso para importação no MongoDB Atlas!\")"
   ]
  },
  {
   "cell_type": "markdown",
   "id": "bba5e6f5-2339-40c3-bd89-d064c3691095",
   "metadata": {},
   "source": [
    "#### Explicando código"
   ]
  },
  {
   "cell_type": "markdown",
   "id": "8da4cc01-b952-4c46-905d-a80a34aa7b07",
   "metadata": {},
   "source": [
    "1. **Objetivo**: Converter um DataFrame (`df_encoded`) em um arquivo JSON formatado para importação no **MongoDB Atlas**.  \n",
    "\n",
    "2. **Passo a Passo**:  \n",
    "   - **`import json`**: Carrega a biblioteca para manipular JSON.  \n",
    "   - **`df_encoded.to_dict(orient='records')`**:  \n",
    "     - Converte o DataFrame em uma **lista de dicionários**, onde cada linha vira um documento (ex: `[{'nome': 'Ana', 'idade': 25}, ...]`).  \n",
    "     - Formato ideal para o MongoDB.  \n",
    "   - **`json.dump()`**:  \n",
    "     - Salva a lista em um arquivo (`dados_mongo.json`).  \n",
    "     - **Parâmetros**:  \n",
    "       - `ensure_ascii=False`: Preserva caracteres especiais (ex: `ç`, `ã`).  \n",
    "       - `indent=2`: Formatação legível (opcional).  \n",
    "\n",
    "3. **Resultado**:  \n",
    "   - Arquivo JSON pronto para ser importado no MongoDB via:  \n",
    "     - **MongoDB Compass** (interface gráfica).  \n",
    "     - **`mongoimport`** (comando CLI).  \n",
    "\n",
    "4. **Observações**:  \n",
    "   - Se houver um campo `_id` indesejado, remova-o antes com:  \n",
    "     ```python\n",
    "     dados_mongo = [{k: v for k, v in doc.items() if k != '_id'} for doc in dados_mongo]\n",
    "     ```  \n",
    "   - Para DataFrames grandes, use `orient='lines'` para salvar como **JSON Lines** (um documento por linha). "
   ]
  },
  {
   "cell_type": "markdown",
   "id": "41d58410-21e0-44a3-9505-cdfa714bc80c",
   "metadata": {},
   "source": [
    "### Salvando os dados em um formato compatível com o MongoDB"
   ]
  },
  {
   "cell_type": "markdown",
   "id": "20d983a5-0633-478a-b087-4fad952fe188",
   "metadata": {},
   "source": [
    "#### código"
   ]
  },
  {
   "cell_type": "code",
   "execution_count": 37,
   "id": "40c8f6b1-f4f6-48fe-be06-a59abde9578a",
   "metadata": {},
   "outputs": [
    {
     "name": "stdout",
     "output_type": "stream",
     "text": [
      "Arquivo salvo com sucesso para importação no MongoDB Atlas!\n"
     ]
    }
   ],
   "source": [
    "import json\n",
    "\n",
    "# Converter para lista de dicionários (documentos MongoDB) e remover o campo '_id' se existir\n",
    "dados_mongo = [\n",
    "    {chave: valor for chave, valor in documento.items() if chave != 'id'} \n",
    "    for documento in df_encoded.to_dict(orient='records')\n",
    "]\n",
    "\n",
    "# Salvar como JSON\n",
    "with open('dados_mongo_sem_id.json', 'w', encoding='utf-8') as f:\n",
    "    json.dump(dados_mongo, f, ensure_ascii=False, indent=2)\n",
    "\n",
    "print(\"Arquivo salvo com sucesso para importação no MongoDB Atlas!\")"
   ]
  },
  {
   "cell_type": "markdown",
   "id": "800ff6d8-6f52-47c5-a817-e96856d56f79",
   "metadata": {},
   "source": [
    "#### Explicando código"
   ]
  },
  {
   "cell_type": "markdown",
   "id": "0738b5c3-6331-4f61-9c75-8bcaaccdc3c7",
   "metadata": {},
   "source": [
    "1. **Objetivo**:  \n",
    "   Converter um DataFrame (`df_encoded`) em um arquivo JSON **sem o campo `'id'`**, pronto para importação no MongoDB Atlas.\n",
    "\n",
    "2. **Passo a Passo**:  \n",
    "   - **Conversão para dicionários**:  \n",
    "     `df_encoded.to_dict(orient='records')` transforma o DataFrame em uma lista de dicionários, onde cada linha vira um documento (ex: `[{'nome': 'Ana', 'id': 1}, ...]`).  \n",
    "   - **Remoção do campo `'id'`**:  \n",
    "     Usa uma **compreensão de lista** para filtrar cada dicionário, excluindo a chave `'id'` (ex: `{'nome': 'Ana'}`).  \n",
    "   - **Salvamento como JSON**:  \n",
    "     Grava a lista modificada no arquivo `dados_mongo_sem_id.json`, com:  \n",
    "     - `ensure_ascii=False`: preserva acentos e caracteres especiais.  \n",
    "     - `indent=2`: formatação legível.  "
   ]
  },
  {
   "cell_type": "markdown",
   "id": "49f7b214-e54e-4842-9fb5-9af6623d596a",
   "metadata": {},
   "source": [
    "### Salvando no formato do Excel\n",
    "\n",
    "Para salvar os DataFrames **`df`** e **`df_encoded`** em um mesmo arquivo Excel, cada um em uma planilha separada, você pode usar a biblioteca `pandas` com o `ExcelWriter`. "
   ]
  },
  {
   "cell_type": "markdown",
   "id": "b0aaa767-ad49-4cf2-a36b-ad7fb303fc2b",
   "metadata": {},
   "source": [
    "#### **Código**"
   ]
  },
  {
   "cell_type": "code",
   "execution_count": 38,
   "id": "067508ce-ea99-4377-a034-a658e5ef0d2b",
   "metadata": {},
   "outputs": [],
   "source": [
    "with pd.ExcelWriter('dados_completos.xlsx') as writer:\n",
    "    df.to_excel(writer, sheet_name='Dados_Originais', index=False)          \n",
    "    df_encoded.to_excel(writer, sheet_name='Dados_Codificados', index=False) "
   ]
  },
  {
   "cell_type": "markdown",
   "id": "39a7f69a-e033-4464-a66e-8ff15fd5eafc",
   "metadata": {},
   "source": [
    "#### **Explicação - Passo a Passo**"
   ]
  },
  {
   "cell_type": "markdown",
   "id": "3b77c7d2-be17-4f8e-ae17-3f2305d4872c",
   "metadata": {},
   "source": [
    "1. **`pd.ExcelWriter`**:  \n",
    "   - Cria um arquivo Excel (`dados_completos.xlsx`) para escrita.  \n",
    "   - O `with` garante que o arquivo seja fechado automaticamente após a execução.\n",
    "\n",
    "2. **`to_excel()`**:  \n",
    "   - Salva cada DataFrame em uma planilha diferente:  \n",
    "     - `df` → Planilha **\"Dados_Originais\"**.  \n",
    "     - `df_encoded` → Planilha **\"Dados_Codificados\"**.  \n",
    "   - `index=False`: Evita que o índice do DataFrame seja salvo como coluna.\n",
    "\n",
    "**Resultado**\n",
    "O arquivo `dados_completos.xlsx` terá duas planilhas:  \n",
    "- **Dados_Originais**: Contém os dados brutos (`df`).  \n",
    "- **Dados_Codificados**: Contém os dados após o `get_dummies` (`df_encoded`).  \n",
    "\n",
    "**Observações**\n",
    "\n",
    "1. **Extensões Suportadas**:  \n",
    "   - O método funciona para `.xlsx` (Excel moderno) e `.xls` (Excel 97-2003).  \n",
    "   - Para outros formatos (como CSV), será necessário salvar arquivos separados.\n",
    "\n",
    "2. **Personalização**:  \n",
    "   - Adicione parâmetros como `startrow` ou `startcol` em `to_excel()` para ajustar a posição dos dados na planilha.  \n",
    "   - Use `engine='openpyxl'` ou `engine='xlsxwriter'` para mais controle (instale essas bibliotecas com `pip` se necessário).\n",
    "\n",
    "3. **Sobrescrita**:  \n",
    "   - Se o arquivo já existir, `ExcelWriter` o sobrescreverá por padrão. Para evitar isso, use `mode='a'` (apenas se o arquivo já tiver múltiplas planilhas).\n"
   ]
  }
 ],
 "metadata": {
  "kernelspec": {
   "display_name": "Python ML (venv)",
   "language": "python",
   "name": "machine_learning"
  },
  "language_info": {
   "codemirror_mode": {
    "name": "ipython",
    "version": 3
   },
   "file_extension": ".py",
   "mimetype": "text/x-python",
   "name": "python",
   "nbconvert_exporter": "python",
   "pygments_lexer": "ipython3",
   "version": "3.10.5"
  }
 },
 "nbformat": 4,
 "nbformat_minor": 5
}
