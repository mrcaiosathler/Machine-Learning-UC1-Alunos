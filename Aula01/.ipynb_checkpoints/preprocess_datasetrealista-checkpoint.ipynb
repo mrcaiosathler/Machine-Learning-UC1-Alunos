{
 "cells": [
  {
   "cell_type": "markdown",
   "id": "659cee07-fd3f-4676-9b3f-326a93fe3d7b",
   "metadata": {},
   "source": [
    "# 1. Carregamento das bibliotecas utilizadas\n",
    "As bibliotecas abaixo serão as utilizadas para esse pré-processamento de dados de um dataset realista"
   ]
  },
  {
   "cell_type": "code",
   "execution_count": 1,
   "id": "3d78e255-6227-40b1-ab79-1372a8806ff8",
   "metadata": {},
   "outputs": [],
   "source": [
    "import pandas as pd\n",
    "import numpy as np\n",
    "from sklearn.preprocessing import StandardScaler  #A biblioteca StandardScale será usada para a normalização dos dados"
   ]
  },
  {
   "cell_type": "markdown",
   "id": "cb84d7f9-5133-4225-a9cd-9904cc8a42a2",
   "metadata": {},
   "source": [
    "# 2. Carregamento do dataset"
   ]
  },
  {
   "cell_type": "code",
   "execution_count": 5,
   "id": "80d581dd-4d87-4996-be35-436f6bc0b9a6",
   "metadata": {},
   "outputs": [],
   "source": [
    "#Carregamento do dataset gerado pelo script gerador de datasets \"realistas\"\n",
    "df = pd.read_csv(\"datasets-codigo/dataset_feedback_realista.csv\")"
   ]
  },
  {
   "cell_type": "markdown",
   "id": "90c76622-ac35-4842-9a57-98ef7daceb73",
   "metadata": {},
   "source": [
    "# 3. Informações do Dataset"
   ]
  },
  {
   "cell_type": "markdown",
   "id": "b8e1b9af-cdad-4a76-8c49-655c2b0c6061",
   "metadata": {},
   "source": [
    "## 3.1 - Informações Gerais"
   ]
  },
  {
   "cell_type": "code",
   "execution_count": 6,
   "id": "1403e0e2-6712-4a87-9017-c9b84b837bf1",
   "metadata": {},
   "outputs": [
    {
     "name": "stdout",
     "output_type": "stream",
     "text": [
      "### Informações gerais do Dataset ###\n",
      "\n",
      "<class 'pandas.core.frame.DataFrame'>\n",
      "RangeIndex: 100 entries, 0 to 99\n",
      "Data columns (total 7 columns):\n",
      " #   Column     Non-Null Count  Dtype  \n",
      "---  ------     --------------  -----  \n",
      " 0   id         100 non-null    int64  \n",
      " 1   idade      94 non-null     float64\n",
      " 2   renda      95 non-null     float64\n",
      " 3   cidade     99 non-null     object \n",
      " 4   categoria  100 non-null    object \n",
      " 5   nota       96 non-null     float64\n",
      " 6   feedback   100 non-null    object \n",
      "dtypes: float64(3), int64(1), object(3)\n",
      "memory usage: 5.6+ KB\n"
     ]
    }
   ],
   "source": [
    "#Lista das informações gerais do dataset\n",
    "print(\"### Informações gerais do Dataset ###\\n\")\n",
    "df.info()"
   ]
  },
  {
   "cell_type": "markdown",
   "id": "0fc42866-ed17-45d0-a7b7-07762f98c6bb",
   "metadata": {},
   "source": [
    "## 3.2 - Informações Estatísticas Básicas"
   ]
  },
  {
   "cell_type": "code",
   "execution_count": 9,
   "id": "ead49579-7dac-4f8e-8f50-b4161e52d86b",
   "metadata": {},
   "outputs": [
    {
     "name": "stdout",
     "output_type": "stream",
     "text": [
      "\n",
      "### Descrição estatística ###\n",
      "\n",
      "                id      idade         renda    cidade categoria       nota  \\\n",
      "count   100.000000  94.000000     95.000000        99       100  96.000000   \n",
      "unique         NaN        NaN           NaN        20         2        NaN   \n",
      "top            NaN        NaN           NaN  Salvador         A        NaN   \n",
      "freq           NaN        NaN           NaN        10        53        NaN   \n",
      "mean    150.500000  43.180851   7513.205368       NaN       NaN   5.107292   \n",
      "std      29.011492  16.018110   3944.807566       NaN       NaN   2.798956   \n",
      "min     101.000000  16.000000   1636.450000       NaN       NaN   0.000000   \n",
      "25%     125.750000  29.000000   3940.745000       NaN       NaN   2.975000   \n",
      "50%     150.500000  44.500000   6405.840000       NaN       NaN   4.850000   \n",
      "75%     175.250000  57.750000  11203.125000       NaN       NaN   7.700000   \n",
      "max     200.000000  70.000000  15381.450000       NaN       NaN  10.000000   \n",
      "\n",
      "       feedback  \n",
      "count       100  \n",
      "unique        3  \n",
      "top        Ruim  \n",
      "freq         48  \n",
      "mean        NaN  \n",
      "std         NaN  \n",
      "min         NaN  \n",
      "25%         NaN  \n",
      "50%         NaN  \n",
      "75%         NaN  \n",
      "max         NaN  \n"
     ]
    }
   ],
   "source": [
    "print(\"\\n### Descrição estatística ###\\n\")\n",
    "print(df.describe(include='all'))"
   ]
  },
  {
   "cell_type": "markdown",
   "id": "c2d99b04-5614-42f2-acf6-9435c87205db",
   "metadata": {},
   "source": [
    "### 3.2.1 - Verificando os valores ausentes"
   ]
  },
  {
   "cell_type": "code",
   "execution_count": 11,
   "id": "c73aad69-ffdd-47a1-8267-b75392c7cb29",
   "metadata": {},
   "outputs": [
    {
     "name": "stdout",
     "output_type": "stream",
     "text": [
      "\n",
      "### Contagem de valores ausentes ###\n",
      "\n",
      "id           0\n",
      "idade        6\n",
      "renda        5\n",
      "cidade       1\n",
      "categoria    0\n",
      "nota         4\n",
      "feedback     0\n",
      "dtype: int64\n"
     ]
    }
   ],
   "source": [
    "print(\"\\n### Contagem de valores ausentes ###\\n\")\n",
    "print(df.isnull().sum())"
   ]
  },
  {
   "cell_type": "markdown",
   "id": "1c7951b1-3025-43dc-b192-9a9c8cc9b5d1",
   "metadata": {},
   "source": [
    "### 3.2.2 - Tratamento dos valores ausentes\n",
    "Foi escolhido o tratamento dos valores ausentes no dataset através dos seguintes métodos:\n",
    "\n",
    "* Coluna ['cidade'] - preenchimento com \"Desconhecido\"\n",
    "* Colunas ['idade'] e ['nota'] - preenchimento com a mediana, para evitar o desperdício dos dados e também não causar distorção nas análises\n",
    "* Coluna ['renda'] - preenchimento com a média pelo mesmo motivo das duas colunas anteriores"
   ]
  },
  {
   "cell_type": "code",
   "execution_count": 21,
   "id": "367231b7-77d1-4353-841d-cafe95f76c92",
   "metadata": {},
   "outputs": [
    {
     "name": "stdout",
     "output_type": "stream",
     "text": [
      "\n",
      "=== Análise da coluna idade ===\n",
      "Média: 43.26\n",
      "Mediana: 44.50\n",
      "Desvio Padrão: 15.5283\n",
      "Variância: 241.1287\n",
      "Valor Mínimo: 16.00\n",
      "Valor Máximo: 70.00\n",
      "\n",
      "Medidas de Posição:\n",
      "Q1 (25%): 29.00\n",
      "Q2/Mediana (50%): 44.50\n",
      "Q3 (75%): 56.25\n",
      "IQR: 27.25\n",
      "\n",
      "Limites\n",
      "Limite Inferior: -11.88\n",
      "Limite Superior: 97.12\n"
     ]
    }
   ],
   "source": [
    "#Criação de função para cálculo da análise descritiva completa da coluna idade\n",
    "def analise_descritiva(df):\n",
    "    dados = df['idade']\n",
    "\n",
    "    print(f'\\n=== Análise da coluna idade ===')\n",
    "    print(f'Média: {dados.mean():.2f}')\n",
    "    print(f'Mediana: {dados.median():.2f}')\n",
    "    print(f'Desvio Padrão: {dados.std():.4f}')\n",
    "    print(f'Variância: {dados.var():.4f}')\n",
    "    print(f'Valor Mínimo: {dados.min():.2f}')\n",
    "    print(f'Valor Máximo: {dados.max():.2f}')\n",
    "\n",
    "    #Preenchimento dos valores NaN com a mediana\n",
    "    dados = dados.fillna(dados.median())\n",
    "    \n",
    "    q1, q2, q3 = np.percentile(dados, [25, 50, 75])\n",
    "    iqr = q3 - q1\n",
    "    limite_inf = q1 - 1.5 * iqr\n",
    "    limite_sup = q3 + 1.5 * iqr\n",
    "\n",
    "    print('\\nMedidas de Posição:')\n",
    "    print(f'Q1 (25%): {q1:.2f}')\n",
    "    print(f'Q2/Mediana (50%): {q2:.2f}')\n",
    "    print(f'Q3 (75%): {q3:.2f}')\n",
    "    print(f'IQR: {iqr:.2f}')\n",
    "\n",
    "    print('\\nLimites')\n",
    "    print(f'Limite Inferior: {limite_inf:.2f}')\n",
    "    print(f'Limite Superior: {limite_sup:.2f}')\n",
    "\n",
    "# Chamando a função para analisar a idade\n",
    "analise_descritiva(df)"
   ]
  },
  {
   "cell_type": "code",
   "execution_count": 22,
   "id": "19646dab-83f0-4a29-b249-7f294604592d",
   "metadata": {},
   "outputs": [
    {
     "name": "stdout",
     "output_type": "stream",
     "text": [
      "\n",
      "=== Análise da coluna nota ===\n",
      "Média: 5.11\n",
      "Mediana: 4.85\n",
      "Desvio Padrão: 2.7990\n",
      "Variância: 7.8342\n",
      "Valor Mínimo: 0.00\n",
      "Valor Máximo: 10.00\n",
      "\n",
      "Medidas de Posição:\n",
      "Q1 (25%): 3.08\n",
      "Q2/Mediana (50%): 4.85\n",
      "Q3 (75%): 7.55\n",
      "IQR: 4.47\n",
      "\n",
      "Limites\n",
      "Limite Inferior: -3.64\n",
      "Limite Superior: 14.26\n"
     ]
    }
   ],
   "source": [
    "#Criação de função para cálculo da análise descritiva completa da coluna nota\n",
    "def analise_descritiva(df):\n",
    "    dados = df['nota']\n",
    "\n",
    "    print(f'\\n=== Análise da coluna nota ===')\n",
    "    print(f'Média: {dados.mean():.2f}')\n",
    "    print(f'Mediana: {dados.median():.2f}')\n",
    "    print(f'Desvio Padrão: {dados.std():.4f}')\n",
    "    print(f'Variância: {dados.var():.4f}')\n",
    "    print(f'Valor Mínimo: {dados.min():.2f}')\n",
    "    print(f'Valor Máximo: {dados.max():.2f}')\n",
    "\n",
    "    #Preenchimento dos valores NaN com a mediana\n",
    "    dados = dados.fillna(dados.median())\n",
    "    \n",
    "    q1, q2, q3 = np.percentile(dados, [25, 50, 75])\n",
    "    iqr = q3 - q1\n",
    "    limite_inf = q1 - 1.5 * iqr\n",
    "    limite_sup = q3 + 1.5 * iqr\n",
    "\n",
    "    print('\\nMedidas de Posição:')\n",
    "    print(f'Q1 (25%): {q1:.2f}')\n",
    "    print(f'Q2/Mediana (50%): {q2:.2f}')\n",
    "    print(f'Q3 (75%): {q3:.2f}')\n",
    "    print(f'IQR: {iqr:.2f}')\n",
    "\n",
    "    print('\\nLimites')\n",
    "    print(f'Limite Inferior: {limite_inf:.2f}')\n",
    "    print(f'Limite Superior: {limite_sup:.2f}')\n",
    "\n",
    "# Chamando a função para analisar a idade\n",
    "analise_descritiva(df)"
   ]
  }
 ],
 "metadata": {
  "kernelspec": {
   "display_name": "Python 3 (ipykernel)",
   "language": "python",
   "name": "python3"
  },
  "language_info": {
   "codemirror_mode": {
    "name": "ipython",
    "version": 3
   },
   "file_extension": ".py",
   "mimetype": "text/x-python",
   "name": "python",
   "nbconvert_exporter": "python",
   "pygments_lexer": "ipython3",
   "version": "3.10.5"
  }
 },
 "nbformat": 4,
 "nbformat_minor": 5
}
