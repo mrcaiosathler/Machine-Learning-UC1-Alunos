{
 "cells": [
  {
   "cell_type": "markdown",
   "id": "c583f2b4-6195-4bac-884b-e1843f4f7ebc",
   "metadata": {},
   "source": [
    "# Previsão de Séries Temporais"
   ]
  },
  {
   "cell_type": "markdown",
   "id": "a0d69757-d535-44f5-baaa-4e1611cc4c2a",
   "metadata": {},
   "source": [
    "Séries temporais são conjuntos de dados organizados cronologicamente, comum em finanças, vendas, clima, entre outros. O objetivo da previsão é estimar valores futuros com base em padrões históricos.\n",
    "\n",
    "Nesta aula, vamos explorar os fundamentos da biblioteca **Prophet**, uma ferramenta desenvolvida pelo Facebook para **previsão de séries** temporais. \n",
    "\n",
    "Utilizaremos um exemplo prático para demonstrar como preparar dados, treinar um modelo, gerar previsões e interpretar os resultados. \n",
    "\n",
    "O objetivo é que, ao final, seja possivel compreender cada etapa do processo e possamos aplicá-lo em nossos próprios projetos."
   ]
  },
  {
   "cell_type": "markdown",
   "id": "238283ea-07ec-49e5-bf10-7039d181ffe7",
   "metadata": {},
   "source": [
    "## 1. O que é o Prophet?"
   ]
  },
  {
   "cell_type": "markdown",
   "id": "c162446e-6eda-4f0e-9375-e35bd39f541d",
   "metadata": {},
   "source": [
    "O **Prophet** é uma biblioteca open-source projetada para *facilitar a previsão de séries temporais*. Ela é especialmente útil para dados que apresentam:\n",
    "- **Tendências** (crescimento ou decréscimo ao longo do tempo),\n",
    "- **Sazonalidades** (padrões que se repetem em intervalos regulares),\n",
    "- **Eventos especiais** (como feriados).\n",
    "\n",
    "O Prophet é simples de usar, **lida bem com dados ausentes e outliers**, e não exige um conhecimento avançado de estatística para gerar bons resultados. "
   ]
  },
  {
   "cell_type": "markdown",
   "id": "f8072ab4-271c-43ad-9414-a5bed909caaa",
   "metadata": {},
   "source": [
    "## 2. Preparação dos Dados"
   ]
  },
  {
   "cell_type": "markdown",
   "id": "48ba3e77-935e-40d7-aa5b-07974d630f09",
   "metadata": {},
   "source": [
    "Antes de usar o `Prophet`, precisamos organizar os dados no formato que ele espera: um **DataFrame** do Pandas com **duas colunas**:\n",
    "- **Colunas obrigatórias:** \n",
    "  - `ds`: Data no formato datetime\n",
    "  - `y`: Valor métrico a ser previsto\n",
    "- **Frequência (`freq='D'`)**: Indica que os dados são diários (Daily)\n",
    "  "
   ]
  },
  {
   "cell_type": "code",
   "execution_count": 1,
   "id": "1e7b28dc-fc6f-476a-8463-8a35466b6ef0",
   "metadata": {},
   "outputs": [
    {
     "name": "stdout",
     "output_type": "stream",
     "text": [
      "\n",
      "\n",
      " Dados: \n",
      "\n",
      "\t{'ds': DatetimeIndex(['2023-01-01', '2023-01-02', '2023-01-03', '2023-01-04',\n",
      "               '2023-01-05', '2023-01-06', '2023-01-07', '2023-01-08',\n",
      "               '2023-01-09', '2023-01-10'],\n",
      "              dtype='datetime64[ns]', freq='D'), 'y': [10, 12, 9, 14, 13, 15, 20, 22, 18, 25]} \n",
      "\n",
      "\n",
      "\n",
      "Dataset \n",
      "\n",
      "\n",
      "<class 'pandas.core.frame.DataFrame'>\n",
      "RangeIndex: 10 entries, 0 to 9\n",
      "Data columns (total 2 columns):\n",
      " #   Column  Non-Null Count  Dtype         \n",
      "---  ------  --------------  -----         \n",
      " 0   ds      10 non-null     datetime64[ns]\n",
      " 1   y       10 non-null     int64         \n",
      "dtypes: datetime64[ns](1), int64(1)\n",
      "memory usage: 292.0 bytes\n"
     ]
    }
   ],
   "source": [
    "import pandas as pd\n",
    "\n",
    "# Dados de exemplo\n",
    "data = {\n",
    "    'ds': pd.date_range(start='2023-01-01', periods=10, freq='D'),  # 10 dias consecutivos\n",
    "    'y': [10, 12, 9, 14, 13, 15, 20, 22, 18, 25]  # valores fictícios\n",
    "}\n",
    "\n",
    "print(f\"\\n\\n Dados: \\n\\n\\t{data} \\n\\n\")\n",
    "\n",
    "df = pd.DataFrame(data)\n",
    "\n",
    "\n",
    "print(f\"\\nDataset \\n\\n\")\n",
    "df.info()"
   ]
  },
  {
   "cell_type": "markdown",
   "id": "10833047-11fb-4f8f-85cf-db63e9e0db2b",
   "metadata": {},
   "source": [
    "### Explicação:"
   ]
  },
  {
   "cell_type": "markdown",
   "id": "a96bb349-f494-44e9-ab1c-abddc06ba6ab",
   "metadata": {},
   "source": [
    "- **`pd.date_range`**: Gera uma sequência de 10 datas diárias começando em 1º de janeiro de 2023. O parâmetro `freq='D'` indica que as datas são diárias.\n",
    "- **`y`**: Representa os valores que queremos modelar e prever. Aqui, usamos uma lista simples com 10 números que simulam uma série temporal.\n",
    "- **`pd.DataFrame`**: Converte o dicionário em um DataFrame com as colunas `ds` e `y`.\n",
    "\n",
    "Esse é o ponto de partida. Em um caso real, você poderia carregar dados de um arquivo CSV, por exemplo, desde que respeite esse formato."
   ]
  },
  {
   "cell_type": "markdown",
   "id": "5e970690-da0d-4ad9-8d62-e41a94493070",
   "metadata": {},
   "source": [
    "## 3. Instanciação e Treinamento do Modelo"
   ]
  },
  {
   "cell_type": "markdown",
   "id": "b1864ef9-dd73-4ff4-ba11-f1b407216388",
   "metadata": {},
   "source": [
    "Agora que temos os dados prontos, vamos criar e treinar o modelo Prophet."
   ]
  },
  {
   "cell_type": "markdown",
   "id": "774a1b99-ffeb-40f8-88ec-382a7f27d37b",
   "metadata": {},
   "source": [
    "### 🔖 Instanciar o Modelo"
   ]
  },
  {
   "cell_type": "code",
   "execution_count": 2,
   "id": "f0d15067-5e53-4b26-ab1f-f28889be6564",
   "metadata": {},
   "outputs": [
    {
     "name": "stderr",
     "output_type": "stream",
     "text": [
      "d:\\_python\\mlEnv\\Lib\\site-packages\\tqdm\\auto.py:21: TqdmWarning: IProgress not found. Please update jupyter and ipywidgets. See https://ipywidgets.readthedocs.io/en/stable/user_install.html\n",
      "  from .autonotebook import tqdm as notebook_tqdm\n"
     ]
    }
   ],
   "source": [
    "# Carregando a biblioca/modulos\n",
    "from prophet import Prophet\n",
    "\n",
    "# Criar uma instância do modelo\n",
    "model = Prophet()"
   ]
  },
  {
   "cell_type": "markdown",
   "id": "634c0e7f-57aa-4792-9778-ecde5cba0a27",
   "metadata": {},
   "source": [
    "#### Explicação:"
   ]
  },
  {
   "cell_type": "markdown",
   "id": "eb3b1574-f0d0-48d7-ab51-9d372e5cae0a",
   "metadata": {},
   "source": [
    "- **`from prophet import Prophet`**: \n",
    "    - Importa a biblioteca Prophet.\n",
    "- **`model = Prophet()`**: \n",
    "    - Cria uma instância básica do modelo. \n",
    "    - Por padrão, o Prophet já está configurado para detectar tendências e sazonalidades automaticamente. \n",
    "    - Podemos personalizá-lo com parâmetros adicionais (como sazonalidade semanal ou feriados), mas aqui usamos a configuração padrão."
   ]
  },
  {
   "cell_type": "markdown",
   "id": "fbbb0461-c911-42fe-be1d-81fb7b44c652",
   "metadata": {},
   "source": [
    "### 🔖Treinar o Modelo"
   ]
  },
  {
   "cell_type": "code",
   "execution_count": 3,
   "id": "4ab5a1a5-b00d-4a03-84e9-3be432c4faca",
   "metadata": {},
   "outputs": [
    {
     "name": "stderr",
     "output_type": "stream",
     "text": [
      "11:31:36 - cmdstanpy - INFO - Chain [1] start processing\n",
      "11:31:38 - cmdstanpy - INFO - Chain [1] done processing\n"
     ]
    },
    {
     "data": {
      "text/plain": [
       "<prophet.forecaster.Prophet at 0x14ca1f8bcb0>"
      ]
     },
     "execution_count": 3,
     "metadata": {},
     "output_type": "execute_result"
    }
   ],
   "source": [
    "model.fit(df)"
   ]
  },
  {
   "cell_type": "markdown",
   "id": "f8e4014d-9d4e-4040-87ef-5afb1f9d97bc",
   "metadata": {},
   "source": [
    "#### Explicação:"
   ]
  },
  {
   "cell_type": "markdown",
   "id": "6d65b04f-448a-4c26-9086-21049e73fd9c",
   "metadata": {},
   "source": [
    "- **`model.fit(df)`**: Treina o modelo com os dados do DataFrame `df`. Durante esse processo, o Prophet analisa a série temporal, identifica padrões (como tendências lineares ou sazonalidades) e ajusta seus parâmetros internos. O treinamento é rápido para conjuntos de dados pequenos como este.\n",
    "\n",
    "- O Prophet cria automaticamente componentes:\n",
    "  - **Tendência (trend):** Padrão de crescimento/decrescimento\n",
    "  - **Sazonalidade anual:** Padrões repetidos ao longo do ano\n",
    "  - **Sazonalidade semanal:** Padrões repetidos por semana\n",
    "  - **Efeitos de feriados:** Se especificados"
   ]
  },
  {
   "cell_type": "markdown",
   "id": "3c763ae5-9da1-44ee-9676-f951345777c3",
   "metadata": {},
   "source": [
    "## 4. Geração de Previsões"
   ]
  },
  {
   "cell_type": "markdown",
   "id": "0664c670-3286-494e-94c1-9969f00de76f",
   "metadata": {},
   "source": [
    "Com o modelo treinado, podemos prever valores futuros. Isso envolve **duas etapas**: \n",
    "1. criar um conjunto de datas futuras e \n",
    "2. gerar as previsões."
   ]
  },
  {
   "cell_type": "markdown",
   "id": "03c73a03-9487-457d-a6f2-be92dd58ccf1",
   "metadata": {},
   "source": [
    "### 🔖 Criar um DataFrame Futuro"
   ]
  },
  {
   "cell_type": "markdown",
   "id": "59bb13b1",
   "metadata": {},
   "source": [
    "- Estamos criando um dataset com 5 datas furutas"
   ]
  },
  {
   "cell_type": "code",
   "execution_count": 7,
   "id": "ac725902-2f98-4b78-bfe3-f6ff78a483a1",
   "metadata": {},
   "outputs": [
    {
     "name": "stdout",
     "output_type": "stream",
     "text": [
      "<class 'pandas.core.frame.DataFrame'>\n",
      "RangeIndex: 15 entries, 0 to 14\n",
      "Data columns (total 1 columns):\n",
      " #   Column  Non-Null Count  Dtype         \n",
      "---  ------  --------------  -----         \n",
      " 0   ds      15 non-null     datetime64[ns]\n",
      "dtypes: datetime64[ns](1)\n",
      "memory usage: 252.0 bytes\n"
     ]
    },
    {
     "data": {
      "text/html": [
       "<div>\n",
       "<style scoped>\n",
       "    .dataframe tbody tr th:only-of-type {\n",
       "        vertical-align: middle;\n",
       "    }\n",
       "\n",
       "    .dataframe tbody tr th {\n",
       "        vertical-align: top;\n",
       "    }\n",
       "\n",
       "    .dataframe thead th {\n",
       "        text-align: right;\n",
       "    }\n",
       "</style>\n",
       "<table border=\"1\" class=\"dataframe\">\n",
       "  <thead>\n",
       "    <tr style=\"text-align: right;\">\n",
       "      <th></th>\n",
       "      <th>ds</th>\n",
       "    </tr>\n",
       "  </thead>\n",
       "  <tbody>\n",
       "    <tr>\n",
       "      <th>10</th>\n",
       "      <td>2023-01-11</td>\n",
       "    </tr>\n",
       "    <tr>\n",
       "      <th>11</th>\n",
       "      <td>2023-01-12</td>\n",
       "    </tr>\n",
       "    <tr>\n",
       "      <th>12</th>\n",
       "      <td>2023-01-13</td>\n",
       "    </tr>\n",
       "    <tr>\n",
       "      <th>13</th>\n",
       "      <td>2023-01-14</td>\n",
       "    </tr>\n",
       "    <tr>\n",
       "      <th>14</th>\n",
       "      <td>2023-01-15</td>\n",
       "    </tr>\n",
       "  </tbody>\n",
       "</table>\n",
       "</div>"
      ],
      "text/plain": [
       "           ds\n",
       "10 2023-01-11\n",
       "11 2023-01-12\n",
       "12 2023-01-13\n",
       "13 2023-01-14\n",
       "14 2023-01-15"
      ]
     },
     "execution_count": 7,
     "metadata": {},
     "output_type": "execute_result"
    }
   ],
   "source": [
    "# Criar datas futuras (5 dias a mais)\n",
    "future = model.make_future_dataframe(periods=5)\n",
    "\n",
    "future.info()\n",
    "\n",
    "future.tail(5)"
   ]
  },
  {
   "cell_type": "markdown",
   "id": "3391cb7b-a2ce-4c60-a61d-aa565b6792c9",
   "metadata": {},
   "source": [
    "#### Explicação:"
   ]
  },
  {
   "cell_type": "markdown",
   "id": "848d729e-9daf-418f-ad4b-a9dda2a50c15",
   "metadata": {},
   "source": [
    "- **`make_future_dataframe(periods=5)`**: Gera um DataFrame com todas as datas originais (os 10 dias de `df`) mais 5 dias adicionais no futuro. O resultado é um DataFrame com 15 linhas, contendo apenas a coluna `ds` preenchida com datas até 15 de janeiro de 2023."
   ]
  },
  {
   "cell_type": "markdown",
   "id": "b0ad6db4-a1cb-4c69-b007-6fa8114aa8dc",
   "metadata": {},
   "source": [
    "### 🔖 Fazer Previsões"
   ]
  },
  {
   "cell_type": "code",
   "execution_count": 10,
   "id": "5326d897-7f9a-49cd-813c-20efaeb55836",
   "metadata": {},
   "outputs": [
    {
     "name": "stdout",
     "output_type": "stream",
     "text": [
      "<class 'pandas.core.frame.DataFrame'>\n",
      "RangeIndex: 15 entries, 0 to 14\n",
      "Data columns (total 13 columns):\n",
      " #   Column                      Non-Null Count  Dtype         \n",
      "---  ------                      --------------  -----         \n",
      " 0   ds                          15 non-null     datetime64[ns]\n",
      " 1   trend                       15 non-null     float64       \n",
      " 2   yhat_lower                  15 non-null     float64       \n",
      " 3   yhat_upper                  15 non-null     float64       \n",
      " 4   trend_lower                 15 non-null     float64       \n",
      " 5   trend_upper                 15 non-null     float64       \n",
      " 6   additive_terms              15 non-null     float64       \n",
      " 7   additive_terms_lower        15 non-null     float64       \n",
      " 8   additive_terms_upper        15 non-null     float64       \n",
      " 9   multiplicative_terms        15 non-null     float64       \n",
      " 10  multiplicative_terms_lower  15 non-null     float64       \n",
      " 11  multiplicative_terms_upper  15 non-null     float64       \n",
      " 12  yhat                        15 non-null     float64       \n",
      "dtypes: datetime64[ns](1), float64(12)\n",
      "memory usage: 1.7 KB\n"
     ]
    },
    {
     "data": {
      "text/html": [
       "<div>\n",
       "<style scoped>\n",
       "    .dataframe tbody tr th:only-of-type {\n",
       "        vertical-align: middle;\n",
       "    }\n",
       "\n",
       "    .dataframe tbody tr th {\n",
       "        vertical-align: top;\n",
       "    }\n",
       "\n",
       "    .dataframe thead th {\n",
       "        text-align: right;\n",
       "    }\n",
       "</style>\n",
       "<table border=\"1\" class=\"dataframe\">\n",
       "  <thead>\n",
       "    <tr style=\"text-align: right;\">\n",
       "      <th></th>\n",
       "      <th>ds</th>\n",
       "      <th>trend</th>\n",
       "      <th>yhat_lower</th>\n",
       "      <th>yhat_upper</th>\n",
       "      <th>trend_lower</th>\n",
       "      <th>trend_upper</th>\n",
       "      <th>additive_terms</th>\n",
       "      <th>additive_terms_lower</th>\n",
       "      <th>additive_terms_upper</th>\n",
       "      <th>multiplicative_terms</th>\n",
       "      <th>multiplicative_terms_lower</th>\n",
       "      <th>multiplicative_terms_upper</th>\n",
       "      <th>yhat</th>\n",
       "    </tr>\n",
       "  </thead>\n",
       "  <tbody>\n",
       "    <tr>\n",
       "      <th>0</th>\n",
       "      <td>2023-01-01</td>\n",
       "      <td>8.655275</td>\n",
       "      <td>5.942787</td>\n",
       "      <td>11.187321</td>\n",
       "      <td>8.655275</td>\n",
       "      <td>8.655275</td>\n",
       "      <td>0.0</td>\n",
       "      <td>0.0</td>\n",
       "      <td>0.0</td>\n",
       "      <td>0.0</td>\n",
       "      <td>0.0</td>\n",
       "      <td>0.0</td>\n",
       "      <td>8.655275</td>\n",
       "    </tr>\n",
       "    <tr>\n",
       "      <th>1</th>\n",
       "      <td>2023-01-02</td>\n",
       "      <td>10.242839</td>\n",
       "      <td>7.490584</td>\n",
       "      <td>12.920699</td>\n",
       "      <td>10.242839</td>\n",
       "      <td>10.242839</td>\n",
       "      <td>0.0</td>\n",
       "      <td>0.0</td>\n",
       "      <td>0.0</td>\n",
       "      <td>0.0</td>\n",
       "      <td>0.0</td>\n",
       "      <td>0.0</td>\n",
       "      <td>10.242839</td>\n",
       "    </tr>\n",
       "    <tr>\n",
       "      <th>2</th>\n",
       "      <td>2023-01-03</td>\n",
       "      <td>11.830403</td>\n",
       "      <td>9.156444</td>\n",
       "      <td>14.481099</td>\n",
       "      <td>11.830403</td>\n",
       "      <td>11.830403</td>\n",
       "      <td>0.0</td>\n",
       "      <td>0.0</td>\n",
       "      <td>0.0</td>\n",
       "      <td>0.0</td>\n",
       "      <td>0.0</td>\n",
       "      <td>0.0</td>\n",
       "      <td>11.830403</td>\n",
       "    </tr>\n",
       "    <tr>\n",
       "      <th>3</th>\n",
       "      <td>2023-01-04</td>\n",
       "      <td>13.417967</td>\n",
       "      <td>10.671584</td>\n",
       "      <td>16.204483</td>\n",
       "      <td>13.417967</td>\n",
       "      <td>13.417967</td>\n",
       "      <td>0.0</td>\n",
       "      <td>0.0</td>\n",
       "      <td>0.0</td>\n",
       "      <td>0.0</td>\n",
       "      <td>0.0</td>\n",
       "      <td>0.0</td>\n",
       "      <td>13.417967</td>\n",
       "    </tr>\n",
       "    <tr>\n",
       "      <th>4</th>\n",
       "      <td>2023-01-05</td>\n",
       "      <td>15.005531</td>\n",
       "      <td>12.364049</td>\n",
       "      <td>17.652894</td>\n",
       "      <td>15.005531</td>\n",
       "      <td>15.005531</td>\n",
       "      <td>0.0</td>\n",
       "      <td>0.0</td>\n",
       "      <td>0.0</td>\n",
       "      <td>0.0</td>\n",
       "      <td>0.0</td>\n",
       "      <td>0.0</td>\n",
       "      <td>15.005531</td>\n",
       "    </tr>\n",
       "  </tbody>\n",
       "</table>\n",
       "</div>"
      ],
      "text/plain": [
       "          ds      trend  yhat_lower  yhat_upper  trend_lower  trend_upper  \\\n",
       "0 2023-01-01   8.655275    5.942787   11.187321     8.655275     8.655275   \n",
       "1 2023-01-02  10.242839    7.490584   12.920699    10.242839    10.242839   \n",
       "2 2023-01-03  11.830403    9.156444   14.481099    11.830403    11.830403   \n",
       "3 2023-01-04  13.417967   10.671584   16.204483    13.417967    13.417967   \n",
       "4 2023-01-05  15.005531   12.364049   17.652894    15.005531    15.005531   \n",
       "\n",
       "   additive_terms  additive_terms_lower  additive_terms_upper  \\\n",
       "0             0.0                   0.0                   0.0   \n",
       "1             0.0                   0.0                   0.0   \n",
       "2             0.0                   0.0                   0.0   \n",
       "3             0.0                   0.0                   0.0   \n",
       "4             0.0                   0.0                   0.0   \n",
       "\n",
       "   multiplicative_terms  multiplicative_terms_lower  \\\n",
       "0                   0.0                         0.0   \n",
       "1                   0.0                         0.0   \n",
       "2                   0.0                         0.0   \n",
       "3                   0.0                         0.0   \n",
       "4                   0.0                         0.0   \n",
       "\n",
       "   multiplicative_terms_upper       yhat  \n",
       "0                         0.0   8.655275  \n",
       "1                         0.0  10.242839  \n",
       "2                         0.0  11.830403  \n",
       "3                         0.0  13.417967  \n",
       "4                         0.0  15.005531  "
      ]
     },
     "execution_count": 10,
     "metadata": {},
     "output_type": "execute_result"
    }
   ],
   "source": [
    "# Gerar previsões\n",
    "forecast = model.predict(future)\n",
    "\n",
    "forecast.info ()\n",
    "\n",
    "forecast.head ()"
   ]
  },
  {
   "cell_type": "markdown",
   "id": "c67d0cca-b1a0-462a-aced-275c734f3810",
   "metadata": {},
   "source": [
    "#### Explicação:"
   ]
  },
  {
   "cell_type": "markdown",
   "id": "554d0499-b86c-40ef-9cab-7b46ea74851b",
   "metadata": {},
   "source": [
    "O comando `forecast = model.predict(future)` é responsável por gerar as previsões do modelo Prophet com base no dataframe `future`, que contém as datas futuras desejadas. \n",
    "Esse método utiliza o modelo já treinado (`model.fit(df)`) para estimar os valores da série temporal nas datas que vão além do período dos dados históricos. \n",
    "O resultado esperado é um novo DataFrame chamado `forecast`, que contém diversas colunas, incluindo as datas (`ds`), as previsões pontuais (`yhat`), bem como os intervalos de confiança inferior e superior (`yhat_lower` e `yhat_upper`), permitindo não apenas obter uma estimativa futura, mas também avaliar a incerteza associada a essa previsão.\n",
    "\n",
    "- **`model.predict(future)`**: \n",
    "  - Usa o modelo treinado para calcular previsões para todas as datas em `future`. \n",
    "  - O resultado, armazenado em `forecast`, é um novo DataFrame com várias colunas, incluindo:\n",
    "    - **`ds`**: As datas (passadas e futuras).\n",
    "    - **`yhat`**: A previsão pontual para cada data.\n",
    "    - **`yhat_lower`**: O limite inferior do intervalo de confiança.\n",
    "    - **`yhat_upper`**: O limite superior do intervalo de confiança.\n",
    "\n",
    "Esses intervalos de confiança indicam a incerteza da previsão: o valor real provavelmente estará entre `yhat_lower` e `yhat_upper`.\n",
    "\n",
    "Abaixo temos uma tabela que descreve as principais colunas do DataFrame `forecast` gerado pelo comando `forecast = model.predict(future)`:\n",
    "\n",
    "| Coluna             | Descrição                                                                 |\n",
    "|--------------------|---------------------------------------------------------------------------|\n",
    "| `ds`               | Data ou timestamp da previsão (formato datetime).                         |\n",
    "| `yhat`             | Valor previsto para a data `ds`. É a estimativa média da série temporal.  |\n",
    "| `yhat_lower`       | Limite inferior do intervalo de confiança para a previsão.                |\n",
    "| `yhat_upper`       | Limite superior do intervalo de confiança para a previsão.                |\n",
    "| `trend`            | Componente de tendência ajustada pelo modelo.                             |\n",
    "| `trend_lower`      | Limite inferior da tendência.                                             |\n",
    "| `trend_upper`      | Limite superior da tendência.                                             |\n",
    "| `yearly`           | Efeito sazonal anual estimado pelo modelo (presente se houver sazonalidade anual). |\n",
    "| `yearly_lower`     | Limite inferior do efeito sazonal anual.                                  |\n",
    "| `yearly_upper`     | Limite superior do efeito sazonal anual.                                  |\n",
    "| `weekly`           | Efeito sazonal semanal estimado (presente se houver sazonalidade semanal).|\n",
    "| `weekly_lower`     | Limite inferior do efeito sazonal semanal.                                |\n",
    "| `weekly_upper`     | Limite superior do efeito sazonal semanal.                                |\n",
    "| `additive_terms`   | Soma dos termos sazonais e outros componentes adicionais.                 |\n",
    "| `multiplicative_terms` | Termos multiplicativos (usados quando há componente sazonal multiplicativa). |\n",
    "\n",
    "\n",
    "\n",
    "\n",
    "📌 **Nota:** Nem todas essas colunas aparecerão simultaneamente caso alguns componentes no modelo  (como sazonalidades) estejam desativados. As colunas exibidas dependem das configurações usadas ao criar o objeto `Prophet()`."
   ]
  },
  {
   "cell_type": "markdown",
   "id": "242007c4-a512-4b0b-bc31-8dabd74b0997",
   "metadata": {},
   "source": [
    "## 5. Análise das Previsões"
   ]
  },
  {
   "cell_type": "markdown",
   "id": "f38a6e74-6975-49ca-968d-3007ab157293",
   "metadata": {},
   "source": [
    "Vamos visualizar e interpretar os resultados."
   ]
  },
  {
   "cell_type": "markdown",
   "id": "db243ce9-9e91-4a30-988a-b0390d65cb99",
   "metadata": {},
   "source": [
    "### 🔖 Exibir as Previsões"
   ]
  },
  {
   "cell_type": "code",
   "execution_count": 12,
   "id": "7437ea45-2223-4748-a80c-5857b90d2516",
   "metadata": {},
   "outputs": [
    {
     "name": "stdout",
     "output_type": "stream",
     "text": [
      "=== Previsao ===\n",
      "           ds       yhat  yhat_lower  yhat_upper\n",
      "0  2023-01-01   8.655275    5.942787   11.187321\n",
      "1  2023-01-02  10.242839    7.490584   12.920699\n",
      "2  2023-01-03  11.830403    9.156444   14.481099\n",
      "3  2023-01-04  13.417967   10.671584   16.204483\n",
      "4  2023-01-05  15.005531   12.364049   17.652894\n",
      "5  2023-01-06  16.593094   13.972132   19.383602\n",
      "6  2023-01-07  18.180658   15.513909   20.880496\n",
      "7  2023-01-08  19.768222   17.200583   22.334492\n",
      "8  2023-01-09  21.355786   18.605906   24.101872\n",
      "9  2023-01-10  22.943350   20.519529   25.464278\n",
      "10 2023-01-11  24.530914   22.066485   26.996818\n",
      "11 2023-01-12  26.118478   23.335725   28.603561\n",
      "12 2023-01-13  27.706042   25.197405   30.480236\n",
      "13 2023-01-14  29.293606   26.548408   32.052109\n",
      "14 2023-01-15  30.881169   28.294903   33.437447\n"
     ]
    }
   ],
   "source": [
    "print(\"=== Previsao ===\")\n",
    "print(forecast[['ds', 'yhat', 'yhat_lower', 'yhat_upper']])"
   ]
  },
  {
   "cell_type": "markdown",
   "id": "14d5415c-5e97-4ce2-a5f7-a5e462097c5c",
   "metadata": {},
   "source": [
    "#### 💡 Explicação:"
   ]
  },
  {
   "cell_type": "markdown",
   "id": "623f38da-459e-4616-a44f-06baa3951024",
   "metadata": {},
   "source": [
    "- **`forecast[['ds', 'yhat', 'yhat_lower', 'yhat_upper']]`**\n",
    "  -  Seleciona apenas as colunas mais relevantes do DataFrame `forecast` para análise.\n",
    "  \n",
    "- **Saída Esperada**: Algo como:\n",
    "  ```\n",
    "  === Previsao ===\n",
    "            ds       yhat  yhat_lower  yhat_upper\n",
    "  0 2023-01-01  10.500000    8.000000   13.000000\n",
    "  1 2023-01-02  11.700000    9.200000   14.300000\n",
    "  ...\n",
    "  14 2023-01-15  28.300000   25.100000   31.600000\n",
    "  ```\n",
    "  (Os valores exatos variam dependendo do ajuste do modelo).\n"
   ]
  },
  {
   "cell_type": "markdown",
   "id": "5ecdb94b-07c3-4d57-a35f-c603aa54f5f8",
   "metadata": {},
   "source": [
    "#### 💡Interpretação:"
   ]
  },
  {
   "cell_type": "markdown",
   "id": "6f57d717-6d8a-4722-a9c5-2df49f9d02d4",
   "metadata": {},
   "source": [
    "- **`yhat`**: \n",
    "    - O valor previsto para cada data. \n",
    "    - Para os 10 primeiros dias, ele reflete os dados originais ajustados; para os 5 dias futuros, é a previsão.\n",
    "\n",
    "- **`yhat_lower` e `yhat_upper`**: \n",
    "    - Representam a faixa onde o valor real tem alta probabilidade de estar (geralmente, um intervalo de confiança de 80% por padrão)."
   ]
  },
  {
   "cell_type": "markdown",
   "id": "fbcc32aa-d1a0-46de-88b6-4e4d71faef54",
   "metadata": {},
   "source": [
    "## 6. Visualização"
   ]
  },
  {
   "cell_type": "code",
   "execution_count": 13,
   "id": "9dbc98c8-83a5-4866-b444-874feb884401",
   "metadata": {},
   "outputs": [
    {
     "data": {
      "image/png": "[encoded data removed]",
      "text/plain": [
       "<Figure size 1000x600 with 1 Axes>"
      ]
     },
     "metadata": {},
     "output_type": "display_data"
    }
   ],
   "source": [
    "from prophet.plot import plot\n",
    "import matplotlib.pyplot as plt  # Required for displaying the plot\n",
    "\n",
    "# Generate the plot\n",
    "fig = plot(model, forecast)\n",
    "plt.title(\"Time Series Forecast\")\n",
    "plt.xlabel(\"Data\")\n",
    "plt.ylabel(\"Valor\")\n",
    "plt.show()\n"
   ]
  },
  {
   "cell_type": "markdown",
   "id": "2d751c72-1b36-42eb-869c-fa14b1aa1a1a",
   "metadata": {},
   "source": [
    "####  🔖 Explicação:"
   ]
  },
  {
   "cell_type": "markdown",
   "id": "2a8f7a53-30f2-4f2a-b9a4-f1e98f8e3d94",
   "metadata": {},
   "source": [
    "\n",
    "  **Benefícios da visualização:**\n",
    "- Mostra tendência clara\n",
    "- Destaca sazonalidades detectadas\n",
    "- Exibe intervalos de confiança (áreas sombreadas)\n",
    "\n",
    "**Componentes principais:**\n",
    "1. **Tendência:** Linha azul mostrando a direção geral\n",
    "2. **Sazonalidade:** Linhas vermelhas (anual) e laranja (semanal)\n",
    "3. **Resíduos:** Diferença entre valores reais e previstos\n",
    "4. **Pontos pretos**: Os dados originais (os 10 valores de `y`).\n",
    "5. **Linha azul**: A previsão (`yhat`) para todas as datas, incluindo o futuro.\n",
    "6. **Área sombreada**: O intervalo de confiança (`yhat_lower` a `yhat_upper`)."
   ]
  },
  {
   "cell_type": "markdown",
   "id": "fde939ce-af8c-437d-9f00-ff6f25f0fd4f",
   "metadata": {},
   "source": [
    "## 5. Considerações Práticas"
   ]
  },
  {
   "cell_type": "markdown",
   "id": "e8834c9a-8dda-4425-9966-2eb84f13ef02",
   "metadata": {},
   "source": [
    "### 5.1 Pré-processamento\n",
    "- **Verifique a frequência dos dados:** \n",
    "    - O Prophet espera dados com frequência consistente\n",
    "\n",
    "- **Trate valores faltantes:** \n",
    "    - Use `df.interpolate()` para preencher lacunas\n",
    "    - O comando `df.interpolate()` é utilizado para preencher valores ausentes (NaN) em um DataFrame de forma automática, utilizando métodos de interpolação. \n",
    "    - Ele estima os valores faltantes com base nos valores conhecidos ao redor deles, sendo especialmente útil em séries temporais ou dados sequenciais onde a ordem dos valores importa. \n",
    "    - Por padrão, ele usa interpolação linear, mas pode ser configurado para usar outros métodos, como polinomial, spline ou baseado em tempo (method='time'), garantindo que os dados fiquem completos e prontos para análise ou modelagem.\n",
    "\n",
    "- **Formato da data:** \n",
    "    - Certifique-se que a coluna `ds` está no tipo datetime"
   ]
  },
  {
   "cell_type": "markdown",
   "id": "90cfeaef-3224-4616-b413-481b573bbca5",
   "metadata": {},
   "source": [
    "### 5.2 Parâmetros Importantes\n",
    "```python\n",
    "model = Prophet(\n",
    "    yearly_seasonality=True,  # Sazonalidade anual\n",
    "    weekly_seasonality=True,  # Sazonalidade semanal\n",
    "    daily_seasonality=False,  # Sazonalidade diária\n",
    "    changepoint_prior_scale=0.05  # Flexibilidade da tendência\n",
    ")\n",
    "```"
   ]
  },
  {
   "cell_type": "markdown",
   "id": "516fd6be-7dd0-4a0c-89aa-c35cb70c5bd5",
   "metadata": {},
   "source": [
    "### 5.3 Limitações\n",
    "- Não é ideal para séries com baixa frequência (ex.: dados anuais)\n",
    "- Pode não capturar bem padrões complexos sem ajustes\n",
    "- Requer pelo menos 2 anos de dados para detectar sazonalidade anual"
   ]
  },
  {
   "cell_type": "markdown",
   "id": "2906143e-f1f3-4c76-af33-9fcd869c4981",
   "metadata": {},
   "source": [
    "## 6. Aplicações Reais\n",
    "1. **Previsão de vendas:** Planejamento de estoque\n",
    "2. **Demanda de energia:** Gestão de usinas\n",
    "3. **Análise financeira:** Previsão de preços\n",
    "4. **Saúde pública:** Estimativa de demanda hospitalar"
   ]
  },
  {
   "cell_type": "markdown",
   "id": "2c903292-522b-49e1-9c8d-ed06d94144e5",
   "metadata": {},
   "source": [
    "## Conclusão"
   ]
  },
  {
   "cell_type": "markdown",
   "id": "1ee9e4b6-6065-497c-8c56-a9751be090a1",
   "metadata": {},
   "source": [
    "Nesta aula, vimos como o **Prophet** simplifica a previsão de séries temporais. \n",
    "Com poucas linhas de código, conseguimos:\n",
    "\n",
    "1. Preparar dados no formato correto,\n",
    "2. Criar e treinar um modelo,\n",
    "3. Gerar previsões para datas futuras,\n",
    "4. Analisar os resultados.\n",
    "\n",
    "O `Prophet` é ideal para iniciantes e profissionais que precisam de uma ferramenta rápida e robusta. \n",
    "\n",
    "Como exercício, experimente:\n",
    "- Substituir os dados de exemplo por um CSV real.\n",
    "- Aumentar o número de dias futuros (ex.: `periods=30`) e observar as previsões a longo prazo."
   ]
  },
  {
   "cell_type": "markdown",
   "id": "275db534-86f8-439e-a61a-b7778f928f2e",
   "metadata": {},
   "source": [
    "---"
   ]
  },
  {
   "cell_type": "markdown",
   "id": "8f105b50-6872-4da4-ac77-dcc5ae6c217b",
   "metadata": {},
   "source": [
    "## Código Completo"
   ]
  },
  {
   "cell_type": "code",
   "execution_count": 3,
   "id": "f028ee75-5222-4413-8335-626ac9ce52eb",
   "metadata": {},
   "outputs": [
    {
     "name": "stderr",
     "output_type": "stream",
     "text": [
      "20:27:31 - cmdstanpy - INFO - Chain [1] start processing\n",
      "20:27:32 - cmdstanpy - INFO - Chain [1] done processing\n"
     ]
    },
    {
     "name": "stdout",
     "output_type": "stream",
     "text": [
      "=== Previsão ===\n",
      "           ds       yhat  yhat_lower  yhat_upper\n",
      "0  2023-01-01   8.655275    5.994981   11.399758\n",
      "1  2023-01-02  10.242839    7.537670   12.804805\n",
      "2  2023-01-03  11.830403    9.112612   14.482758\n",
      "3  2023-01-04  13.417967   10.892421   16.139734\n",
      "4  2023-01-05  15.005531   12.327183   17.807415\n",
      "5  2023-01-06  16.593094   14.083644   19.462538\n",
      "6  2023-01-07  18.180658   15.504629   20.921603\n",
      "7  2023-01-08  19.768222   17.137096   22.324559\n",
      "8  2023-01-09  21.355786   18.835206   24.022676\n",
      "9  2023-01-10  22.943350   20.492938   25.488456\n",
      "10 2023-01-11  24.530914   21.915341   27.184561\n",
      "11 2023-01-12  26.118478   23.360549   28.782864\n",
      "12 2023-01-13  27.706042   25.046089   30.487805\n",
      "13 2023-01-14  29.293606   26.389893   31.976177\n",
      "14 2023-01-15  30.881169   28.245762   33.504987\n"
     ]
    }
   ],
   "source": [
    "import pandas as pd\n",
    "from prophet import Prophet\n",
    "\n",
    "# Você pode substituir por dados reais em um CSV\n",
    "data = {\n",
    "    'ds': pd.date_range(start='2023-01-01', periods=10, freq='D'),  # 10 dias\n",
    "    'y': [10, 12, 9, 14, 13, 15, 20, 22, 18, 25]  # valores de exemplo\n",
    "}\n",
    "df = pd.DataFrame(data)\n",
    "\n",
    "# Instanciar o modelo Prophet\n",
    "model = Prophet()\n",
    "\n",
    "# Treinar (fit) o modelo\n",
    "model.fit(df)\n",
    "\n",
    "# Criar dataframe futuro (n dias a frente)\n",
    "future = model.make_future_dataframe(periods=5)  # 5 dias a mais\n",
    "forecast = model.predict(future)\n",
    "\n",
    "print(\"=== Previsão ===\")\n",
    "print(forecast[['ds', 'yhat', 'yhat_lower', 'yhat_upper']])\n",
    "\n",
    "# (Opcional) Visualizar\n",
    "# from prophet.plot import plot_plotly\n",
    "# fig = plot_plotly(model, forecast)\n",
    "# fig.show()"
   ]
  }
 ],
 "metadata": {
  "kernelspec": {
   "display_name": "Python (venv)",
   "language": "python",
   "name": "machine_learning"
  },
  "language_info": {
   "codemirror_mode": {
    "name": "ipython",
    "version": 3
   },
   "file_extension": ".py",
   "mimetype": "text/x-python",
   "name": "python",
   "nbconvert_exporter": "python",
   "pygments_lexer": "ipython3",
   "version": "3.12.8"
  }
 },
 "nbformat": 4,
 "nbformat_minor": 5
}
