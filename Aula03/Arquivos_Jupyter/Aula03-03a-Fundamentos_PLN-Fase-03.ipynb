{
 "cells": [
  {
   "cell_type": "markdown",
   "id": "63c90ea5-5c38-4d5b-a306-febc709276dd",
   "metadata": {},
   "source": [
    "# Processamento de Linguagem Natural (PLN)"
   ]
  },
  {
   "cell_type": "markdown",
   "id": "5a93671a-abfb-44a3-87e7-4a5c839c7a63",
   "metadata": {},
   "source": [
    "## **6. Desafios do PLN**"
   ]
  },
  {
   "cell_type": "markdown",
   "id": "10fedda6-7098-4908-aa08-a42f95c3a570",
   "metadata": {},
   "source": [
    "Apesar do progresso, o PLN ainda enfrenta desafios complexos devido às peculiaridades da linguagem humana."
   ]
  },
  {
   "cell_type": "markdown",
   "id": "b39b3e98-95d5-4aee-9fbd-f980ed3ca663",
   "metadata": {},
   "source": [
    "### **6.1 Ambiguidade Semântica**"
   ]
  },
  {
   "cell_type": "markdown",
   "id": "42b309a0-9aae-4619-ba35-a45557692656",
   "metadata": {},
   "source": [
    "Palavras podem ter múltiplos significados dependendo do contexto.\n",
    "\n",
    "#### Exemplo:\n",
    "- \"Choveu no jogo.\"\n",
    "  - Pode significar literalmente que houve chuva durante um jogo.\n",
    "  - Ou pode ser uma expressão idiomática (\"choveu golos\").\n"
   ]
  },
  {
   "cell_type": "markdown",
   "id": "4d8b6fa9-1448-4946-ab1f-be01aaf3ed9a",
   "metadata": {},
   "source": [
    "### **6.2 Sarcasmo e Ironia**"
   ]
  },
  {
   "cell_type": "markdown",
   "id": "d62b7f1c-7897-43ff-a6ec-f2f26b64abca",
   "metadata": {},
   "source": [
    "Difícil de detectar para algoritmos.\n",
    "\n",
    "#### Exemplo:\n",
    "- \"Que maravilha este tempo!\"\n",
    "  - Pode ser sincero ou sarcástico."
   ]
  },
  {
   "cell_type": "markdown",
   "id": "adfa014e-9658-4cb9-be11-da999f72f09a",
   "metadata": {},
   "source": [
    "### **6.3 Variação Regional e Cultural**"
   ]
  },
  {
   "cell_type": "markdown",
   "id": "65c06c1a-977d-401f-bd79-6b9b622864db",
   "metadata": {},
   "source": [
    "Mesmo dentro de um idioma, há variações regionais.\n",
    "\n",
    "#### Exemplo:\n",
    "- Em Portugal: \"Automóvel\"\n",
    "- No Brasil: \"Carro\"\n"
   ]
  },
  {
   "cell_type": "markdown",
   "id": "2afa8c05-d8b0-4677-b241-c10a2ca4207a",
   "metadata": {},
   "source": [
    "### **6.4 Línguas Não Estandartizadas**"
   ]
  },
  {
   "cell_type": "markdown",
   "id": "02bc8146-8a0f-44b7-91f5-521f16d51569",
   "metadata": {},
   "source": [
    "Línguas indígenas, línguas raras ou variantes informais (slang) têm poucos recursos computacionais."
   ]
  },
  {
   "cell_type": "markdown",
   "id": "bda4c587-d6c0-4994-a471-100d04a10b26",
   "metadata": {},
   "source": [
    "## **7. Ferramentas e Bibliotecas Populares em PLN**"
   ]
  },
  {
   "cell_type": "markdown",
   "id": "4fe37119-4075-42fd-8c7b-88ffc76f17f6",
   "metadata": {},
   "source": [
    "Se você estiver começando, existem várias bibliotecas e ferramentas que facilitam o trabalho com PLN:\n",
    "\n",
    "| Biblioteca | Função |\n",
    "|-----------|--------|\n",
    "| **NLTK** | Biblioteca clássica para análise de texto em Python |\n",
    "| **spaCy** | Biblioteca moderna e rápida para processamento de texto |\n",
    "| **Transformers (Hugging Face)** | Para modelos pré-treinados de IA como BERT, RoBERTa |\n",
    "| **Scikit-learn** | Para classificação e clustering de textos |\n",
    "| **TextBlob** | API simples para análise de sentimentos e POS tagging |\n",
    "| **FastAPI / Flask** | Para criar APIs com modelos de PLN |"
   ]
  },
  {
   "cell_type": "markdown",
   "id": "6b2798f5-d98e-46d5-b837-551177acc807",
   "metadata": {},
   "source": [
    "## **8. Conclusão**"
   ]
  },
  {
   "cell_type": "markdown",
   "id": "b1518b27-dfe1-49bc-9f42-1e9330308bad",
   "metadata": {},
   "source": [
    "\n",
    "O **Processamento de Linguagem Natural (PLN)** é uma área fascinante que combina conhecimentos de linguística, ciência da computação e inteligência artificial. Ele permite que máquinas interajam com seres humanos de forma mais natural, tornando-se parte essencial de tecnologias modernas.\n",
    "\n",
    "Embora existam desafios como ambiguidade, ironia e variações culturais, o campo está evoluindo rapidamente graças a técnicas avançadas de **aprendizado de máquina** e **deep learning**.\n"
   ]
  }
 ],
 "metadata": {
  "kernelspec": {
   "display_name": "Python (venv)",
   "language": "python",
   "name": "machine_learning"
  },
  "language_info": {
   "codemirror_mode": {
    "name": "ipython",
    "version": 3
   },
   "file_extension": ".py",
   "mimetype": "text/x-python",
   "name": "python",
   "nbconvert_exporter": "python",
   "pygments_lexer": "ipython3",
   "version": "3.12.8"
  }
 },
 "nbformat": 4,
 "nbformat_minor": 5
}
