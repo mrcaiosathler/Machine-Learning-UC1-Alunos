{
 "cells": [
  {
   "cell_type": "markdown",
   "id": "06bcfd4b-6874-401e-91a2-0d445e0cc6cb",
   "metadata": {
    "jp-MarkdownHeadingCollapsed": true
   },
   "source": [
    "# 1. Carregamento das Bibliotecas"
   ]
  },
  {
   "cell_type": "code",
   "execution_count": 5,
   "id": "37c2589c-55bc-45c6-810f-4c8396ec1360",
   "metadata": {},
   "outputs": [],
   "source": [
    "import pandas as pd\n",
    "import numpy as np\n",
    "from sklearn.preprocessing import StandardScaler"
   ]
  },
  {
   "cell_type": "markdown",
   "id": "6cd77bec-47e8-4c8a-9048-de8ae7a54b25",
   "metadata": {
    "jp-MarkdownHeadingCollapsed": true
   },
   "source": [
    "# 2. Carregamento do Dataset "
   ]
  },
  {
   "cell_type": "code",
   "execution_count": 6,
   "id": "25b00827-1b5f-4f1b-95bc-bd4b386020dc",
   "metadata": {},
   "outputs": [],
   "source": [
    "df = pd.read_csv(\"exemplo_dataset2.csv\")"
   ]
  },
  {
   "cell_type": "markdown",
   "id": "984c4b28-1792-4062-8c31-7d8b3f1d09e1",
   "metadata": {
    "jp-MarkdownHeadingCollapsed": true
   },
   "source": [
    "# 3. Display do Dataset"
   ]
  },
  {
   "cell_type": "markdown",
   "id": "476221b8-f024-4fe7-851b-b2e3af847bae",
   "metadata": {
    "jp-MarkdownHeadingCollapsed": true
   },
   "source": [
    "## 3.1 - Listando as colunas"
   ]
  },
  {
   "cell_type": "code",
   "execution_count": 7,
   "id": "6496cbb3-ec14-4f91-b963-f5693ce3e393",
   "metadata": {},
   "outputs": [
    {
     "data": {
      "text/plain": [
       "['id', 'idade', 'renda', 'cidade', 'categoria', 'nota', 'feedback']"
      ]
     },
     "execution_count": 7,
     "metadata": {},
     "output_type": "execute_result"
    }
   ],
   "source": [
    "df.columns.tolist()"
   ]
  },
  {
   "cell_type": "markdown",
   "id": "2779dd73-ef7b-40de-b8d5-7392bc38cded",
   "metadata": {},
   "source": [
    "## 3.2 - Listando informações gerais"
   ]
  },
  {
   "cell_type": "code",
   "execution_count": 8,
   "id": "3d764608-fb89-4e00-8d96-24e2275ec0e5",
   "metadata": {},
   "outputs": [
    {
     "name": "stdout",
     "output_type": "stream",
     "text": [
      "### Informações gerais do Dataset ###\n",
      "<class 'pandas.core.frame.DataFrame'>\n",
      "RangeIndex: 50 entries, 0 to 49\n",
      "Data columns (total 7 columns):\n",
      " #   Column     Non-Null Count  Dtype  \n",
      "---  ------     --------------  -----  \n",
      " 0   id         50 non-null     int64  \n",
      " 1   idade      48 non-null     float64\n",
      " 2   renda      49 non-null     float64\n",
      " 3   cidade     45 non-null     object \n",
      " 4   categoria  50 non-null     object \n",
      " 5   nota       47 non-null     float64\n",
      " 6   feedback   50 non-null     object \n",
      "dtypes: float64(3), int64(1), object(3)\n",
      "memory usage: 2.9+ KB\n"
     ]
    }
   ],
   "source": [
    "print(\"### Informações gerais do Dataset ###\")\n",
    "df.info()"
   ]
  },
  {
   "cell_type": "markdown",
   "id": "aa566e6c-905d-4f3a-8873-501da15bd73e",
   "metadata": {
    "jp-MarkdownHeadingCollapsed": true
   },
   "source": [
    "## 3.3 Listando as primeiras 10 linhas do dataset"
   ]
  },
  {
   "cell_type": "code",
   "execution_count": 11,
   "id": "248fec67-b7c3-4804-9c57-071d3afc28f8",
   "metadata": {},
   "outputs": [
    {
     "name": "stdout",
     "output_type": "stream",
     "text": [
      "### Exibindo as primeiras 10 linhas do dataset ###\n"
     ]
    },
    {
     "data": {
      "text/html": [
       "<div>\n",
       "<style scoped>\n",
       "    .dataframe tbody tr th:only-of-type {\n",
       "        vertical-align: middle;\n",
       "    }\n",
       "\n",
       "    .dataframe tbody tr th {\n",
       "        vertical-align: top;\n",
       "    }\n",
       "\n",
       "    .dataframe thead th {\n",
       "        text-align: right;\n",
       "    }\n",
       "</style>\n",
       "<table border=\"1\" class=\"dataframe\">\n",
       "  <thead>\n",
       "    <tr style=\"text-align: right;\">\n",
       "      <th></th>\n",
       "      <th>id</th>\n",
       "      <th>idade</th>\n",
       "      <th>renda</th>\n",
       "      <th>cidade</th>\n",
       "      <th>categoria</th>\n",
       "      <th>nota</th>\n",
       "      <th>feedback</th>\n",
       "    </tr>\n",
       "  </thead>\n",
       "  <tbody>\n",
       "    <tr>\n",
       "      <th>0</th>\n",
       "      <td>1</td>\n",
       "      <td>30.0</td>\n",
       "      <td>1200.0</td>\n",
       "      <td>Sao Paulo</td>\n",
       "      <td>A</td>\n",
       "      <td>8.5</td>\n",
       "      <td>Bom</td>\n",
       "    </tr>\n",
       "    <tr>\n",
       "      <th>1</th>\n",
       "      <td>2</td>\n",
       "      <td>45.0</td>\n",
       "      <td>2500.0</td>\n",
       "      <td>Rio de Janeiro</td>\n",
       "      <td>B</td>\n",
       "      <td>7.0</td>\n",
       "      <td>Regular</td>\n",
       "    </tr>\n",
       "    <tr>\n",
       "      <th>2</th>\n",
       "      <td>3</td>\n",
       "      <td>29.0</td>\n",
       "      <td>1200.0</td>\n",
       "      <td>Belo Horizonte</td>\n",
       "      <td>A</td>\n",
       "      <td>5.5</td>\n",
       "      <td>Bom</td>\n",
       "    </tr>\n",
       "    <tr>\n",
       "      <th>3</th>\n",
       "      <td>4</td>\n",
       "      <td>55.0</td>\n",
       "      <td>3000.0</td>\n",
       "      <td>Salvador</td>\n",
       "      <td>B</td>\n",
       "      <td>NaN</td>\n",
       "      <td>Ruim</td>\n",
       "    </tr>\n",
       "    <tr>\n",
       "      <th>4</th>\n",
       "      <td>5</td>\n",
       "      <td>40.0</td>\n",
       "      <td>2100.0</td>\n",
       "      <td>Sao Paulo</td>\n",
       "      <td>A</td>\n",
       "      <td>9.0</td>\n",
       "      <td>Bom</td>\n",
       "    </tr>\n",
       "    <tr>\n",
       "      <th>5</th>\n",
       "      <td>6</td>\n",
       "      <td>23.0</td>\n",
       "      <td>900.0</td>\n",
       "      <td>NaN</td>\n",
       "      <td>B</td>\n",
       "      <td>7.5</td>\n",
       "      <td>Ruim</td>\n",
       "    </tr>\n",
       "    <tr>\n",
       "      <th>6</th>\n",
       "      <td>7</td>\n",
       "      <td>35.0</td>\n",
       "      <td>1800.0</td>\n",
       "      <td>Rio de Janeiro</td>\n",
       "      <td>B</td>\n",
       "      <td>6.8</td>\n",
       "      <td>Regular</td>\n",
       "    </tr>\n",
       "    <tr>\n",
       "      <th>7</th>\n",
       "      <td>8</td>\n",
       "      <td>38.0</td>\n",
       "      <td>2500.0</td>\n",
       "      <td>Belo Horizonte</td>\n",
       "      <td>A</td>\n",
       "      <td>8.2</td>\n",
       "      <td>Bom</td>\n",
       "    </tr>\n",
       "    <tr>\n",
       "      <th>8</th>\n",
       "      <td>9</td>\n",
       "      <td>29.0</td>\n",
       "      <td>1500.0</td>\n",
       "      <td>Salvador</td>\n",
       "      <td>B</td>\n",
       "      <td>7.1</td>\n",
       "      <td>Regular</td>\n",
       "    </tr>\n",
       "    <tr>\n",
       "      <th>9</th>\n",
       "      <td>10</td>\n",
       "      <td>50.0</td>\n",
       "      <td>2800.0</td>\n",
       "      <td>Sao Paulo</td>\n",
       "      <td>A</td>\n",
       "      <td>8.7</td>\n",
       "      <td>Bom</td>\n",
       "    </tr>\n",
       "  </tbody>\n",
       "</table>\n",
       "</div>"
      ],
      "text/plain": [
       "   id  idade   renda          cidade categoria  nota feedback\n",
       "0   1   30.0  1200.0       Sao Paulo         A   8.5      Bom\n",
       "1   2   45.0  2500.0  Rio de Janeiro         B   7.0  Regular\n",
       "2   3   29.0  1200.0  Belo Horizonte         A   5.5      Bom\n",
       "3   4   55.0  3000.0        Salvador         B   NaN     Ruim\n",
       "4   5   40.0  2100.0       Sao Paulo         A   9.0      Bom\n",
       "5   6   23.0   900.0             NaN         B   7.5     Ruim\n",
       "6   7   35.0  1800.0  Rio de Janeiro         B   6.8  Regular\n",
       "7   8   38.0  2500.0  Belo Horizonte         A   8.2      Bom\n",
       "8   9   29.0  1500.0        Salvador         B   7.1  Regular\n",
       "9  10   50.0  2800.0       Sao Paulo         A   8.7      Bom"
      ]
     },
     "execution_count": 11,
     "metadata": {},
     "output_type": "execute_result"
    }
   ],
   "source": [
    "print(\"### Exibindo as primeiras 10 linhas do dataset ###\")\n",
    "df.head(10)"
   ]
  },
  {
   "cell_type": "markdown",
   "id": "adcd8f1f-c25d-422c-9b31-8f07cd034ab7",
   "metadata": {},
   "source": [
    "## 3.4 Informações Estatísticas do Dataset"
   ]
  },
  {
   "cell_type": "code",
   "execution_count": 12,
   "id": "b74f7f6b-3e7b-431b-8283-51592c0d3620",
   "metadata": {},
   "outputs": [
    {
     "name": "stdout",
     "output_type": "stream",
     "text": [
      "\n",
      "### Descrição Estatística ###\n",
      "             id      idade        renda       nota\n",
      "count  50.00000  48.000000    49.000000  47.000000\n",
      "mean   25.50000  38.208333  2253.265306   7.348936\n",
      "std    14.57738  10.671015  1108.351606   1.308479\n",
      "min     1.00000  20.000000   900.000000   4.300000\n",
      "25%    13.25000  28.750000  1500.000000   6.500000\n",
      "50%    25.50000  38.000000  2100.000000   7.500000\n",
      "75%    37.75000  45.250000  2800.000000   8.250000\n",
      "max    50.00000  60.000000  6000.000000   9.500000\n"
     ]
    }
   ],
   "source": [
    "print(\"\\n### Descrição Estatística ###\")\n",
    "print(df.describe())"
   ]
  },
  {
   "cell_type": "code",
   "execution_count": 15,
   "id": "95822261-e492-47c2-a5ed-6f35a3c3107b",
   "metadata": {},
   "outputs": [
    {
     "name": "stdout",
     "output_type": "stream",
     "text": [
      "              id      idade        renda     cidade categoria       nota  \\\n",
      "count   50.00000  48.000000    49.000000         45        50  47.000000   \n",
      "unique       NaN        NaN          NaN          4         2        NaN   \n",
      "top          NaN        NaN          NaN  Sao Paulo         A        NaN   \n",
      "freq         NaN        NaN          NaN         14        25        NaN   \n",
      "mean    25.50000  38.208333  2253.265306        NaN       NaN   7.348936   \n",
      "std     14.57738  10.671015  1108.351606        NaN       NaN   1.308479   \n",
      "min      1.00000  20.000000   900.000000        NaN       NaN   4.300000   \n",
      "25%     13.25000  28.750000  1500.000000        NaN       NaN   6.500000   \n",
      "50%     25.50000  38.000000  2100.000000        NaN       NaN   7.500000   \n",
      "75%     37.75000  45.250000  2800.000000        NaN       NaN   8.250000   \n",
      "max     50.00000  60.000000  6000.000000        NaN       NaN   9.500000   \n",
      "\n",
      "       feedback  \n",
      "count        50  \n",
      "unique        3  \n",
      "top         Bom  \n",
      "freq         23  \n",
      "mean        NaN  \n",
      "std         NaN  \n",
      "min         NaN  \n",
      "25%         NaN  \n",
      "50%         NaN  \n",
      "75%         NaN  \n",
      "max         NaN  \n"
     ]
    }
   ],
   "source": [
    "#Informações estatísticas completas\n",
    "print(df.describe(include='all'))"
   ]
  },
  {
   "cell_type": "markdown",
   "id": "69cc1cb4-1a10-4026-a760-4d6b38d6c57f",
   "metadata": {},
   "source": [
    "## 3.5 - Contagem de dados nulos do dataset"
   ]
  },
  {
   "cell_type": "code",
   "execution_count": 16,
   "id": "c83cb8f4-205a-4e93-b834-ce043b82b760",
   "metadata": {},
   "outputs": [
    {
     "name": "stdout",
     "output_type": "stream",
     "text": [
      "\n",
      "### Contagem de dados nulos/ausentes ###\n",
      "id           0\n",
      "idade        2\n",
      "renda        1\n",
      "cidade       5\n",
      "categoria    0\n",
      "nota         3\n",
      "feedback     0\n",
      "dtype: int64\n"
     ]
    }
   ],
   "source": [
    "print(\"\\n### Contagem de dados nulos/ausentes ###\")\n",
    "print(df.isnull().sum())"
   ]
  },
  {
   "cell_type": "markdown",
   "id": "eef53e06-0cb2-47e6-a429-a21106363717",
   "metadata": {
    "jp-MarkdownHeadingCollapsed": true
   },
   "source": [
    "# 4. Calculando as primeiras informações estatísticas"
   ]
  },
  {
   "cell_type": "markdown",
   "id": "00b32755-53f0-476c-a8f1-15686c7f15e7",
   "metadata": {},
   "source": [
    "## 4.1 - Média e mediana dos dados"
   ]
  },
  {
   "cell_type": "code",
   "execution_count": 18,
   "id": "6ceff957-e386-480f-aab3-5d8ed1a11ce8",
   "metadata": {},
   "outputs": [],
   "source": [
    "median_idade=df['idade'].median()\n",
    "median_nota=df['nota'].median()\n",
    "mean_renda=df['renda'].mean()"
   ]
  },
  {
   "cell_type": "code",
   "execution_count": 21,
   "id": "67780a8f-44da-4243-b37d-8c9c81f9846a",
   "metadata": {},
   "outputs": [
    {
     "name": "stdout",
     "output_type": "stream",
     "text": [
      "Mediana das Idades: 38.0000\n",
      "Mediana das Notas: 7.5000\n",
      "Média das Rendas: 2253.2653\n"
     ]
    }
   ],
   "source": [
    "print(f'Mediana das Idades: {median_idade:.4f}')\n",
    "print(f'Mediana das Notas: {median_nota:.4f}')\n",
    "print(f'Média das Rendas: {mean_renda:.4f}')"
   ]
  },
  {
   "cell_type": "markdown",
   "id": "2381a009-b139-4c69-9f79-6082881d2766",
   "metadata": {},
   "source": [
    "## 4.2 - Atualizando o dataset com os valores calculados"
   ]
  },
  {
   "cell_type": "code",
   "execution_count": 23,
   "id": "47fe7456-169e-4959-b645-1c8506c97932",
   "metadata": {},
   "outputs": [],
   "source": [
    "df['idade']=df['idade'].fillna(median_idade)\n",
    "df['nota']=df['nota'].fillna(median_nota)\n",
    "df['renda']=df['renda'].fillna(mean_renda)"
   ]
  },
  {
   "cell_type": "markdown",
   "id": "d7860730-f3d8-4e11-a97e-f7cfb4c02e0c",
   "metadata": {},
   "source": [
    "## 4.3 - Preenchendo os campos vazios não-numéricos"
   ]
  },
  {
   "cell_type": "code",
   "execution_count": 26,
   "id": "b8a7ef1d-e03f-43ed-9196-23eb8332f917",
   "metadata": {},
   "outputs": [],
   "source": [
    "cols_preencher=['cidade','feedback']\n",
    "df[cols_preencher]=df[cols_preencher].fillna('Desconhecido')"
   ]
  },
  {
   "cell_type": "code",
   "execution_count": 27,
   "id": "7f965913-a418-4594-8748-f857799048bf",
   "metadata": {},
   "outputs": [
    {
     "data": {
      "text/html": [
       "<div>\n",
       "<style scoped>\n",
       "    .dataframe tbody tr th:only-of-type {\n",
       "        vertical-align: middle;\n",
       "    }\n",
       "\n",
       "    .dataframe tbody tr th {\n",
       "        vertical-align: top;\n",
       "    }\n",
       "\n",
       "    .dataframe thead th {\n",
       "        text-align: right;\n",
       "    }\n",
       "</style>\n",
       "<table border=\"1\" class=\"dataframe\">\n",
       "  <thead>\n",
       "    <tr style=\"text-align: right;\">\n",
       "      <th></th>\n",
       "      <th>cidade</th>\n",
       "      <th>feedback</th>\n",
       "    </tr>\n",
       "  </thead>\n",
       "  <tbody>\n",
       "    <tr>\n",
       "      <th>0</th>\n",
       "      <td>Sao Paulo</td>\n",
       "      <td>Bom</td>\n",
       "    </tr>\n",
       "    <tr>\n",
       "      <th>1</th>\n",
       "      <td>Rio de Janeiro</td>\n",
       "      <td>Regular</td>\n",
       "    </tr>\n",
       "    <tr>\n",
       "      <th>2</th>\n",
       "      <td>Belo Horizonte</td>\n",
       "      <td>Bom</td>\n",
       "    </tr>\n",
       "    <tr>\n",
       "      <th>3</th>\n",
       "      <td>Salvador</td>\n",
       "      <td>Ruim</td>\n",
       "    </tr>\n",
       "    <tr>\n",
       "      <th>4</th>\n",
       "      <td>Sao Paulo</td>\n",
       "      <td>Bom</td>\n",
       "    </tr>\n",
       "    <tr>\n",
       "      <th>5</th>\n",
       "      <td>Desconhecido</td>\n",
       "      <td>Ruim</td>\n",
       "    </tr>\n",
       "    <tr>\n",
       "      <th>6</th>\n",
       "      <td>Rio de Janeiro</td>\n",
       "      <td>Regular</td>\n",
       "    </tr>\n",
       "    <tr>\n",
       "      <th>7</th>\n",
       "      <td>Belo Horizonte</td>\n",
       "      <td>Bom</td>\n",
       "    </tr>\n",
       "    <tr>\n",
       "      <th>8</th>\n",
       "      <td>Salvador</td>\n",
       "      <td>Regular</td>\n",
       "    </tr>\n",
       "    <tr>\n",
       "      <th>9</th>\n",
       "      <td>Sao Paulo</td>\n",
       "      <td>Bom</td>\n",
       "    </tr>\n",
       "  </tbody>\n",
       "</table>\n",
       "</div>"
      ],
      "text/plain": [
       "           cidade feedback\n",
       "0       Sao Paulo      Bom\n",
       "1  Rio de Janeiro  Regular\n",
       "2  Belo Horizonte      Bom\n",
       "3        Salvador     Ruim\n",
       "4       Sao Paulo      Bom\n",
       "5    Desconhecido     Ruim\n",
       "6  Rio de Janeiro  Regular\n",
       "7  Belo Horizonte      Bom\n",
       "8        Salvador  Regular\n",
       "9       Sao Paulo      Bom"
      ]
     },
     "execution_count": 27,
     "metadata": {},
     "output_type": "execute_result"
    }
   ],
   "source": [
    "df[['cidade','feedback']].head(10)"
   ]
  },
  {
   "cell_type": "markdown",
   "id": "c33477e4-64b5-47b8-be1a-2329b8a3db49",
   "metadata": {},
   "source": [
    "### Verificando se ainda existem dados nulos"
   ]
  },
  {
   "cell_type": "code",
   "execution_count": 29,
   "id": "be630858-3996-4125-914b-ebdc1bee4aef",
   "metadata": {},
   "outputs": [
    {
     "name": "stdout",
     "output_type": "stream",
     "text": [
      "\n",
      "### Contagem de dados nulos/ausentes ###\n",
      "id           0\n",
      "idade        0\n",
      "renda        0\n",
      "cidade       0\n",
      "categoria    0\n",
      "nota         0\n",
      "feedback     0\n",
      "dtype: int64\n"
     ]
    }
   ],
   "source": [
    "print(\"\\n### Contagem de dados nulos/ausentes ###\")\n",
    "print(df.isnull().sum())"
   ]
  },
  {
   "cell_type": "markdown",
   "id": "161f5ad8-8d05-42a4-9015-8481b4ae0083",
   "metadata": {
    "jp-MarkdownHeadingCollapsed": true
   },
   "source": [
    "# 5. Detecção e tratamento de outliers"
   ]
  },
  {
   "cell_type": "markdown",
   "id": "9e21a00b-3d79-4e80-82a1-bb2bd861c82a",
   "metadata": {},
   "source": [
    "## 5.1 - Calculando o intervalo interquartil (IQR) e limites inferior e superior"
   ]
  },
  {
   "cell_type": "code",
   "execution_count": 30,
   "id": "4eda19ee-3d72-4731-8828-bb7858d6336d",
   "metadata": {},
   "outputs": [],
   "source": [
    "#Cálculo do IQR e identificando os limites para o cmapo renda\n",
    "Q1 = df['renda'].quantile(0.25)\n",
    "Q3 = df['renda'].quantile(0.75)\n",
    "IQR=Q3-Q1\n",
    "limite_inferior=Q1-1.5*IQR\n",
    "limite_superior=Q3+1.5*IQR\n"
   ]
  },
  {
   "cell_type": "code",
   "execution_count": 33,
   "id": "4a98dce8-dc96-4492-a1ec-ac9926f7ee8c",
   "metadata": {},
   "outputs": [
    {
     "name": "stdout",
     "output_type": "stream",
     "text": [
      "\n",
      "\n",
      "\t IQR - Campo Renda\n",
      "\n",
      "\n",
      "Quartis -  Q1:  1500.00 -  Q3:  2775.00\n",
      "IQR ----- 1275.0\n",
      "Limites - Inf:  -412.50 - Sup:  4687.50\n",
      "\n",
      "\n",
      "\n"
     ]
    }
   ],
   "source": [
    "print(f'\\n\\n\\t IQR - Campo Renda\\n\\n')\n",
    "print(f'Quartis -  Q1: {Q1:-8.2f} -  Q3: {Q3:-8.2f}')\n",
    "print(f'IQR ----- {IQR}')\n",
    "print(f'Limites - Inf: {limite_inferior:-8.2f} - Sup: {limite_superior:-8.2f}')\n",
    "print(f'\\n\\n')\n"
   ]
  },
  {
   "cell_type": "markdown",
   "id": "2fbb0075-193c-47be-b5d4-8c1e59c17139",
   "metadata": {},
   "source": [
    "## 5.2 - Identificando os outliers"
   ]
  },
  {
   "cell_type": "code",
   "execution_count": 36,
   "id": "3d1e9ed3-82e0-4ad7-ae9f-9f8d77a61637",
   "metadata": {},
   "outputs": [
    {
     "name": "stdout",
     "output_type": "stream",
     "text": [
      "\n",
      "### Possíveis outliers em \"renda\" ###\n",
      "\n",
      "    id  idade   renda     cidade categoria  nota feedback\n",
      "23  24   60.0  5800.0  Sao Paulo         A   9.1      Bom\n",
      "27  28   58.0  6000.0   Salvador         A   8.3      Bom\n",
      "\n"
     ]
    }
   ],
   "source": [
    "outliers = df[(df['renda'] < limite_inferior) | (df['renda'] > limite_superior)]\n",
    "print(f'\\n### Possíveis outliers em \"renda\" ###\\n\\n{outliers}\\n')"
   ]
  },
  {
   "cell_type": "markdown",
   "id": "9f6659e6-7842-41fa-b023-3d5e4a52aa7f",
   "metadata": {},
   "source": [
    "## 5.3 - Remoção de Outliers"
   ]
  },
  {
   "cell_type": "code",
   "execution_count": 42,
   "id": "7feedb32-0ca9-4c8f-a1d4-a56e54460cf9",
   "metadata": {},
   "outputs": [],
   "source": [
    "## Criar um dataset 'limpo' para avaliar o impacto da remoção dos outliers\n",
    "df_clean = df[(df['renda'] >= limite_inferior) & (df['renda'] <= limite_superior)].copy()"
   ]
  },
  {
   "cell_type": "code",
   "execution_count": 43,
   "id": "9ceb9dbb-d4fe-45b0-933a-2016e0bdc399",
   "metadata": {},
   "outputs": [
    {
     "name": "stdout",
     "output_type": "stream",
     "text": [
      "<class 'pandas.core.frame.DataFrame'>\n",
      "Index: 48 entries, 0 to 49\n",
      "Data columns (total 7 columns):\n",
      " #   Column     Non-Null Count  Dtype  \n",
      "---  ------     --------------  -----  \n",
      " 0   id         48 non-null     int64  \n",
      " 1   idade      48 non-null     float64\n",
      " 2   renda      48 non-null     float64\n",
      " 3   cidade     48 non-null     object \n",
      " 4   categoria  48 non-null     object \n",
      " 5   nota       48 non-null     float64\n",
      " 6   feedback   48 non-null     object \n",
      "dtypes: float64(3), int64(1), object(3)\n",
      "memory usage: 3.0+ KB\n"
     ]
    }
   ],
   "source": [
    "#Confirmando a remoção dos outliers: entradas caíram de 50 para 48\n",
    "df_clean.info()"
   ]
  },
  {
   "cell_type": "code",
   "execution_count": 44,
   "id": "6353da41-fc2c-4051-b989-54cf0f292cc2",
   "metadata": {},
   "outputs": [
    {
     "name": "stdout",
     "output_type": "stream",
     "text": [
      "\n",
      "### Possíveis outliers em \"renda\" após a remoção dos outliers ###\n",
      "\n",
      "Empty DataFrame\n",
      "Columns: [id, idade, renda, cidade, categoria, nota, feedback]\n",
      "Index: []\n",
      "\n"
     ]
    }
   ],
   "source": [
    "##Verificando novamente os outliers\n",
    "outliers_v2 = df_clean[(df_clean['renda'] < limite_inferior) | (df_clean['renda'] > limite_superior)]\n",
    "print(f'\\n### Possíveis outliers em \"renda\" após a remoção dos outliers ###\\n\\n{outliers_v2}\\n')"
   ]
  },
  {
   "cell_type": "code",
   "execution_count": 45,
   "id": "c89743d7-962e-4fdd-ab8b-98a67e98be42",
   "metadata": {},
   "outputs": [
    {
     "data": {
      "text/html": [
       "<div>\n",
       "<style scoped>\n",
       "    .dataframe tbody tr th:only-of-type {\n",
       "        vertical-align: middle;\n",
       "    }\n",
       "\n",
       "    .dataframe tbody tr th {\n",
       "        vertical-align: top;\n",
       "    }\n",
       "\n",
       "    .dataframe thead th {\n",
       "        text-align: right;\n",
       "    }\n",
       "</style>\n",
       "<table border=\"1\" class=\"dataframe\">\n",
       "  <thead>\n",
       "    <tr style=\"text-align: right;\">\n",
       "      <th></th>\n",
       "      <th>id</th>\n",
       "      <th>idade</th>\n",
       "      <th>renda</th>\n",
       "      <th>nota</th>\n",
       "      <th>cidade_Belo Horizonte</th>\n",
       "      <th>cidade_Desconhecido</th>\n",
       "      <th>cidade_Rio de Janeiro</th>\n",
       "      <th>cidade_Salvador</th>\n",
       "      <th>cidade_Sao Paulo</th>\n",
       "      <th>categoria_A</th>\n",
       "      <th>categoria_B</th>\n",
       "      <th>feedback_Bom</th>\n",
       "      <th>feedback_Regular</th>\n",
       "      <th>feedback_Ruim</th>\n",
       "    </tr>\n",
       "  </thead>\n",
       "  <tbody>\n",
       "    <tr>\n",
       "      <th>0</th>\n",
       "      <td>1</td>\n",
       "      <td>30.0</td>\n",
       "      <td>1200.0</td>\n",
       "      <td>8.5</td>\n",
       "      <td>False</td>\n",
       "      <td>False</td>\n",
       "      <td>False</td>\n",
       "      <td>False</td>\n",
       "      <td>True</td>\n",
       "      <td>True</td>\n",
       "      <td>False</td>\n",
       "      <td>True</td>\n",
       "      <td>False</td>\n",
       "      <td>False</td>\n",
       "    </tr>\n",
       "    <tr>\n",
       "      <th>1</th>\n",
       "      <td>2</td>\n",
       "      <td>45.0</td>\n",
       "      <td>2500.0</td>\n",
       "      <td>7.0</td>\n",
       "      <td>False</td>\n",
       "      <td>False</td>\n",
       "      <td>True</td>\n",
       "      <td>False</td>\n",
       "      <td>False</td>\n",
       "      <td>False</td>\n",
       "      <td>True</td>\n",
       "      <td>False</td>\n",
       "      <td>True</td>\n",
       "      <td>False</td>\n",
       "    </tr>\n",
       "    <tr>\n",
       "      <th>2</th>\n",
       "      <td>3</td>\n",
       "      <td>29.0</td>\n",
       "      <td>1200.0</td>\n",
       "      <td>5.5</td>\n",
       "      <td>True</td>\n",
       "      <td>False</td>\n",
       "      <td>False</td>\n",
       "      <td>False</td>\n",
       "      <td>False</td>\n",
       "      <td>True</td>\n",
       "      <td>False</td>\n",
       "      <td>True</td>\n",
       "      <td>False</td>\n",
       "      <td>False</td>\n",
       "    </tr>\n",
       "    <tr>\n",
       "      <th>3</th>\n",
       "      <td>4</td>\n",
       "      <td>55.0</td>\n",
       "      <td>3000.0</td>\n",
       "      <td>7.5</td>\n",
       "      <td>False</td>\n",
       "      <td>False</td>\n",
       "      <td>False</td>\n",
       "      <td>True</td>\n",
       "      <td>False</td>\n",
       "      <td>False</td>\n",
       "      <td>True</td>\n",
       "      <td>False</td>\n",
       "      <td>False</td>\n",
       "      <td>True</td>\n",
       "    </tr>\n",
       "    <tr>\n",
       "      <th>4</th>\n",
       "      <td>5</td>\n",
       "      <td>40.0</td>\n",
       "      <td>2100.0</td>\n",
       "      <td>9.0</td>\n",
       "      <td>False</td>\n",
       "      <td>False</td>\n",
       "      <td>False</td>\n",
       "      <td>False</td>\n",
       "      <td>True</td>\n",
       "      <td>True</td>\n",
       "      <td>False</td>\n",
       "      <td>True</td>\n",
       "      <td>False</td>\n",
       "      <td>False</td>\n",
       "    </tr>\n",
       "  </tbody>\n",
       "</table>\n",
       "</div>"
      ],
      "text/plain": [
       "   id  idade   renda  nota  cidade_Belo Horizonte  cidade_Desconhecido  \\\n",
       "0   1   30.0  1200.0   8.5                  False                False   \n",
       "1   2   45.0  2500.0   7.0                  False                False   \n",
       "2   3   29.0  1200.0   5.5                   True                False   \n",
       "3   4   55.0  3000.0   7.5                  False                False   \n",
       "4   5   40.0  2100.0   9.0                  False                False   \n",
       "\n",
       "   cidade_Rio de Janeiro  cidade_Salvador  cidade_Sao Paulo  categoria_A  \\\n",
       "0                  False            False              True         True   \n",
       "1                   True            False             False        False   \n",
       "2                  False            False             False         True   \n",
       "3                  False             True             False        False   \n",
       "4                  False            False              True         True   \n",
       "\n",
       "   categoria_B  feedback_Bom  feedback_Regular  feedback_Ruim  \n",
       "0        False          True             False          False  \n",
       "1         True         False              True          False  \n",
       "2        False          True             False          False  \n",
       "3         True         False             False           True  \n",
       "4        False          True             False          False  "
      ]
     },
     "execution_count": 45,
     "metadata": {},
     "output_type": "execute_result"
    }
   ],
   "source": [
    "df_encoded=pd.get_dummies(df,columns=['cidade','categoria','feedback'],drop_first=False)\n",
    "df_encoded.head(5)"
   ]
  },
  {
   "cell_type": "code",
   "execution_count": 49,
   "id": "cfdcc1be-8f97-4453-a837-20bfc107d325",
   "metadata": {},
   "outputs": [
    {
     "data": {
      "text/html": [
       "<div>\n",
       "<style scoped>\n",
       "    .dataframe tbody tr th:only-of-type {\n",
       "        vertical-align: middle;\n",
       "    }\n",
       "\n",
       "    .dataframe tbody tr th {\n",
       "        vertical-align: top;\n",
       "    }\n",
       "\n",
       "    .dataframe thead th {\n",
       "        text-align: right;\n",
       "    }\n",
       "</style>\n",
       "<table border=\"1\" class=\"dataframe\">\n",
       "  <thead>\n",
       "    <tr style=\"text-align: right;\">\n",
       "      <th></th>\n",
       "      <th>id</th>\n",
       "      <th>idade</th>\n",
       "      <th>renda</th>\n",
       "      <th>nota</th>\n",
       "      <th>cidade_Belo Horizonte</th>\n",
       "      <th>cidade_Desconhecido</th>\n",
       "      <th>cidade_Rio de Janeiro</th>\n",
       "      <th>cidade_Salvador</th>\n",
       "      <th>cidade_Sao Paulo</th>\n",
       "      <th>categoria_A</th>\n",
       "      <th>categoria_B</th>\n",
       "      <th>feedback_Bom</th>\n",
       "      <th>feedback_Regular</th>\n",
       "      <th>feedback_Ruim</th>\n",
       "    </tr>\n",
       "  </thead>\n",
       "  <tbody>\n",
       "    <tr>\n",
       "      <th>0</th>\n",
       "      <td>1</td>\n",
       "      <td>30.0</td>\n",
       "      <td>1200.0</td>\n",
       "      <td>8.5</td>\n",
       "      <td>0</td>\n",
       "      <td>0</td>\n",
       "      <td>0</td>\n",
       "      <td>0</td>\n",
       "      <td>1</td>\n",
       "      <td>1</td>\n",
       "      <td>0</td>\n",
       "      <td>1</td>\n",
       "      <td>0</td>\n",
       "      <td>0</td>\n",
       "    </tr>\n",
       "    <tr>\n",
       "      <th>1</th>\n",
       "      <td>2</td>\n",
       "      <td>45.0</td>\n",
       "      <td>2500.0</td>\n",
       "      <td>7.0</td>\n",
       "      <td>0</td>\n",
       "      <td>0</td>\n",
       "      <td>1</td>\n",
       "      <td>0</td>\n",
       "      <td>0</td>\n",
       "      <td>0</td>\n",
       "      <td>1</td>\n",
       "      <td>0</td>\n",
       "      <td>1</td>\n",
       "      <td>0</td>\n",
       "    </tr>\n",
       "    <tr>\n",
       "      <th>2</th>\n",
       "      <td>3</td>\n",
       "      <td>29.0</td>\n",
       "      <td>1200.0</td>\n",
       "      <td>5.5</td>\n",
       "      <td>1</td>\n",
       "      <td>0</td>\n",
       "      <td>0</td>\n",
       "      <td>0</td>\n",
       "      <td>0</td>\n",
       "      <td>1</td>\n",
       "      <td>0</td>\n",
       "      <td>1</td>\n",
       "      <td>0</td>\n",
       "      <td>0</td>\n",
       "    </tr>\n",
       "    <tr>\n",
       "      <th>3</th>\n",
       "      <td>4</td>\n",
       "      <td>55.0</td>\n",
       "      <td>3000.0</td>\n",
       "      <td>7.5</td>\n",
       "      <td>0</td>\n",
       "      <td>0</td>\n",
       "      <td>0</td>\n",
       "      <td>1</td>\n",
       "      <td>0</td>\n",
       "      <td>0</td>\n",
       "      <td>1</td>\n",
       "      <td>0</td>\n",
       "      <td>0</td>\n",
       "      <td>1</td>\n",
       "    </tr>\n",
       "    <tr>\n",
       "      <th>4</th>\n",
       "      <td>5</td>\n",
       "      <td>40.0</td>\n",
       "      <td>2100.0</td>\n",
       "      <td>9.0</td>\n",
       "      <td>0</td>\n",
       "      <td>0</td>\n",
       "      <td>0</td>\n",
       "      <td>0</td>\n",
       "      <td>1</td>\n",
       "      <td>1</td>\n",
       "      <td>0</td>\n",
       "      <td>1</td>\n",
       "      <td>0</td>\n",
       "      <td>0</td>\n",
       "    </tr>\n",
       "  </tbody>\n",
       "</table>\n",
       "</div>"
      ],
      "text/plain": [
       "   id  idade   renda  nota  cidade_Belo Horizonte  cidade_Desconhecido  \\\n",
       "0   1   30.0  1200.0   8.5                      0                    0   \n",
       "1   2   45.0  2500.0   7.0                      0                    0   \n",
       "2   3   29.0  1200.0   5.5                      1                    0   \n",
       "3   4   55.0  3000.0   7.5                      0                    0   \n",
       "4   5   40.0  2100.0   9.0                      0                    0   \n",
       "\n",
       "   cidade_Rio de Janeiro  cidade_Salvador  cidade_Sao Paulo  categoria_A  \\\n",
       "0                      0                0                 1            1   \n",
       "1                      1                0                 0            0   \n",
       "2                      0                0                 0            1   \n",
       "3                      0                1                 0            0   \n",
       "4                      0                0                 1            1   \n",
       "\n",
       "   categoria_B  feedback_Bom  feedback_Regular  feedback_Ruim  \n",
       "0            0             1                 0              0  \n",
       "1            1             0                 1              0  \n",
       "2            0             1                 0              0  \n",
       "3            1             0                 0              1  \n",
       "4            0             1                 0              0  "
      ]
     },
     "metadata": {},
     "output_type": "display_data"
    }
   ],
   "source": [
    "df_encoded_v2=pd.get_dummies(\n",
    "    df,\n",
    "    columns=['cidade','categoria','feedback'],\n",
    "    drop_first=False,\n",
    "    dtype=int\n",
    ")\n",
    "\n",
    "display(df_encoded_v2.head(5))"
   ]
  },
  {
   "cell_type": "code",
   "execution_count": null,
   "id": "17cd31ac-0fd1-4991-86c6-f7e226fb8cb2",
   "metadata": {},
   "outputs": [],
   "source": []
  }
 ],
 "metadata": {
  "kernelspec": {
   "display_name": "Python ML (venv)",
   "language": "python",
   "name": "machine_learning"
  },
  "language_info": {
   "codemirror_mode": {
    "name": "ipython",
    "version": 3
   },
   "file_extension": ".py",
   "mimetype": "text/x-python",
   "name": "python",
   "nbconvert_exporter": "python",
   "pygments_lexer": "ipython3",
   "version": "3.10.5"
  }
 },
 "nbformat": 4,
 "nbformat_minor": 5
}
